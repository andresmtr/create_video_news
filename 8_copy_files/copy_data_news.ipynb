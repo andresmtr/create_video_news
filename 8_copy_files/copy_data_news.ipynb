{
 "cells": [
  {
   "cell_type": "code",
   "execution_count": 1,
   "metadata": {},
   "outputs": [],
   "source": [
    "import os\n",
    "import shutil"
   ]
  },
  {
   "cell_type": "code",
   "execution_count": 2,
   "metadata": {},
   "outputs": [],
   "source": [
    "def copy_files_preserving_root_structure(source_dirs, target_dir):\n",
    "    \"\"\"\n",
    "    Copia solo los archivos que están directamente en las carpetas origen, \n",
    "    manteniendo la estructura de carpetas originales pero sin copiar los archivos de subcarpetas.\n",
    "    \n",
    "    :param source_dirs: Lista de rutas de carpetas origen.\n",
    "    :param target_dir: Ruta de la carpeta destino.\n",
    "    \"\"\"\n",
    "    for source_dir in source_dirs:\n",
    "        for root, dirs, files in os.walk(source_dir):\n",
    "            # Crear la estructura de carpetas dentro del destino\n",
    "            relative_path = os.path.relpath(root, source_dir)\n",
    "            target_path = os.path.join(target_dir, relative_path)\n",
    "\n",
    "            # Crear la carpeta correspondiente en el destino si no existe\n",
    "            if not os.path.exists(target_path):\n",
    "                os.makedirs(target_path)\n",
    "\n",
    "            # Copiar solo los archivos que están directamente en el directorio actual\n",
    "            for file in files:\n",
    "                source_file = os.path.join(root, file)\n",
    "                target_file = os.path.join(target_path, file)\n",
    "                shutil.copy2(source_file, target_file)\n",
    "                print(f\"Archivo copiado: {source_file} -> {target_file}\")\n",
    "            \n",
    "            # Saltar las subcarpetas para no procesarlas\n",
    "            break\n"
   ]
  },
  {
   "cell_type": "code",
   "execution_count": 3,
   "metadata": {},
   "outputs": [
    {
     "name": "stdout",
     "output_type": "stream",
     "text": [
      "Archivo copiado: /mnt/D8E84E4DE84E2A58/Env_python/Create_video_news/0_create text/01_extract_news.ipynb -> /mnt/D8E84E4DE84E2A58/github/create_video_news/0_create text/./01_extract_news.ipynb\n",
      "Archivo copiado: /mnt/D8E84E4DE84E2A58/Env_python/Create_video_news/0_create text/02_clean_articule.ipynb -> /mnt/D8E84E4DE84E2A58/github/create_video_news/0_create text/./02_clean_articule.ipynb\n",
      "Archivo copiado: /mnt/D8E84E4DE84E2A58/Env_python/Create_video_news/0_create text/02_clean_news_llama.ipynb -> /mnt/D8E84E4DE84E2A58/github/create_video_news/0_create text/./02_clean_news_llama.ipynb\n",
      "Archivo copiado: /mnt/D8E84E4DE84E2A58/Env_python/Create_video_news/0_create text/03_clean_final.ipynb -> /mnt/D8E84E4DE84E2A58/github/create_video_news/0_create text/./03_clean_final.ipynb\n",
      "Archivo copiado: /mnt/D8E84E4DE84E2A58/Env_python/Create_video_news/0_create text/04_create_description.ipynb -> /mnt/D8E84E4DE84E2A58/github/create_video_news/0_create text/./04_create_description.ipynb\n",
      "Archivo copiado: /mnt/D8E84E4DE84E2A58/Env_python/Create_video_news/0_create text/05_separ_txt.ipynb -> /mnt/D8E84E4DE84E2A58/github/create_video_news/0_create text/./05_separ_txt.ipynb\n",
      "Archivo copiado: /mnt/D8E84E4DE84E2A58/Env_python/Create_video_news/0_create text/06_clean_final.ipynb -> /mnt/D8E84E4DE84E2A58/github/create_video_news/0_create text/./06_clean_final.ipynb\n",
      "Archivo copiado: /mnt/D8E84E4DE84E2A58/Env_python/Create_video_news/0_create text/07_text_for_shorts.ipynb -> /mnt/D8E84E4DE84E2A58/github/create_video_news/0_create text/./07_text_for_shorts.ipynb\n",
      "Archivo copiado: /mnt/D8E84E4DE84E2A58/Env_python/Create_video_news/0_create text/file_info.txt -> /mnt/D8E84E4DE84E2A58/github/create_video_news/0_create text/./file_info.txt\n",
      "Archivo copiado: /mnt/D8E84E4DE84E2A58/Env_python/Create_video_news/0_create text/Web_sites_download_data.ods -> /mnt/D8E84E4DE84E2A58/github/create_video_news/0_create text/./Web_sites_download_data.ods\n"
     ]
    }
   ],
   "source": [
    "# Ejemplo de uso\n",
    "source_directories = [\n",
    "    '/mnt/D8E84E4DE84E2A58/Env_python/Create_video_news/0_create text'\n",
    "]\n",
    "target_directory = '/mnt/D8E84E4DE84E2A58/github/create_video_news/0_create text'\n",
    "\n",
    "copy_files_preserving_root_structure(source_directories, target_directory)"
   ]
  },
  {
   "cell_type": "code",
   "execution_count": 4,
   "metadata": {},
   "outputs": [
    {
     "name": "stdout",
     "output_type": "stream",
     "text": [
      "Archivo copiado: /mnt/D8E84E4DE84E2A58/Env_python/Create_video_news/1_create_first_audio/01_create_audio_english.ipynb -> /mnt/D8E84E4DE84E2A58/github/create_video_news/1_create_first_audio/./01_create_audio_english.ipynb\n",
      "Archivo copiado: /mnt/D8E84E4DE84E2A58/Env_python/Create_video_news/1_create_first_audio/02_create_audio_spanish.ipynb -> /mnt/D8E84E4DE84E2A58/github/create_video_news/1_create_first_audio/./02_create_audio_spanish.ipynb\n",
      "Archivo copiado: /mnt/D8E84E4DE84E2A58/Env_python/Create_video_news/1_create_first_audio/03_create_audio_english_short.ipynb -> /mnt/D8E84E4DE84E2A58/github/create_video_news/1_create_first_audio/./03_create_audio_english_short.ipynb\n",
      "Archivo copiado: /mnt/D8E84E4DE84E2A58/Env_python/Create_video_news/1_create_first_audio/04_create_audio_spanish_short.ipynb -> /mnt/D8E84E4DE84E2A58/github/create_video_news/1_create_first_audio/./04_create_audio_spanish_short.ipynb\n",
      "Archivo copiado: /mnt/D8E84E4DE84E2A58/Env_python/Create_video_news/1_create_first_audio/replaces_words.xlsx -> /mnt/D8E84E4DE84E2A58/github/create_video_news/1_create_first_audio/./replaces_words.xlsx\n",
      "Archivo copiado: /mnt/D8E84E4DE84E2A58/Env_python/Create_video_news/1_create_first_audio/text_split_and.py -> /mnt/D8E84E4DE84E2A58/github/create_video_news/1_create_first_audio/./text_split_and.py\n"
     ]
    }
   ],
   "source": [
    "# Ejemplo de uso\n",
    "source_directories = [\n",
    "    '/mnt/D8E84E4DE84E2A58/Env_python/Create_video_news/1_create_first_audio',\n",
    "]\n",
    "target_directory = '/mnt/D8E84E4DE84E2A58/github/create_video_news/1_create_first_audio'\n",
    "\n",
    "copy_files_preserving_root_structure(source_directories, target_directory)"
   ]
  },
  {
   "cell_type": "code",
   "execution_count": 5,
   "metadata": {},
   "outputs": [
    {
     "name": "stdout",
     "output_type": "stream",
     "text": [
      "Archivo copiado: /mnt/D8E84E4DE84E2A58/Env_python/Create_video_news/2_create_final_audio/01_create_audio_english_spanish.ipynb -> /mnt/D8E84E4DE84E2A58/github/create_video_news/2_create_final_audio/./01_create_audio_english_spanish.ipynb\n",
      "Archivo copiado: /mnt/D8E84E4DE84E2A58/Env_python/Create_video_news/2_create_final_audio/03_create_audio_english_spanish_short.ipynb -> /mnt/D8E84E4DE84E2A58/github/create_video_news/2_create_final_audio/./03_create_audio_english_spanish_short.ipynb\n",
      "Archivo copiado: /mnt/D8E84E4DE84E2A58/Env_python/Create_video_news/2_create_final_audio/10_better_audio.ipynb -> /mnt/D8E84E4DE84E2A58/github/create_video_news/2_create_final_audio/./10_better_audio.ipynb\n",
      "Archivo copiado: /mnt/D8E84E4DE84E2A58/Env_python/Create_video_news/2_create_final_audio/temp_audio.wav -> /mnt/D8E84E4DE84E2A58/github/create_video_news/2_create_final_audio/./temp_audio.wav\n"
     ]
    }
   ],
   "source": [
    "# Ejemplo de uso\n",
    "source_directories = [\n",
    "    '/mnt/D8E84E4DE84E2A58/Env_python/Create_video_news/2_create_final_audio'\n",
    "]\n",
    "target_directory = '/mnt/D8E84E4DE84E2A58/github/create_video_news/2_create_final_audio'\n",
    "\n",
    "copy_files_preserving_root_structure(source_directories, target_directory)"
   ]
  },
  {
   "cell_type": "code",
   "execution_count": 6,
   "metadata": {},
   "outputs": [
    {
     "name": "stdout",
     "output_type": "stream",
     "text": [
      "Archivo copiado: /mnt/D8E84E4DE84E2A58/Env_python/Create_video_news/3_extract_img_videos/0_delete_folder.ipynb -> /mnt/D8E84E4DE84E2A58/github/create_video_news/3_extract_img_videos/./0_delete_folder.ipynb\n",
      "Archivo copiado: /mnt/D8E84E4DE84E2A58/Env_python/Create_video_news/3_extract_img_videos/1_extrac_img.ipynb -> /mnt/D8E84E4DE84E2A58/github/create_video_news/3_extract_img_videos/./1_extrac_img.ipynb\n",
      "Archivo copiado: /mnt/D8E84E4DE84E2A58/Env_python/Create_video_news/3_extract_img_videos/2_copie_img_by_video.ipynb -> /mnt/D8E84E4DE84E2A58/github/create_video_news/3_extract_img_videos/./2_copie_img_by_video.ipynb\n",
      "Archivo copiado: /mnt/D8E84E4DE84E2A58/Env_python/Create_video_news/3_extract_img_videos/3_delete_video.ipynb -> /mnt/D8E84E4DE84E2A58/github/create_video_news/3_extract_img_videos/./3_delete_video.ipynb\n",
      "Archivo copiado: /mnt/D8E84E4DE84E2A58/Env_python/Create_video_news/3_extract_img_videos/4_extract_video.ipynb -> /mnt/D8E84E4DE84E2A58/github/create_video_news/3_extract_img_videos/./4_extract_video.ipynb\n",
      "Archivo copiado: /mnt/D8E84E4DE84E2A58/Env_python/Create_video_news/3_extract_img_videos/5_fragmentar_video.ipynb -> /mnt/D8E84E4DE84E2A58/github/create_video_news/3_extract_img_videos/./5_fragmentar_video.ipynb\n",
      "Archivo copiado: /mnt/D8E84E4DE84E2A58/Env_python/Create_video_news/3_extract_img_videos/6_copie_video_by_video.ipynb -> /mnt/D8E84E4DE84E2A58/github/create_video_news/3_extract_img_videos/./6_copie_video_by_video.ipynb\n"
     ]
    }
   ],
   "source": [
    "# Ejemplo de uso\n",
    "source_directories = [\n",
    "    '/mnt/D8E84E4DE84E2A58/Env_python/Create_video_news/3_extract_img_videos'\n",
    "]\n",
    "target_directory = '/mnt/D8E84E4DE84E2A58/github/create_video_news/3_extract_img_videos'\n",
    "\n",
    "copy_files_preserving_root_structure(source_directories, target_directory)"
   ]
  },
  {
   "cell_type": "code",
   "execution_count": 7,
   "metadata": {},
   "outputs": [
    {
     "name": "stdout",
     "output_type": "stream",
     "text": [
      "Archivo copiado: /mnt/D8E84E4DE84E2A58/Env_python/Create_video_news/4_create_video_by_news/0_delete_files.ipynb -> /mnt/D8E84E4DE84E2A58/github/create_video_news/4_create_video_by_news/./0_delete_files.ipynb\n",
      "Archivo copiado: /mnt/D8E84E4DE84E2A58/Env_python/Create_video_news/4_create_video_by_news/1_create_videos.ipynb -> /mnt/D8E84E4DE84E2A58/github/create_video_news/4_create_video_by_news/./1_create_videos.ipynb\n"
     ]
    }
   ],
   "source": [
    "# Ejemplo de uso\n",
    "source_directories = [\n",
    "    '/mnt/D8E84E4DE84E2A58/Env_python/Create_video_news/4_create_video_by_news'\n",
    "]\n",
    "target_directory = '/mnt/D8E84E4DE84E2A58/github/create_video_news/4_create_video_by_news'\n",
    "\n",
    "copy_files_preserving_root_structure(source_directories, target_directory)"
   ]
  },
  {
   "cell_type": "code",
   "execution_count": 8,
   "metadata": {},
   "outputs": [
    {
     "name": "stdout",
     "output_type": "stream",
     "text": [
      "Archivo copiado: /mnt/D8E84E4DE84E2A58/Env_python/Create_video_news/5_create_final/1_create_final_video.ipynb -> /mnt/D8E84E4DE84E2A58/github/create_video_news/5_create_final/./1_create_final_video.ipynb\n",
      "Archivo copiado: /mnt/D8E84E4DE84E2A58/Env_python/Create_video_news/5_create_final/titulo_entre_videos.xlsx -> /mnt/D8E84E4DE84E2A58/github/create_video_news/5_create_final/./titulo_entre_videos.xlsx\n",
      "Archivo copiado: /mnt/D8E84E4DE84E2A58/Env_python/Create_video_news/5_create_final/transicion.png -> /mnt/D8E84E4DE84E2A58/github/create_video_news/5_create_final/./transicion.png\n",
      "Archivo copiado: /mnt/D8E84E4DE84E2A58/Env_python/Create_video_news/5_create_final/video_automatico.mp4 -> /mnt/D8E84E4DE84E2A58/github/create_video_news/5_create_final/./video_automatico.mp4\n",
      "Archivo copiado: /mnt/D8E84E4DE84E2A58/Env_python/Create_video_news/5_create_final/video_automaticoTEMP_MPY_wvf_snd.mp4 -> /mnt/D8E84E4DE84E2A58/github/create_video_news/5_create_final/./video_automaticoTEMP_MPY_wvf_snd.mp4\n"
     ]
    }
   ],
   "source": [
    "# Ejemplo de uso\n",
    "source_directories = [\n",
    "    '/mnt/D8E84E4DE84E2A58/Env_python/Create_video_news/5_create_final'\n",
    "]\n",
    "target_directory = '/mnt/D8E84E4DE84E2A58/github/create_video_news/5_create_final'\n",
    "\n",
    "copy_files_preserving_root_structure(source_directories, target_directory)"
   ]
  },
  {
   "cell_type": "code",
   "execution_count": 9,
   "metadata": {},
   "outputs": [
    {
     "name": "stdout",
     "output_type": "stream",
     "text": [
      "Archivo copiado: /mnt/D8E84E4DE84E2A58/Env_python/Create_video_news/6_create_portada/1_create_portada.ipynb -> /mnt/D8E84E4DE84E2A58/github/create_video_news/6_create_portada/./1_create_portada.ipynb\n",
      "Archivo copiado: /mnt/D8E84E4DE84E2A58/Env_python/Create_video_news/6_create_portada/2_create_prtada2.ipynb -> /mnt/D8E84E4DE84E2A58/github/create_video_news/6_create_portada/./2_create_prtada2.ipynb\n",
      "Archivo copiado: /mnt/D8E84E4DE84E2A58/Env_python/Create_video_news/6_create_portada/3_create_portada_SF.ipynb -> /mnt/D8E84E4DE84E2A58/github/create_video_news/6_create_portada/./3_create_portada_SF.ipynb\n",
      "Archivo copiado: /mnt/D8E84E4DE84E2A58/Env_python/Create_video_news/6_create_portada/base_image.png -> /mnt/D8E84E4DE84E2A58/github/create_video_news/6_create_portada/./base_image.png\n",
      "Archivo copiado: /mnt/D8E84E4DE84E2A58/Env_python/Create_video_news/6_create_portada/base_image.webp -> /mnt/D8E84E4DE84E2A58/github/create_video_news/6_create_portada/./base_image.webp\n",
      "Archivo copiado: /mnt/D8E84E4DE84E2A58/Env_python/Create_video_news/6_create_portada/base_image1.png -> /mnt/D8E84E4DE84E2A58/github/create_video_news/6_create_portada/./base_image1.png\n",
      "Archivo copiado: /mnt/D8E84E4DE84E2A58/Env_python/Create_video_news/6_create_portada/Pemanka.ttf -> /mnt/D8E84E4DE84E2A58/github/create_video_news/6_create_portada/./Pemanka.ttf\n",
      "Archivo copiado: /mnt/D8E84E4DE84E2A58/Env_python/Create_video_news/6_create_portada/thumbnail.jpg -> /mnt/D8E84E4DE84E2A58/github/create_video_news/6_create_portada/./thumbnail.jpg\n"
     ]
    }
   ],
   "source": [
    "# Ejemplo de uso\n",
    "source_directories = [\n",
    "    '/mnt/D8E84E4DE84E2A58/Env_python/Create_video_news/6_create_portada'\n",
    "]\n",
    "target_directory = '/mnt/D8E84E4DE84E2A58/github/create_video_news/6_create_portada'\n",
    "\n",
    "copy_files_preserving_root_structure(source_directories, target_directory)"
   ]
  },
  {
   "cell_type": "code",
   "execution_count": null,
   "metadata": {},
   "outputs": [
    {
     "name": "stdout",
     "output_type": "stream",
     "text": [
      "Archivo copiado: /mnt/D8E84E4DE84E2A58/Env_python/Create_video_news/7_create_short/0_delete_files.ipynb -> /mnt/D8E84E4DE84E2A58/github/create_video_news/7_create_short/./0_delete_files.ipynb\n",
      "Archivo copiado: /mnt/D8E84E4DE84E2A58/Env_python/Create_video_news/7_create_short/1_create_videos_shorts.ipynb -> /mnt/D8E84E4DE84E2A58/github/create_video_news/7_create_short/./1_create_videos_shorts.ipynb\n"
     ]
    }
   ],
   "source": [
    "# Ejemplo de uso\n",
    "source_directories = [\n",
    "    '/mnt/D8E84E4DE84E2A58/Env_python/Create_video_news/7_create_short'\n",
    "]\n",
    "\n",
    "target_directory = '/mnt/D8E84E4DE84E2A58/github/create_video_news/7_create_short'\n",
    "\n",
    "copy_files_preserving_root_structure(source_directories, target_directory)"
   ]
  },
  {
   "cell_type": "code",
   "execution_count": 11,
   "metadata": {},
   "outputs": [
    {
     "name": "stdout",
     "output_type": "stream",
     "text": [
      "Archivo copiado: /mnt/D8E84E4DE84E2A58/Env_python/Create_video_news/8_copy_files/copy_data_news.ipynb -> /mnt/D8E84E4DE84E2A58/github/create_video_news/8_copy_files/./copy_data_news.ipynb\n"
     ]
    }
   ],
   "source": [
    "# Ejemplo de uso\n",
    "source_directories = [\n",
    "    '/mnt/D8E84E4DE84E2A58/Env_python/Create_video_news/8_copy_files'\n",
    "]\n",
    "target_directory = '/mnt/D8E84E4DE84E2A58/github/create_video_news/8_copy_files'\n",
    "\n",
    "copy_files_preserving_root_structure(source_directories, target_directory)"
   ]
  }
 ],
 "metadata": {
  "kernelspec": {
   "display_name": "AndDownLoadImg",
   "language": "python",
   "name": "python3"
  },
  "language_info": {
   "codemirror_mode": {
    "name": "ipython",
    "version": 3
   },
   "file_extension": ".py",
   "mimetype": "text/x-python",
   "name": "python",
   "nbconvert_exporter": "python",
   "pygments_lexer": "ipython3",
   "version": "3.10.15"
  }
 },
 "nbformat": 4,
 "nbformat_minor": 2
}
