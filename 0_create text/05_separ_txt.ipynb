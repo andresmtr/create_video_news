{
 "cells": [
  {
   "cell_type": "code",
   "execution_count": 1,
   "metadata": {},
   "outputs": [],
   "source": [
    "def split_txt_into_paragraphs(input_file, output_folder):\n",
    "    \"\"\"\n",
    "    Divide un archivo .txt en varios archivos, cada uno conteniendo un párrafo.\n",
    "\n",
    "    :param input_file: Ruta del archivo de entrada.\n",
    "    :param output_folder: Carpeta donde se guardarán los archivos separados.\n",
    "    \"\"\"\n",
    "    import os\n",
    "\n",
    "    # Crear la carpeta de salida si no existe\n",
    "    if not os.path.exists(output_folder):\n",
    "        os.makedirs(output_folder)\n",
    "\n",
    "    with open(input_file, 'r', encoding='utf-8') as file:\n",
    "        content = file.read()\n",
    "\n",
    "    # Dividir el contenido en párrafos (separados por líneas en blanco)\n",
    "    paragraphs = content.split('\\n\\n')\n",
    "\n",
    "    # Guardar cada párrafo en un archivo separado\n",
    "    for i, paragraph in enumerate(paragraphs):\n",
    "        # Limpiar espacios extra\n",
    "        paragraph = paragraph.strip()\n",
    "        if paragraph:  # Evitar párrafos vacíos\n",
    "            output_file = os.path.join(output_folder, f'{i+1}.txt')\n",
    "            with open(output_file, 'w', encoding='utf-8') as output:\n",
    "                output.write(paragraph)\n",
    "    \n",
    "    print(f\"Se han generado {len(paragraphs)} archivos en la carpeta '{output_folder}'.\")\n"
   ]
  },
  {
   "cell_type": "code",
   "execution_count": 2,
   "metadata": {},
   "outputs": [
    {
     "name": "stdout",
     "output_type": "stream",
     "text": [
      "Se han generado 8 archivos en la carpeta '/mnt/D8E84E4DE84E2A58/Env_python/Create_video_news/0_create text/text/es/final'.\n"
     ]
    }
   ],
   "source": [
    "# Ejemplo de uso\n",
    "input_file = '/mnt/D8E84E4DE84E2A58/Env_python/Create_video_news/0_create text/text/es/union/union.txt'  # Cambia esto por la ruta de tu archivo\n",
    "output_folder = '/mnt/D8E84E4DE84E2A58/Env_python/Create_video_news/0_create text/text/es/final'  # Carpeta donde se guardarán los párrafos\n",
    "split_txt_into_paragraphs(input_file, output_folder)"
   ]
  }
 ],
 "metadata": {
  "kernelspec": {
   "display_name": "AndDownLoadImg",
   "language": "python",
   "name": "python3"
  },
  "language_info": {
   "codemirror_mode": {
    "name": "ipython",
    "version": 3
   },
   "file_extension": ".py",
   "mimetype": "text/x-python",
   "name": "python",
   "nbconvert_exporter": "python",
   "pygments_lexer": "ipython3",
   "version": "3.10.15"
  }
 },
 "nbformat": 4,
 "nbformat_minor": 2
}
