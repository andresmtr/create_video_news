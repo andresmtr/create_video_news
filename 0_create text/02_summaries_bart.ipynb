{
 "cells": [
  {
   "cell_type": "code",
   "execution_count": 1,
   "metadata": {},
   "outputs": [
    {
     "name": "stderr",
     "output_type": "stream",
     "text": [
      "/home/andresmtr/miniconda3/envs/AndTextG3/lib/python3.9/site-packages/tqdm/auto.py:21: TqdmWarning: IProgress not found. Please update jupyter and ipywidgets. See https://ipywidgets.readthedocs.io/en/stable/user_install.html\n",
      "  from .autonotebook import tqdm as notebook_tqdm\n"
     ]
    }
   ],
   "source": [
    "import os\n",
    "import chardet\n",
    "import re\n",
    "import torch\n",
    "from transformers import pipeline, AutoTokenizer, AutoModelForCausalLM\n",
    "from textwrap import wrap"
   ]
  },
  {
   "cell_type": "markdown",
   "metadata": {},
   "source": [
    "Install\n",
    "\n",
    "* https://docs.nvidia.com/cuda/cuda-installation-guide-linux/\n",
    "* https://developer.nvidia.com/cuda-downloads\n",
    "* sudo apt install nvidia-cuda-toolkit\n",
    "\n",
    "* sudo apt install build-essential\n",
    "* pip install llama-cpp-python --extra-index-url https://abetlen.github.io/llama-cpp-python/whl/cu121\n",
    "* pip install --no-cache-dir llama-cpp-python==0.2.77 --extra-index-url https://abetlen.github.io/llama-cpp-python/whl/cu124\n",
    "* conda install pytorch==2.4.0 -c pytorch -c nvidia\n",
    "* pip install huggingface-hub"
   ]
  },
  {
   "cell_type": "code",
   "execution_count": 2,
   "metadata": {},
   "outputs": [],
   "source": [
    "# Activar CUDA Launch Blocking para depuración\n",
    "os.environ['CUDA_LAUNCH_BLOCKING'] = '1'"
   ]
  },
  {
   "cell_type": "code",
   "execution_count": 3,
   "metadata": {},
   "outputs": [
    {
     "name": "stdout",
     "output_type": "stream",
     "text": [
      "Using device: cuda\n"
     ]
    }
   ],
   "source": [
    "# Configurar el dispositivo para usar GPU si está disponible\n",
    "device = torch.device(\"cuda\" if torch.cuda.is_available() else \"cpu\")\n",
    "print(f\"Using device: {device}\")"
   ]
  },
  {
   "cell_type": "code",
   "execution_count": 4,
   "metadata": {},
   "outputs": [
    {
     "name": "stderr",
     "output_type": "stream",
     "text": [
      "/home/andresmtr/miniconda3/envs/AndTextG3/lib/python3.9/site-packages/transformers/tokenization_utils_base.py:1617: FutureWarning: `clean_up_tokenization_spaces` was not set. It will be set to `True` by default. This behavior will be deprecated in transformers v4.45, and will be then set to `False` by default. For more details check this issue: https://github.com/huggingface/transformers/issues/31884\n",
      "  warnings.warn(\n"
     ]
    }
   ],
   "source": [
    "# Cargar el modelo y el tokenizer de Llama 3.2\n",
    "model_id = \"facebook/bart-large-cnn\"\n",
    "pipe = pipeline(\n",
    "    \"summarization\",\n",
    "    model=model_id,\n",
    "    device=0 if torch.cuda.is_available() else -1  # Usar GPU si está disponible\n",
    ")"
   ]
  },
  {
   "cell_type": "code",
   "execution_count": 5,
   "metadata": {},
   "outputs": [
    {
     "name": "stdout",
     "output_type": "stream",
     "text": [
      "Archivo eliminado: /mnt/D8E84E4DE84E2A58/Env_python/Create_video_news/0_create text/text/en/summaries/1.txt\n",
      "Archivo eliminado: /mnt/D8E84E4DE84E2A58/Env_python/Create_video_news/0_create text/text/en/summaries/2.txt\n",
      "Archivo eliminado: /mnt/D8E84E4DE84E2A58/Env_python/Create_video_news/0_create text/text/en/summaries/4.txt\n",
      "Archivo eliminado: /mnt/D8E84E4DE84E2A58/Env_python/Create_video_news/0_create text/text/en/summaries/5.txt\n",
      "Archivo eliminado: /mnt/D8E84E4DE84E2A58/Env_python/Create_video_news/0_create text/text/en/summaries/6.txt\n",
      "Archivo eliminado: /mnt/D8E84E4DE84E2A58/Env_python/Create_video_news/0_create text/text/en/summaries/7.txt\n",
      "Archivo eliminado: /mnt/D8E84E4DE84E2A58/Env_python/Create_video_news/0_create text/text/en/summaries/8.txt\n",
      "Archivo eliminado: /mnt/D8E84E4DE84E2A58/Env_python/Create_video_news/0_create text/text/en/summaries/9.txt\n",
      "Todos los archivos han sido eliminados.\n"
     ]
    }
   ],
   "source": [
    "# Ruta base donde se guardarán las noticias\n",
    "base_path = '/mnt/D8E84E4DE84E2A58/Env_python/Create_video_news/0_create text/text/en/summaries/'\n",
    "\n",
    "if os.path.exists(base_path):\n",
    "    for archivo in os.listdir(base_path):\n",
    "        ruta_archivo = os.path.join(base_path, archivo)\n",
    "        if os.path.isfile(ruta_archivo):\n",
    "            os.remove(ruta_archivo)\n",
    "            print(f\"Archivo eliminado: {ruta_archivo}\")\n",
    "    print(\"Todos los archivos han sido eliminados.\")\n",
    "else:\n",
    "    os.makedirs(base_path)\n",
    "    print(\"La carpeta ha sido creada.\")"
   ]
  },
  {
   "cell_type": "code",
   "execution_count": 6,
   "metadata": {},
   "outputs": [],
   "source": [
    "# %%\n",
    "def process_text(document, number_file):\n",
    "    try:\n",
    "        # Leer el archivo de texto\n",
    "        with open(document, \"r\", encoding=\"utf-8\") as f:\n",
    "            text = f.read().strip()\n",
    "\n",
    "        # Validar si el texto está vacío o muy corto\n",
    "        if not text or len(text) < 30:\n",
    "            print(f\"El archivo {document} está vacío o tiene muy poco texto. Omitiendo...\")\n",
    "            return\n",
    "\n",
    "        # Dividir textos largos en partes más pequeñas\n",
    "        max_input_length = 1024\n",
    "        if len(text) > max_input_length:\n",
    "            parts = [text[i:i+max_input_length] for i in range(0, len(text), max_input_length)]\n",
    "            resumen = []\n",
    "            for part in parts:\n",
    "                result = pipe(part, max_length=130, min_length=30, do_sample=False)\n",
    "                resumen.append(result[0][\"summary_text\"])\n",
    "            generated_text = \" \".join(resumen)\n",
    "        else:\n",
    "            resumen = pipe(text, max_length=130, min_length=30, do_sample=False)\n",
    "            generated_text = resumen[0][\"summary_text\"]\n",
    "\n",
    "        # Guardar el texto en un archivo\n",
    "        output_path = os.path.join(base_path, f\"{number_file}.txt\")\n",
    "        with open(output_path, \"w\", encoding=\"utf-8\") as f:\n",
    "            f.write(generated_text)\n",
    "        print(f\"Texto generado y guardado correctamente en {output_path}.\")\n",
    "\n",
    "    except Exception as e:\n",
    "        print(f\"Error al procesar el archivo {document}: {e}\")"
   ]
  },
  {
   "cell_type": "code",
   "execution_count": 7,
   "metadata": {},
   "outputs": [],
   "source": [
    "# Ruta de la carpeta\n",
    "folder_path = '/mnt/D8E84E4DE84E2A58/Env_python/Create_video_news/0_create text/text/en/draft/'\n",
    "\n",
    "# Lista todos los archivos .txt en la carpeta\n",
    "files = [f for f in os.listdir(folder_path) if f.endswith('.txt')]\n",
    "\n",
    "# Ordena los archivos si es necesario\n",
    "files.sort()"
   ]
  },
  {
   "cell_type": "code",
   "execution_count": 8,
   "metadata": {},
   "outputs": [
    {
     "name": "stdout",
     "output_type": "stream",
     "text": [
      "Texto generado y guardado correctamente en /mnt/D8E84E4DE84E2A58/Env_python/Create_video_news/0_create text/text/en/summaries/1.txt.\n",
      "Texto generado y guardado correctamente en /mnt/D8E84E4DE84E2A58/Env_python/Create_video_news/0_create text/text/en/summaries/2.txt.\n"
     ]
    },
    {
     "name": "stderr",
     "output_type": "stream",
     "text": [
      "Your max_length is set to 130, but your input_length is only 32. Since this is a summarization task, where outputs shorter than the input are typically wanted, you might consider decreasing max_length manually, e.g. summarizer('...', max_length=16)\n"
     ]
    },
    {
     "name": "stdout",
     "output_type": "stream",
     "text": [
      "Texto generado y guardado correctamente en /mnt/D8E84E4DE84E2A58/Env_python/Create_video_news/0_create text/text/en/summaries/3.txt.\n"
     ]
    },
    {
     "name": "stderr",
     "output_type": "stream",
     "text": [
      "You seem to be using the pipelines sequentially on GPU. In order to maximize efficiency please use a dataset\n"
     ]
    },
    {
     "name": "stdout",
     "output_type": "stream",
     "text": [
      "Texto generado y guardado correctamente en /mnt/D8E84E4DE84E2A58/Env_python/Create_video_news/0_create text/text/en/summaries/4.txt.\n",
      "Texto generado y guardado correctamente en /mnt/D8E84E4DE84E2A58/Env_python/Create_video_news/0_create text/text/en/summaries/5.txt.\n"
     ]
    },
    {
     "name": "stderr",
     "output_type": "stream",
     "text": [
      "Your max_length is set to 130, but your input_length is only 25. Since this is a summarization task, where outputs shorter than the input are typically wanted, you might consider decreasing max_length manually, e.g. summarizer('...', max_length=12)\n"
     ]
    },
    {
     "name": "stdout",
     "output_type": "stream",
     "text": [
      "Texto generado y guardado correctamente en /mnt/D8E84E4DE84E2A58/Env_python/Create_video_news/0_create text/text/en/summaries/6.txt.\n"
     ]
    },
    {
     "name": "stderr",
     "output_type": "stream",
     "text": [
      "Your max_length is set to 130, but your input_length is only 4. Since this is a summarization task, where outputs shorter than the input are typically wanted, you might consider decreasing max_length manually, e.g. summarizer('...', max_length=2)\n"
     ]
    },
    {
     "name": "stdout",
     "output_type": "stream",
     "text": [
      "Texto generado y guardado correctamente en /mnt/D8E84E4DE84E2A58/Env_python/Create_video_news/0_create text/text/en/summaries/7.txt.\n"
     ]
    },
    {
     "name": "stderr",
     "output_type": "stream",
     "text": [
      "Your max_length is set to 130, but your input_length is only 31. Since this is a summarization task, where outputs shorter than the input are typically wanted, you might consider decreasing max_length manually, e.g. summarizer('...', max_length=15)\n"
     ]
    },
    {
     "name": "stdout",
     "output_type": "stream",
     "text": [
      "Texto generado y guardado correctamente en /mnt/D8E84E4DE84E2A58/Env_python/Create_video_news/0_create text/text/en/summaries/8.txt.\n"
     ]
    },
    {
     "name": "stderr",
     "output_type": "stream",
     "text": [
      "Your max_length is set to 130, but your input_length is only 96. Since this is a summarization task, where outputs shorter than the input are typically wanted, you might consider decreasing max_length manually, e.g. summarizer('...', max_length=48)\n"
     ]
    },
    {
     "name": "stdout",
     "output_type": "stream",
     "text": [
      "Texto generado y guardado correctamente en /mnt/D8E84E4DE84E2A58/Env_python/Create_video_news/0_create text/text/en/summaries/9.txt.\n"
     ]
    }
   ],
   "source": [
    "# Ciclo para procesar cada archivo\n",
    "for i, file_name in enumerate(files, start=1):\n",
    "    file_path = os.path.join(folder_path, file_name)\n",
    "    process_text(document=file_path, number_file=i)\n",
    "    # Liberar memoria GPU\n",
    "    torch.cuda.empty_cache()"
   ]
  }
 ],
 "metadata": {
  "kernelspec": {
   "display_name": "AndTextG3",
   "language": "python",
   "name": "python3"
  },
  "language_info": {
   "codemirror_mode": {
    "name": "ipython",
    "version": 3
   },
   "file_extension": ".py",
   "mimetype": "text/x-python",
   "name": "python",
   "nbconvert_exporter": "python",
   "pygments_lexer": "ipython3",
   "version": "3.9.19"
  }
 },
 "nbformat": 4,
 "nbformat_minor": 2
}
