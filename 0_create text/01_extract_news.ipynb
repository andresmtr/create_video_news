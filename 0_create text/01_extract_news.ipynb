{
 "cells": [
  {
   "cell_type": "code",
   "execution_count": 1,
   "metadata": {},
   "outputs": [],
   "source": [
    "import os\n",
    "import requests\n",
    "from bs4 import BeautifulSoup"
   ]
  },
  {
   "cell_type": "code",
   "execution_count": 2,
   "metadata": {},
   "outputs": [
    {
     "name": "stdout",
     "output_type": "stream",
     "text": [
      "La lista de fuentes se ha guardado en file_info.txt.\n"
     ]
    }
   ],
   "source": [
    "# Lista de enlaces de noticias que quieres extraer\n",
    "urls = [\n",
    "    'https://www.cnbc.com/2024/12/10/alphabet-shares-jump-5percent-after-google-touts-breakthrough-quantum-chip-.html',\n",
    "    'https://techcrunch.com/2024/12/05/openai-confirms-its-new-200-plan-chatgpt-pro-which-includes-reasoning-models-and-more/',\n",
    "    'https://www.tomshardware.com/pc-components/cpus/mysterious-amd-ryzen-ai-max-pro-395-strix-halo-apu-emerges-on-geekbench-processor-expected-to-officially-debut-at-ces-2025',\n",
    "    'https://www.tomshardware.com/pc-components/cpus/cyberpunk-2077-update-2-2-reportedly-improves-arrow-lake-performance-by-up-to-33-percent-theoretically-matching-the-ryzen-7-7800x3d',\n",
    "    'https://www.engadget.com/mobile/smartphones/ios-182-is-here-with-apple-intelligence-image-generation-features-in-tow-130029173.html',\n",
    "    'https://www.techradar.com/computing/artificial-intelligence/grok-accidentally-releases-a-new-ai-image-maker-for-a-little-while',\n",
    "    'https://www.techradar.com/computing/artificial-intelligence/chatgpts-canvas-feature-is-a-real-time-editor-to-inspire-your-writing-and-coding',\n",
    "    'https://www.engadget.com/gaming/fortnite-is-getting-a-5v5-first-person-shooter-mode-162200195.html'\n",
    "\n",
    "]\n",
    "\n",
    "\n",
    "# Nombre del archivo donde se guardará la lista\n",
    "nombre_archivo = \"file_info.txt\"\n",
    "\n",
    "# Escribir la lista en el archivo\n",
    "with open(nombre_archivo, \"w\") as archivo:\n",
    "    for fuente in urls:\n",
    "        archivo.write(fuente + \"\\n\")\n",
    "\n",
    "print(f\"La lista de fuentes se ha guardado en {nombre_archivo}.\")"
   ]
  },
  {
   "cell_type": "code",
   "execution_count": 3,
   "metadata": {},
   "outputs": [
    {
     "name": "stdout",
     "output_type": "stream",
     "text": [
      "Archivo eliminado: /mnt/D8E84E4DE84E2A58/Env_python/Create_video_news/0_create text/text/en/draft/1.txt\n",
      "Archivo eliminado: /mnt/D8E84E4DE84E2A58/Env_python/Create_video_news/0_create text/text/en/draft/2.txt\n",
      "Archivo eliminado: /mnt/D8E84E4DE84E2A58/Env_python/Create_video_news/0_create text/text/en/draft/3.txt\n",
      "Archivo eliminado: /mnt/D8E84E4DE84E2A58/Env_python/Create_video_news/0_create text/text/en/draft/4.txt\n",
      "Archivo eliminado: /mnt/D8E84E4DE84E2A58/Env_python/Create_video_news/0_create text/text/en/draft/5.txt\n",
      "Archivo eliminado: /mnt/D8E84E4DE84E2A58/Env_python/Create_video_news/0_create text/text/en/draft/6.txt\n",
      "Archivo eliminado: /mnt/D8E84E4DE84E2A58/Env_python/Create_video_news/0_create text/text/en/draft/7.txt\n",
      "Archivo eliminado: /mnt/D8E84E4DE84E2A58/Env_python/Create_video_news/0_create text/text/en/draft/8.txt\n",
      "Archivo eliminado: /mnt/D8E84E4DE84E2A58/Env_python/Create_video_news/0_create text/text/en/draft/9.txt\n",
      "Todos los archivos han sido eliminados.\n"
     ]
    }
   ],
   "source": [
    "# Ruta base donde se guardarán las noticias\n",
    "base_path = '/mnt/D8E84E4DE84E2A58/Env_python/Create_video_news/0_create text/text/en/draft/'\n",
    "\n",
    "\n",
    "if os.path.exists(base_path):\n",
    "    # Itera sobre los archivos en la carpeta\n",
    "    for archivo in os.listdir(base_path):\n",
    "        ruta_archivo = os.path.join(base_path, archivo)\n",
    "        # Verifica si es un archivo antes de eliminar\n",
    "        if os.path.isfile(ruta_archivo):\n",
    "            os.remove(ruta_archivo)\n",
    "            print(f\"Archivo eliminado: {ruta_archivo}\")\n",
    "    print(\"Todos los archivos han sido eliminados.\")\n",
    "else:\n",
    "    print(\"La carpeta no existe.\")"
   ]
  },
  {
   "cell_type": "code",
   "execution_count": 4,
   "metadata": {},
   "outputs": [],
   "source": [
    "def limpiar_texto(texto):\n",
    "    \"\"\"\n",
    "    Limpia el texto eliminando espacios extra y normalizando los saltos de línea.\n",
    "    \"\"\"\n",
    "    return ' '.join(texto.split())"
   ]
  },
  {
   "cell_type": "code",
   "execution_count": 5,
   "metadata": {},
   "outputs": [],
   "source": [
    "def obtener_contenido(url):\n",
    "    try:\n",
    "        # Realiza la solicitud HTTP\n",
    "        response = requests.get(url)\n",
    "        response.raise_for_status()\n",
    "\n",
    "        # Analiza el HTML de la página\n",
    "        soup = BeautifulSoup(response.text, 'html.parser')\n",
    "\n",
    "        # Extrae el título de la noticia\n",
    "        titulo = soup.find('h1').get_text(strip=True)\n",
    "\n",
    "        # Extrae el cuerpo de la noticia\n",
    "        # Recolecta todos los textos de los elementos <p>, incluyendo elementos anidados\n",
    "        parrafos = []\n",
    "        for p in soup.find_all('p'):\n",
    "            # Normaliza el texto del párrafo\n",
    "            texto_limpio = limpiar_texto(p.get_text(separator=' '))\n",
    "            parrafos.append(texto_limpio)\n",
    "\n",
    "        # Une los párrafos con doble salto de línea\n",
    "        cuerpo = '\\n\\n'.join(parrafos)\n",
    "\n",
    "        return f\"{titulo}\\n\\n{cuerpo}\\n{'-'*80}\\n\"\n",
    "\n",
    "    except Exception as e:\n",
    "        return f\"Error al procesar {url}: {e}\\n{'-'*80}\\n\""
   ]
  },
  {
   "cell_type": "code",
   "execution_count": 6,
   "metadata": {},
   "outputs": [
    {
     "name": "stdout",
     "output_type": "stream",
     "text": [
      "Noticia guardada en /mnt/D8E84E4DE84E2A58/Env_python/Create_video_news/0_create text/text/en/draft/1.txt\n",
      "Noticia guardada en /mnt/D8E84E4DE84E2A58/Env_python/Create_video_news/0_create text/text/en/draft/2.txt\n",
      "Noticia guardada en /mnt/D8E84E4DE84E2A58/Env_python/Create_video_news/0_create text/text/en/draft/3.txt\n",
      "Noticia guardada en /mnt/D8E84E4DE84E2A58/Env_python/Create_video_news/0_create text/text/en/draft/4.txt\n",
      "Noticia guardada en /mnt/D8E84E4DE84E2A58/Env_python/Create_video_news/0_create text/text/en/draft/5.txt\n",
      "Noticia guardada en /mnt/D8E84E4DE84E2A58/Env_python/Create_video_news/0_create text/text/en/draft/6.txt\n",
      "Noticia guardada en /mnt/D8E84E4DE84E2A58/Env_python/Create_video_news/0_create text/text/en/draft/7.txt\n",
      "Noticia guardada en /mnt/D8E84E4DE84E2A58/Env_python/Create_video_news/0_create text/text/en/draft/8.txt\n"
     ]
    }
   ],
   "source": [
    "# Guardar cada noticia en un archivo de texto separado\n",
    "for i, url in enumerate(urls, start=1):\n",
    "    contenido = obtener_contenido(url)\n",
    "    output_file = f\"{base_path}{i}.txt\"\n",
    "    try:\n",
    "        with open(output_file, 'w', encoding='utf-8') as file:\n",
    "            file.write(contenido)\n",
    "        print(f\"Noticia guardada en {output_file}\")\n",
    "    except Exception as e:\n",
    "        print(f\"Error al guardar la noticia {i}: {e}\")"
   ]
  }
 ],
 "metadata": {
  "kernelspec": {
   "display_name": "AndDownloadWiki",
   "language": "python",
   "name": "python3"
  },
  "language_info": {
   "codemirror_mode": {
    "name": "ipython",
    "version": 3
   },
   "file_extension": ".py",
   "mimetype": "text/x-python",
   "name": "python",
   "nbconvert_exporter": "python",
   "pygments_lexer": "ipython3",
   "version": "3.10.14"
  }
 },
 "nbformat": 4,
 "nbformat_minor": 2
}
