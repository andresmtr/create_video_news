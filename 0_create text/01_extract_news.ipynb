{
 "cells": [
  {
   "cell_type": "code",
   "execution_count": 1,
   "metadata": {},
   "outputs": [],
   "source": [
    "import os\n",
    "import requests\n",
    "from bs4 import BeautifulSoup"
   ]
  },
  {
   "cell_type": "code",
   "execution_count": 2,
   "metadata": {},
   "outputs": [
    {
     "name": "stdout",
     "output_type": "stream",
     "text": [
      "La lista de fuentes se ha guardado en file_info.txt.\n"
     ]
    }
   ],
   "source": [
    "# Lista de enlaces de noticias que quieres extraer\n",
    "urls = [\n",
    "    'https://www.tomshardware.com/pc-components/gpus/intel-arc-b580-battlemage-gpu-allegedly-surfaces-on-geekbench-with-20-xe-cores-12gb-of-vram-and-2-85-ghz-boost-it-falls-short-of-the-a580-despite-being-a-generation-newer?utm_source=flipboard&utm_content=topic%2Fcomputers',\n",
    "    'https://techcrunch.com/2024/11/27/blueskys-open-api-means-anyone-can-scrape-your-data-for-ai-training/?utm_source=flipboard&utm_content=topic%2Ftechnology&guccounter=1&guce_referrer=aHR0cHM6Ly9mbGlwYm9hcmQuY29tL3JlZGlyZWN0P3VybD1odHRwcyUzQSUyRiUyRnRlY2hjcnVuY2guY29tJTJGMjAyNCUyRjExJTJGMjclMkZibHVlc2t5cy1vcGVuLWFwaS1tZWFucy1hbnlvbmUtY2FuLXNjcmFwZS15b3VyLWRhdGEtZm9yLWFpLXRyYWluaW5nJTJGJTNGdXRtX3NvdXJjZSUzRGZsaXBib2FyZCUyNnV0bV9jb250ZW50JTNEdG9waWMlMjUyRnRlY2hub2xvZ3kmdj1jeEdKWVVDU0hIbWM1MVc5ZmMtYzBIelhFTURBeU1CSTdkT3dZejJQZzZjQUFBR1RiaW1UaFE&guce_referrer_sig=AQAAACVafZM-NtMKbA8P3PjPf45RAtYaFhLzcQoR73XLvzB16KzCk2W2LCah1VBj4VNdin8X_8SVsz6FEOosm12IqItW1e99pNixKBhad6m5WXJ81wBpEzw_q0pZUR_RkVHbZz-7OaeffaRqX5a41YAFtyfWR_7RuM_k03LkkLDxIP-a',\n",
    "    'https://www.cnbc.com/2024/11/26/bitcoin-btc-price-falls-as-post-election-rally-loses-steam.html',\n",
    "    'https://techcrunch.com/2024/11/27/raspberry-pi-launches-compute-module-5-for-embedded-applications/',\n",
    "    'https://www.forbes.com/sites/paultassi/2024/11/25/sony-is-developing-a-handheld-standalone-playstation-says-report/',\n",
    "    'https://www.latestly.com/socially/technology/chatgpt-for-ios-receives-new-apple-shortcuts-integration-that-lets-users-to-create-shortcuts-to-open-searchgpt-siri-integration-with-chatbot-expected-in-ios-18-2-update-6449733.html?utm_source=flipboard&utm_content=topic/technology',\n",
    "    'https://www.engadget.com/big-tech/intels-chips-act-funding-cut-by-over-600-million-184518662.html',\n",
    "    'https://www.polygon.com/news/484828/ubisoft-star-wars-outlaws-assassins-creed-avatar-windows-11-update',\n",
    "    'https://www.tomshardware.com/video-games/handheld-gaming/tencent-reveals-lunar-lake-powered-11-inch-handheld-packing-intel-core-ultra-7-258v-2-5k-120hz-display-32gb-ram-and-1tb-of-storage'\n",
    "\n",
    "]\n",
    "\n",
    "\n",
    "# Nombre del archivo donde se guardará la lista\n",
    "nombre_archivo = \"file_info.txt\"\n",
    "\n",
    "# Escribir la lista en el archivo\n",
    "with open(nombre_archivo, \"w\") as archivo:\n",
    "    for fuente in urls:\n",
    "        archivo.write(fuente + \"\\n\")\n",
    "\n",
    "print(f\"La lista de fuentes se ha guardado en {nombre_archivo}.\")"
   ]
  },
  {
   "cell_type": "code",
   "execution_count": 3,
   "metadata": {},
   "outputs": [
    {
     "name": "stdout",
     "output_type": "stream",
     "text": [
      "Archivo eliminado: /mnt/D8E84E4DE84E2A58/Env_python/Create_video_news/0_create text/text/en/draft/0.txt\n",
      "Archivo eliminado: /mnt/D8E84E4DE84E2A58/Env_python/Create_video_news/0_create text/text/en/draft/1.txt\n",
      "Archivo eliminado: /mnt/D8E84E4DE84E2A58/Env_python/Create_video_news/0_create text/text/en/draft/2.txt\n",
      "Archivo eliminado: /mnt/D8E84E4DE84E2A58/Env_python/Create_video_news/0_create text/text/en/draft/3.txt\n",
      "Archivo eliminado: /mnt/D8E84E4DE84E2A58/Env_python/Create_video_news/0_create text/text/en/draft/4.txt\n",
      "Archivo eliminado: /mnt/D8E84E4DE84E2A58/Env_python/Create_video_news/0_create text/text/en/draft/5.txt\n",
      "Archivo eliminado: /mnt/D8E84E4DE84E2A58/Env_python/Create_video_news/0_create text/text/en/draft/6.txt\n",
      "Archivo eliminado: /mnt/D8E84E4DE84E2A58/Env_python/Create_video_news/0_create text/text/en/draft/7.txt\n",
      "Archivo eliminado: /mnt/D8E84E4DE84E2A58/Env_python/Create_video_news/0_create text/text/en/draft/8.txt\n",
      "Archivo eliminado: /mnt/D8E84E4DE84E2A58/Env_python/Create_video_news/0_create text/text/en/draft/9.txt\n",
      "Todos los archivos han sido eliminados.\n"
     ]
    }
   ],
   "source": [
    "# Ruta base donde se guardarán las noticias\n",
    "base_path = '/mnt/D8E84E4DE84E2A58/Env_python/Create_video_news/0_create text/text/en/draft/'\n",
    "\n",
    "\n",
    "if os.path.exists(base_path):\n",
    "    # Itera sobre los archivos en la carpeta\n",
    "    for archivo in os.listdir(base_path):\n",
    "        ruta_archivo = os.path.join(base_path, archivo)\n",
    "        # Verifica si es un archivo antes de eliminar\n",
    "        if os.path.isfile(ruta_archivo):\n",
    "            os.remove(ruta_archivo)\n",
    "            print(f\"Archivo eliminado: {ruta_archivo}\")\n",
    "    print(\"Todos los archivos han sido eliminados.\")\n",
    "else:\n",
    "    print(\"La carpeta no existe.\")"
   ]
  },
  {
   "cell_type": "code",
   "execution_count": 4,
   "metadata": {},
   "outputs": [],
   "source": [
    "def limpiar_texto(texto):\n",
    "    \"\"\"\n",
    "    Limpia el texto eliminando espacios extra y normalizando los saltos de línea.\n",
    "    \"\"\"\n",
    "    return ' '.join(texto.split())"
   ]
  },
  {
   "cell_type": "code",
   "execution_count": 5,
   "metadata": {},
   "outputs": [],
   "source": [
    "def obtener_contenido(url):\n",
    "    try:\n",
    "        # Realiza la solicitud HTTP\n",
    "        response = requests.get(url)\n",
    "        response.raise_for_status()\n",
    "\n",
    "        # Analiza el HTML de la página\n",
    "        soup = BeautifulSoup(response.text, 'html.parser')\n",
    "\n",
    "        # Extrae el título de la noticia\n",
    "        titulo = soup.find('h1').get_text(strip=True)\n",
    "\n",
    "        # Extrae el cuerpo de la noticia\n",
    "        # Recolecta todos los textos de los elementos <p>, incluyendo elementos anidados\n",
    "        parrafos = []\n",
    "        for p in soup.find_all('p'):\n",
    "            # Normaliza el texto del párrafo\n",
    "            texto_limpio = limpiar_texto(p.get_text(separator=' '))\n",
    "            parrafos.append(texto_limpio)\n",
    "\n",
    "        # Une los párrafos con doble salto de línea\n",
    "        cuerpo = '\\n\\n'.join(parrafos)\n",
    "\n",
    "        return f\"{titulo}\\n\\n{cuerpo}\\n{'-'*80}\\n\"\n",
    "\n",
    "    except Exception as e:\n",
    "        return f\"Error al procesar {url}: {e}\\n{'-'*80}\\n\""
   ]
  },
  {
   "cell_type": "code",
   "execution_count": 6,
   "metadata": {},
   "outputs": [
    {
     "name": "stdout",
     "output_type": "stream",
     "text": [
      "Noticia guardada en /mnt/D8E84E4DE84E2A58/Env_python/Create_video_news/0_create text/text/en/draft/1.txt\n",
      "Noticia guardada en /mnt/D8E84E4DE84E2A58/Env_python/Create_video_news/0_create text/text/en/draft/2.txt\n",
      "Noticia guardada en /mnt/D8E84E4DE84E2A58/Env_python/Create_video_news/0_create text/text/en/draft/3.txt\n",
      "Noticia guardada en /mnt/D8E84E4DE84E2A58/Env_python/Create_video_news/0_create text/text/en/draft/4.txt\n",
      "Noticia guardada en /mnt/D8E84E4DE84E2A58/Env_python/Create_video_news/0_create text/text/en/draft/5.txt\n",
      "Noticia guardada en /mnt/D8E84E4DE84E2A58/Env_python/Create_video_news/0_create text/text/en/draft/6.txt\n",
      "Noticia guardada en /mnt/D8E84E4DE84E2A58/Env_python/Create_video_news/0_create text/text/en/draft/7.txt\n",
      "Noticia guardada en /mnt/D8E84E4DE84E2A58/Env_python/Create_video_news/0_create text/text/en/draft/8.txt\n",
      "Noticia guardada en /mnt/D8E84E4DE84E2A58/Env_python/Create_video_news/0_create text/text/en/draft/9.txt\n"
     ]
    }
   ],
   "source": [
    "# Guardar cada noticia en un archivo de texto separado\n",
    "for i, url in enumerate(urls, start=1):\n",
    "    contenido = obtener_contenido(url)\n",
    "    output_file = f\"{base_path}{i}.txt\"\n",
    "    try:\n",
    "        with open(output_file, 'w', encoding='utf-8') as file:\n",
    "            file.write(contenido)\n",
    "        print(f\"Noticia guardada en {output_file}\")\n",
    "    except Exception as e:\n",
    "        print(f\"Error al guardar la noticia {i}: {e}\")"
   ]
  }
 ],
 "metadata": {
  "kernelspec": {
   "display_name": "AndDownloadWiki",
   "language": "python",
   "name": "python3"
  },
  "language_info": {
   "codemirror_mode": {
    "name": "ipython",
    "version": 3
   },
   "file_extension": ".py",
   "mimetype": "text/x-python",
   "name": "python",
   "nbconvert_exporter": "python",
   "pygments_lexer": "ipython3",
   "version": "3.10.14"
  }
 },
 "nbformat": 4,
 "nbformat_minor": 2
}
