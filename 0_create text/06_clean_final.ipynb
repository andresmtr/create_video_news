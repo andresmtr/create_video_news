{
 "cells": [
  {
   "cell_type": "code",
   "execution_count": 1,
   "metadata": {},
   "outputs": [],
   "source": [
    "import os\n",
    "import chardet\n",
    "import re"
   ]
  },
  {
   "cell_type": "code",
   "execution_count": 2,
   "metadata": {},
   "outputs": [
    {
     "name": "stdout",
     "output_type": "stream",
     "text": [
      "Archivo eliminado: /mnt/D8E84E4DE84E2A58/Env_python/Create_video_news/0_create text/text/es/final/1.txt\n",
      "Archivo eliminado: /mnt/D8E84E4DE84E2A58/Env_python/Create_video_news/0_create text/text/es/final/2.txt\n",
      "Archivo eliminado: /mnt/D8E84E4DE84E2A58/Env_python/Create_video_news/0_create text/text/es/final/3.txt\n",
      "Archivo eliminado: /mnt/D8E84E4DE84E2A58/Env_python/Create_video_news/0_create text/text/es/final/4.txt\n",
      "Archivo eliminado: /mnt/D8E84E4DE84E2A58/Env_python/Create_video_news/0_create text/text/es/final/5.txt\n",
      "Archivo eliminado: /mnt/D8E84E4DE84E2A58/Env_python/Create_video_news/0_create text/text/es/final/6.txt\n",
      "Archivo eliminado: /mnt/D8E84E4DE84E2A58/Env_python/Create_video_news/0_create text/text/es/final/7.txt\n",
      "Archivo eliminado: /mnt/D8E84E4DE84E2A58/Env_python/Create_video_news/0_create text/text/es/final/8.txt\n",
      "Archivo eliminado: /mnt/D8E84E4DE84E2A58/Env_python/Create_video_news/0_create text/text/es/final/9.txt\n",
      "Todos los archivos han sido eliminados.\n"
     ]
    }
   ],
   "source": [
    "# Ruta base donde se guardarán las noticias\n",
    "base_path = '/mnt/D8E84E4DE84E2A58/Env_python/Create_video_news/0_create text/text/es/final/'\n",
    "\n",
    "\n",
    "if os.path.exists(base_path):\n",
    "    # Itera sobre los archivos en la carpeta\n",
    "    for archivo in os.listdir(base_path):\n",
    "        ruta_archivo = os.path.join(base_path, archivo)\n",
    "        # Verifica si es un archivo antes de eliminar\n",
    "        if os.path.isfile(ruta_archivo):\n",
    "            os.remove(ruta_archivo)\n",
    "            print(f\"Archivo eliminado: {ruta_archivo}\")\n",
    "    print(\"Todos los archivos han sido eliminados.\")\n",
    "else:\n",
    "    print(\"La carpeta no existe.\")"
   ]
  },
  {
   "cell_type": "code",
   "execution_count": 3,
   "metadata": {},
   "outputs": [],
   "source": [
    "def detect_encoding(file_path):\n",
    "    with open(file_path, 'rb') as f:\n",
    "        raw_data = f.read()\n",
    "        result = chardet.detect(raw_data)\n",
    "        return result['encoding']"
   ]
  },
  {
   "cell_type": "code",
   "execution_count": 4,
   "metadata": {},
   "outputs": [],
   "source": [
    "def process_text_character(file_path, number_file):\n",
    "    try:\n",
    "        # Detectar la codificación\n",
    "        encoding = detect_encoding(file_path)\n",
    "        print(f\"Codificación detectada: {encoding}\")\n",
    "        \n",
    "        # Leer archivo con codificación detectada\n",
    "        with open(file_path, \"r\", encoding=\"utf-8\") as f:\n",
    "            text = f.read()\n",
    "        \n",
    "        # Limpiar el texto\n",
    "        text = text.replace('EE.UU', 'Estados Unidos')\n",
    "        text = text.replace('**', '')\n",
    "        text = text.replace('*', '')\n",
    "        text = text.replace('- ', '')\n",
    "        text = text.replace('##', '')\n",
    "        text = text.replace('#', '')\n",
    "        text = text.replace(':', ',')\n",
    "        text = re.sub(r'(?<=\\d)\\.(?=\\d)', '', text)\n",
    "\n",
    "        paragraphs = text.split('\\n\\n')\n",
    "        cleaned_text = '\\n\\n'.join(dict.fromkeys(paragraphs))\n",
    "        cleaned_text = '. '.join([sentence.strip() for sentence in cleaned_text.split('. ')])\n",
    "\n",
    "        # Guardar texto limpio\n",
    "        output_path = f\"/mnt/D8E84E4DE84E2A58/Env_python/Create_video_news/0_create text/text/es/final/{number_file}.txt\"\n",
    "        with open(output_path, \"w\", encoding=\"utf-8\") as f:\n",
    "            f.write(cleaned_text)\n",
    "        print(f\"Texto limpiado y guardado en {output_path}.\")\n",
    "    \n",
    "    except FileNotFoundError:\n",
    "        print(f\"El archivo {file_path} no existe.\")\n",
    "    except Exception as e:\n",
    "        print(f\"Ocurrió un error: {e}\")"
   ]
  },
  {
   "cell_type": "code",
   "execution_count": 5,
   "metadata": {},
   "outputs": [
    {
     "name": "stdout",
     "output_type": "stream",
     "text": [
      "Codificación detectada: utf-8\n",
      "Texto limpiado y guardado en /mnt/D8E84E4DE84E2A58/Env_python/Create_video_news/0_create text/text/es/final/1.txt.\n",
      "Codificación detectada: MacRoman\n",
      "Texto limpiado y guardado en /mnt/D8E84E4DE84E2A58/Env_python/Create_video_news/0_create text/text/es/final/2.txt.\n",
      "Codificación detectada: utf-8\n",
      "Texto limpiado y guardado en /mnt/D8E84E4DE84E2A58/Env_python/Create_video_news/0_create text/text/es/final/3.txt.\n",
      "Codificación detectada: utf-8\n",
      "Texto limpiado y guardado en /mnt/D8E84E4DE84E2A58/Env_python/Create_video_news/0_create text/text/es/final/4.txt.\n",
      "Codificación detectada: utf-8\n",
      "Texto limpiado y guardado en /mnt/D8E84E4DE84E2A58/Env_python/Create_video_news/0_create text/text/es/final/5.txt.\n",
      "Codificación detectada: utf-8\n",
      "Texto limpiado y guardado en /mnt/D8E84E4DE84E2A58/Env_python/Create_video_news/0_create text/text/es/final/6.txt.\n",
      "Codificación detectada: utf-8\n",
      "Texto limpiado y guardado en /mnt/D8E84E4DE84E2A58/Env_python/Create_video_news/0_create text/text/es/final/7.txt.\n",
      "Codificación detectada: utf-8\n",
      "Texto limpiado y guardado en /mnt/D8E84E4DE84E2A58/Env_python/Create_video_news/0_create text/text/es/final/8.txt.\n",
      "Codificación detectada: utf-8\n",
      "Texto limpiado y guardado en /mnt/D8E84E4DE84E2A58/Env_python/Create_video_news/0_create text/text/es/final/9.txt.\n"
     ]
    }
   ],
   "source": [
    "# Procesar archivos finales\n",
    "folder_path = '/mnt/D8E84E4DE84E2A58/Env_python/Create_video_news/0_create text/text/es/summaries/'\n",
    "files = [f for f in os.listdir(folder_path) if f.endswith('.txt')]\n",
    "\n",
    "for i, file_name in enumerate(files, start=1):\n",
    "    file_path = os.path.join(folder_path, file_name)\n",
    "    process_text_character(file_path=file_path, number_file=i)\n"
   ]
  }
 ],
 "metadata": {
  "kernelspec": {
   "display_name": "AndTextG3",
   "language": "python",
   "name": "python3"
  },
  "language_info": {
   "codemirror_mode": {
    "name": "ipython",
    "version": 3
   },
   "file_extension": ".py",
   "mimetype": "text/x-python",
   "name": "python",
   "nbconvert_exporter": "python",
   "pygments_lexer": "ipython3",
   "version": "3.9.19"
  }
 },
 "nbformat": 4,
 "nbformat_minor": 2
}
