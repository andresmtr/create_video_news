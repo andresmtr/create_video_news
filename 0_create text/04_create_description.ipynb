{
 "cells": [
  {
   "cell_type": "code",
   "execution_count": 1,
   "metadata": {},
   "outputs": [
    {
     "name": "stderr",
     "output_type": "stream",
     "text": [
      "/home/andresmtr/miniconda3/envs/AndTextG3/lib/python3.9/site-packages/tqdm/auto.py:21: TqdmWarning: IProgress not found. Please update jupyter and ipywidgets. See https://ipywidgets.readthedocs.io/en/stable/user_install.html\n",
      "  from .autonotebook import tqdm as notebook_tqdm\n"
     ]
    }
   ],
   "source": [
    "import os\n",
    "import torch\n",
    "from transformers import pipeline"
   ]
  },
  {
   "cell_type": "code",
   "execution_count": 2,
   "metadata": {},
   "outputs": [],
   "source": [
    "# Ruta donde están los archivos .txt\n",
    "ruta_entrada = \"text/en/final\"\n",
    "# Ruta donde se guardarán los resúmenes\n",
    "ruta_salida = \"text/en/union\""
   ]
  },
  {
   "cell_type": "code",
   "execution_count": 3,
   "metadata": {},
   "outputs": [],
   "source": [
    "# Crear la ruta de salida si no existe\n",
    "os.makedirs(ruta_salida, exist_ok=True)"
   ]
  },
  {
   "cell_type": "code",
   "execution_count": 4,
   "metadata": {},
   "outputs": [],
   "source": [
    "def unir_txts(ruta_entrada, ruta_salida, nombre_salida=\"resultado.txt\"):\n",
    "    # Crear la ruta completa del archivo de salida\n",
    "    ruta_archivo_salida = os.path.join(ruta_salida, nombre_salida)\n",
    "    \n",
    "    try:\n",
    "        # Verificar si la carpeta de entrada existe\n",
    "        if not os.path.exists(ruta_entrada):\n",
    "            print(f\"La ruta de entrada {ruta_entrada} no existe.\")\n",
    "            return\n",
    "        \n",
    "        # Crear la carpeta de salida si no existe\n",
    "        if not os.path.exists(ruta_salida):\n",
    "            os.makedirs(ruta_salida)\n",
    "        \n",
    "        # Obtener todos los archivos .txt de la carpeta de entrada\n",
    "        archivos_txt = [f for f in os.listdir(ruta_entrada) if f.endswith(\".txt\")]\n",
    "        \n",
    "        if not archivos_txt:\n",
    "            print(\"No se encontraron archivos .txt en la ruta de entrada.\")\n",
    "            return\n",
    "        \n",
    "        with open(ruta_archivo_salida, \"w\", encoding=\"utf-8\") as archivo_salida:\n",
    "            for i, archivo in enumerate(archivos_txt):\n",
    "                ruta_archivo = os.path.join(ruta_entrada, archivo)\n",
    "                with open(ruta_archivo, \"r\", encoding=\"utf-8\") as f:\n",
    "                    contenido = f.read()\n",
    "                \n",
    "                archivo_salida.write(contenido)\n",
    "                \n",
    "                # Agregar un salto de página entre archivos, excepto después del último archivo\n",
    "                if i < len(archivos_txt) - 1:\n",
    "                    archivo_salida.write(\"\\n\\f\\n\")\n",
    "        \n",
    "        print(f\"Archivos combinados con éxito en: {ruta_archivo_salida}\")\n",
    "    \n",
    "    except Exception as e:\n",
    "        print(f\"Ocurrió un error: {e}\")"
   ]
  },
  {
   "cell_type": "code",
   "execution_count": 5,
   "metadata": {},
   "outputs": [
    {
     "name": "stdout",
     "output_type": "stream",
     "text": [
      "Archivos combinados con éxito en: text/en/union/resultado.txt\n"
     ]
    }
   ],
   "source": [
    "unir_txts(ruta_entrada, ruta_salida)"
   ]
  },
  {
   "cell_type": "code",
   "execution_count": 6,
   "metadata": {},
   "outputs": [
    {
     "name": "stdout",
     "output_type": "stream",
     "text": [
      "Using device: cuda\n"
     ]
    }
   ],
   "source": [
    "# Configurar el dispositivo para usar GPU si está disponible\n",
    "device = torch.device(\"cuda\" if torch.cuda.is_available() else \"cpu\")\n",
    "print(f\"Using device: {device}\")"
   ]
  },
  {
   "cell_type": "code",
   "execution_count": 7,
   "metadata": {},
   "outputs": [
    {
     "name": "stderr",
     "output_type": "stream",
     "text": [
      "Loading checkpoint shards: 100%|██████████| 2/2 [00:01<00:00,  1.96it/s]\n"
     ]
    }
   ],
   "source": [
    "# Cargar el modelo Llama\n",
    "# Configurar el pipeline para Llama 3.2\n",
    "model_id = \"meta-llama/Llama-3.2-3B-Instruct\"\n",
    "pipe = pipeline(\n",
    "    \"text-generation\",\n",
    "    model=model_id,\n",
    "    torch_dtype=torch.bfloat16,  # Usar bfloat16 para optimizar uso de memoria\n",
    "    device_map=\"auto\"  # Mapear automáticamente a la GPU si está disponible\n",
    ")"
   ]
  },
  {
   "cell_type": "code",
   "execution_count": 8,
   "metadata": {},
   "outputs": [],
   "source": [
    "def process_text(file_path):\n",
    "    try:\n",
    "        # Leer el archivo de texto\n",
    "        with open(file_path, \"r\", encoding=\"utf-8\") as f:\n",
    "            text = f.read()\n",
    "\n",
    "        # Definir el prompt\n",
    "        prompt = f\"With all text Create title and description, the text is about week news: \\n\\n{text}\\n\\n \"\n",
    "\n",
    "        # Generar respuesta con el modelo Llama\n",
    "        response = pipe(\n",
    "            prompt,\n",
    "            max_new_tokens=1024,  # Ajustar según el tamaño del contexto que necesites\n",
    "            temperature=1.0  # Puedes ajustar la temperatura para controlar la creatividad\n",
    "        )\n",
    "\n",
    "        # Obtener el texto generado\n",
    "        generated_text = response[0][\"generated_text\"]\n",
    "\n",
    "        generated_text = generated_text.replace(text, '')\n",
    "\n",
    "        generated_text = generated_text.replace('Create title and description about the next text:', '')\n",
    "\n",
    "        # Guardar el texto en un archivo\n",
    "        with open(\"text/en/union/descri_text_en.txt\", \"w\", encoding=\"utf-8\") as f:\n",
    "            f.write(generated_text)\n",
    "            \n",
    "    except FileNotFoundError:\n",
    "        print(f\"El archivo {file_path} no existe.\")\n",
    "    except Exception as e:\n",
    "        print(f\"Ocurrió un error: {e}\")"
   ]
  },
  {
   "cell_type": "code",
   "execution_count": 9,
   "metadata": {},
   "outputs": [
    {
     "name": "stderr",
     "output_type": "stream",
     "text": [
      "Setting `pad_token_id` to `eos_token_id`:None for open-end generation.\n",
      "Starting from v4.46, the `logits` model output will have the same type as the model (except at train time, where it will always be FP32)\n"
     ]
    }
   ],
   "source": [
    "process_text(file_path='text/en/union/resultado.txt')"
   ]
  },
  {
   "cell_type": "code",
   "execution_count": 10,
   "metadata": {},
   "outputs": [],
   "source": [
    "# Liberar memoria GPU\n",
    "torch.cuda.empty_cache()"
   ]
  }
 ],
 "metadata": {
  "kernelspec": {
   "display_name": "AndTextG3",
   "language": "python",
   "name": "python3"
  },
  "language_info": {
   "codemirror_mode": {
    "name": "ipython",
    "version": 3
   },
   "file_extension": ".py",
   "mimetype": "text/x-python",
   "name": "python",
   "nbconvert_exporter": "python",
   "pygments_lexer": "ipython3",
   "version": "3.9.19"
  }
 },
 "nbformat": 4,
 "nbformat_minor": 2
}
