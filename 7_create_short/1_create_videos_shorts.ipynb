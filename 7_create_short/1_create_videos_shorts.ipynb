{
 "cells": [
  {
   "cell_type": "code",
   "execution_count": 1,
   "metadata": {},
   "outputs": [],
   "source": [
    "import os\n",
    "import random\n",
    "from moviepy.editor import *\n",
    "import moviepy.audio.fx.all as afx\n",
    "from moviepy.video import fx\n",
    "from moviepy.config import change_settings\n",
    "change_settings({\"FFMPEG_BINARY\":\"ffmpeg\"})\n",
    "\n",
    "import whisper\n",
    "\n",
    "# from PIL import Image"
   ]
  },
  {
   "cell_type": "code",
   "execution_count": 2,
   "metadata": {},
   "outputs": [
    {
     "data": {
      "text/plain": [
       "9"
      ]
     },
     "execution_count": 2,
     "metadata": {},
     "output_type": "execute_result"
    }
   ],
   "source": [
    "select_number_of_news = int(input('Select news: '))\n",
    "select_number_of_news"
   ]
  },
  {
   "cell_type": "code",
   "execution_count": 3,
   "metadata": {},
   "outputs": [],
   "source": [
    "select_lang = int(input('Select language: '))\n",
    "\n",
    "if select_lang == 1:\n",
    "    folder_lang = 'english'\n",
    "    lang = 'en'\n",
    "elif select_lang == 2:\n",
    "    folder_lang = 'spanish'\n",
    "    lang = 'es'\n",
    "else:\n",
    "    pass"
   ]
  },
  {
   "cell_type": "code",
   "execution_count": 4,
   "metadata": {},
   "outputs": [],
   "source": [
    "# Configuración\n",
    "carpeta1 = f'/mnt/D8E84E4DE84E2A58/Env_python/Create_video_news/3_extract_img_videos/img_by_number/{select_number_of_news}'\n",
    "carpeta2 = f'/mnt/D8E84E4DE84E2A58/Env_python/Create_video_news/3_extract_img_videos/video_by_number/{select_number_of_news}'\n",
    "audio_musica = f'/mnt/D8E84E4DE84E2A58/backUp_Img_Vid/Intro/History/New_metal.mp3'   # Ruta específica del audio de música\n",
    "audio_voz = f'/mnt/D8E84E4DE84E2A58/Env_python/Create_video_news/2_create_final_audio/output_{lang}_b/{select_number_of_news}/audio_final_{select_number_of_news}.wav' "
   ]
  },
  {
   "cell_type": "code",
   "execution_count": 5,
   "metadata": {},
   "outputs": [
    {
     "name": "stdout",
     "output_type": "stream",
     "text": [
      "Transcribiendo audio con Whisper...\n",
      "Transcripción completada.\n"
     ]
    }
   ],
   "source": [
    "# Transcribir el audio usando Whisper\n",
    "print(\"Transcribiendo audio con Whisper...\")\n",
    "modelo_whisper = whisper.load_model(\"base\")  # Puedes usar \"small\", \"medium\", o \"large\" para mayor precisión\n",
    "resultados = modelo_whisper.transcribe(audio_voz, language=lang)\n",
    "\n",
    "# Extraer segmentos de texto con sus tiempos\n",
    "segmentos = resultados['segments']\n",
    "\n",
    "\n",
    "print(\"Transcripción completada.\")"
   ]
  },
  {
   "cell_type": "code",
   "execution_count": 6,
   "metadata": {},
   "outputs": [],
   "source": [
    "# Configuración global de texto\n",
    "FONT_SIZE = 50\n",
    "MAX_TEXT_WIDTH = 1000  # Ancho máximo del texto\n",
    "LINE_SPACING = 10  # Espaciado entre líneas\n",
    "MAX_LINES = 4  # Máximo de líneas visibles"
   ]
  },
  {
   "cell_type": "code",
   "execution_count": 7,
   "metadata": {},
   "outputs": [],
   "source": [
    "# Función para ajustar tamaño del clip\n",
    "def ajustar_clip(clip):\n",
    "    clip_resized = clip.resize(height=1920) if clip.h / clip.w > 1920 / 1080 else clip.resize(width=1080)\n",
    "    return clip_resized.on_color(\n",
    "        size=(1080, 1920),\n",
    "        color=(0, 0, 0),\n",
    "        pos=(\"center\", \"center\")\n",
    "    )\n"
   ]
  },
  {
   "cell_type": "code",
   "execution_count": 8,
   "metadata": {},
   "outputs": [],
   "source": [
    "# Función para agregar texto sincronizado con tamaño consistente\n",
    "def agregar_texto_sincronizado(clip, texto, duracion):\n",
    "    # Tamaño de fuente fijo\n",
    "    fontsize = 50\n",
    "    # Crear el text clip con ajuste automático dentro del área definida\n",
    "    text_clip = TextClip(\n",
    "        texto,\n",
    "        fontsize=fontsize,\n",
    "        color=\"white\",\n",
    "        font=\"Arial-Bold\",\n",
    "        bg_color=\"black\",\n",
    "        stroke_color=\"black\",\n",
    "        stroke_width=2,\n",
    "        method=\"caption\",  # Ajustar texto con saltos de línea automáticos\n",
    "        size=(1000, None)  # Ancho máximo para el texto, altura automática\n",
    "    ).set_duration(duracion).set_position((\"center\", 1300))  # Mueve el texto más arriba (ajusta 1600 según necesidad)\n",
    "    return CompositeVideoClip([clip, text_clip])\n"
   ]
  },
  {
   "cell_type": "code",
   "execution_count": 9,
   "metadata": {},
   "outputs": [],
   "source": [
    "# Seleccionar archivos aleatorios\n",
    "def selecciona_archivos(carpeta, num_archivos=25):\n",
    "    archivos = [f for f in os.listdir(carpeta) if f.endswith(('.jpg', '.png', '.mp4', '.avi'))]\n",
    "    if not archivos:\n",
    "        raise ValueError(f\"No hay archivos válidos en {carpeta}\")\n",
    "    return random.sample(archivos, min(num_archivos, len(archivos)))"
   ]
  },
  {
   "cell_type": "code",
   "execution_count": 10,
   "metadata": {},
   "outputs": [],
   "source": [
    "carpeta1_archivos = selecciona_archivos(carpeta1)\n",
    "carpeta2_archivos = selecciona_archivos(carpeta2)\n",
    "archivos = carpeta1_archivos + carpeta2_archivos\n",
    "random.shuffle(archivos)"
   ]
  },
  {
   "cell_type": "code",
   "execution_count": 11,
   "metadata": {},
   "outputs": [],
   "source": [
    "# Crear clips sincronizados\n",
    "clips_seleccionados = []\n",
    "for archivo, segmento in zip(archivos, segmentos):\n",
    "    archivo_path = os.path.join(carpeta1 if archivo in carpeta1_archivos else carpeta2, archivo)\n",
    "    texto = segmento['text']\n",
    "    duracion = segmento['end'] - segmento['start']\n",
    "    try:\n",
    "        if archivo.endswith(('.jpg', '.png')):\n",
    "            clip = ImageClip(archivo_path).set_duration(duracion)\n",
    "        elif archivo.endswith(('.mp4', '.avi')):\n",
    "            clip = VideoFileClip(archivo_path).subclip(0, min(duracion, VideoFileClip(archivo_path).duration))\n",
    "        else:\n",
    "            continue\n",
    "        clip = ajustar_clip(clip)\n",
    "        clip_con_texto = agregar_texto_sincronizado(clip, texto, duracion)\n",
    "        clips_seleccionados.append(clip_con_texto)\n",
    "    except Exception as e:\n",
    "        print(f\"Error al procesar el archivo {archivo}: {e}\")"
   ]
  },
  {
   "cell_type": "code",
   "execution_count": 12,
   "metadata": {},
   "outputs": [],
   "source": [
    "# Ajustar duración total del video\n",
    "audio_principal_voz = AudioFileClip(audio_voz)\n",
    "duracion_audio_principal = audio_principal_voz.duration\n",
    "suma_duracion_clips = sum([clip.duration for clip in clips_seleccionados])"
   ]
  },
  {
   "cell_type": "code",
   "execution_count": 13,
   "metadata": {},
   "outputs": [],
   "source": [
    "if suma_duracion_clips > duracion_audio_principal:\n",
    "    duracion_acumulada = 0\n",
    "    clips_finales = []\n",
    "    for clip in clips_seleccionados:\n",
    "        if duracion_acumulada + clip.duration > duracion_audio_principal:\n",
    "            clip = clip.subclip(0, duracion_audio_principal - duracion_acumulada)\n",
    "        duracion_acumulada += clip.duration\n",
    "        clips_finales.append(clip)\n",
    "        if duracion_acumulada >= duracion_audio_principal:\n",
    "            break\n",
    "else:\n",
    "    factor_ajuste = duracion_audio_principal / suma_duracion_clips\n",
    "    clips_finales = [clip.set_duration(clip.duration * factor_ajuste) for clip in clips_seleccionados]\n",
    "\n",
    "\n",
    "\n"
   ]
  },
  {
   "cell_type": "code",
   "execution_count": 14,
   "metadata": {},
   "outputs": [],
   "source": [
    "# Combinar audio principal con música de fondo\n",
    "try:\n",
    "    audio_fondo = AudioFileClip(audio_musica)\n",
    "    if audio_fondo.duration < duracion_audio_principal:\n",
    "        n_repeats = int(duracion_audio_principal // audio_fondo.duration) + 1\n",
    "        audio_fondo = concatenate_audioclips([audio_fondo] * n_repeats)\n",
    "    audio_fondo = audio_fondo.subclip(0, duracion_audio_principal).volumex(0.1)\n",
    "    final_audio = CompositeAudioClip([audio_fondo, audio_principal_voz.volumex(1.8)])\n",
    "except Exception as e:\n",
    "    print(f\"Error al combinar los audios: {e}\")\n",
    "    final_audio = audio_principal_voz"
   ]
  },
  {
   "cell_type": "code",
   "execution_count": 15,
   "metadata": {},
   "outputs": [
    {
     "name": "stdout",
     "output_type": "stream",
     "text": [
      "Moviepy - Building video videos_by_news_short/9.mp4.\n",
      "MoviePy - Writing audio in 9TEMP_MPY_wvf_snd.mp4\n"
     ]
    },
    {
     "name": "stderr",
     "output_type": "stream",
     "text": [
      "                                                                   \r"
     ]
    },
    {
     "name": "stdout",
     "output_type": "stream",
     "text": [
      "MoviePy - Done.\n",
      "Moviepy - Writing video videos_by_news_short/9.mp4\n",
      "\n"
     ]
    },
    {
     "name": "stderr",
     "output_type": "stream",
     "text": [
      "                                                              \r"
     ]
    },
    {
     "name": "stdout",
     "output_type": "stream",
     "text": [
      "Moviepy - Done !\n",
      "Moviepy - video ready videos_by_news_short/9.mp4\n",
      "¡Video creado con éxito!\n"
     ]
    }
   ],
   "source": [
    "# Crear y guardar el video final\n",
    "try:\n",
    "    final_video = concatenate_videoclips(clips_finales, method=\"compose\").set_audio(final_audio)\n",
    "    final_video.write_videofile(f'videos_by_news_short/{select_number_of_news}.mp4', codec=\"h264_nvenc\", audio_codec=\"aac\", fps=24)\n",
    "    print(\"¡Video creado con éxito!\")\n",
    "except Exception as e:\n",
    "    print(f\"Error al guardar el video: {e}\")"
   ]
  }
 ],
 "metadata": {
  "kernelspec": {
   "display_name": "AndMoviepy",
   "language": "python",
   "name": "python3"
  },
  "language_info": {
   "codemirror_mode": {
    "name": "ipython",
    "version": 3
   },
   "file_extension": ".py",
   "mimetype": "text/x-python",
   "name": "python",
   "nbconvert_exporter": "python",
   "pygments_lexer": "ipython3",
   "version": "3.10.14"
  }
 },
 "nbformat": 4,
 "nbformat_minor": 2
}
