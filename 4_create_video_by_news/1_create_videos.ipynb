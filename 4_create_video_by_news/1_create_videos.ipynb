{
 "cells": [
  {
   "cell_type": "code",
   "execution_count": 1,
   "metadata": {},
   "outputs": [],
   "source": [
    "import os\n",
    "import random\n",
    "from moviepy.editor import *\n",
    "import moviepy.audio.fx.all as afx\n",
    "from moviepy.video import fx\n",
    "from moviepy.config import change_settings\n",
    "change_settings({\"FFMPEG_BINARY\":\"ffmpeg\"})\n",
    "# from PIL import Image"
   ]
  },
  {
   "cell_type": "code",
   "execution_count": 2,
   "metadata": {},
   "outputs": [],
   "source": [
    "select_number_of_news = int(input('Select news: '))"
   ]
  },
  {
   "cell_type": "code",
   "execution_count": 3,
   "metadata": {},
   "outputs": [],
   "source": [
    "select_lang = int(input('Select language: '))\n",
    "\n",
    "if select_lang == 1:\n",
    "    folder_lang = 'english'\n",
    "    lang = 'en'\n",
    "elif select_lang == 2:\n",
    "    folder_lang = 'spanish'\n",
    "    lang = 'es'\n",
    "else:\n",
    "    pass"
   ]
  },
  {
   "cell_type": "code",
   "execution_count": 4,
   "metadata": {},
   "outputs": [],
   "source": [
    "# Configuración\n",
    "carpeta1 = f'/mnt/D8E84E4DE84E2A58/Env_python/Create_video_news/3_extract_img_videos/img_by_number/{select_number_of_news}'\n",
    "carpeta2 = f'/mnt/D8E84E4DE84E2A58/Env_python/Create_video_news/3_extract_img_videos/video_by_number/{select_number_of_news}'\n",
    "audio_musica = f'/mnt/D8E84E4DE84E2A58/backUp_Img_Vid/Intro/History/New_metal.mp3'   # Ruta específica del audio de música\n",
    "audio_voz = f'/mnt/D8E84E4DE84E2A58/Env_python/Create_video_news/1_create_first_audio/output_{lang}/{select_number_of_news}/audio_final_{select_number_of_news}.wav' "
   ]
  },
  {
   "cell_type": "code",
   "execution_count": 5,
   "metadata": {},
   "outputs": [],
   "source": [
    "# Función para seleccionar archivos aleatorios de cada carpeta\n",
    "def selecciona_archivos(carpeta, num_archivos=25):\n",
    "    archivos = [f for f in os.listdir(carpeta) if f.endswith(('.jpg','.png', '.gif', '.mp4', '.avi'))]\n",
    "    if len(archivos) == 0:\n",
    "        raise ValueError(f'La carpeta {carpeta} está vacía o no contiene archivos válidos.')\n",
    "    return random.sample(archivos, min(num_archivos, len(archivos)))"
   ]
  },
  {
   "cell_type": "code",
   "execution_count": 6,
   "metadata": {},
   "outputs": [],
   "source": [
    "# Selección de archivos aleatorios para cada carpeta\n",
    "carpeta1_archivos = selecciona_archivos(carpeta1)\n",
    "carpeta2_archivos = selecciona_archivos(carpeta2)"
   ]
  },
  {
   "cell_type": "code",
   "execution_count": 7,
   "metadata": {},
   "outputs": [],
   "source": [
    "# Obtener duración del audio principal\n",
    "audio_principal_voz = AudioFileClip(audio_voz)\n",
    "duracion_audio_principal = audio_principal_voz.duration"
   ]
  },
  {
   "cell_type": "code",
   "execution_count": 8,
   "metadata": {},
   "outputs": [],
   "source": [
    "# Crear una lista para almacenar los clips seleccionados\n",
    "clips_seleccionados = []\n",
    "\n",
    "# Obtener todos los archivos de las carpetas\n",
    "archivos = carpeta1_archivos + carpeta2_archivos\n",
    "random.shuffle(archivos)  # Mezclar los archivos para alternar entre fotos y videos\n",
    "\n",
    "# Procesar los archivos seleccionados y añadirlos como clips\n",
    "for archivo in archivos:\n",
    "    archivo_path = os.path.join(carpeta1 if archivo in carpeta1_archivos else carpeta2, archivo)\n",
    "    \n",
    "    if archivo.endswith(('.jpg', '.png')):\n",
    "        # Agregar foto al video con duración aleatoria\n",
    "        try:\n",
    "            # Redimensionar imagen a 1920x1080 usando MoviePy\n",
    "            foto = ImageClip(archivo_path).set_duration(random.uniform(2, 5)).resize((1920, 1080))\n",
    "            if not hasattr(foto, 'duration') or foto.duration is None:\n",
    "                foto = foto.set_duration(10)  # Asignar duración predeterminada si es necesario\n",
    "            clips_seleccionados.append(foto)\n",
    "        except Exception as e:\n",
    "            print(f\"Error al procesar la imagen {archivo}: {e}\")\n",
    "    \n",
    "    elif archivo.endswith(('.mp4', '.avi')):\n",
    "        # Agregar video al video con duración ajustada\n",
    "        try:\n",
    "            # Redimensionar video a 1920x1080 usando MoviePy\n",
    "            clip = VideoFileClip(archivo_path).resize((1920, 1080))\n",
    "            clip_duracion = min(random.uniform(3, 7), clip.duration)\n",
    "            if not hasattr(clip, 'duration') or clip.duration is None:\n",
    "                clip = clip.set_duration(clip_duracion)\n",
    "            clips_seleccionados.append(clip)\n",
    "        except Exception as e:\n",
    "            print(f\"Error al procesar el video {archivo}: {e}\")"
   ]
  },
  {
   "cell_type": "code",
   "execution_count": 9,
   "metadata": {},
   "outputs": [],
   "source": [
    "# Cargar los clips de audio\n",
    "try:\n",
    "    # Cargar los clips de audio\n",
    "    audio_principal_voz = AudioFileClip(audio_voz)\n",
    "    audio_fondo = AudioFileClip(audio_musica)\n",
    "\n",
    "    # Repetir la música de fondo para que tenga la misma duración que el audio de voz\n",
    "    if audio_fondo.duration < audio_principal_voz.duration:\n",
    "        # Calcular cuántas veces repetir la música de fondo\n",
    "        n_repeats = int(audio_principal_voz.duration // audio_fondo.duration) + 1\n",
    "        audio_fondo_repetida = concatenate_audioclips([audio_fondo] * n_repeats)\n",
    "        # Ajustar la duración\n",
    "        audio_fondo_repetida = audio_fondo_repetida.subclip(0, audio_principal_voz.duration)\n",
    "    else:\n",
    "        # Ajustar la duración si es más larga que el audio de voz\n",
    "        audio_fondo_repetida = audio_fondo.subclip(0, audio_principal_voz.duration)\n",
    "\n",
    "    # Ajustar volúmenes\n",
    "    audio_fondo_repetida = audio_fondo_repetida.volumex(0.1)  # Bajar volumen de fondo\n",
    "    audio_principal_voz = audio_principal_voz.volumex(1.8)    # Subir volumen de voz\n",
    "\n",
    "    # Combina los audios de voz y música (ajusta si es necesario)\n",
    "    final_audio = CompositeAudioClip([audio_fondo_repetida, audio_principal_voz])\n",
    "    \n",
    "except Exception as e:\n",
    "    print(f\"Error al combinar los audios: {e}\")\n",
    "    final_audio = audio_principal_voz"
   ]
  },
  {
   "cell_type": "code",
   "execution_count": 10,
   "metadata": {},
   "outputs": [],
   "source": [
    "# Verificar si la suma de las duraciones de los clips es menor a la duración del audio principal\n",
    "suma_duracion_clips = sum([clip.duration for clip in clips_seleccionados])\n",
    "\n",
    "# Función para seleccionar y procesar clips, priorizando mp4\n",
    "def seleccionar_y_procesar_clips(carpeta1_archivos, carpeta2_archivos, carpeta1, carpeta2, duracion_restante):\n",
    "    nuevos_clips = []\n",
    "    \n",
    "    # Priorizar archivos .mp4\n",
    "    archivos_prioritarios = [archivo for archivo in carpeta1_archivos + carpeta2_archivos \n",
    "                             if archivo.endswith('.mp4')]\n",
    "    \n",
    "    # Luego, considerar los demás archivos\n",
    "    archivos_restantes = [archivo for archivo in carpeta1_archivos + carpeta2_archivos\n",
    "                          if not archivo.endswith('.mp4')]\n",
    "    \n",
    "    # Mezclar ambos conjuntos de archivos\n",
    "    random.shuffle(archivos_prioritarios)\n",
    "    random.shuffle(archivos_restantes)\n",
    "    \n",
    "    # Procesar primero los archivos prioritarios\n",
    "    for archivo in archivos_prioritarios:\n",
    "        archivo_path = os.path.join(carpeta1 if archivo in carpeta1_archivos else carpeta2, archivo)\n",
    "\n",
    "        try:\n",
    "            # Procesar archivos .mp4 (videos)\n",
    "            clip = VideoFileClip(archivo_path).resize((1920, 1080))\n",
    "            clip_duracion = min(random.uniform(3, 7), clip.duration)\n",
    "            if not hasattr(clip, 'duration') or clip.duration is None:\n",
    "                clip = clip.set_duration(clip_duracion)\n",
    "            nuevos_clips.append(clip)\n",
    "        except Exception as e:\n",
    "            print(f\"Error al procesar el video {archivo}: {e}\")\n",
    "\n",
    "        # Si la duración total alcanza o supera la duración restante, detener la selección\n",
    "        if sum([clip.duration for clip in nuevos_clips]) >= duracion_restante:\n",
    "            return nuevos_clips\n",
    "    \n",
    "    # Procesar archivos restantes si aún hay espacio para más clips\n",
    "    for archivo in archivos_restantes:\n",
    "        archivo_path = os.path.join(carpeta1 if archivo in carpeta1_archivos else carpeta2, archivo)\n",
    "\n",
    "        if archivo.endswith(('.jpg', '.png')):\n",
    "            # Agregar foto al video con duración aleatoria\n",
    "            try:\n",
    "                foto = ImageClip(archivo_path).set_duration(random.uniform(2, 5)).resize((1920, 1080))\n",
    "                if not hasattr(foto, 'duration') or foto.duration is None:\n",
    "                    foto = foto.set_duration(3)\n",
    "                nuevos_clips.append(foto)\n",
    "            except Exception as e:\n",
    "                print(f\"Error al procesar la imagen {archivo}: {e}\")\n",
    "\n",
    "        elif archivo.endswith(('.avi', '.gif')):\n",
    "            # Agregar video al video con duración ajustada\n",
    "            try:\n",
    "                clip = VideoFileClip(archivo_path).resize((1920, 1080))\n",
    "                clip_duracion = min(random.uniform(3, 7), clip.duration)\n",
    "                if not hasattr(clip, 'duration') or clip.duration is None:\n",
    "                    clip = clip.set_duration(clip_duracion)\n",
    "                nuevos_clips.append(clip)\n",
    "            except Exception as e:\n",
    "                print(f\"Error al procesar el video {archivo}: {e}\")\n",
    "        \n",
    "        if sum([clip.duration for clip in nuevos_clips]) >= duracion_restante:\n",
    "            break\n",
    "\n",
    "    return nuevos_clips\n",
    "\n",
    "# Mientras la suma de las duraciones de los clips sea menor que la duración del audio principal\n",
    "while suma_duracion_clips < duracion_audio_principal:\n",
    "    # Calcular la duración restante\n",
    "    duracion_restante = duracion_audio_principal - suma_duracion_clips\n",
    "    \n",
    "    # Seleccionar nuevas imágenes y videos aleatoriamente\n",
    "    nuevos_clips = seleccionar_y_procesar_clips(carpeta1_archivos, carpeta2_archivos, carpeta1, carpeta2, duracion_restante)\n",
    "    \n",
    "    # Añadir los nuevos clips a la lista de clips seleccionados\n",
    "    clips_seleccionados.extend(nuevos_clips)\n",
    "    \n",
    "    # Actualizar la suma de las duraciones de los clips\n",
    "    suma_duracion_clips = sum([clip.duration for clip in clips_seleccionados])\n",
    "\n",
    "# Ajustar la duración total para que coincida exactamente con la duración del audio principal\n",
    "factor_ajuste = duracion_audio_principal / suma_duracion_clips\n",
    "clips_seleccionados = [clip.set_duration(clip.duration * factor_ajuste) for clip in clips_seleccionados]\n"
   ]
  },
  {
   "cell_type": "code",
   "execution_count": 11,
   "metadata": {},
   "outputs": [],
   "source": [
    "# Concatenar los clips y crear el video final\n",
    "try:\n",
    "    final_video = concatenate_videoclips(clips_seleccionados, method=\"compose\").set_audio(final_audio)\n",
    "except Exception as e:\n",
    "    print(f\"Error al concatenar los clips: {e}\")\n",
    "    raise"
   ]
  },
  {
   "cell_type": "code",
   "execution_count": 12,
   "metadata": {},
   "outputs": [],
   "source": [
    "# Verificar y asignar FPS si no está definido\n",
    "if not hasattr(final_video, 'fps') or final_video.fps is None:\n",
    "    final_video = final_video.set_fps(24)  # Asignar un valor predeterminado de FPS"
   ]
  },
  {
   "cell_type": "code",
   "execution_count": 13,
   "metadata": {},
   "outputs": [
    {
     "name": "stdout",
     "output_type": "stream",
     "text": [
      "Moviepy - Building video videos_by_news/7.mp4.\n",
      "MoviePy - Writing audio in 7TEMP_MPY_wvf_snd.mp4\n"
     ]
    },
    {
     "name": "stderr",
     "output_type": "stream",
     "text": [
      "                                                                      \r"
     ]
    },
    {
     "name": "stdout",
     "output_type": "stream",
     "text": [
      "MoviePy - Done.\n",
      "Moviepy - Writing video videos_by_news/7.mp4\n",
      "\n"
     ]
    },
    {
     "name": "stderr",
     "output_type": "stream",
     "text": [
      "                                                                \r"
     ]
    },
    {
     "name": "stdout",
     "output_type": "stream",
     "text": [
      "Moviepy - Done !\n",
      "Moviepy - video ready videos_by_news/7.mp4\n",
      "¡Listo! Video automático creado con éxito.\n"
     ]
    }
   ],
   "source": [
    "# Guardar el video automático\n",
    "try:\n",
    "    final_video.write_videofile(f'videos_by_news/{select_number_of_news}.mp4', codec=\"h264_nvenc\", audio_codec=\"aac\", fps=24)\n",
    "    # final_video.write_videofile(f'videos_by_news/{select_number_of_news}.mp4', codec=\"libx264\", audio_codec=\"aac\", fps=24)\n",
    "    print(\"¡Listo! Video automático creado con éxito.\")\n",
    "except Exception as e:\n",
    "    print(f\"Error al guardar el video: {e}\")"
   ]
  }
 ],
 "metadata": {
  "kernelspec": {
   "display_name": "AndMoviepy",
   "language": "python",
   "name": "python3"
  },
  "language_info": {
   "codemirror_mode": {
    "name": "ipython",
    "version": 3
   },
   "file_extension": ".py",
   "mimetype": "text/x-python",
   "name": "python",
   "nbconvert_exporter": "python",
   "pygments_lexer": "ipython3",
   "version": "3.10.14"
  }
 },
 "nbformat": 4,
 "nbformat_minor": 2
}
