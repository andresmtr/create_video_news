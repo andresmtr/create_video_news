{
 "cells": [
  {
   "cell_type": "code",
   "execution_count": 1,
   "metadata": {},
   "outputs": [],
   "source": [
    "import os\n",
    "import cv2\n",
    "import numpy as np\n",
    "from rembg import remove\n",
    "import random"
   ]
  },
  {
   "cell_type": "code",
   "execution_count": 2,
   "metadata": {},
   "outputs": [],
   "source": [
    "def add_text_centered(img, text, font, font_scale, color, thickness, bg_color, offset_y=0):\n",
    "    \"\"\"\n",
    "    Adds centered text to an image with a background rectangle.\n",
    "    \n",
    "    Args:\n",
    "        img: The image to draw on.\n",
    "        text: The text to add.\n",
    "        font: The font to use.\n",
    "        font_scale: The scale of the font.\n",
    "        color: The text color (BGR).\n",
    "        thickness: The thickness of the text.\n",
    "        bg_color: The background color (BGR) for the text.\n",
    "        offset_y: Vertical offset for the text position.\n",
    "    \n",
    "    Returns:\n",
    "        The image with the centered text.\n",
    "    \"\"\"\n",
    "    text_size = cv2.getTextSize(text, font, font_scale, thickness)[0]\n",
    "    text_width, text_height = text_size\n",
    "    img_h, img_w = img.shape[:2]\n",
    "\n",
    "    # Calculate the position to center the text\n",
    "    x = (img_w - text_width) // 2\n",
    "    y = (img_h + text_height) // 2 + offset_y\n",
    "\n",
    "    # Draw background rectangle\n",
    "    padding = 10\n",
    "    cv2.rectangle(\n",
    "        img,\n",
    "        (x - padding, y - text_height - padding),\n",
    "        (x + text_width + padding, y + padding),\n",
    "        bg_color,\n",
    "        cv2.FILLED,\n",
    "    )\n",
    "\n",
    "    # Add the text on top of the rectangle\n",
    "    cv2.putText(img, text, (x, y), font, font_scale, color, thickness, cv2.LINE_AA)\n",
    "    return img\n"
   ]
  },
  {
   "cell_type": "code",
   "execution_count": 3,
   "metadata": {},
   "outputs": [],
   "source": [
    "def add_image(base_img, img_to_add, pos):\n",
    "    \"\"\"Adds an image to the base image at a specific position.\"\"\"\n",
    "    x, y = pos\n",
    "    h, w = img_to_add.shape[:2]\n",
    "    base_h, base_w = base_img.shape[:2]\n",
    "    \n",
    "    # Ensure the image fits within the base image\n",
    "    if y + h > base_h or x + w > base_w:\n",
    "        h = min(h, base_h - y)\n",
    "        w = min(w, base_w - x)\n",
    "        img_to_add = cv2.resize(img_to_add, (w, h))\n",
    "    \n",
    "    # Add the image with transparency if available\n",
    "    for c in range(3):  # Assuming RGB\n",
    "        base_img[y:y+h, x:x+w, c] = (\n",
    "            img_to_add[:, :, c] * (img_to_add[:, :, 3] / 255.0) +\n",
    "            base_img[y:y+h, x:x+w, c] * (1.0 - img_to_add[:, :, 3] / 255.0)\n",
    "        )\n",
    "    return base_img"
   ]
  },
  {
   "cell_type": "code",
   "execution_count": 4,
   "metadata": {},
   "outputs": [],
   "source": [
    "def remove_background(image_path):\n",
    "    \"\"\"Removes the background from an image.\"\"\"\n",
    "    with open(image_path, \"rb\") as f:\n",
    "        img_bytes = f.read()\n",
    "    try:\n",
    "        result = remove(img_bytes)\n",
    "        return cv2.imdecode(np.frombuffer(result, np.uint8), cv2.IMREAD_UNCHANGED)\n",
    "    except Exception as e:\n",
    "        print(f\"Error processing {image_path}: {e}\")\n",
    "        return None"
   ]
  },
  {
   "cell_type": "code",
   "execution_count": 5,
   "metadata": {},
   "outputs": [],
   "source": [
    "# def generate_random_positions(base_img, img_shapes, padding=10, max_attempts=50000):\n",
    "#     \"\"\"\n",
    "#     Generates random positions for images to be placed on the base image.\n",
    "#     \"\"\"\n",
    "#     base_h, base_w = base_img.shape[:2]\n",
    "#     resized_shapes = []\n",
    "#     positions = []\n",
    "\n",
    "#     for img_shape in img_shapes:\n",
    "#         h, w = img_shape[:2]\n",
    "\n",
    "#         # Resize if the image exceeds the base size\n",
    "#         if h > base_h or w > base_w:\n",
    "#             scale = min(base_h / h, base_w / w) * 0.2  # Scale proportionally with margin\n",
    "#             h, w = int(h * scale), int(w * scale)\n",
    "\n",
    "#         resized_shapes.append((h, w))\n",
    "\n",
    "#         # Find a valid position\n",
    "#         attempts = 0\n",
    "#         while attempts < max_attempts:\n",
    "#             x = random.randint(0, base_w - w) if base_w - w > 0 else 0\n",
    "#             y = random.randint(0, base_h - h) if base_h - h > 0 else 0\n",
    "\n",
    "#             # Check for overlap\n",
    "#             if not any(\n",
    "#                 (abs(x - px) < w + padding and abs(y - py) < h + padding)\n",
    "#                 for px, py in positions\n",
    "#             ):\n",
    "#                 positions.append((x, y))\n",
    "#                 break\n",
    "#             attempts += 1\n",
    "\n",
    "#         # If no space is found, resize the image and retry\n",
    "#         if attempts == max_attempts:\n",
    "#             print(f\"Warning: Could not place image {img_shape}. Reducing size.\")\n",
    "#             scale = 0.5\n",
    "#             h, w = int(h * scale), int(w * scale)\n",
    "#             resized_shapes[-1] = (h, w)\n",
    "#             attempts = 0\n",
    "\n",
    "#     return positions, resized_shapes\n",
    "\n",
    "def generate_random_positions(base_img, img_shapes, padding=10, max_attempts=50000):\n",
    "    \"\"\"\n",
    "    Generates random positions for images to be placed on the base image.\n",
    "    \"\"\"\n",
    "    base_h, base_w = base_img.shape[:2]\n",
    "    resized_shapes = []\n",
    "    positions = []\n",
    "\n",
    "    for img_shape in img_shapes:\n",
    "        h, w = img_shape[:2]\n",
    "\n",
    "        # Resize if the image exceeds the base size\n",
    "        if h > base_h or w > base_w:\n",
    "            scale = min(base_h / h, base_w / w) * 0.2  # Scale proportionally with margin\n",
    "            h, w = int(h * scale), int(w * scale)\n",
    "\n",
    "        resized_shapes.append((h, w))\n",
    "\n",
    "        # Find a valid position\n",
    "        attempts = 0\n",
    "        while attempts < max_attempts:\n",
    "            x = random.randint(0, base_w - w) if base_w - w > 0 else 0\n",
    "            y = random.randint(0, base_h - h) if base_h - h > 0 else 0\n",
    "\n",
    "            # Check for overlap\n",
    "            if not any(\n",
    "                (abs(x - px) < w + padding and abs(y - py) < h + padding)\n",
    "                for px, py in positions\n",
    "            ):\n",
    "                positions.append((x, y))\n",
    "                break\n",
    "            attempts += 1\n",
    "\n",
    "        # If no space is found, resize the image and retry\n",
    "        if attempts == max_attempts:\n",
    "            print(f\"Warning: Could not place image {img_shape}. Reducing size.\")\n",
    "            scale = 0.5\n",
    "            h, w = int(h * scale), int(w * scale)\n",
    "            resized_shapes[-1] = (h, w)\n",
    "            attempts = 0\n",
    "\n",
    "    return positions, resized_shapes"
   ]
  },
  {
   "cell_type": "code",
   "execution_count": 6,
   "metadata": {},
   "outputs": [],
   "source": [
    "base_img = cv2.imread(\"base_image.png\")\n",
    "base_img = cv2.resize(base_img, (1280, 720)) "
   ]
  },
  {
   "cell_type": "code",
   "execution_count": 7,
   "metadata": {},
   "outputs": [],
   "source": [
    "texto = input('Ingrese el título para el collage: ')"
   ]
  },
  {
   "cell_type": "code",
   "execution_count": 8,
   "metadata": {},
   "outputs": [],
   "source": [
    "name_channel = input('Ingrese el nombre del canal: ')"
   ]
  },
  {
   "cell_type": "code",
   "execution_count": 9,
   "metadata": {},
   "outputs": [],
   "source": [
    "# Process images from folder\n",
    "carpeta = \"/mnt/D8E84E4DE84E2A58/Env_python/Create_video_news/6_create_portada/imagenes\"\n",
    "archivos = os.listdir(carpeta)\n",
    "image_paths = [os.path.join(carpeta, archivo) for archivo in archivos if os.path.isfile(os.path.join(carpeta, archivo))]\n"
   ]
  },
  {
   "cell_type": "code",
   "execution_count": 10,
   "metadata": {},
   "outputs": [],
   "source": [
    "images = []\n",
    "for path in image_paths:\n",
    "    img = remove_background(path)\n",
    "    if img is not None:\n",
    "        images.append(img)\n",
    "\n",
    "if not images:\n",
    "    raise ValueError(\"No se pudieron procesar imágenes válidas. Verifica la carpeta de entrada.\")\n"
   ]
  },
  {
   "cell_type": "code",
   "execution_count": 11,
   "metadata": {},
   "outputs": [
    {
     "name": "stdout",
     "output_type": "stream",
     "text": [
      "Warning: Could not place image (400, 668, 4). Reducing size.\n",
      "Warning: Could not place image (576, 1024, 4). Reducing size.\n"
     ]
    }
   ],
   "source": [
    "# Generate random positions\n",
    "positions, resized_shapes = generate_random_positions(base_img, [img.shape for img in images])\n"
   ]
  },
  {
   "cell_type": "code",
   "execution_count": 12,
   "metadata": {},
   "outputs": [],
   "source": [
    "# Resize images\n",
    "images_resized = [\n",
    "    cv2.resize(img, (w, h)) for img, (h, w) in zip(images, resized_shapes)\n",
    "]\n"
   ]
  },
  {
   "cell_type": "code",
   "execution_count": 13,
   "metadata": {},
   "outputs": [],
   "source": [
    "# Add images to base image\n",
    "for img, pos in zip(images_resized, positions):\n",
    "    base_img = add_image(base_img, img, pos)"
   ]
  },
  {
   "cell_type": "code",
   "execution_count": 14,
   "metadata": {},
   "outputs": [],
   "source": [
    "# Add centered text over the images\n",
    "font = cv2.FONT_HERSHEY_SIMPLEX\n",
    "font_scale = 1\n",
    "text_color = (255, 255, 255)  # White\n",
    "bg_color = (0, 0, 0)  # Black\n",
    "thickness = 2"
   ]
  },
  {
   "cell_type": "code",
   "execution_count": 15,
   "metadata": {},
   "outputs": [],
   "source": [
    "base_img = add_text_centered(base_img, texto, font, font_scale, text_color, thickness, bg_color, offset_y=-30)\n",
    "base_img = add_text_centered(base_img, name_channel, font, font_scale, text_color, thickness, bg_color, offset_y=30)\n"
   ]
  },
  {
   "cell_type": "code",
   "execution_count": 16,
   "metadata": {},
   "outputs": [
    {
     "name": "stdout",
     "output_type": "stream",
     "text": [
      "Miniatura creada y guardada como 'thumbnail.jpg'.\n"
     ]
    }
   ],
   "source": [
    "# Save final thumbnail\n",
    "cv2.imwrite(\"thumbnail.jpg\", base_img)\n",
    "print(\"Miniatura creada y guardada como 'thumbnail.jpg'.\")"
   ]
  }
 ],
 "metadata": {
  "kernelspec": {
   "display_name": "Andcv2",
   "language": "python",
   "name": "python3"
  },
  "language_info": {
   "codemirror_mode": {
    "name": "ipython",
    "version": 3
   },
   "file_extension": ".py",
   "mimetype": "text/x-python",
   "name": "python",
   "nbconvert_exporter": "python",
   "pygments_lexer": "ipython3",
   "version": "3.10.15"
  }
 },
 "nbformat": 4,
 "nbformat_minor": 2
}
