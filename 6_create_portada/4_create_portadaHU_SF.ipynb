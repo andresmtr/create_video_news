{
 "cells": [
  {
   "cell_type": "code",
   "execution_count": 1,
   "metadata": {},
   "outputs": [
    {
     "name": "stderr",
     "output_type": "stream",
     "text": [
      "/home/andresmtr/miniconda3/envs/AndTextVideo/lib/python3.10/site-packages/tqdm/auto.py:21: TqdmWarning: IProgress not found. Please update jupyter and ipywidgets. See https://ipywidgets.readthedocs.io/en/stable/user_install.html\n",
      "  from .autonotebook import tqdm as notebook_tqdm\n"
     ]
    }
   ],
   "source": [
    "import os\n",
    "import random\n",
    "from diffusers import StableDiffusionPipeline\n",
    "from PIL import Image, ImageDraw, ImageFont\n",
    "from rembg import remove\n",
    "import torch"
   ]
  },
  {
   "cell_type": "code",
   "execution_count": 2,
   "metadata": {},
   "outputs": [
    {
     "name": "stdout",
     "output_type": "stream",
     "text": [
      "cuda\n"
     ]
    }
   ],
   "source": [
    "# Get device\n",
    "device = \"cuda\" if torch.cuda.is_available() else \"cpu\"\n",
    "print(device)"
   ]
  },
  {
   "cell_type": "code",
   "execution_count": 3,
   "metadata": {},
   "outputs": [
    {
     "name": "stderr",
     "output_type": "stream",
     "text": [
      "Loading pipeline components...:  14%|█▍        | 1/7 [00:00<00:00,  6.94it/s]/home/andresmtr/miniconda3/envs/AndTextVideo/lib/python3.10/site-packages/transformers/tokenization_utils_base.py:1617: FutureWarning: `clean_up_tokenization_spaces` was not set. It will be set to `True` by default. This behavior will be deprecated in transformers v4.45, and will be then set to `False` by default. For more details check this issue: https://github.com/huggingface/transformers/issues/31884\n",
      "  warnings.warn(\n",
      "Loading pipeline components...: 100%|██████████| 7/7 [00:00<00:00, 15.16it/s]\n"
     ]
    }
   ],
   "source": [
    "# Configurar el pipeline de Stable Diffusion\n",
    "pipeline = StableDiffusionPipeline.from_pretrained(\"runwayml/stable-diffusion-v1-5\").to(\"cuda\")\n"
   ]
  },
  {
   "cell_type": "code",
   "execution_count": 4,
   "metadata": {},
   "outputs": [],
   "source": [
    "# Constantes para la miniatura\n",
    "RESOLUTION = (1280, 720)  # Resolución estándar de miniatura de YouTube"
   ]
  },
  {
   "cell_type": "code",
   "execution_count": 5,
   "metadata": {},
   "outputs": [],
   "source": [
    "# Función para eliminar el fondo de una imagen\n",
    "def remove_background(image_path, output_path):\n",
    "    with open(image_path, \"rb\") as inp_file:\n",
    "        img_data = remove(inp_file.read())\n",
    "    with open(output_path, \"wb\") as out_file:\n",
    "        out_file.write(img_data)\n",
    "    return output_path"
   ]
  },
  {
   "cell_type": "code",
   "execution_count": 6,
   "metadata": {},
   "outputs": [],
   "source": [
    "# Función para seleccionar una imagen aleatoria de una carpeta\n",
    "def get_random_image(folder_path):\n",
    "    images = [os.path.join(folder_path, f) for f in os.listdir(folder_path) if f.endswith(('.png', '.jpg', '.jpeg'))]\n",
    "    return random.choice(images) if images else None"
   ]
  },
  {
   "cell_type": "code",
   "execution_count": 7,
   "metadata": {},
   "outputs": [],
   "source": [
    "def get_unique_images(folder_path, num_images):\n",
    "    images = [os.path.join(folder_path, f) for f in os.listdir(folder_path) if f.endswith(('.png', '.jpg', '.jpeg'))]\n",
    "    if len(images) < num_images:  # Si hay menos imágenes que las solicitadas\n",
    "        return images  # Devuelve todas las disponibles\n",
    "    return random.sample(images, num_images)"
   ]
  },
  {
   "cell_type": "code",
   "execution_count": 8,
   "metadata": {},
   "outputs": [],
   "source": [
    "# Generar una imagen de fondo relacionada con el tema\n",
    "def generate_background(prompt, output_path):\n",
    "    # Establecer la resolución 1280x720 directamente en el pipeline\n",
    "    image = pipeline(prompt, height=720, width=1280).images[0]\n",
    "    image.save(output_path)\n",
    "    return output_path"
   ]
  },
  {
   "cell_type": "code",
   "execution_count": 9,
   "metadata": {},
   "outputs": [],
   "source": [
    "import random\n",
    "\n",
    "def create_youtube_cover(background_path, my_photo_path, topic_images, title, output_path):\n",
    "    # Cargar el fondo\n",
    "    background = Image.open(background_path).convert(\"RGBA\")\n",
    "    width, height = RESOLUTION\n",
    "\n",
    "    # Procesar y redimensionar la foto personal\n",
    "    my_photo_no_bg = remove_background(my_photo_path, \"temp_no_bg.png\")\n",
    "    my_photo = Image.open(my_photo_no_bg).convert(\"RGBA\")\n",
    "\n",
    "    # Ajustar la foto personal para que no se distorsione\n",
    "    max_width = int(width * 0.4)  # Máximo 40% del ancho total\n",
    "    max_height = height  # Máximo 100% de la altura\n",
    "    aspect_ratio = my_photo.width / my_photo.height\n",
    "\n",
    "    if my_photo.width > max_width or my_photo.height > max_height:\n",
    "        if aspect_ratio > 1:  # Imagen apaisada\n",
    "            new_width = max_width\n",
    "            new_height = int(max_width / aspect_ratio)\n",
    "        else:  # Imagen vertical\n",
    "            new_height = max_height\n",
    "            new_width = int(max_height * aspect_ratio)\n",
    "        my_photo = my_photo.resize((new_width, new_height), Image.Resampling.LANCZOS)\n",
    "\n",
    "    # Posicionar la foto personal en el lado derecho\n",
    "    my_photo_position = (width - my_photo.width - 20, (height - my_photo.height) // 2)  # Lado derecho con margen de 20px\n",
    "    background.paste(my_photo, my_photo_position, my_photo)\n",
    "\n",
    "    # Ajustar la región ocupada por la foto personal\n",
    "    photo_x_min = my_photo_position[0]\n",
    "    photo_x_max = photo_x_min + my_photo.width\n",
    "    photo_y_min = my_photo_position[1]\n",
    "    photo_y_max = photo_y_min + my_photo.height\n",
    "\n",
    "    # Añadir imágenes relacionadas al tema sin repetición\n",
    "    topic_images = random.sample(topic_images, min(len(topic_images), 12))  # Máximo 12 imágenes únicas\n",
    "    cols = 4  # Número máximo de columnas\n",
    "    rows = (len(topic_images) // cols) + (1 if len(topic_images) % cols != 0 else 0)  # Calcular filas necesarias\n",
    "\n",
    "    image_width = int(width / (cols + 1))  # Espacio disponible para cada imagen\n",
    "    image_height = int(height / (rows + 1))\n",
    "\n",
    "    for i, topic_image_path in enumerate(topic_images):\n",
    "        # Quitar el fondo de la imagen relacionada\n",
    "        topic_image_no_bg = remove_background(topic_image_path, f\"temp_topic_{i}_no_bg.png\")\n",
    "        topic_image = Image.open(topic_image_no_bg).convert(\"RGBA\")\n",
    "\n",
    "        # Ajustar la imagen relacionada para que no se distorsione\n",
    "        aspect_ratio = topic_image.width / topic_image.height\n",
    "\n",
    "        if aspect_ratio > 1:  # Imagen apaisada\n",
    "            new_width = image_width\n",
    "            new_height = int(image_width / aspect_ratio)\n",
    "        else:  # Imagen vertical\n",
    "            new_height = image_height\n",
    "            new_width = int(image_height * aspect_ratio)\n",
    "\n",
    "        topic_image = topic_image.resize((new_width, new_height), Image.Resampling.LANCZOS)\n",
    "\n",
    "        # Calcular la posición basada en la fila y columna\n",
    "        row = i // cols\n",
    "        col = i % cols\n",
    "        x_offset = int((col + 1) * (width / (cols + 1)) - (new_width / 2))\n",
    "        y_offset = int((row + 1) * (height / (rows + 1)) - (new_height / 2))\n",
    "\n",
    "        # Asegurar que la imagen no se sobreponga con la foto personal\n",
    "        if not (photo_x_min < x_offset + new_width < photo_x_max and photo_y_min < y_offset + new_height < photo_y_max):\n",
    "            background.paste(topic_image, (x_offset, y_offset), topic_image)\n",
    "\n",
    "    # Añadir el título con fondo negro\n",
    "    draw = ImageDraw.Draw(background)\n",
    "    font = ImageFont.truetype(\"Pemanka.ttf\", size=50)\n",
    "\n",
    "    # Obtener dimensiones del texto\n",
    "    bbox = font.getbbox(title)\n",
    "    text_width = bbox[2] - bbox[0]\n",
    "    text_height = bbox[3] - bbox[1]\n",
    "\n",
    "    # Posicionar el texto en el centro superior\n",
    "    text_position = ((width - text_width) // 2, int(height * 0.05))\n",
    "\n",
    "    # Calcular el área del rectángulo negro\n",
    "    padding = 10  # Espacio adicional alrededor del texto\n",
    "    rect_x0 = text_position[0] - padding\n",
    "    rect_y0 = text_position[1] - padding\n",
    "    rect_x1 = text_position[0] + text_width + padding\n",
    "    rect_y1 = text_position[1] + text_height + padding\n",
    "\n",
    "    # Dibujar el fondo negro\n",
    "    draw.rectangle([rect_x0, rect_y0, rect_x1, rect_y1], fill=\"black\")\n",
    "\n",
    "    # Dibujar el texto en blanco\n",
    "    draw.text(text_position, title, fill=\"white\", font=font)\n",
    "\n",
    "    # Guardar la miniatura final con la resolución 1280x720\n",
    "    background.save(output_path)"
   ]
  },
  {
   "cell_type": "code",
   "execution_count": 10,
   "metadata": {},
   "outputs": [],
   "source": [
    "input_promt = str(input('indique el promt: '))"
   ]
  },
  {
   "cell_type": "code",
   "execution_count": 11,
   "metadata": {},
   "outputs": [
    {
     "name": "stderr",
     "output_type": "stream",
     "text": [
      "100%|██████████| 50/50 [00:33<00:00,  1.50it/s]\n"
     ]
    }
   ],
   "source": [
    "background_prompt = input_promt\n",
    "background_path = generate_background(background_prompt, \"background.png\")"
   ]
  },
  {
   "cell_type": "code",
   "execution_count": 12,
   "metadata": {},
   "outputs": [],
   "source": [
    "# Seleccionar una foto personal aleatoria\n",
    "my_photo_folder = \"my_photos\"  # Carpeta con tus fotos\n",
    "my_photo_path = get_random_image(my_photo_folder)"
   ]
  },
  {
   "cell_type": "code",
   "execution_count": 13,
   "metadata": {},
   "outputs": [],
   "source": [
    "# Seleccionar imágenes temáticas adicionales\n",
    "topic_image_folder = \"imagenes\"  # Carpeta con imágenes relacionadas al tema\n",
    "num_images_to_select = 5  # Número de imágenes que deseas seleccionar\n",
    "topic_images = get_unique_images(topic_image_folder, num_images_to_select) "
   ]
  },
  {
   "cell_type": "code",
   "execution_count": 14,
   "metadata": {},
   "outputs": [],
   "source": [
    "input_title = str(input('indicar el titulo:'))"
   ]
  },
  {
   "cell_type": "code",
   "execution_count": 15,
   "metadata": {},
   "outputs": [
    {
     "name": "stdout",
     "output_type": "stream",
     "text": [
      "Portada creada: youtube_cover_final.png\n"
     ]
    }
   ],
   "source": [
    "# Crear la portada\n",
    "title = input_title\n",
    "output_path = \"youtube_cover_final.png\"\n",
    "create_youtube_cover(background_path, my_photo_path, topic_images, title, output_path)\n",
    "print(f\"Portada creada: {output_path}\")"
   ]
  }
 ],
 "metadata": {
  "kernelspec": {
   "display_name": "AndTextVideo",
   "language": "python",
   "name": "python3"
  },
  "language_info": {
   "codemirror_mode": {
    "name": "ipython",
    "version": 3
   },
   "file_extension": ".py",
   "mimetype": "text/x-python",
   "name": "python",
   "nbconvert_exporter": "python",
   "pygments_lexer": "ipython3",
   "version": "3.10.14"
  }
 },
 "nbformat": 4,
 "nbformat_minor": 2
}
