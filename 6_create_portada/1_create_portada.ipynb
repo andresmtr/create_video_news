{
 "cells": [
  {
   "cell_type": "code",
   "execution_count": 1,
   "metadata": {},
   "outputs": [],
   "source": [
    "from PIL import Image, ImageDraw, ImageFont\n",
    "import os\n",
    "import math\n",
    "import random"
   ]
  },
  {
   "cell_type": "code",
   "execution_count": 2,
   "metadata": {},
   "outputs": [],
   "source": [
    "# Ruta de la carpeta donde se encuentran las imágenes\n",
    "carpeta = \"/mnt/D8E84E4DE84E2A58/Env_python/Create_video_news/6_create_portada/imagenes\"\n"
   ]
  },
  {
   "cell_type": "code",
   "execution_count": 3,
   "metadata": {},
   "outputs": [],
   "source": [
    "# Nombre final del collage\n",
    "nuevo_nombre = \"collage_final.png\""
   ]
  },
  {
   "cell_type": "code",
   "execution_count": 4,
   "metadata": {},
   "outputs": [],
   "source": [
    "# Listar los archivos en la carpeta\n",
    "archivos = os.listdir(carpeta)\n",
    "archivos = [archivo for archivo in archivos if os.path.isfile(os.path.join(carpeta, archivo))]\n"
   ]
  },
  {
   "cell_type": "code",
   "execution_count": 5,
   "metadata": {},
   "outputs": [],
   "source": [
    "# Verificar si hay archivos en la carpeta\n",
    "if not archivos:\n",
    "    print(\"No se encontraron imágenes en la carpeta.\")\n",
    "    exit()"
   ]
  },
  {
   "cell_type": "code",
   "execution_count": 6,
   "metadata": {},
   "outputs": [],
   "source": [
    "# Cargar las imágenes\n",
    "imagenes = [Image.open(os.path.join(carpeta, archivo)) for archivo in archivos]\n"
   ]
  },
  {
   "cell_type": "code",
   "execution_count": 7,
   "metadata": {},
   "outputs": [],
   "source": [
    "# # Calcular el tamaño del collage (asumimos una cuadrícula lo más cuadrada posible)\n",
    "# num_imagenes = len(imagenes)\n",
    "# columnas = math.ceil(math.sqrt(num_imagenes))\n",
    "# filas = math.ceil(num_imagenes / columnas)\n"
   ]
  },
  {
   "cell_type": "code",
   "execution_count": 8,
   "metadata": {},
   "outputs": [],
   "source": [
    "# Crear un lienzo transparente para el collage\n",
    "ancho_collage, alto_collage = 1280, 720  # Tamaño del lienzo\n",
    "collage = Image.new('RGBA', (ancho_collage, alto_collage), color=(0, 0, 0, 0))\n",
    "\n"
   ]
  },
  {
   "cell_type": "code",
   "execution_count": 9,
   "metadata": {},
   "outputs": [],
   "source": [
    "# Función para rotar y pegar imágenes\n",
    "def pegar_imagen_ajustada(lienzo, imagen, x, y, angulo):\n",
    "    imagen_rotada = imagen.rotate(angulo, expand=True)\n",
    "    x_centro = x - imagen_rotada.size[0] // 2\n",
    "    y_centro = y - imagen_rotada.size[1] // 2\n",
    "    lienzo.paste(imagen_rotada, (x_centro, y_centro), imagen_rotada.convert(\"RGBA\"))\n"
   ]
  },
  {
   "cell_type": "code",
   "execution_count": 10,
   "metadata": {},
   "outputs": [],
   "source": [
    "# Ajustar el tamaño de las imágenes y aplicar rotaciones\n",
    "tamaño_base = (400, 300)\n",
    "imagenes = [img.resize(tamaño_base) for img in imagenes]\n",
    "margen = 50  # Margen mínimo entre imágenes\n",
    "posiciones_usadas = []"
   ]
  },
  {
   "cell_type": "code",
   "execution_count": 11,
   "metadata": {},
   "outputs": [
    {
     "name": "stdout",
     "output_type": "stream",
     "text": [
      "No se encontró espacio suficiente para una imagen después de 50 intentos.\n"
     ]
    }
   ],
   "source": [
    "for img in imagenes:\n",
    "    intentos = 0\n",
    "    max_intentos = 50  # Máximo número de intentos para encontrar una posición válida\n",
    "    while intentos < max_intentos:\n",
    "        # Generar coordenadas aleatorias dentro del lienzo\n",
    "        x = random.randint(tamaño_base[0] // 2, ancho_collage - tamaño_base[0] // 2)\n",
    "        y = random.randint(tamaño_base[1] // 2, alto_collage - tamaño_base[1] // 2)\n",
    "        nueva_posicion = (x, y)\n",
    "\n",
    "        # Verificar si esta posición no está demasiado cerca de otras imágenes\n",
    "        distancia_valida = all(\n",
    "            math.sqrt((x - pos[0]) ** 2 + (y - pos[1]) ** 2) > tamaño_base[0] + margen\n",
    "            for pos in posiciones_usadas\n",
    "        )\n",
    "        if distancia_valida:\n",
    "            posiciones_usadas.append(nueva_posicion)\n",
    "            angulo_rotacion = random.randint(-25, 25)  # Rotación aleatoria entre -25 y 25 grados\n",
    "            pegar_imagen_ajustada(collage, img, x, y, angulo_rotacion)\n",
    "            break\n",
    "        intentos += 1\n",
    "\n",
    "    if intentos == max_intentos:\n",
    "        print(f\"No se encontró espacio suficiente para una imagen después de {max_intentos} intentos.\")\n",
    "\n",
    "\n"
   ]
  },
  {
   "cell_type": "code",
   "execution_count": 12,
   "metadata": {},
   "outputs": [],
   "source": [
    "# Añadir texto centrado al collage\n",
    "dibujo = ImageDraw.Draw(collage)\n",
    "fuente = ImageFont.truetype(\"Pemanka.ttf\", 60)"
   ]
  },
  {
   "cell_type": "code",
   "execution_count": 13,
   "metadata": {},
   "outputs": [],
   "source": [
    "# Texto y color\n",
    "texto = input('Ingrese el título para el collage: ')\n",
    "select_color = int(input('Seleccione el color (1=Blanco, 2=Negro, 3=Azul, 4=Rojo, 5=Amarillo): '))\n",
    "color_texto = {\n",
    "    1: (255, 255, 255),\n",
    "    2: (0, 0, 0),\n",
    "    3: (0, 0, 255),\n",
    "    4: (255, 0, 0),\n",
    "    5: (255, 255, 0)\n",
    "}.get(select_color, (255, 255, 255))  # Blanco por defecto"
   ]
  },
  {
   "cell_type": "code",
   "execution_count": 14,
   "metadata": {},
   "outputs": [
    {
     "name": "stderr",
     "output_type": "stream",
     "text": [
      "/tmp/ipykernel_299444/4110437004.py:2: DeprecationWarning: textsize is deprecated and will be removed in Pillow 10 (2023-07-01). Use textbbox or textlength instead.\n",
      "  ancho_texto, alto_texto = dibujo.textsize(texto, font=fuente)\n"
     ]
    }
   ],
   "source": [
    "# Obtener tamaño del texto\n",
    "ancho_texto, alto_texto = dibujo.textsize(texto, font=fuente)\n",
    "\n"
   ]
  },
  {
   "cell_type": "code",
   "execution_count": 15,
   "metadata": {},
   "outputs": [],
   "source": [
    "# Posición del texto centrado\n",
    "posicion_texto = ((ancho_collage - ancho_texto) / 2, (alto_collage - alto_texto) / 2)\n",
    "\n"
   ]
  },
  {
   "cell_type": "code",
   "execution_count": 16,
   "metadata": {},
   "outputs": [],
   "source": [
    "\n",
    "# Fondo negro semi-transparente para el texto\n",
    "margen_texto = 20\n",
    "caja_fondo = [\n",
    "    posicion_texto[0] - margen_texto,\n",
    "    posicion_texto[1] - margen_texto,\n",
    "    posicion_texto[0] + ancho_texto + margen_texto,\n",
    "    posicion_texto[1] + alto_texto + margen_texto\n",
    "]\n",
    "dibujo.rectangle(caja_fondo, fill=(0, 0, 0, 200))  # Fondo negro semi-transparente\n",
    "dibujo.text(posicion_texto, texto, font=fuente, fill=color_texto)\n"
   ]
  },
  {
   "cell_type": "code",
   "execution_count": null,
   "metadata": {},
   "outputs": [
    {
     "name": "stdout",
     "output_type": "stream",
     "text": [
      "El collage final fue guardado como 'collage_final.png' en la carpeta '/mnt/D8E84E4DE84E2A58/Env_python/Create_video_news/6_create_portada/imagenes'.\n"
     ]
    },
    {
     "name": "stderr",
     "output_type": "stream",
     "text": [
      "/usr/bin/shotwell: symbol lookup error: /snap/core20/current/lib/x86_64-linux-gnu/libpthread.so.0: undefined symbol: __libc_pthread_init, version GLIBC_PRIVATE\n"
     ]
    }
   ],
   "source": [
    "# Guardar y mostrar el collage final\n",
    "collage = collage.convert(\"RGB\")  # Convertir a RGB para guardar como PNG\n",
    "collage.save(os.path.join(carpeta, nuevo_nombre))\n",
    "collage.show()\n",
    "print(f\"El collage final fue guardado como '{nuevo_nombre}' en la carpeta '{carpeta}'.\")\n"
   ]
  }
 ],
 "metadata": {
  "kernelspec": {
   "display_name": "AndMoviepy",
   "language": "python",
   "name": "python3"
  },
  "language_info": {
   "codemirror_mode": {
    "name": "ipython",
    "version": 3
   },
   "file_extension": ".py",
   "mimetype": "text/x-python",
   "name": "python",
   "nbconvert_exporter": "python",
   "pygments_lexer": "ipython3",
   "version": "3.10.14"
  }
 },
 "nbformat": 4,
 "nbformat_minor": 2
}
