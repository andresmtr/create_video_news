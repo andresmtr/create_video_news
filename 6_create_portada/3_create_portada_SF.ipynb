{
 "cells": [
  {
   "cell_type": "code",
   "execution_count": 1,
   "metadata": {},
   "outputs": [
    {
     "name": "stderr",
     "output_type": "stream",
     "text": [
      "/home/andresmtr/miniconda3/envs/AndTextVideo/lib/python3.10/site-packages/tqdm/auto.py:21: TqdmWarning: IProgress not found. Please update jupyter and ipywidgets. See https://ipywidgets.readthedocs.io/en/stable/user_install.html\n",
      "  from .autonotebook import tqdm as notebook_tqdm\n"
     ]
    }
   ],
   "source": [
    "from diffusers import StableDiffusionPipeline, DiffusionPipeline, LCMScheduler, AutoPipelineForText2Image, AnimateDiffPipeline, LCMScheduler, MotionAdapter\n",
    "from diffusers.utils import export_to_gif\n",
    "import torch\n",
    "import pandas as pd\n",
    "import random\n",
    "import string\n",
    "import os"
   ]
  },
  {
   "cell_type": "code",
   "execution_count": 2,
   "metadata": {},
   "outputs": [
    {
     "name": "stdout",
     "output_type": "stream",
     "text": [
      "cuda\n"
     ]
    }
   ],
   "source": [
    "# Get device\n",
    "device = \"cuda\" if torch.cuda.is_available() else \"cpu\"\n",
    "print(device)"
   ]
  },
  {
   "cell_type": "code",
   "execution_count": 3,
   "metadata": {},
   "outputs": [],
   "source": [
    "# text = '/mnt/D8E84E4DE84E2A58/Env_python/Create_video_news/0_create text/text/en/union/descri_text_en.txt'\n",
    "\n",
    "text = 'The Best Ways to Store Your Photo Files'"
   ]
  },
  {
   "cell_type": "code",
   "execution_count": 4,
   "metadata": {},
   "outputs": [],
   "source": [
    "# Especificar el tamaño deseado\n",
    "height = 720\n",
    "width = 1280\n",
    "\n",
    "# caracteres = string.ascii_letters + string.digits"
   ]
  },
  {
   "cell_type": "markdown",
   "metadata": {},
   "source": [
    "### Modelo 1"
   ]
  },
  {
   "cell_type": "code",
   "execution_count": 5,
   "metadata": {},
   "outputs": [
    {
     "name": "stderr",
     "output_type": "stream",
     "text": [
      "Loading pipeline components...:   0%|          | 0/7 [00:00<?, ?it/s]/home/andresmtr/miniconda3/envs/AndTextVideo/lib/python3.10/site-packages/transformers/models/clip/feature_extraction_clip.py:28: FutureWarning: The class CLIPFeatureExtractor is deprecated and will be removed in version 5 of Transformers. Please use CLIPImageProcessor instead.\n",
      "  warnings.warn(\n",
      "Loading pipeline components...: 100%|██████████| 7/7 [00:00<00:00,  7.71it/s]\n"
     ]
    }
   ],
   "source": [
    "model_id = \"emilianJR/epiCRealism\"\n",
    "# model_id = \"dreamlike-art/dreamlike-diffusion-1.0\"\n",
    "\n",
    "pipe = StableDiffusionPipeline.from_pretrained(model_id, torch_dtype=torch.float16)\n",
    "pipe = pipe.to(\"cuda\")"
   ]
  },
  {
   "cell_type": "code",
   "execution_count": 6,
   "metadata": {},
   "outputs": [
    {
     "name": "stderr",
     "output_type": "stream",
     "text": [
      "100%|██████████| 50/50 [00:08<00:00,  5.95it/s]\n"
     ]
    }
   ],
   "source": [
    "\n",
    "output_path = 'img_ia'\n",
    "\n",
    "prompt = text  # Elimina espacios en blanco al principio y al final\n",
    "    \n",
    "# negative_prompt = \"nsfw, lowres, (bad), text, error, fewer, extra, missing, worst quality, jpeg artifacts, low quality, watermark, unfinished, displeasing, oldest, early, chromatic aberration, signature, extra digits, artistic error, username, scan, [abstract]\"\n",
    "negative_prompt = \"bad faces ,nsfw, lowres, (bad), text, error, fewer, extra, missing, worst quality, jpeg artifacts, low quality, watermark, unfinished, displeasing, oldest, early, chromatic aberration, signature, extra digits, artistic error, username, scan, [abstract]\"\n",
    "image = pipe(prompt, negative_prompt=negative_prompt, height=height, width=width).images[0]\n",
    "\n",
    "# image = pipe(prompt, height=height, width=width).images[0]\n",
    "    \n",
    "image.save(os.path.join(output_path, f\"epiCRealism.png\"))\n",
    "        \n",
    "# Liberar memoria GPU\n",
    "torch.cuda.empty_cache()"
   ]
  },
  {
   "cell_type": "markdown",
   "metadata": {},
   "source": [
    "## Modelo 2"
   ]
  },
  {
   "cell_type": "code",
   "execution_count": 7,
   "metadata": {},
   "outputs": [
    {
     "name": "stderr",
     "output_type": "stream",
     "text": [
      "Loading pipeline components...:  20%|██        | 1/5 [00:00<00:00,  8.28it/s]/home/andresmtr/miniconda3/envs/AndTextVideo/lib/python3.10/site-packages/transformers/tokenization_utils_base.py:1617: FutureWarning: `clean_up_tokenization_spaces` was not set. It will be set to `True` by default. This behavior will be deprecated in transformers v4.45, and will be then set to `False` by default. For more details check this issue: https://github.com/huggingface/transformers/issues/31884\n",
      "  warnings.warn(\n",
      "Loading pipeline components...: 100%|██████████| 5/5 [00:00<00:00, 19.42it/s]\n"
     ]
    }
   ],
   "source": [
    "model_id = \"dreamlike-art/dreamlike-diffusion-1.0\"\n",
    "\n",
    "pipe = StableDiffusionPipeline.from_pretrained(model_id, torch_dtype=torch.float16)\n",
    "pipe = pipe.to(\"cuda\")"
   ]
  },
  {
   "cell_type": "code",
   "execution_count": 8,
   "metadata": {},
   "outputs": [
    {
     "name": "stderr",
     "output_type": "stream",
     "text": [
      "100%|██████████| 50/50 [00:08<00:00,  6.13it/s]\n"
     ]
    }
   ],
   "source": [
    "\n",
    "output_path = 'img_ia'\n",
    "\n",
    "prompt = text  # Elimina espacios en blanco al principio y al final\n",
    "    \n",
    "# negative_prompt = \"nsfw, lowres, (bad), text, error, fewer, extra, missing, worst quality, jpeg artifacts, low quality, watermark, unfinished, displeasing, oldest, early, chromatic aberration, signature, extra digits, artistic error, username, scan, [abstract]\"\n",
    "negative_prompt = \"bad faces ,nsfw, lowres, (bad), text, error, fewer, extra, missing, worst quality, jpeg artifacts, low quality, watermark, unfinished, displeasing, oldest, early, chromatic aberration, signature, extra digits, artistic error, username, scan, [abstract]\"\n",
    "image = pipe(prompt, negative_prompt=negative_prompt, height=height, width=width).images[0]\n",
    "\n",
    "# image = pipe(prompt, height=height, width=width).images[0]\n",
    "    \n",
    "image.save(os.path.join(output_path, f\"dreamlike-diffusion.png\"))\n",
    "        \n",
    "# Liberar memoria GPU\n",
    "torch.cuda.empty_cache()"
   ]
  },
  {
   "cell_type": "markdown",
   "metadata": {},
   "source": [
    "## Modelo 3"
   ]
  },
  {
   "cell_type": "code",
   "execution_count": 9,
   "metadata": {},
   "outputs": [
    {
     "name": "stderr",
     "output_type": "stream",
     "text": [
      "Loading pipeline components...: 100%|██████████| 7/7 [00:00<00:00,  8.37it/s]\n"
     ]
    }
   ],
   "source": [
    "model_id = \"CompVis/stable-diffusion-v1-4\"\n",
    "\n",
    "pipe = StableDiffusionPipeline.from_pretrained(model_id, torch_dtype=torch.float16)\n",
    "pipe = pipe.to(\"cuda\")"
   ]
  },
  {
   "cell_type": "code",
   "execution_count": 10,
   "metadata": {},
   "outputs": [
    {
     "name": "stderr",
     "output_type": "stream",
     "text": [
      "100%|██████████| 50/50 [00:08<00:00,  6.08it/s]\n"
     ]
    }
   ],
   "source": [
    "\n",
    "output_path = 'img_ia'\n",
    "\n",
    "prompt = text  # Elimina espacios en blanco al principio y al final\n",
    "    \n",
    "# negative_prompt = \"nsfw, lowres, (bad), text, error, fewer, extra, missing, worst quality, jpeg artifacts, low quality, watermark, unfinished, displeasing, oldest, early, chromatic aberration, signature, extra digits, artistic error, username, scan, [abstract]\"\n",
    "negative_prompt = \"bad faces ,nsfw, lowres, (bad), text, error, fewer, extra, missing, worst quality, jpeg artifacts, low quality, watermark, unfinished, displeasing, oldest, early, chromatic aberration, signature, extra digits, artistic error, username, scan, [abstract]\"\n",
    "image = pipe(prompt, negative_prompt=negative_prompt, height=height, width=width).images[0]\n",
    "\n",
    "# image = pipe(prompt, height=height, width=width).images[0]\n",
    "    \n",
    "image.save(os.path.join(output_path, f\"stable-diffusion-v1.png\"))\n",
    "        \n",
    "# Liberar memoria GPU\n",
    "torch.cuda.empty_cache()"
   ]
  },
  {
   "cell_type": "markdown",
   "metadata": {},
   "source": [
    "## Modelo 4"
   ]
  },
  {
   "cell_type": "code",
   "execution_count": 11,
   "metadata": {},
   "outputs": [
    {
     "name": "stderr",
     "output_type": "stream",
     "text": [
      "Loading pipeline components...: 100%|██████████| 7/7 [00:00<00:00, 12.64it/s]\n"
     ]
    }
   ],
   "source": [
    "model_id = \"cagliostrolab/animagine-xl-3.1\"\n",
    "\n",
    "pipe = DiffusionPipeline.from_pretrained(model_id, torch_dtype=torch.float16,use_safetensors=True)\n",
    "pipe = pipe.to(\"cuda\")"
   ]
  },
  {
   "cell_type": "code",
   "execution_count": 12,
   "metadata": {},
   "outputs": [
    {
     "name": "stderr",
     "output_type": "stream",
     "text": [
      "100%|██████████| 50/50 [00:10<00:00,  4.98it/s]\n"
     ]
    }
   ],
   "source": [
    "\n",
    "output_path = 'img_ia'\n",
    "\n",
    "prompt = text  # Elimina espacios en blanco al principio y al final\n",
    "    \n",
    "# negative_prompt = \"nsfw, lowres, (bad), text, error, fewer, extra, missing, worst quality, jpeg artifacts, low quality, watermark, unfinished, displeasing, oldest, early, chromatic aberration, signature, extra digits, artistic error, username, scan, [abstract]\"\n",
    "negative_prompt = \"bad faces ,nsfw, lowres, (bad), text, error, fewer, extra, missing, worst quality, jpeg artifacts, low quality, watermark, unfinished, displeasing, oldest, early, chromatic aberration, signature, extra digits, artistic error, username, scan, [abstract]\"\n",
    "image = pipe(prompt, negative_prompt=negative_prompt, height=height, width=width).images[0]\n",
    "\n",
    "# image = pipe(prompt, height=height, width=width).images[0]\n",
    "    \n",
    "image.save(os.path.join(output_path, f\"animagine.png\"))\n",
    "        \n",
    "# Liberar memoria GPU\n",
    "torch.cuda.empty_cache()"
   ]
  },
  {
   "cell_type": "markdown",
   "metadata": {},
   "source": [
    "## Modelo 5"
   ]
  },
  {
   "cell_type": "code",
   "execution_count": 13,
   "metadata": {},
   "outputs": [
    {
     "name": "stderr",
     "output_type": "stream",
     "text": [
      "Loading pipeline components...: 100%|██████████| 7/7 [00:00<00:00,  7.62it/s]\n",
      "The config attributes {'skip_prk_steps': True} were passed to LCMScheduler, but are not expected and will be ignored. Please verify your scheduler_config.json configuration file.\n"
     ]
    }
   ],
   "source": [
    "model_id = \"Lykon/dreamshaper-7\"\n",
    "adapter_id = \"latent-consistency/lcm-lora-sdv1-5\"\n",
    "\n",
    "pipe = AutoPipelineForText2Image.from_pretrained(model_id, torch_dtype=torch.float16, variant=\"fp16\")\n",
    "pipe.scheduler = LCMScheduler.from_config(pipe.scheduler.config)\n",
    "pipe = pipe.to(\"cuda\")\n",
    "\n",
    "# load and fuse lcm lora\n",
    "pipe.load_lora_weights(adapter_id)\n",
    "pipe.fuse_lora()"
   ]
  },
  {
   "cell_type": "code",
   "execution_count": 14,
   "metadata": {},
   "outputs": [
    {
     "name": "stderr",
     "output_type": "stream",
     "text": [
      "100%|██████████| 50/50 [00:08<00:00,  6.11it/s]\n"
     ]
    }
   ],
   "source": [
    "\n",
    "output_path = 'img_ia'\n",
    "\n",
    "prompt = text  # Elimina espacios en blanco al principio y al final\n",
    "    \n",
    "# negative_prompt = \"nsfw, lowres, (bad), text, error, fewer, extra, missing, worst quality, jpeg artifacts, low quality, watermark, unfinished, displeasing, oldest, early, chromatic aberration, signature, extra digits, artistic error, username, scan, [abstract]\"\n",
    "negative_prompt = \"bad faces ,nsfw, lowres, (bad), text, error, fewer, extra, missing, worst quality, jpeg artifacts, low quality, watermark, unfinished, displeasing, oldest, early, chromatic aberration, signature, extra digits, artistic error, username, scan, [abstract]\"\n",
    "image = pipe(prompt, negative_prompt=negative_prompt, height=height, width=width).images[0]\n",
    "\n",
    "# image = pipe(prompt, height=height, width=width).images[0]\n",
    "    \n",
    "image.save(os.path.join(output_path, f\"dreamshaper_7.png\"))\n",
    "        \n",
    "# Liberar memoria GPU\n",
    "torch.cuda.empty_cache()"
   ]
  },
  {
   "cell_type": "markdown",
   "metadata": {},
   "source": [
    "## Modelo 6"
   ]
  },
  {
   "cell_type": "code",
   "execution_count": 15,
   "metadata": {},
   "outputs": [
    {
     "name": "stderr",
     "output_type": "stream",
     "text": [
      "unet/diffusion_pytorch_model.safetensors not found\n",
      "Loading pipeline components...:  57%|█████▋    | 4/7 [00:00<00:00,  7.49it/s]An error occurred while trying to fetch /home/andresmtr/.cache/huggingface/hub/models--Mitsua--mitsua-diffusion-one/snapshots/b20d3b7fcce1d3bf8a209e7c2202ad2d2f21a1cc/unet: Error no file named diffusion_pytorch_model.safetensors found in directory /home/andresmtr/.cache/huggingface/hub/models--Mitsua--mitsua-diffusion-one/snapshots/b20d3b7fcce1d3bf8a209e7c2202ad2d2f21a1cc/unet.\n",
      "Defaulting to unsafe serialization. Pass `allow_pickle=False` to raise an error instead.\n",
      "Loading pipeline components...:  86%|████████▌ | 6/7 [00:04<00:01,  1.05s/it]An error occurred while trying to fetch /home/andresmtr/.cache/huggingface/hub/models--Mitsua--mitsua-diffusion-one/snapshots/b20d3b7fcce1d3bf8a209e7c2202ad2d2f21a1cc/vae: Error no file named diffusion_pytorch_model.safetensors found in directory /home/andresmtr/.cache/huggingface/hub/models--Mitsua--mitsua-diffusion-one/snapshots/b20d3b7fcce1d3bf8a209e7c2202ad2d2f21a1cc/vae.\n",
      "Defaulting to unsafe serialization. Pass `allow_pickle=False` to raise an error instead.\n",
      "Loading pipeline components...: 100%|██████████| 7/7 [00:05<00:00,  1.31it/s]\n"
     ]
    }
   ],
   "source": [
    "model_id = \"Mitsua/mitsua-diffusion-one\"\n",
    "\n",
    "pipe = DiffusionPipeline.from_pretrained(model_id, torch_dtype=torch.float16)\n",
    "pipe = pipe.to(\"cuda\")"
   ]
  },
  {
   "cell_type": "code",
   "execution_count": 16,
   "metadata": {},
   "outputs": [
    {
     "name": "stderr",
     "output_type": "stream",
     "text": [
      "100%|██████████| 50/50 [00:07<00:00,  7.06it/s]\n"
     ]
    }
   ],
   "source": [
    "\n",
    "output_path = 'img_ia'\n",
    "\n",
    "prompt = text  # Elimina espacios en blanco al principio y al final\n",
    "    \n",
    "# negative_prompt = \"nsfw, lowres, (bad), text, error, fewer, extra, missing, worst quality, jpeg artifacts, low quality, watermark, unfinished, displeasing, oldest, early, chromatic aberration, signature, extra digits, artistic error, username, scan, [abstract]\"\n",
    "negative_prompt = \"bad faces ,nsfw, lowres, (bad), text, error, fewer, extra, missing, worst quality, jpeg artifacts, low quality, watermark, unfinished, displeasing, oldest, early, chromatic aberration, signature, extra digits, artistic error, username, scan, [abstract]\"\n",
    "image = pipe(prompt, negative_prompt=negative_prompt, height=height, width=width).images[0]\n",
    "\n",
    "# image = pipe(prompt, height=height, width=width).images[0]\n",
    "    \n",
    "image.save(os.path.join(output_path, f\"mitsua_diffusion_one.png\"))\n",
    "        \n",
    "# Liberar memoria GPU\n",
    "torch.cuda.empty_cache()"
   ]
  }
 ],
 "metadata": {
  "kernelspec": {
   "display_name": "AndTextVideo",
   "language": "python",
   "name": "python3"
  },
  "language_info": {
   "codemirror_mode": {
    "name": "ipython",
    "version": 3
   },
   "file_extension": ".py",
   "mimetype": "text/x-python",
   "name": "python",
   "nbconvert_exporter": "python",
   "pygments_lexer": "ipython3",
   "version": "3.10.14"
  }
 },
 "nbformat": 4,
 "nbformat_minor": 2
}
