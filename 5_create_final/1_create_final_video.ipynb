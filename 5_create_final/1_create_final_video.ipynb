{
 "cells": [
  {
   "cell_type": "code",
   "execution_count": 1,
   "metadata": {},
   "outputs": [],
   "source": [
    "import os\n",
    "import random\n",
    "import pandas as pd\n",
    "from moviepy.editor import *\n",
    "import moviepy.audio.fx.all as afx\n",
    "from moviepy.video import fx\n",
    "from moviepy.config import change_settings\n",
    "change_settings({\"FFMPEG_BINARY\":\"ffmpeg\"})\n",
    "# from PIL import Image"
   ]
  },
  {
   "cell_type": "code",
   "execution_count": 2,
   "metadata": {},
   "outputs": [],
   "source": [
    "select_folder = int(input('Select folder: '))"
   ]
  },
  {
   "cell_type": "code",
   "execution_count": 3,
   "metadata": {},
   "outputs": [],
   "source": [
    "if select_folder == 1:\n",
    "    folder_test = 'History'\n",
    "elif select_folder == 2:\n",
    "    folder_test = 'Music'\n",
    "elif select_folder == 3:\n",
    "    folder_test = 'Tech'\n",
    "else:\n",
    "    pass"
   ]
  },
  {
   "cell_type": "code",
   "execution_count": 4,
   "metadata": {},
   "outputs": [],
   "source": [
    "carpeta = f'/mnt/D8E84E4DE84E2A58/Env_python/Create_video_news/4_create_video_by_news/videos_by_news'\n",
    "intro_path = f'/mnt/D8E84E4DE84E2A58/backUp_Img_Vid/Intro/{folder_test}/Intro.mp4'\n",
    "video_transicion_path = \"transicion.png\"\n",
    "excel_path = 'titulo_entre_videos.xlsx'"
   ]
  },
  {
   "cell_type": "code",
   "execution_count": 5,
   "metadata": {},
   "outputs": [],
   "source": [
    "def combinar_videos_con_fade(carpeta, excel_path, num_archivos=20, duracion_fade=1, duracion_transicion=4, transicion_path=\"transicion.png\"):\n",
    "    # Seleccionar archivos de video en orden\n",
    "    archivos = sorted([f for f in os.listdir(carpeta) if f.endswith('.mp4')])\n",
    "    if len(archivos) == 0:\n",
    "        raise ValueError(f'La carpeta {carpeta} está vacía o no contiene archivos válidos.')\n",
    "\n",
    "    # Leer archivo Excel\n",
    "    if not os.path.exists(excel_path):\n",
    "        raise FileNotFoundError(f\"No se encontró el archivo Excel en {excel_path}\")\n",
    "    df = pd.read_excel(excel_path)\n",
    "\n",
    "    # Filtrar el DataFrame para que coincida con los nombres completos de los archivos\n",
    "    df = df[df['conca'].isin(archivos)]\n",
    "    if df.empty:\n",
    "        raise ValueError(\"No se encontraron coincidencias entre los videos y el archivo Excel.\")\n",
    "\n",
    "    # Limitar la cantidad de archivos\n",
    "    archivos = archivos[:num_archivos]\n",
    "    ruta_archivos = [os.path.join(carpeta, archivo) for archivo in archivos]\n",
    "\n",
    "    # Verificar existencia de la transición\n",
    "    if not os.path.exists(transicion_path):\n",
    "        raise FileNotFoundError(f'No se encontró la imagen de transición en {transicion_path}')\n",
    "\n",
    "    # Crear clips y añadir transiciones personalizadas\n",
    "    clips_con_transiciones = []\n",
    "    for i, ruta in enumerate(ruta_archivos):\n",
    "        # Crear texto para la transición\n",
    "        nombre_video = os.path.basename(ruta)\n",
    "        titulo = df.loc[df['conca'] == nombre_video, 'Titulo'].values\n",
    "        if titulo.size > 0 and not pd.isnull(titulo[0]):\n",
    "            titulo_texto = str(titulo[0])\n",
    "            texto_clip = TextClip(\n",
    "                titulo_texto,\n",
    "                fontsize=50,  # Tamaño base de fuente\n",
    "                color='white',\n",
    "                font=\"Arial\",\n",
    "                size=(1920, 1080),  # Tamaño del cuadro\n",
    "                method='caption',  # Ajuste automático del texto\n",
    "                align='center'  # Alineación del texto dentro del cuadro\n",
    "            ).set_duration(duracion_transicion)\n",
    "\n",
    "        else:\n",
    "            texto_clip = None\n",
    "\n",
    "        # Crear transición combinando la imagen y el texto\n",
    "        transicion_imagen = ImageClip(transicion_path, duration=duracion_transicion)\n",
    "        if texto_clip:\n",
    "            transicion = CompositeVideoClip([transicion_imagen, texto_clip.set_position('center')])\n",
    "        else:\n",
    "            transicion = transicion_imagen\n",
    "\n",
    "        transicion = transicion.fadein(duracion_fade).fadeout(duracion_fade)\n",
    "\n",
    "        # Cargar video principal\n",
    "        clip = VideoFileClip(ruta).fadein(duracion_fade).fadeout(duracion_fade)\n",
    "        clips_con_transiciones.append(clip)\n",
    "\n",
    "        # Añadir la transición combinada\n",
    "        clips_con_transiciones.append(transicion)\n",
    "\n",
    "    # Concatenar todos los clips (videos + transiciones)\n",
    "    video_final = concatenate_videoclips(clips_con_transiciones, method=\"compose\")\n",
    "    return video_final\n"
   ]
  },
  {
   "cell_type": "markdown",
   "metadata": {},
   "source": [
    "Este error específico indica que ImageMagick está bloqueando ciertas operaciones debido a su configuración de seguridad predeterminada. Este problema suele ocurrir con versiones recientes de ImageMagick, donde algunas acciones, como la creación de clips de texto, están deshabilitadas por el archivo policy.xml.\n",
    "Solución para el problema\n",
    "1. Editar el archivo policy.xml de ImageMagick\n",
    "\n",
    "El archivo de configuración policy.xml se encuentra en el directorio de instalación de ImageMagick. Necesitamos modificarlo para permitir las operaciones que MoviePy requiere. Sigue estos pasos:\n",
    "Ubicación del archivo policy.xml:\n",
    "\n",
    "    Linux/Ubuntu:\n",
    "    Usualmente en /etc/ImageMagick-6/ o /etc/ImageMagick-7/.\n",
    "    MacOS:\n",
    "    Usualmente en /usr/local/etc/ImageMagick-7/.\n",
    "    Windows:\n",
    "    Ubícalo en el directorio de instalación de ImageMagick (algo como C:\\Program Files\\ImageMagick-7.X.X-Q16-HDRI\\policy.xml).\n",
    "\n",
    "Modificación del archivo:\n",
    "\n",
    "    Abre el archivo policy.xml con permisos de administrador:\n",
    "        En Linux:\n",
    "\n",
    "    sudo nano /etc/ImageMagick-7/policy.xml\n",
    "\n",
    "    En Windows: Usa un editor de texto como Notepad++ con permisos de administrador.\n",
    "\n",
    "Busca las líneas relacionadas con @ o TXT. Deberían lucir algo como esto:\n",
    "\n",
    "<policy domain=\"path\" rights=\"none\" pattern=\"@*\" />\n",
    "\n",
    "Cambia el valor de rights=\"none\" a rights=\"read|write\", permitiendo a MoviePy acceder a esos recursos:\n",
    "\n",
    "    <policy domain=\"path\" rights=\"read|write\" pattern=\"@*\" />\n",
    "\n",
    "    Guarda el archivo y cierra el editor.\n",
    "\n",
    "2. Verifica la instalación de ImageMagick\n",
    "\n",
    "Asegúrate de que ImageMagick esté correctamente instalado y accesible desde la línea de comandos:\n",
    "\n",
    "    Ejecuta el siguiente comando en la terminal o línea de comandos:\n",
    "\n",
    "    magick -version\n",
    "\n",
    "    Si ImageMagick está instalado correctamente, deberías ver la versión instalada.\n",
    "\n",
    "3. Reinicia tu sistema (opcional)\n",
    "\n",
    "En algunos sistemas operativos, es posible que necesites reiniciar el sistema para que los cambios en el archivo policy.xml tengan efecto.\n",
    "4. Configura el binario de ImageMagick en MoviePy\n",
    "\n",
    "Para asegurarte de que MoviePy esté usando el binario correcto de ImageMagick, configura explícitamente la ruta en tu código:\n",
    "\n",
    "from moviepy.config import change_settings\n",
    "\n",
    "change_settings({\"IMAGEMAGICK_BINARY\": \"ruta/a/magick\"})  # Cambia \"ruta/a/magick\" a la ubicación exacta del binario\n",
    "\n",
    "Por ejemplo:\n",
    "\n",
    "    En Linux/MacOS: \"magick\"\n",
    "    En Windows: \"C:/Program Files/ImageMagick-7.X.X-Q16-HDRI/magick.exe\"\n",
    "\n",
    "5. Ejecuta nuevamente tu código\n",
    "\n",
    "Después de realizar estos cambios, vuelve a ejecutar el script. Ahora MoviePy debería poder generar los clips de texto sin errores."
   ]
  },
  {
   "cell_type": "code",
   "execution_count": 6,
   "metadata": {},
   "outputs": [
    {
     "name": "stdout",
     "output_type": "stream",
     "text": [
      "Moviepy - Building video video_automatico.mp4.\n",
      "MoviePy - Writing audio in video_automaticoTEMP_MPY_wvf_snd.mp4\n"
     ]
    },
    {
     "name": "stderr",
     "output_type": "stream",
     "text": [
      "                                                                      \r"
     ]
    },
    {
     "name": "stdout",
     "output_type": "stream",
     "text": [
      "MoviePy - Done.\n",
      "Moviepy - Writing video video_automatico.mp4\n",
      "\n"
     ]
    },
    {
     "name": "stderr",
     "output_type": "stream",
     "text": [
      "t:   1%|          | 86/10394 [00:01<03:13, 53.34it/s, now=None]"
     ]
    },
    {
     "ename": "KeyboardInterrupt",
     "evalue": "",
     "output_type": "error",
     "traceback": [
      "\u001b[0;31m---------------------------------------------------------------------------\u001b[0m",
      "\u001b[0;31mKeyboardInterrupt\u001b[0m                         Traceback (most recent call last)",
      "Cell \u001b[0;32mIn[6], line 11\u001b[0m\n\u001b[1;32m      8\u001b[0m     final_video \u001b[38;5;241m=\u001b[39m concatenate_videoclips([intro, video_final], method\u001b[38;5;241m=\u001b[39m\u001b[38;5;124m\"\u001b[39m\u001b[38;5;124mcompose\u001b[39m\u001b[38;5;124m\"\u001b[39m)\n\u001b[1;32m     10\u001b[0m     \u001b[38;5;66;03m# Guardar el video final\u001b[39;00m\n\u001b[0;32m---> 11\u001b[0m     \u001b[43mfinal_video\u001b[49m\u001b[38;5;241;43m.\u001b[39;49m\u001b[43mwrite_videofile\u001b[49m\u001b[43m(\u001b[49m\u001b[38;5;124;43m'\u001b[39;49m\u001b[38;5;124;43mvideo_automatico.mp4\u001b[39;49m\u001b[38;5;124;43m'\u001b[39;49m\u001b[43m,\u001b[49m\u001b[43m \u001b[49m\u001b[43mcodec\u001b[49m\u001b[38;5;241;43m=\u001b[39;49m\u001b[38;5;124;43m\"\u001b[39;49m\u001b[38;5;124;43mh264_nvenc\u001b[39;49m\u001b[38;5;124;43m\"\u001b[39;49m\u001b[43m,\u001b[49m\u001b[43m \u001b[49m\u001b[43maudio_codec\u001b[49m\u001b[38;5;241;43m=\u001b[39;49m\u001b[38;5;124;43m\"\u001b[39;49m\u001b[38;5;124;43maac\u001b[39;49m\u001b[38;5;124;43m\"\u001b[39;49m\u001b[43m,\u001b[49m\u001b[43m \u001b[49m\u001b[43mfps\u001b[49m\u001b[38;5;241;43m=\u001b[39;49m\u001b[38;5;241;43m24\u001b[39;49m\u001b[43m)\u001b[49m\n\u001b[1;32m     12\u001b[0m     \u001b[38;5;28mprint\u001b[39m(\u001b[38;5;124m\"\u001b[39m\u001b[38;5;124m¡Listo! Video automático creado con éxito.\u001b[39m\u001b[38;5;124m\"\u001b[39m)\n\u001b[1;32m     13\u001b[0m \u001b[38;5;28;01mexcept\u001b[39;00m \u001b[38;5;167;01mValueError\u001b[39;00m \u001b[38;5;28;01mas\u001b[39;00m e:\n",
      "File \u001b[0;32m<string>:2\u001b[0m, in \u001b[0;36mwrite_videofile\u001b[0;34m(self, filename, fps, codec, bitrate, audio, audio_fps, preset, audio_nbytes, audio_codec, audio_bitrate, audio_bufsize, temp_audiofile, rewrite_audio, remove_temp, write_logfile, verbose, threads, ffmpeg_params, logger)\u001b[0m\n",
      "File \u001b[0;32m~/miniconda3/envs/AndMoviepy/lib/python3.10/site-packages/moviepy/decorators.py:54\u001b[0m, in \u001b[0;36mrequires_duration\u001b[0;34m(f, clip, *a, **k)\u001b[0m\n\u001b[1;32m     52\u001b[0m     \u001b[38;5;28;01mraise\u001b[39;00m \u001b[38;5;167;01mValueError\u001b[39;00m(\u001b[38;5;124m\"\u001b[39m\u001b[38;5;124mAttribute \u001b[39m\u001b[38;5;124m'\u001b[39m\u001b[38;5;124mduration\u001b[39m\u001b[38;5;124m'\u001b[39m\u001b[38;5;124m not set\u001b[39m\u001b[38;5;124m\"\u001b[39m)\n\u001b[1;32m     53\u001b[0m \u001b[38;5;28;01melse\u001b[39;00m:\n\u001b[0;32m---> 54\u001b[0m     \u001b[38;5;28;01mreturn\u001b[39;00m \u001b[43mf\u001b[49m\u001b[43m(\u001b[49m\u001b[43mclip\u001b[49m\u001b[43m,\u001b[49m\u001b[43m \u001b[49m\u001b[38;5;241;43m*\u001b[39;49m\u001b[43ma\u001b[49m\u001b[43m,\u001b[49m\u001b[43m \u001b[49m\u001b[38;5;241;43m*\u001b[39;49m\u001b[38;5;241;43m*\u001b[39;49m\u001b[43mk\u001b[49m\u001b[43m)\u001b[49m\n",
      "File \u001b[0;32m<string>:2\u001b[0m, in \u001b[0;36mwrite_videofile\u001b[0;34m(self, filename, fps, codec, bitrate, audio, audio_fps, preset, audio_nbytes, audio_codec, audio_bitrate, audio_bufsize, temp_audiofile, rewrite_audio, remove_temp, write_logfile, verbose, threads, ffmpeg_params, logger)\u001b[0m\n",
      "File \u001b[0;32m~/miniconda3/envs/AndMoviepy/lib/python3.10/site-packages/moviepy/decorators.py:135\u001b[0m, in \u001b[0;36muse_clip_fps_by_default\u001b[0;34m(f, clip, *a, **k)\u001b[0m\n\u001b[1;32m    130\u001b[0m new_a \u001b[38;5;241m=\u001b[39m [fun(arg) \u001b[38;5;28;01mif\u001b[39;00m (name\u001b[38;5;241m==\u001b[39m\u001b[38;5;124m'\u001b[39m\u001b[38;5;124mfps\u001b[39m\u001b[38;5;124m'\u001b[39m) \u001b[38;5;28;01melse\u001b[39;00m arg\n\u001b[1;32m    131\u001b[0m          \u001b[38;5;28;01mfor\u001b[39;00m (arg, name) \u001b[38;5;129;01min\u001b[39;00m \u001b[38;5;28mzip\u001b[39m(a, names)]\n\u001b[1;32m    132\u001b[0m new_kw \u001b[38;5;241m=\u001b[39m {k: fun(v) \u001b[38;5;28;01mif\u001b[39;00m k\u001b[38;5;241m==\u001b[39m\u001b[38;5;124m'\u001b[39m\u001b[38;5;124mfps\u001b[39m\u001b[38;5;124m'\u001b[39m \u001b[38;5;28;01melse\u001b[39;00m v\n\u001b[1;32m    133\u001b[0m          \u001b[38;5;28;01mfor\u001b[39;00m (k,v) \u001b[38;5;129;01min\u001b[39;00m k\u001b[38;5;241m.\u001b[39mitems()}\n\u001b[0;32m--> 135\u001b[0m \u001b[38;5;28;01mreturn\u001b[39;00m \u001b[43mf\u001b[49m\u001b[43m(\u001b[49m\u001b[43mclip\u001b[49m\u001b[43m,\u001b[49m\u001b[43m \u001b[49m\u001b[38;5;241;43m*\u001b[39;49m\u001b[43mnew_a\u001b[49m\u001b[43m,\u001b[49m\u001b[43m \u001b[49m\u001b[38;5;241;43m*\u001b[39;49m\u001b[38;5;241;43m*\u001b[39;49m\u001b[43mnew_kw\u001b[49m\u001b[43m)\u001b[49m\n",
      "File \u001b[0;32m<string>:2\u001b[0m, in \u001b[0;36mwrite_videofile\u001b[0;34m(self, filename, fps, codec, bitrate, audio, audio_fps, preset, audio_nbytes, audio_codec, audio_bitrate, audio_bufsize, temp_audiofile, rewrite_audio, remove_temp, write_logfile, verbose, threads, ffmpeg_params, logger)\u001b[0m\n",
      "File \u001b[0;32m~/miniconda3/envs/AndMoviepy/lib/python3.10/site-packages/moviepy/decorators.py:22\u001b[0m, in \u001b[0;36mconvert_masks_to_RGB\u001b[0;34m(f, clip, *a, **k)\u001b[0m\n\u001b[1;32m     20\u001b[0m \u001b[38;5;28;01mif\u001b[39;00m clip\u001b[38;5;241m.\u001b[39mismask:\n\u001b[1;32m     21\u001b[0m     clip \u001b[38;5;241m=\u001b[39m clip\u001b[38;5;241m.\u001b[39mto_RGB()\n\u001b[0;32m---> 22\u001b[0m \u001b[38;5;28;01mreturn\u001b[39;00m \u001b[43mf\u001b[49m\u001b[43m(\u001b[49m\u001b[43mclip\u001b[49m\u001b[43m,\u001b[49m\u001b[43m \u001b[49m\u001b[38;5;241;43m*\u001b[39;49m\u001b[43ma\u001b[49m\u001b[43m,\u001b[49m\u001b[43m \u001b[49m\u001b[38;5;241;43m*\u001b[39;49m\u001b[38;5;241;43m*\u001b[39;49m\u001b[43mk\u001b[49m\u001b[43m)\u001b[49m\n",
      "File \u001b[0;32m~/miniconda3/envs/AndMoviepy/lib/python3.10/site-packages/moviepy/video/VideoClip.py:300\u001b[0m, in \u001b[0;36mVideoClip.write_videofile\u001b[0;34m(self, filename, fps, codec, bitrate, audio, audio_fps, preset, audio_nbytes, audio_codec, audio_bitrate, audio_bufsize, temp_audiofile, rewrite_audio, remove_temp, write_logfile, verbose, threads, ffmpeg_params, logger)\u001b[0m\n\u001b[1;32m    292\u001b[0m \u001b[38;5;28;01mif\u001b[39;00m make_audio:\n\u001b[1;32m    293\u001b[0m     \u001b[38;5;28mself\u001b[39m\u001b[38;5;241m.\u001b[39maudio\u001b[38;5;241m.\u001b[39mwrite_audiofile(audiofile, audio_fps,\n\u001b[1;32m    294\u001b[0m                                audio_nbytes, audio_bufsize,\n\u001b[1;32m    295\u001b[0m                                audio_codec, bitrate\u001b[38;5;241m=\u001b[39maudio_bitrate,\n\u001b[1;32m    296\u001b[0m                                write_logfile\u001b[38;5;241m=\u001b[39mwrite_logfile,\n\u001b[1;32m    297\u001b[0m                                verbose\u001b[38;5;241m=\u001b[39mverbose,\n\u001b[1;32m    298\u001b[0m                                logger\u001b[38;5;241m=\u001b[39mlogger)\n\u001b[0;32m--> 300\u001b[0m \u001b[43mffmpeg_write_video\u001b[49m\u001b[43m(\u001b[49m\u001b[38;5;28;43mself\u001b[39;49m\u001b[43m,\u001b[49m\u001b[43m \u001b[49m\u001b[43mfilename\u001b[49m\u001b[43m,\u001b[49m\u001b[43m \u001b[49m\u001b[43mfps\u001b[49m\u001b[43m,\u001b[49m\u001b[43m \u001b[49m\u001b[43mcodec\u001b[49m\u001b[43m,\u001b[49m\n\u001b[1;32m    301\u001b[0m \u001b[43m                   \u001b[49m\u001b[43mbitrate\u001b[49m\u001b[38;5;241;43m=\u001b[39;49m\u001b[43mbitrate\u001b[49m\u001b[43m,\u001b[49m\n\u001b[1;32m    302\u001b[0m \u001b[43m                   \u001b[49m\u001b[43mpreset\u001b[49m\u001b[38;5;241;43m=\u001b[39;49m\u001b[43mpreset\u001b[49m\u001b[43m,\u001b[49m\n\u001b[1;32m    303\u001b[0m \u001b[43m                   \u001b[49m\u001b[43mwrite_logfile\u001b[49m\u001b[38;5;241;43m=\u001b[39;49m\u001b[43mwrite_logfile\u001b[49m\u001b[43m,\u001b[49m\n\u001b[1;32m    304\u001b[0m \u001b[43m                   \u001b[49m\u001b[43maudiofile\u001b[49m\u001b[38;5;241;43m=\u001b[39;49m\u001b[43maudiofile\u001b[49m\u001b[43m,\u001b[49m\n\u001b[1;32m    305\u001b[0m \u001b[43m                   \u001b[49m\u001b[43mverbose\u001b[49m\u001b[38;5;241;43m=\u001b[39;49m\u001b[43mverbose\u001b[49m\u001b[43m,\u001b[49m\u001b[43m \u001b[49m\u001b[43mthreads\u001b[49m\u001b[38;5;241;43m=\u001b[39;49m\u001b[43mthreads\u001b[49m\u001b[43m,\u001b[49m\n\u001b[1;32m    306\u001b[0m \u001b[43m                   \u001b[49m\u001b[43mffmpeg_params\u001b[49m\u001b[38;5;241;43m=\u001b[39;49m\u001b[43mffmpeg_params\u001b[49m\u001b[43m,\u001b[49m\n\u001b[1;32m    307\u001b[0m \u001b[43m                   \u001b[49m\u001b[43mlogger\u001b[49m\u001b[38;5;241;43m=\u001b[39;49m\u001b[43mlogger\u001b[49m\u001b[43m)\u001b[49m\n\u001b[1;32m    309\u001b[0m \u001b[38;5;28;01mif\u001b[39;00m remove_temp \u001b[38;5;129;01mand\u001b[39;00m make_audio:\n\u001b[1;32m    310\u001b[0m     \u001b[38;5;28;01mif\u001b[39;00m os\u001b[38;5;241m.\u001b[39mpath\u001b[38;5;241m.\u001b[39mexists(audiofile):\n",
      "File \u001b[0;32m~/miniconda3/envs/AndMoviepy/lib/python3.10/site-packages/moviepy/video/io/ffmpeg_writer.py:220\u001b[0m, in \u001b[0;36mffmpeg_write_video\u001b[0;34m(clip, filename, fps, codec, bitrate, preset, withmask, write_logfile, audiofile, verbose, threads, ffmpeg_params, logger)\u001b[0m\n\u001b[1;32m    213\u001b[0m \u001b[38;5;28;01mwith\u001b[39;00m FFMPEG_VideoWriter(filename, clip\u001b[38;5;241m.\u001b[39msize, fps, codec \u001b[38;5;241m=\u001b[39m codec,\n\u001b[1;32m    214\u001b[0m                             preset\u001b[38;5;241m=\u001b[39mpreset, bitrate\u001b[38;5;241m=\u001b[39mbitrate, logfile\u001b[38;5;241m=\u001b[39mlogfile,\n\u001b[1;32m    215\u001b[0m                             audiofile\u001b[38;5;241m=\u001b[39maudiofile, threads\u001b[38;5;241m=\u001b[39mthreads,\n\u001b[1;32m    216\u001b[0m                             ffmpeg_params\u001b[38;5;241m=\u001b[39mffmpeg_params) \u001b[38;5;28;01mas\u001b[39;00m writer:\n\u001b[1;32m    218\u001b[0m     nframes \u001b[38;5;241m=\u001b[39m \u001b[38;5;28mint\u001b[39m(clip\u001b[38;5;241m.\u001b[39mduration\u001b[38;5;241m*\u001b[39mfps)\n\u001b[0;32m--> 220\u001b[0m     \u001b[38;5;28;01mfor\u001b[39;00m t,frame \u001b[38;5;129;01min\u001b[39;00m clip\u001b[38;5;241m.\u001b[39miter_frames(logger\u001b[38;5;241m=\u001b[39mlogger, with_times\u001b[38;5;241m=\u001b[39m\u001b[38;5;28;01mTrue\u001b[39;00m,\n\u001b[1;32m    221\u001b[0m                                     fps\u001b[38;5;241m=\u001b[39mfps, dtype\u001b[38;5;241m=\u001b[39m\u001b[38;5;124m\"\u001b[39m\u001b[38;5;124muint8\u001b[39m\u001b[38;5;124m\"\u001b[39m):\n\u001b[1;32m    222\u001b[0m         \u001b[38;5;28;01mif\u001b[39;00m withmask:\n\u001b[1;32m    223\u001b[0m             mask \u001b[38;5;241m=\u001b[39m (\u001b[38;5;241m255\u001b[39m\u001b[38;5;241m*\u001b[39mclip\u001b[38;5;241m.\u001b[39mmask\u001b[38;5;241m.\u001b[39mget_frame(t))\n",
      "File \u001b[0;32m~/miniconda3/envs/AndMoviepy/lib/python3.10/site-packages/moviepy/Clip.py:472\u001b[0m, in \u001b[0;36mClip.iter_frames\u001b[0;34m(self, fps, with_times, logger, dtype)\u001b[0m\n\u001b[1;32m    470\u001b[0m logger \u001b[38;5;241m=\u001b[39m proglog\u001b[38;5;241m.\u001b[39mdefault_bar_logger(logger)\n\u001b[1;32m    471\u001b[0m \u001b[38;5;28;01mfor\u001b[39;00m t \u001b[38;5;129;01min\u001b[39;00m logger\u001b[38;5;241m.\u001b[39miter_bar(t\u001b[38;5;241m=\u001b[39mnp\u001b[38;5;241m.\u001b[39marange(\u001b[38;5;241m0\u001b[39m, \u001b[38;5;28mself\u001b[39m\u001b[38;5;241m.\u001b[39mduration, \u001b[38;5;241m1.0\u001b[39m\u001b[38;5;241m/\u001b[39mfps)):\n\u001b[0;32m--> 472\u001b[0m     frame \u001b[38;5;241m=\u001b[39m \u001b[38;5;28;43mself\u001b[39;49m\u001b[38;5;241;43m.\u001b[39;49m\u001b[43mget_frame\u001b[49m\u001b[43m(\u001b[49m\u001b[43mt\u001b[49m\u001b[43m)\u001b[49m\n\u001b[1;32m    473\u001b[0m     \u001b[38;5;28;01mif\u001b[39;00m (dtype \u001b[38;5;129;01mis\u001b[39;00m \u001b[38;5;129;01mnot\u001b[39;00m \u001b[38;5;28;01mNone\u001b[39;00m) \u001b[38;5;129;01mand\u001b[39;00m (frame\u001b[38;5;241m.\u001b[39mdtype \u001b[38;5;241m!=\u001b[39m dtype):\n\u001b[1;32m    474\u001b[0m         frame \u001b[38;5;241m=\u001b[39m frame\u001b[38;5;241m.\u001b[39mastype(dtype)\n",
      "File \u001b[0;32m<string>:2\u001b[0m, in \u001b[0;36mget_frame\u001b[0;34m(self, t)\u001b[0m\n",
      "File \u001b[0;32m~/miniconda3/envs/AndMoviepy/lib/python3.10/site-packages/moviepy/decorators.py:89\u001b[0m, in \u001b[0;36mpreprocess_args.<locals>.wrapper\u001b[0;34m(f, *a, **kw)\u001b[0m\n\u001b[1;32m     85\u001b[0m new_a \u001b[38;5;241m=\u001b[39m [fun(arg) \u001b[38;5;28;01mif\u001b[39;00m (name \u001b[38;5;129;01min\u001b[39;00m varnames) \u001b[38;5;28;01melse\u001b[39;00m arg\n\u001b[1;32m     86\u001b[0m          \u001b[38;5;28;01mfor\u001b[39;00m (arg, name) \u001b[38;5;129;01min\u001b[39;00m \u001b[38;5;28mzip\u001b[39m(a, names)]\n\u001b[1;32m     87\u001b[0m new_kw \u001b[38;5;241m=\u001b[39m {k: fun(v) \u001b[38;5;28;01mif\u001b[39;00m k \u001b[38;5;129;01min\u001b[39;00m varnames \u001b[38;5;28;01melse\u001b[39;00m v\n\u001b[1;32m     88\u001b[0m          \u001b[38;5;28;01mfor\u001b[39;00m (k,v) \u001b[38;5;129;01min\u001b[39;00m kw\u001b[38;5;241m.\u001b[39mitems()}\n\u001b[0;32m---> 89\u001b[0m \u001b[38;5;28;01mreturn\u001b[39;00m \u001b[43mf\u001b[49m\u001b[43m(\u001b[49m\u001b[38;5;241;43m*\u001b[39;49m\u001b[43mnew_a\u001b[49m\u001b[43m,\u001b[49m\u001b[43m \u001b[49m\u001b[38;5;241;43m*\u001b[39;49m\u001b[38;5;241;43m*\u001b[39;49m\u001b[43mnew_kw\u001b[49m\u001b[43m)\u001b[49m\n",
      "File \u001b[0;32m~/miniconda3/envs/AndMoviepy/lib/python3.10/site-packages/moviepy/Clip.py:93\u001b[0m, in \u001b[0;36mClip.get_frame\u001b[0;34m(self, t)\u001b[0m\n\u001b[1;32m     91\u001b[0m         \u001b[38;5;28;01mreturn\u001b[39;00m frame\n\u001b[1;32m     92\u001b[0m \u001b[38;5;28;01melse\u001b[39;00m:\n\u001b[0;32m---> 93\u001b[0m     \u001b[38;5;28;01mreturn\u001b[39;00m \u001b[38;5;28;43mself\u001b[39;49m\u001b[38;5;241;43m.\u001b[39;49m\u001b[43mmake_frame\u001b[49m\u001b[43m(\u001b[49m\u001b[43mt\u001b[49m\u001b[43m)\u001b[49m\n",
      "File \u001b[0;32m~/miniconda3/envs/AndMoviepy/lib/python3.10/site-packages/moviepy/video/compositing/CompositeVideoClip.py:111\u001b[0m, in \u001b[0;36mCompositeVideoClip.__init__.<locals>.make_frame\u001b[0;34m(t)\u001b[0m\n\u001b[1;32m    109\u001b[0m f \u001b[38;5;241m=\u001b[39m \u001b[38;5;28mself\u001b[39m\u001b[38;5;241m.\u001b[39mbg\u001b[38;5;241m.\u001b[39mget_frame(t)\n\u001b[1;32m    110\u001b[0m \u001b[38;5;28;01mfor\u001b[39;00m c \u001b[38;5;129;01min\u001b[39;00m \u001b[38;5;28mself\u001b[39m\u001b[38;5;241m.\u001b[39mplaying_clips(t):\n\u001b[0;32m--> 111\u001b[0m         f \u001b[38;5;241m=\u001b[39m \u001b[43mc\u001b[49m\u001b[38;5;241;43m.\u001b[39;49m\u001b[43mblit_on\u001b[49m\u001b[43m(\u001b[49m\u001b[43mf\u001b[49m\u001b[43m,\u001b[49m\u001b[43m \u001b[49m\u001b[43mt\u001b[49m\u001b[43m)\u001b[49m\n\u001b[1;32m    112\u001b[0m \u001b[38;5;28;01mreturn\u001b[39;00m f\n",
      "File \u001b[0;32m~/miniconda3/envs/AndMoviepy/lib/python3.10/site-packages/moviepy/video/VideoClip.py:564\u001b[0m, in \u001b[0;36mVideoClip.blit_on\u001b[0;34m(self, picture, t)\u001b[0m\n\u001b[1;32m    560\u001b[0m     pos[\u001b[38;5;241m1\u001b[39m] \u001b[38;5;241m=\u001b[39m D[pos[\u001b[38;5;241m1\u001b[39m]]\n\u001b[1;32m    562\u001b[0m pos \u001b[38;5;241m=\u001b[39m \u001b[38;5;28mmap\u001b[39m(\u001b[38;5;28mint\u001b[39m, pos)\n\u001b[0;32m--> 564\u001b[0m \u001b[38;5;28;01mreturn\u001b[39;00m \u001b[43mblit\u001b[49m\u001b[43m(\u001b[49m\u001b[43mimg\u001b[49m\u001b[43m,\u001b[49m\u001b[43m \u001b[49m\u001b[43mpicture\u001b[49m\u001b[43m,\u001b[49m\u001b[43m \u001b[49m\u001b[43mpos\u001b[49m\u001b[43m,\u001b[49m\u001b[43m \u001b[49m\u001b[43mmask\u001b[49m\u001b[38;5;241;43m=\u001b[39;49m\u001b[43mmask\u001b[49m\u001b[43m,\u001b[49m\u001b[43m \u001b[49m\u001b[43mismask\u001b[49m\u001b[38;5;241;43m=\u001b[39;49m\u001b[38;5;28;43mself\u001b[39;49m\u001b[38;5;241;43m.\u001b[39;49m\u001b[43mismask\u001b[49m\u001b[43m)\u001b[49m\n",
      "File \u001b[0;32m~/miniconda3/envs/AndMoviepy/lib/python3.10/site-packages/moviepy/video/tools/drawing.py:49\u001b[0m, in \u001b[0;36mblit\u001b[0;34m(im1, im2, pos, mask, ismask)\u001b[0m\n\u001b[1;32m     46\u001b[0m     blit_region \u001b[38;5;241m=\u001b[39m new_im2[yp1:yp2, xp1:xp2]\n\u001b[1;32m     47\u001b[0m     new_im2[yp1:yp2, xp1:xp2] \u001b[38;5;241m=\u001b[39m (\u001b[38;5;241m1.0\u001b[39m \u001b[38;5;241m*\u001b[39m mask \u001b[38;5;241m*\u001b[39m blitted \u001b[38;5;241m+\u001b[39m (\u001b[38;5;241m1.0\u001b[39m \u001b[38;5;241m-\u001b[39m mask) \u001b[38;5;241m*\u001b[39m blit_region)\n\u001b[0;32m---> 49\u001b[0m \u001b[38;5;28;01mreturn\u001b[39;00m \u001b[43mnew_im2\u001b[49m\u001b[38;5;241;43m.\u001b[39;49m\u001b[43mastype\u001b[49m\u001b[43m(\u001b[49m\u001b[38;5;124;43m'\u001b[39;49m\u001b[38;5;124;43muint8\u001b[39;49m\u001b[38;5;124;43m'\u001b[39;49m\u001b[43m)\u001b[49m \u001b[38;5;28;01mif\u001b[39;00m (\u001b[38;5;129;01mnot\u001b[39;00m ismask) \u001b[38;5;28;01melse\u001b[39;00m new_im2\n",
      "\u001b[0;31mKeyboardInterrupt\u001b[0m: "
     ]
    }
   ],
   "source": [
    "# Bloque de uso\n",
    "try:\n",
    "    # Combinar videos con transiciones\n",
    "    video_final = combinar_videos_con_fade(carpeta, excel_path, num_archivos=10, duracion_fade=2)\n",
    "\n",
    "    # Cargar intro y combinar con el video final\n",
    "    intro = VideoFileClip(intro_path).set_duration(5)  # Ajustar duración del intro si es necesario\n",
    "    final_video = concatenate_videoclips([intro, video_final], method=\"compose\")\n",
    "\n",
    "    # Guardar el video final\n",
    "    final_video.write_videofile('video_automatico.mp4', codec=\"h264_nvenc\", audio_codec=\"aac\", fps=24)\n",
    "    print(\"¡Listo! Video automático creado con éxito.\")\n",
    "except ValueError as e:\n",
    "    print(f\"Error: {e}\")\n",
    "except FileNotFoundError as e:\n",
    "    print(f\"No se encontró el archivo: {e}\")\n",
    "except Exception as e:\n",
    "    print(f\"Error inesperado: {e}\")"
   ]
  }
 ],
 "metadata": {
  "kernelspec": {
   "display_name": "AndMoviepy",
   "language": "python",
   "name": "python3"
  },
  "language_info": {
   "codemirror_mode": {
    "name": "ipython",
    "version": 3
   },
   "file_extension": ".py",
   "mimetype": "text/x-python",
   "name": "python",
   "nbconvert_exporter": "python",
   "pygments_lexer": "ipython3",
   "version": "3.10.14"
  }
 },
 "nbformat": 4,
 "nbformat_minor": 2
}
