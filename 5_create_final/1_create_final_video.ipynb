{
 "cells": [
  {
   "cell_type": "code",
   "execution_count": 1,
   "metadata": {},
   "outputs": [],
   "source": [
    "import os\n",
    "import random\n",
    "from moviepy.editor import *\n",
    "import moviepy.audio.fx.all as afx\n",
    "from moviepy.video import fx\n",
    "from moviepy.config import change_settings\n",
    "change_settings({\"FFMPEG_BINARY\":\"ffmpeg\"})\n",
    "# from PIL import Image"
   ]
  },
  {
   "cell_type": "code",
   "execution_count": 2,
   "metadata": {},
   "outputs": [],
   "source": [
    "select_folder = int(input('Select folder: '))"
   ]
  },
  {
   "cell_type": "code",
   "execution_count": 3,
   "metadata": {},
   "outputs": [],
   "source": [
    "if select_folder == 1:\n",
    "    folder_test = 'History'\n",
    "elif select_folder == 2:\n",
    "    folder_test = 'Music'\n",
    "elif select_folder == 3:\n",
    "    folder_test = 'Tech'\n",
    "else:\n",
    "    pass"
   ]
  },
  {
   "cell_type": "code",
   "execution_count": 4,
   "metadata": {},
   "outputs": [],
   "source": [
    "carpeta = f'/mnt/D8E84E4DE84E2A58/Env_python/Create_video_news/4_create_video_by_news/videos_by_news'\n",
    "intro_path = f'/mnt/D8E84E4DE84E2A58/backUp_Img_Vid/Intro/{folder_test}/Intro.mp4'\n",
    "video_transicion_path = \"transicion.png\""
   ]
  },
  {
   "cell_type": "code",
   "execution_count": 5,
   "metadata": {},
   "outputs": [],
   "source": [
    "# def combinar_videos_con_fade(carpeta, num_archivos=20, duracion_fade=1):\n",
    "#     # Seleccionar archivos de video en orden\n",
    "#     archivos = sorted([f for f in os.listdir(carpeta) if f.endswith('.mp4')])\n",
    "#     if len(archivos) == 0:\n",
    "#         raise ValueError(f'La carpeta {carpeta} está vacía o no contiene archivos válidos.')\n",
    "\n",
    "#     # Limitar la cantidad de archivos\n",
    "#     archivos = archivos[:num_archivos]\n",
    "#     ruta_archivos = [os.path.join(carpeta, archivo) for archivo in archivos]\n",
    "\n",
    "#     # Cargar clips y añadir fades\n",
    "#     clips = []\n",
    "#     for ruta in ruta_archivos:\n",
    "#         clip = VideoFileClip(ruta)\n",
    "#         clip = clip.fadein(duracion_fade).fadeout(duracion_fade)  # Transiciones\n",
    "#         clips.append(clip)\n",
    "\n",
    "#     # Concatenar videos\n",
    "#     video_final = concatenate_videoclips(clips, method=\"compose\")\n",
    "#     return video_final\n",
    "\n",
    "\n",
    "# def combinar_videos_con_fade(carpeta, num_archivos=20, duracion_fade=1, duracion_transicion=1):\n",
    "#     # Seleccionar archivos de video en orden\n",
    "#     archivos = sorted([f for f in os.listdir(carpeta) if f.endswith('.mp4')])\n",
    "#     if len(archivos) == 0:\n",
    "#         raise ValueError(f'La carpeta {carpeta} está vacía o no contiene archivos válidos.')\n",
    "\n",
    "#     # Limitar la cantidad de archivos\n",
    "#     archivos = archivos[:num_archivos]\n",
    "#     ruta_archivos = [os.path.join(carpeta, archivo) for archivo in archivos]\n",
    "\n",
    "#     # Crear una transición personalizada (ColorClip como ejemplo)\n",
    "#     transicion = ColorClip(size=(1920, 1080), color=(0, 0, 0), duration=duracion_transicion).fadein(duracion_fade).fadeout(duracion_fade)\n",
    "\n",
    "#     # Cargar clips y añadir la transición personalizada entre ellos\n",
    "#     clips_con_transiciones = []\n",
    "#     for i, ruta in enumerate(ruta_archivos):\n",
    "#         clip = VideoFileClip(ruta).fadein(duracion_fade).fadeout(duracion_fade)\n",
    "#         clips_con_transiciones.append(clip)\n",
    "#         if i < len(ruta_archivos) - 1:  # Añadir transición después de cada clip excepto el último\n",
    "#             clips_con_transiciones.append(transicion)\n",
    "\n",
    "#     # Concatenar todos los clips (videos + transiciones)\n",
    "#     video_final = concatenate_videoclips(clips_con_transiciones, method=\"compose\")\n",
    "#     return video_final\n",
    "\n",
    "\n",
    "\n",
    "def combinar_videos_con_fade(carpeta, num_archivos=20, duracion_fade=1, duracion_transicion=1, transicion_path=\"transicion.png\"):\n",
    "    # Seleccionar archivos de video en orden\n",
    "    archivos = sorted([f for f in os.listdir(carpeta) if f.endswith('.mp4')])\n",
    "    if len(archivos) == 0:\n",
    "        raise ValueError(f'La carpeta {carpeta} está vacía o no contiene archivos válidos.')\n",
    "\n",
    "    # Limitar la cantidad de archivos\n",
    "    archivos = archivos[:num_archivos]\n",
    "    ruta_archivos = [os.path.join(carpeta, archivo) for archivo in archivos]\n",
    "\n",
    "    # Cargar la imagen de transición generada y crear un clip de video a partir de ella\n",
    "    if not os.path.exists(transicion_path):\n",
    "        raise FileNotFoundError(f'No se encontró la imagen de transición en {transicion_path}')\n",
    "    \n",
    "    transicion_imagen = ImageClip(transicion_path, duration=duracion_transicion).fadein(duracion_fade).fadeout(duracion_fade)\n",
    "\n",
    "    # Cargar clips y añadir la transición personalizada entre ellos\n",
    "    clips_con_transiciones = []\n",
    "    for i, ruta in enumerate(ruta_archivos):\n",
    "        clip = VideoFileClip(ruta).fadein(duracion_fade).fadeout(duracion_fade)\n",
    "        clips_con_transiciones.append(clip)\n",
    "        if i < len(ruta_archivos) - 1:  # Añadir transición después de cada clip excepto el último\n",
    "            clips_con_transiciones.append(transicion_imagen)\n",
    "\n",
    "    # Concatenar todos los clips (videos + transiciones)\n",
    "    video_final = concatenate_videoclips(clips_con_transiciones, method=\"compose\")\n",
    "    return video_final"
   ]
  },
  {
   "cell_type": "code",
   "execution_count": 6,
   "metadata": {},
   "outputs": [
    {
     "name": "stdout",
     "output_type": "stream",
     "text": [
      "Moviepy - Building video video_automatico.mp4.\n",
      "MoviePy - Writing audio in video_automaticoTEMP_MPY_wvf_snd.mp4\n"
     ]
    },
    {
     "name": "stderr",
     "output_type": "stream",
     "text": [
      "                                                                      \r"
     ]
    },
    {
     "name": "stdout",
     "output_type": "stream",
     "text": [
      "MoviePy - Done.\n",
      "Moviepy - Writing video video_automatico.mp4\n",
      "\n"
     ]
    },
    {
     "name": "stderr",
     "output_type": "stream",
     "text": [
      "                                                                \r"
     ]
    },
    {
     "name": "stdout",
     "output_type": "stream",
     "text": [
      "Moviepy - Done !\n",
      "Moviepy - video ready video_automatico.mp4\n",
      "¡Listo! Video automático creado con éxito.\n"
     ]
    }
   ],
   "source": [
    "# try:\n",
    "#     # Combinar videos con transiciones\n",
    "#     video_final = combinar_videos_con_fade(carpeta, num_archivos=10, duracion_fade=1.5)\n",
    "\n",
    "#     # Cargar intro y combinar con el video final\n",
    "#     intro = VideoFileClip(intro_path).set_duration(5)  # Ajustar duración del intro si es necesario\n",
    "#     final_video = concatenate_videoclips([intro, video_final], method=\"compose\")\n",
    "\n",
    "#     # Guardar el video final\n",
    "#     final_video.write_videofile('video_automatico.mp4', codec=\"libx264\", audio_codec=\"aac\", fps=24)\n",
    "#     print(\"¡Listo! Video automático creado con éxito.\")\n",
    "# except ValueError as e:\n",
    "#     print(f\"Error: {e}\")\n",
    "# except FileNotFoundError as e:\n",
    "#     print(f\"No se encontró el archivo: {e}\")\n",
    "# except Exception as e:\n",
    "#     print(f\"Error inesperado: {e}\")\n",
    "\n",
    "\n",
    "# Bloque de uso\n",
    "try:\n",
    "    # Combinar videos con transiciones\n",
    "    video_final = combinar_videos_con_fade(carpeta, num_archivos=10, duracion_fade=1.5)\n",
    "\n",
    "    # Cargar intro y combinar con el video final\n",
    "    intro = VideoFileClip(intro_path).set_duration(5)  # Ajustar duración del intro si es necesario\n",
    "    final_video = concatenate_videoclips([intro, video_final], method=\"compose\")\n",
    "\n",
    "    # Guardar el video final\n",
    "    # final_video.write_videofile('video_automatico.mp4', codec=\"libx264\", audio_codec=\"aac\", fps=24)\n",
    "    final_video.write_videofile('video_automatico.mp4', codec=\"h264_nvenc\", audio_codec=\"aac\", fps=24)\n",
    "    print(\"¡Listo! Video automático creado con éxito.\")\n",
    "except ValueError as e:\n",
    "    print(f\"Error: {e}\")\n",
    "except FileNotFoundError as e:\n",
    "    print(f\"No se encontró el archivo: {e}\")\n",
    "except Exception as e:\n",
    "    print(f\"Error inesperado: {e}\")"
   ]
  },
  {
   "cell_type": "code",
   "execution_count": null,
   "metadata": {},
   "outputs": [],
   "source": []
  }
 ],
 "metadata": {
  "kernelspec": {
   "display_name": "AndMoviepy",
   "language": "python",
   "name": "python3"
  },
  "language_info": {
   "codemirror_mode": {
    "name": "ipython",
    "version": 3
   },
   "file_extension": ".py",
   "mimetype": "text/x-python",
   "name": "python",
   "nbconvert_exporter": "python",
   "pygments_lexer": "ipython3",
   "version": "3.10.14"
  }
 },
 "nbformat": 4,
 "nbformat_minor": 2
}
