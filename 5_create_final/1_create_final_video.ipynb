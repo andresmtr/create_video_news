{
 "cells": [
  {
   "cell_type": "code",
   "execution_count": 1,
   "metadata": {},
   "outputs": [],
   "source": [
    "import os\n",
    "import random\n",
    "import pandas as pd\n",
    "from moviepy.editor import *\n",
    "import moviepy.audio.fx.all as afx\n",
    "from moviepy.video import fx\n",
    "from moviepy.config import change_settings\n",
    "change_settings({\"FFMPEG_BINARY\":\"ffmpeg\"})\n",
    "# from PIL import Image"
   ]
  },
  {
   "cell_type": "code",
   "execution_count": 2,
   "metadata": {},
   "outputs": [],
   "source": [
    "select_folder = int(input('Select folder: '))"
   ]
  },
  {
   "cell_type": "code",
   "execution_count": 3,
   "metadata": {},
   "outputs": [],
   "source": [
    "if select_folder == 1:\n",
    "    folder_test = 'History'\n",
    "elif select_folder == 2:\n",
    "    folder_test = 'Music'\n",
    "elif select_folder == 3:\n",
    "    folder_test = 'Tech'\n",
    "else:\n",
    "    pass"
   ]
  },
  {
   "cell_type": "code",
   "execution_count": 4,
   "metadata": {},
   "outputs": [],
   "source": [
    "carpeta = f'/mnt/D8E84E4DE84E2A58/Env_python/Create_video_news/4_create_video_by_news/videos_by_news'\n",
    "intro_path = f'/mnt/D8E84E4DE84E2A58/backUp_Img_Vid/Intro/{folder_test}/Intro.mp4'\n",
    "video_transicion_path = \"transicion.png\"\n",
    "excel_path = 'titulo_entre_videos.xlsx'"
   ]
  },
  {
   "cell_type": "code",
   "execution_count": 5,
   "metadata": {},
   "outputs": [],
   "source": [
    "def combinar_videos_con_fade(carpeta, excel_path, num_archivos=20, duracion_fade=1, duracion_transicion=2, transicion_path=\"transicion.png\"):\n",
    "    # Seleccionar archivos de video en orden\n",
    "    archivos = sorted([f for f in os.listdir(carpeta) if f.endswith('.mp4')])\n",
    "    if len(archivos) == 0:\n",
    "        raise ValueError(f'La carpeta {carpeta} está vacía o no contiene archivos válidos.')\n",
    "\n",
    "    # Leer archivo Excel\n",
    "    if not os.path.exists(excel_path):\n",
    "        raise FileNotFoundError(f\"No se encontró el archivo Excel en {excel_path}\")\n",
    "    df = pd.read_excel(excel_path)\n",
    "\n",
    "    # Filtrar el DataFrame para que coincida con los nombres completos de los archivos\n",
    "    df = df[df['conca'].isin(archivos)]\n",
    "    if df.empty:\n",
    "        raise ValueError(\"No se encontraron coincidencias entre los videos y el archivo Excel.\")\n",
    "\n",
    "    # Limitar la cantidad de archivos\n",
    "    archivos = archivos[:num_archivos]\n",
    "    ruta_archivos = [os.path.join(carpeta, archivo) for archivo in archivos]\n",
    "\n",
    "    # Verificar existencia de la transición\n",
    "    if not os.path.exists(transicion_path):\n",
    "        raise FileNotFoundError(f'No se encontró la imagen de transición en {transicion_path}')\n",
    "\n",
    "    # Crear clips y añadir transiciones personalizadas\n",
    "    clips_con_transiciones = []\n",
    "    for i, ruta in enumerate(ruta_archivos):\n",
    "        # Crear texto para la transición\n",
    "        nombre_video = os.path.basename(ruta)\n",
    "        titulo = df.loc[df['conca'] == nombre_video, 'Titulo'].values\n",
    "        if titulo.size > 0:\n",
    "            texto_clip = TextClip(\n",
    "                titulo[0], fontsize=100, color='white', font=\"Arial\", size=(1920, 1080)\n",
    "            ).set_duration(duracion_transicion)\n",
    "        else:\n",
    "            texto_clip = None\n",
    "\n",
    "        # Crear transición combinando la imagen y el texto\n",
    "        transicion_imagen = ImageClip(transicion_path, duration=duracion_transicion)\n",
    "        if texto_clip:\n",
    "            # Superponer el texto sobre la imagen de transición\n",
    "            transicion = CompositeVideoClip([transicion_imagen, texto_clip.set_position('center')])\n",
    "        else:\n",
    "            transicion = transicion_imagen\n",
    "\n",
    "        transicion = transicion.fadein(duracion_fade).fadeout(duracion_fade)\n",
    "\n",
    "        # Cargar video principal\n",
    "        clip = VideoFileClip(ruta).fadein(duracion_fade).fadeout(duracion_fade)\n",
    "        clips_con_transiciones.append(clip)\n",
    "\n",
    "        # Añadir la transición combinada\n",
    "        clips_con_transiciones.append(transicion)\n",
    "\n",
    "    # Concatenar todos los clips (videos + transiciones)\n",
    "    video_final = concatenate_videoclips(clips_con_transiciones, method=\"compose\")\n",
    "    return video_final\n"
   ]
  },
  {
   "cell_type": "markdown",
   "metadata": {},
   "source": [
    "Este error específico indica que ImageMagick está bloqueando ciertas operaciones debido a su configuración de seguridad predeterminada. Este problema suele ocurrir con versiones recientes de ImageMagick, donde algunas acciones, como la creación de clips de texto, están deshabilitadas por el archivo policy.xml.\n",
    "Solución para el problema\n",
    "1. Editar el archivo policy.xml de ImageMagick\n",
    "\n",
    "El archivo de configuración policy.xml se encuentra en el directorio de instalación de ImageMagick. Necesitamos modificarlo para permitir las operaciones que MoviePy requiere. Sigue estos pasos:\n",
    "Ubicación del archivo policy.xml:\n",
    "\n",
    "    Linux/Ubuntu:\n",
    "    Usualmente en /etc/ImageMagick-6/ o /etc/ImageMagick-7/.\n",
    "    MacOS:\n",
    "    Usualmente en /usr/local/etc/ImageMagick-7/.\n",
    "    Windows:\n",
    "    Ubícalo en el directorio de instalación de ImageMagick (algo como C:\\Program Files\\ImageMagick-7.X.X-Q16-HDRI\\policy.xml).\n",
    "\n",
    "Modificación del archivo:\n",
    "\n",
    "    Abre el archivo policy.xml con permisos de administrador:\n",
    "        En Linux:\n",
    "\n",
    "    sudo nano /etc/ImageMagick-7/policy.xml\n",
    "\n",
    "    En Windows: Usa un editor de texto como Notepad++ con permisos de administrador.\n",
    "\n",
    "Busca las líneas relacionadas con @ o TXT. Deberían lucir algo como esto:\n",
    "\n",
    "<policy domain=\"path\" rights=\"none\" pattern=\"@*\" />\n",
    "\n",
    "Cambia el valor de rights=\"none\" a rights=\"read|write\", permitiendo a MoviePy acceder a esos recursos:\n",
    "\n",
    "    <policy domain=\"path\" rights=\"read|write\" pattern=\"@*\" />\n",
    "\n",
    "    Guarda el archivo y cierra el editor.\n",
    "\n",
    "2. Verifica la instalación de ImageMagick\n",
    "\n",
    "Asegúrate de que ImageMagick esté correctamente instalado y accesible desde la línea de comandos:\n",
    "\n",
    "    Ejecuta el siguiente comando en la terminal o línea de comandos:\n",
    "\n",
    "    magick -version\n",
    "\n",
    "    Si ImageMagick está instalado correctamente, deberías ver la versión instalada.\n",
    "\n",
    "3. Reinicia tu sistema (opcional)\n",
    "\n",
    "En algunos sistemas operativos, es posible que necesites reiniciar el sistema para que los cambios en el archivo policy.xml tengan efecto.\n",
    "4. Configura el binario de ImageMagick en MoviePy\n",
    "\n",
    "Para asegurarte de que MoviePy esté usando el binario correcto de ImageMagick, configura explícitamente la ruta en tu código:\n",
    "\n",
    "from moviepy.config import change_settings\n",
    "\n",
    "change_settings({\"IMAGEMAGICK_BINARY\": \"ruta/a/magick\"})  # Cambia \"ruta/a/magick\" a la ubicación exacta del binario\n",
    "\n",
    "Por ejemplo:\n",
    "\n",
    "    En Linux/MacOS: \"magick\"\n",
    "    En Windows: \"C:/Program Files/ImageMagick-7.X.X-Q16-HDRI/magick.exe\"\n",
    "\n",
    "5. Ejecuta nuevamente tu código\n",
    "\n",
    "Después de realizar estos cambios, vuelve a ejecutar el script. Ahora MoviePy debería poder generar los clips de texto sin errores."
   ]
  },
  {
   "cell_type": "code",
   "execution_count": null,
   "metadata": {},
   "outputs": [
    {
     "name": "stdout",
     "output_type": "stream",
     "text": [
      "Moviepy - Building video video_automatico.mp4.\n",
      "MoviePy - Writing audio in video_automaticoTEMP_MPY_wvf_snd.mp4\n"
     ]
    },
    {
     "name": "stderr",
     "output_type": "stream",
     "text": [
      "                                                                      \r"
     ]
    },
    {
     "name": "stdout",
     "output_type": "stream",
     "text": [
      "MoviePy - Done.\n",
      "Moviepy - Writing video video_automatico.mp4\n",
      "\n"
     ]
    },
    {
     "name": "stderr",
     "output_type": "stream",
     "text": [
      "                                                                \r"
     ]
    },
    {
     "name": "stdout",
     "output_type": "stream",
     "text": [
      "Moviepy - Done !\n",
      "Moviepy - video ready video_automatico.mp4\n",
      "¡Listo! Video automático creado con éxito.\n"
     ]
    }
   ],
   "source": [
    "# Bloque de uso\n",
    "try:\n",
    "    # Combinar videos con transiciones\n",
    "    video_final = combinar_videos_con_fade(carpeta, excel_path, num_archivos=10, duracion_fade=2)\n",
    "\n",
    "    # Cargar intro y combinar con el video final\n",
    "    intro = VideoFileClip(intro_path).set_duration(5)  # Ajustar duración del intro si es necesario\n",
    "    final_video = concatenate_videoclips([intro, video_final], method=\"compose\")\n",
    "\n",
    "    # Guardar el video final\n",
    "    final_video.write_videofile('video_automatico.mp4', codec=\"h264_nvenc\", audio_codec=\"aac\", fps=24)\n",
    "    print(\"¡Listo! Video automático creado con éxito.\")\n",
    "except ValueError as e:\n",
    "    print(f\"Error: {e}\")\n",
    "except FileNotFoundError as e:\n",
    "    print(f\"No se encontró el archivo: {e}\")\n",
    "except Exception as e:\n",
    "    print(f\"Error inesperado: {e}\")"
   ]
  },
  {
   "cell_type": "code",
   "execution_count": null,
   "metadata": {},
   "outputs": [],
   "source": []
  }
 ],
 "metadata": {
  "kernelspec": {
   "display_name": "AndMoviepy",
   "language": "python",
   "name": "python3"
  },
  "language_info": {
   "codemirror_mode": {
    "name": "ipython",
    "version": 3
   },
   "file_extension": ".py",
   "mimetype": "text/x-python",
   "name": "python",
   "nbconvert_exporter": "python",
   "pygments_lexer": "ipython3",
   "version": "3.10.14"
  }
 },
 "nbformat": 4,
 "nbformat_minor": 2
}
