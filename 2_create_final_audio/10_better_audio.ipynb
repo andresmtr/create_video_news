{
 "cells": [
  {
   "cell_type": "code",
   "execution_count": 1,
   "metadata": {},
   "outputs": [],
   "source": [
    "from pydub import AudioSegment\n",
    "from pydub.effects import normalize, low_pass_filter, high_pass_filter\n",
    "from scipy.signal import convolve\n",
    "import numpy as np\n",
    "import soundfile as sf\n",
    "import os"
   ]
  },
  {
   "cell_type": "code",
   "execution_count": 2,
   "metadata": {},
   "outputs": [],
   "source": [
    "# Selección del idioma\n",
    "select_lang = int(input('Select language (1 for English, 2 for Spanish): '))\n",
    "\n",
    "if select_lang == 1:\n",
    "    folder_lag = 'en'\n",
    "elif select_lang == 2:\n",
    "    folder_lag = 'es'\n",
    "else:\n",
    "    raise ValueError(\"Invalid language selection. Please select 1 (English) or 2 (Spanish).\")"
   ]
  },
  {
   "cell_type": "code",
   "execution_count": 3,
   "metadata": {},
   "outputs": [
    {
     "name": "stdout",
     "output_type": "stream",
     "text": [
      "All content in /mnt/D8E84E4DE84E2A58/Env_python/Create_video_news/2_create_final_audio/output_en_b has been deleted.\n"
     ]
    }
   ],
   "source": [
    "# Ruta donde se deben eliminar las carpetas\n",
    "output_path = f'/mnt/D8E84E4DE84E2A58/Env_python/Create_video_news/2_create_final_audio/output_{folder_lag}_b'\n",
    "\n",
    "# Eliminar todas las carpetas y su contenido en output_path\n",
    "if os.path.exists(output_path):\n",
    "    for item in os.listdir(output_path):\n",
    "        item_path = os.path.join(output_path, item)\n",
    "        if os.path.isfile(item_path):\n",
    "            os.remove(item_path)  # Eliminar archivo\n",
    "        elif os.path.isdir(item_path):\n",
    "            for root, dirs, files in os.walk(item_path, topdown=False):\n",
    "                for name in files:\n",
    "                    os.remove(os.path.join(root, name))\n",
    "                for name in dirs:\n",
    "                    os.rmdir(os.path.join(root, name))\n",
    "            os.rmdir(item_path)  # Finalmente, eliminar la carpeta vacía\n",
    "    print(f\"All content in {output_path} has been deleted.\")\n",
    "else:\n",
    "    print(f\"The folder {output_path} does not exist. Creating it...\")"
   ]
  },
  {
   "cell_type": "code",
   "execution_count": 4,
   "metadata": {},
   "outputs": [
    {
     "name": "stdout",
     "output_type": "stream",
     "text": [
      "Found 8 .txt files in /mnt/D8E84E4DE84E2A58/Env_python/Create_video_news/0_create text/text/en/final/.\n"
     ]
    }
   ],
   "source": [
    "# Asegurarse de que la carpeta existe después de la eliminación\n",
    "os.makedirs(output_path, exist_ok=True)\n",
    "# %%\n",
    "# Ruta de la carpeta de entrada con los archivos .txt\n",
    "folder_path = f'/mnt/D8E84E4DE84E2A58/Env_python/Create_video_news/0_create text/text/{folder_lag}/final/'\n",
    "\n",
    "# Validar si la carpeta existe\n",
    "if not os.path.exists(folder_path):\n",
    "    raise FileNotFoundError(f\"The input folder {folder_path} does not exist.\")\n",
    "\n",
    "# Lista de archivos .txt en la carpeta\n",
    "files = [f for f in os.listdir(folder_path) if f.endswith('.txt')]\n",
    "\n",
    "# Ordenar los archivos si es necesario\n",
    "files.sort()\n",
    "\n",
    "if not files:\n",
    "    raise ValueError(f\"No .txt files found in {folder_path}.\")\n",
    "\n",
    "print(f\"Found {len(files)} .txt files in {folder_path}.\")"
   ]
  },
  {
   "cell_type": "code",
   "execution_count": 5,
   "metadata": {},
   "outputs": [
    {
     "name": "stdout",
     "output_type": "stream",
     "text": [
      "Audio mejorado exportado a: /mnt/D8E84E4DE84E2A58/Env_python/Create_video_news/2_create_final_audio/output_en_b/1/audio_final_1.wav\n",
      "Audio mejorado exportado a: /mnt/D8E84E4DE84E2A58/Env_python/Create_video_news/2_create_final_audio/output_en_b/2/audio_final_2.wav\n",
      "Audio mejorado exportado a: /mnt/D8E84E4DE84E2A58/Env_python/Create_video_news/2_create_final_audio/output_en_b/3/audio_final_3.wav\n",
      "Audio mejorado exportado a: /mnt/D8E84E4DE84E2A58/Env_python/Create_video_news/2_create_final_audio/output_en_b/4/audio_final_4.wav\n",
      "Audio mejorado exportado a: /mnt/D8E84E4DE84E2A58/Env_python/Create_video_news/2_create_final_audio/output_en_b/5/audio_final_5.wav\n",
      "Audio mejorado exportado a: /mnt/D8E84E4DE84E2A58/Env_python/Create_video_news/2_create_final_audio/output_en_b/6/audio_final_6.wav\n",
      "Audio mejorado exportado a: /mnt/D8E84E4DE84E2A58/Env_python/Create_video_news/2_create_final_audio/output_en_b/7/audio_final_7.wav\n",
      "Audio mejorado exportado a: /mnt/D8E84E4DE84E2A58/Env_python/Create_video_news/2_create_final_audio/output_en_b/8/audio_final_8.wav\n"
     ]
    }
   ],
   "source": [
    "def enhance_audio(input_wav, output_wav):\n",
    "    try:\n",
    "        # Cargar el archivo de audio\n",
    "        audio = AudioSegment.from_file(input_wav)\n",
    "\n",
    "        # Normalizar el volumen\n",
    "        audio = normalize(audio)\n",
    "\n",
    "        # Aplicar filtro de paso alto para eliminar frecuencias muy bajas\n",
    "        audio = high_pass_filter(audio, cutoff=100)  # Mantener >100 Hz\n",
    "\n",
    "        # Aplicar filtro de paso bajo para suavizar frecuencias altas\n",
    "        audio = low_pass_filter(audio, cutoff=8000)  # Mantener <8000 Hz\n",
    "\n",
    "        # Crear eco (reverb simulado)\n",
    "        reverb_gain = 40  # Ganancia para la pista de eco\n",
    "        reverb_delay = 70 # Retraso del eco en milisegundos\n",
    "        reverb = audio - reverb_gain  # Reducir volumen del eco\n",
    "        reverb = AudioSegment.silent(duration=reverb_delay) + reverb  # Añadir silencio al inicio\n",
    "\n",
    "        # Superponer eco con el audio original\n",
    "        enhanced_audio = audio.overlay(reverb)\n",
    "\n",
    "        # Realzar las frecuencias bajas y medias\n",
    "        enhanced_audio = enhanced_audio + 2  # Incrementar ligeramente el volumen\n",
    "\n",
    "        # Exportar el archivo mejorado\n",
    "        enhanced_audio.export(output_wav, format=\"wav\")\n",
    "        print(f\"Audio mejorado exportado a: {output_wav}\")\n",
    "    except Exception as e:\n",
    "        print(f\"Error procesando {input_wav}: {e}\")\n",
    "\n",
    "# Procesar cada archivo\n",
    "for i, file in enumerate(files):\n",
    "    input_wav = f'/mnt/D8E84E4DE84E2A58/Env_python/Create_video_news/2_create_final_audio/output_{folder_lag}/{i+1}/audio_final_{i+1}.wav'\n",
    "    output_folder = os.path.join(output_path, str(i+1))\n",
    "    os.makedirs(output_folder, exist_ok=True)  # Crear la carpeta para cada archivo\n",
    "    output_wav = os.path.join(output_folder, f'audio_final_{i+1}.wav')\n",
    "\n",
    "    # Mejorar el audio\n",
    "    enhance_audio(input_wav, output_wav)\n",
    "\n"
   ]
  }
 ],
 "metadata": {
  "kernelspec": {
   "display_name": "AndBetterAudio",
   "language": "python",
   "name": "python3"
  },
  "language_info": {
   "codemirror_mode": {
    "name": "ipython",
    "version": 3
   },
   "file_extension": ".py",
   "mimetype": "text/x-python",
   "name": "python",
   "nbconvert_exporter": "python",
   "pygments_lexer": "ipython3",
   "version": "3.10.15"
  }
 },
 "nbformat": 4,
 "nbformat_minor": 2
}
