{
 "cells": [
  {
   "cell_type": "code",
   "execution_count": 1,
   "metadata": {},
   "outputs": [],
   "source": [
    "import os\n",
    "import shutil"
   ]
  },
  {
   "cell_type": "code",
   "execution_count": 2,
   "metadata": {},
   "outputs": [],
   "source": [
    "def copiar_archivos(origen, destino_base):\n",
    "    # Verifica si la carpeta de origen existe\n",
    "    if not os.path.exists(origen):\n",
    "        print(f\"La carpeta de origen '{origen}' no existe.\")\n",
    "        return\n",
    "\n",
    "    # Pide el nombre de la nueva carpeta de destino\n",
    "    nombre_carpeta_destino = input(\"Introduce el nombre de la nueva carpeta en el destino: \")\n",
    "    destino = os.path.join(destino_base, nombre_carpeta_destino)\n",
    "\n",
    "    # Crea la carpeta de destino si no existe\n",
    "    if not os.path.exists(destino):\n",
    "        os.makedirs(destino)\n",
    "        print(f\"Se creó la carpeta de destino: {destino}\")\n",
    "\n",
    "    # Recorre los archivos y subcarpetas en la carpeta de origen\n",
    "    for root, dirs, files in os.walk(origen):\n",
    "        # Crea las subcarpetas en el destino\n",
    "        for dir_name in dirs:\n",
    "            ruta_origen = os.path.join(root, dir_name)\n",
    "            ruta_destino = os.path.join(destino, os.path.relpath(ruta_origen, origen))\n",
    "            if not os.path.exists(ruta_destino):\n",
    "                os.makedirs(ruta_destino)\n",
    "                print(f\"Se creó la subcarpeta en el destino: {ruta_destino}\")\n",
    "\n",
    "        # Copia los archivos\n",
    "        for file_name in files:\n",
    "            ruta_origen = os.path.join(root, file_name)\n",
    "            ruta_destino = os.path.join(destino, os.path.relpath(ruta_origen, origen))\n",
    "            shutil.copy2(ruta_origen, ruta_destino)\n",
    "            print(f\"Se copió el archivo: {ruta_origen} -> {ruta_destino}\")"
   ]
  },
  {
   "cell_type": "code",
   "execution_count": 3,
   "metadata": {},
   "outputs": [
    {
     "name": "stdout",
     "output_type": "stream",
     "text": [
      "Se creó la carpeta de destino: video_by_number/8\n",
      "Se copió el archivo: video_fragmentado/GZWGelW5.mp4 -> video_by_number/8/GZWGelW5.mp4\n",
      "Se copió el archivo: video_fragmentado/1Un8LHv2.mp4 -> video_by_number/8/1Un8LHv2.mp4\n",
      "Se copió el archivo: video_fragmentado/1YLU7LyQ.mp4 -> video_by_number/8/1YLU7LyQ.mp4\n",
      "Se copió el archivo: video_fragmentado/3IRFbPH1.mp4 -> video_by_number/8/3IRFbPH1.mp4\n",
      "Se copió el archivo: video_fragmentado/4VevYnJu.mp4 -> video_by_number/8/4VevYnJu.mp4\n",
      "Se copió el archivo: video_fragmentado/6uwsIPLy.mp4 -> video_by_number/8/6uwsIPLy.mp4\n",
      "Se copió el archivo: video_fragmentado/7RIK01rJ.mp4 -> video_by_number/8/7RIK01rJ.mp4\n",
      "Se copió el archivo: video_fragmentado/97h3ypkn.mp4 -> video_by_number/8/97h3ypkn.mp4\n",
      "Se copió el archivo: video_fragmentado/9u9wa2cY.mp4 -> video_by_number/8/9u9wa2cY.mp4\n",
      "Se copió el archivo: video_fragmentado/AnaeXK4T.mp4 -> video_by_number/8/AnaeXK4T.mp4\n",
      "Se copió el archivo: video_fragmentado/bb8KtRZU.mp4 -> video_by_number/8/bb8KtRZU.mp4\n",
      "Se copió el archivo: video_fragmentado/bWI1YVB4.mp4 -> video_by_number/8/bWI1YVB4.mp4\n",
      "Se copió el archivo: video_fragmentado/CFaNbEYd.mp4 -> video_by_number/8/CFaNbEYd.mp4\n",
      "Se copió el archivo: video_fragmentado/CS5BjL9b.mp4 -> video_by_number/8/CS5BjL9b.mp4\n",
      "Se copió el archivo: video_fragmentado/D295nWME.mp4 -> video_by_number/8/D295nWME.mp4\n",
      "Se copió el archivo: video_fragmentado/EWWnnLlS.mp4 -> video_by_number/8/EWWnnLlS.mp4\n",
      "Se copió el archivo: video_fragmentado/FkFPj2RZ.mp4 -> video_by_number/8/FkFPj2RZ.mp4\n",
      "Se copió el archivo: video_fragmentado/GMJGJsdO.mp4 -> video_by_number/8/GMJGJsdO.mp4\n",
      "Se copió el archivo: video_fragmentado/GNovEv0m.mp4 -> video_by_number/8/GNovEv0m.mp4\n",
      "Se copió el archivo: video_fragmentado/gxgQSwQz.mp4 -> video_by_number/8/gxgQSwQz.mp4\n",
      "Se copió el archivo: video_fragmentado/iNrIwxmA.mp4 -> video_by_number/8/iNrIwxmA.mp4\n",
      "Se copió el archivo: video_fragmentado/ivpNoAb9.mp4 -> video_by_number/8/ivpNoAb9.mp4\n",
      "Se copió el archivo: video_fragmentado/jWaQ35q8.mp4 -> video_by_number/8/jWaQ35q8.mp4\n",
      "Se copió el archivo: video_fragmentado/nkcaw9JU.mp4 -> video_by_number/8/nkcaw9JU.mp4\n",
      "Se copió el archivo: video_fragmentado/NZ5dWkZd.mp4 -> video_by_number/8/NZ5dWkZd.mp4\n",
      "Se copió el archivo: video_fragmentado/pg7xSWKZ.mp4 -> video_by_number/8/pg7xSWKZ.mp4\n",
      "Se copió el archivo: video_fragmentado/pmUPrASV.mp4 -> video_by_number/8/pmUPrASV.mp4\n",
      "Se copió el archivo: video_fragmentado/poRsBgHc.mp4 -> video_by_number/8/poRsBgHc.mp4\n",
      "Se copió el archivo: video_fragmentado/q0JE1RY4.mp4 -> video_by_number/8/q0JE1RY4.mp4\n",
      "Se copió el archivo: video_fragmentado/rciSeg24.mp4 -> video_by_number/8/rciSeg24.mp4\n",
      "Se copió el archivo: video_fragmentado/RiKgphpE.mp4 -> video_by_number/8/RiKgphpE.mp4\n",
      "Se copió el archivo: video_fragmentado/RKWYjd8U.mp4 -> video_by_number/8/RKWYjd8U.mp4\n",
      "Se copió el archivo: video_fragmentado/Rvx01Rnb.mp4 -> video_by_number/8/Rvx01Rnb.mp4\n",
      "Se copió el archivo: video_fragmentado/sYaGSB3v.mp4 -> video_by_number/8/sYaGSB3v.mp4\n",
      "Se copió el archivo: video_fragmentado/t4FZgpNG.mp4 -> video_by_number/8/t4FZgpNG.mp4\n",
      "Se copió el archivo: video_fragmentado/T57OtXzb.mp4 -> video_by_number/8/T57OtXzb.mp4\n",
      "Se copió el archivo: video_fragmentado/U6WApTM7.mp4 -> video_by_number/8/U6WApTM7.mp4\n",
      "Se copió el archivo: video_fragmentado/uDQfDIUZ.mp4 -> video_by_number/8/uDQfDIUZ.mp4\n",
      "Se copió el archivo: video_fragmentado/URnt7nrX.mp4 -> video_by_number/8/URnt7nrX.mp4\n",
      "Se copió el archivo: video_fragmentado/VRuBGZq6.mp4 -> video_by_number/8/VRuBGZq6.mp4\n",
      "Se copió el archivo: video_fragmentado/Y2oH6dkT.mp4 -> video_by_number/8/Y2oH6dkT.mp4\n"
     ]
    }
   ],
   "source": [
    "# Ejemplo de uso\n",
    "carpeta_origen = \"video_fragmentado\"\n",
    "carpeta_base_destino = \"video_by_number\"\n",
    "\n",
    "copiar_archivos(carpeta_origen, carpeta_base_destino)"
   ]
  }
 ],
 "metadata": {
  "kernelspec": {
   "display_name": "AndDownLoadImg",
   "language": "python",
   "name": "python3"
  },
  "language_info": {
   "codemirror_mode": {
    "name": "ipython",
    "version": 3
   },
   "file_extension": ".py",
   "mimetype": "text/x-python",
   "name": "python",
   "nbconvert_exporter": "python",
   "pygments_lexer": "ipython3",
   "version": "3.10.15"
  }
 },
 "nbformat": 4,
 "nbformat_minor": 2
}
