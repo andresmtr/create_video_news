{
 "cells": [
  {
   "cell_type": "code",
   "execution_count": 1,
   "metadata": {},
   "outputs": [],
   "source": [
    "from pytube import YouTube\n",
    "import yt_dlp\n",
    "import os"
   ]
  },
  {
   "cell_type": "code",
   "execution_count": 2,
   "metadata": {},
   "outputs": [],
   "source": [
    "url = str(input('introduzca el video:'))"
   ]
  },
  {
   "cell_type": "code",
   "execution_count": 3,
   "metadata": {},
   "outputs": [],
   "source": [
    "carpeta_descarga = 'video_download'\n",
    "os.makedirs(carpeta_descarga, exist_ok=True)"
   ]
  },
  {
   "cell_type": "code",
   "execution_count": 4,
   "metadata": {},
   "outputs": [],
   "source": [
    "# Limpiar el contenido de la carpeta de descarga antes de descargar un nuevo video\n",
    "for filename in os.listdir(carpeta_descarga):\n",
    "    file_path = os.path.join(carpeta_descarga, filename)\n",
    "    try:\n",
    "        if os.path.isfile(file_path):  # Eliminar archivos\n",
    "            os.remove(file_path)\n",
    "        elif os.path.isdir(file_path):  # Eliminar directorios\n",
    "            # Eliminar el directorio y su contenido\n",
    "            for root, dirs, files in os.walk(file_path, topdown=False):\n",
    "                for file in files:\n",
    "                    os.remove(os.path.join(root, file))  # Eliminar archivos dentro del directorio\n",
    "                for dir in dirs:\n",
    "                    os.rmdir(os.path.join(root, dir))  # Eliminar directorios vacíos\n",
    "            os.rmdir(file_path)  # Eliminar el directorio principal\n",
    "    except Exception as e:\n",
    "        print(f\"Error al eliminar {file_path}: {e}\")"
   ]
  },
  {
   "cell_type": "code",
   "execution_count": 5,
   "metadata": {},
   "outputs": [],
   "source": [
    "# Opciones de descarga\n",
    "ydl_opts = {\n",
    "    'format': 'bestvideo[ext=mp4]+bestaudio[ext=m4a]/best[ext=mp4]/best',  # Descargar el mejor formato con altura <= 1080p\n",
    "    'outtmpl': os.path.join(carpeta_descarga, 'video.mp4'),  # Ruta de salida\n",
    "    'quiet': False,  # Mostrar el progreso en la terminal\n",
    "    'noplaylist': True,  # Asegurarse de no descargar listas de reproducción\n",
    "}"
   ]
  },
  {
   "cell_type": "code",
   "execution_count": 6,
   "metadata": {},
   "outputs": [
    {
     "name": "stdout",
     "output_type": "stream",
     "text": [
      "[youtube] Extracting URL: https://www.youtube.com/watch?v=AlWgZhMtlWo\n",
      "[youtube] AlWgZhMtlWo: Downloading webpage\n",
      "[youtube] AlWgZhMtlWo: Downloading ios player API JSON\n",
      "[youtube] AlWgZhMtlWo: Downloading mweb player API JSON\n",
      "[youtube] AlWgZhMtlWo: Downloading m3u8 information\n",
      "[info] AlWgZhMtlWo: Downloading 1 format(s): 617+140\n",
      "[hlsnative] Downloading m3u8 manifest\n",
      "[hlsnative] Total fragments: 13\n",
      "[download] Destination: video_download/video.f617.mp4\n",
      "[download] 100% of   10.41MiB in 00:00:02 at 3.57MiB/s                  \n",
      "[download] Destination: video_download/video.f140.m4a\n",
      "[download] 100% of    1.03MiB in 00:00:00 at 1.23MiB/s   \n",
      "[Merger] Merging formats into \"video_download/video.mp4\"\n",
      "Deleting original file video_download/video.f617.mp4 (pass -k to keep)\n",
      "Deleting original file video_download/video.f140.m4a (pass -k to keep)\n",
      "Video descargado exitosamente en: video_download\n"
     ]
    }
   ],
   "source": [
    "# Descargar el video\n",
    "with yt_dlp.YoutubeDL(ydl_opts) as ydl:\n",
    "    ydl.download([url])\n",
    "\n",
    "print(\"Video descargado exitosamente en:\", carpeta_descarga)"
   ]
  }
 ],
 "metadata": {
  "kernelspec": {
   "display_name": "AndDownYoutube",
   "language": "python",
   "name": "python3"
  },
  "language_info": {
   "codemirror_mode": {
    "name": "ipython",
    "version": 3
   },
   "file_extension": ".py",
   "mimetype": "text/x-python",
   "name": "python",
   "nbconvert_exporter": "python",
   "pygments_lexer": "ipython3",
   "version": "3.10.15"
  }
 },
 "nbformat": 4,
 "nbformat_minor": 2
}
