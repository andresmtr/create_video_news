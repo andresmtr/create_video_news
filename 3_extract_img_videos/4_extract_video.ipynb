{
 "cells": [
  {
   "cell_type": "code",
   "execution_count": 1,
   "metadata": {},
   "outputs": [],
   "source": [
    "from pytube import YouTube\n",
    "import yt_dlp\n",
    "import os"
   ]
  },
  {
   "cell_type": "code",
   "execution_count": 2,
   "metadata": {},
   "outputs": [],
   "source": [
    "url = str(input('introduzca el video:'))"
   ]
  },
  {
   "cell_type": "code",
   "execution_count": 3,
   "metadata": {},
   "outputs": [],
   "source": [
    "carpeta_descarga = 'video_download'\n",
    "os.makedirs(carpeta_descarga, exist_ok=True)"
   ]
  },
  {
   "cell_type": "code",
   "execution_count": 4,
   "metadata": {},
   "outputs": [],
   "source": [
    "# Limpiar el contenido de la carpeta de descarga antes de descargar un nuevo video\n",
    "for filename in os.listdir(carpeta_descarga):\n",
    "    file_path = os.path.join(carpeta_descarga, filename)\n",
    "    try:\n",
    "        if os.path.isfile(file_path):  # Eliminar archivos\n",
    "            os.remove(file_path)\n",
    "        elif os.path.isdir(file_path):  # Eliminar directorios\n",
    "            # Eliminar el directorio y su contenido\n",
    "            for root, dirs, files in os.walk(file_path, topdown=False):\n",
    "                for file in files:\n",
    "                    os.remove(os.path.join(root, file))  # Eliminar archivos dentro del directorio\n",
    "                for dir in dirs:\n",
    "                    os.rmdir(os.path.join(root, dir))  # Eliminar directorios vacíos\n",
    "            os.rmdir(file_path)  # Eliminar el directorio principal\n",
    "    except Exception as e:\n",
    "        print(f\"Error al eliminar {file_path}: {e}\")"
   ]
  },
  {
   "cell_type": "code",
   "execution_count": 5,
   "metadata": {},
   "outputs": [],
   "source": [
    "# Opciones de descarga\n",
    "ydl_opts = {\n",
    "    'format': 'best[height<=1080]',  # Descargar el mejor formato con altura <= 720\n",
    "    'outtmpl': os.path.join(carpeta_descarga, 'video.mp4'),  # Nombre del archivo\n",
    "}"
   ]
  },
  {
   "cell_type": "code",
   "execution_count": 6,
   "metadata": {},
   "outputs": [
    {
     "name": "stdout",
     "output_type": "stream",
     "text": [
      "[youtube:tab] Extracting URL: https://www.youtube.com/watch?v=kMeGTKfYStU&list=PLbeBr03sf2pXtjonEWqcBGwd4YcDLdvfL\n",
      "[youtube:tab] Downloading playlist PLbeBr03sf2pXtjonEWqcBGwd4YcDLdvfL - add --no-playlist to download just the video kMeGTKfYStU\n",
      "[youtube:tab] PLbeBr03sf2pXtjonEWqcBGwd4YcDLdvfL: Downloading webpage\n",
      "[youtube:tab] Extracting URL: https://www.youtube.com/playlist?list=PLbeBr03sf2pXtjonEWqcBGwd4YcDLdvfL\n",
      "[youtube:tab] PLbeBr03sf2pXtjonEWqcBGwd4YcDLdvfL: Downloading webpage\n",
      "[youtube:tab] PLbeBr03sf2pXtjonEWqcBGwd4YcDLdvfL: Redownloading playlist API JSON with unavailable videos\n",
      "[download] Downloading playlist: Synology Photos\n",
      "[youtube:tab] PLbeBr03sf2pXtjonEWqcBGwd4YcDLdvfL page 1: Downloading API JSON\n"
     ]
    },
    {
     "name": "stderr",
     "output_type": "stream",
     "text": [
      "WARNING: [youtube:tab] Incomplete data received. Retrying (1/3)...\n"
     ]
    },
    {
     "name": "stdout",
     "output_type": "stream",
     "text": [
      "[youtube:tab] PLbeBr03sf2pXtjonEWqcBGwd4YcDLdvfL page 1: Downloading API JSON\n"
     ]
    },
    {
     "name": "stderr",
     "output_type": "stream",
     "text": [
      "WARNING: [youtube:tab] Incomplete data received. Retrying (2/3)...\n"
     ]
    },
    {
     "name": "stdout",
     "output_type": "stream",
     "text": [
      "[youtube:tab] PLbeBr03sf2pXtjonEWqcBGwd4YcDLdvfL page 1: Downloading API JSON\n"
     ]
    },
    {
     "name": "stderr",
     "output_type": "stream",
     "text": [
      "WARNING: [youtube:tab] Incomplete data received. Retrying (3/3)...\n"
     ]
    },
    {
     "name": "stdout",
     "output_type": "stream",
     "text": [
      "[youtube:tab] PLbeBr03sf2pXtjonEWqcBGwd4YcDLdvfL page 1: Downloading API JSON\n"
     ]
    },
    {
     "name": "stderr",
     "output_type": "stream",
     "text": [
      "WARNING: [youtube:tab] Incomplete data received. Giving up after 3 retries\n"
     ]
    },
    {
     "name": "stdout",
     "output_type": "stream",
     "text": [
      "[youtube:tab] Playlist Synology Photos: Downloading 10 items of 10\n",
      "[download] Downloading item 1 of 10\n",
      "[youtube] Extracting URL: https://www.youtube.com/watch?v=kMeGTKfYStU\n",
      "[youtube] kMeGTKfYStU: Downloading webpage\n",
      "[youtube] kMeGTKfYStU: Downloading ios player API JSON\n",
      "[youtube] kMeGTKfYStU: Downloading mweb player API JSON\n",
      "[youtube] kMeGTKfYStU: Downloading m3u8 information\n",
      "[info] kMeGTKfYStU: Downloading 1 format(s): 18\n",
      "[download] Destination: video_download/video.mp4\n",
      "[download] 100% of   13.13MiB in 00:00:04 at 3.05MiB/s   \n",
      "[download] Downloading item 2 of 10\n",
      "[youtube] Extracting URL: https://www.youtube.com/watch?v=-8ZJgUurSX0\n",
      "[youtube] -8ZJgUurSX0: Downloading webpage\n",
      "[youtube] -8ZJgUurSX0: Downloading ios player API JSON\n",
      "[youtube] -8ZJgUurSX0: Downloading mweb player API JSON\n",
      "[youtube] -8ZJgUurSX0: Downloading m3u8 information\n",
      "[info] -8ZJgUurSX0: Downloading 1 format(s): 18\n",
      "[download] video_download/video.mp4 has already been downloaded\n",
      "[download] 100% of   13.13MiB\n",
      "[download] Downloading item 3 of 10\n",
      "[youtube] Extracting URL: https://www.youtube.com/watch?v=YBlUuWuw4nE\n",
      "[youtube] YBlUuWuw4nE: Downloading webpage\n",
      "[youtube] YBlUuWuw4nE: Downloading ios player API JSON\n",
      "[youtube] YBlUuWuw4nE: Downloading mweb player API JSON\n",
      "[youtube] YBlUuWuw4nE: Downloading m3u8 information\n",
      "[info] YBlUuWuw4nE: Downloading 1 format(s): 18\n",
      "[download] video_download/video.mp4 has already been downloaded\n",
      "[download] 100% of   13.13MiB\n",
      "[download] Downloading item 4 of 10\n",
      "[youtube] Extracting URL: https://www.youtube.com/watch?v=pi4Hi_Npyew\n",
      "[youtube] pi4Hi_Npyew: Downloading webpage\n",
      "[youtube] pi4Hi_Npyew: Downloading ios player API JSON\n",
      "[youtube] pi4Hi_Npyew: Downloading mweb player API JSON\n",
      "[youtube] pi4Hi_Npyew: Downloading m3u8 information\n",
      "[info] pi4Hi_Npyew: Downloading 1 format(s): 18\n",
      "[download] video_download/video.mp4 has already been downloaded\n",
      "[download] 100% of   13.13MiB\n",
      "[download] Downloading item 5 of 10\n",
      "[youtube] Extracting URL: https://www.youtube.com/watch?v=Eu2mwtho-Rk\n",
      "[youtube] Eu2mwtho-Rk: Downloading webpage\n",
      "[youtube] Eu2mwtho-Rk: Downloading ios player API JSON\n",
      "[youtube] Eu2mwtho-Rk: Downloading mweb player API JSON\n",
      "[youtube] Eu2mwtho-Rk: Downloading m3u8 information\n",
      "[info] Eu2mwtho-Rk: Downloading 1 format(s): 18\n",
      "[download] video_download/video.mp4 has already been downloaded\n",
      "[download] 100% of   13.13MiB\n",
      "[download] Downloading item 6 of 10\n",
      "[youtube] Extracting URL: https://www.youtube.com/watch?v=SdBTUcHpaoU\n",
      "[youtube] SdBTUcHpaoU: Downloading webpage\n",
      "[youtube] SdBTUcHpaoU: Downloading ios player API JSON\n",
      "[youtube] SdBTUcHpaoU: Downloading mweb player API JSON\n",
      "[youtube] SdBTUcHpaoU: Downloading m3u8 information\n",
      "[info] SdBTUcHpaoU: Downloading 1 format(s): 18\n",
      "[download] video_download/video.mp4 has already been downloaded\n",
      "[download] 100% of   13.13MiB\n",
      "[download] Downloading item 7 of 10\n",
      "[youtube] Extracting URL: https://www.youtube.com/watch?v=OE3tQ4dRJvk\n",
      "[youtube] OE3tQ4dRJvk: Downloading webpage\n",
      "[youtube] OE3tQ4dRJvk: Downloading ios player API JSON\n",
      "[youtube] OE3tQ4dRJvk: Downloading mweb player API JSON\n",
      "[youtube] OE3tQ4dRJvk: Downloading m3u8 information\n",
      "[info] OE3tQ4dRJvk: Downloading 1 format(s): 18\n",
      "[download] video_download/video.mp4 has already been downloaded\n",
      "[download] 100% of   13.13MiB\n",
      "[download] Downloading item 8 of 10\n",
      "[youtube] Extracting URL: https://www.youtube.com/watch?v=0S4KoSI5JfQ\n",
      "[youtube] 0S4KoSI5JfQ: Downloading webpage\n",
      "[youtube] 0S4KoSI5JfQ: Downloading ios player API JSON\n",
      "[youtube] 0S4KoSI5JfQ: Downloading mweb player API JSON\n",
      "[youtube] 0S4KoSI5JfQ: Downloading m3u8 information\n",
      "[info] 0S4KoSI5JfQ: Downloading 1 format(s): 18\n",
      "[download] video_download/video.mp4 has already been downloaded\n",
      "[download] 100% of   13.13MiB\n",
      "[download] Downloading item 9 of 10\n",
      "[youtube] Extracting URL: https://www.youtube.com/watch?v=3U1vX2Kbfw8\n",
      "[youtube] 3U1vX2Kbfw8: Downloading webpage\n",
      "[youtube] 3U1vX2Kbfw8: Downloading ios player API JSON\n",
      "[youtube] 3U1vX2Kbfw8: Downloading mweb player API JSON\n",
      "[youtube] 3U1vX2Kbfw8: Downloading m3u8 information\n",
      "[info] 3U1vX2Kbfw8: Downloading 1 format(s): 18\n",
      "[download] video_download/video.mp4 has already been downloaded\n",
      "[download] 100% of   13.13MiB\n",
      "[download] Downloading item 10 of 10\n",
      "[youtube] Extracting URL: https://www.youtube.com/watch?v=YqUOD5AzEps\n",
      "[youtube] YqUOD5AzEps: Downloading webpage\n",
      "[youtube] YqUOD5AzEps: Downloading ios player API JSON\n",
      "[youtube] YqUOD5AzEps: Downloading mweb player API JSON\n",
      "[youtube] YqUOD5AzEps: Downloading m3u8 information\n",
      "[info] YqUOD5AzEps: Downloading 1 format(s): 18\n",
      "[download] video_download/video.mp4 has already been downloaded\n",
      "[download] 100% of   13.13MiB\n",
      "[download] Finished downloading playlist: Synology Photos\n",
      "Video descargado exitosamente en: video_download\n"
     ]
    }
   ],
   "source": [
    "# Descargar el video\n",
    "with yt_dlp.YoutubeDL(ydl_opts) as ydl:\n",
    "    ydl.download([url])\n",
    "\n",
    "print(\"Video descargado exitosamente en:\", carpeta_descarga)"
   ]
  }
 ],
 "metadata": {
  "kernelspec": {
   "display_name": "AndDownYoutube",
   "language": "python",
   "name": "python3"
  },
  "language_info": {
   "codemirror_mode": {
    "name": "ipython",
    "version": 3
   },
   "file_extension": ".py",
   "mimetype": "text/x-python",
   "name": "python",
   "nbconvert_exporter": "python",
   "pygments_lexer": "ipython3",
   "version": "3.10.15"
  }
 },
 "nbformat": 4,
 "nbformat_minor": 2
}
