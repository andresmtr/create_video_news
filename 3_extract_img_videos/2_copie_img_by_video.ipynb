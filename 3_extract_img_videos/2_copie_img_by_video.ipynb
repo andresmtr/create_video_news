{
 "cells": [
  {
   "cell_type": "code",
   "execution_count": 1,
   "metadata": {},
   "outputs": [],
   "source": [
    "import os\n",
    "import shutil"
   ]
  },
  {
   "cell_type": "code",
   "execution_count": 2,
   "metadata": {},
   "outputs": [],
   "source": [
    "def copiar_archivos(origen, destino_base):\n",
    "    # Verifica si la carpeta de origen existe\n",
    "    if not os.path.exists(origen):\n",
    "        print(f\"La carpeta de origen '{origen}' no existe.\")\n",
    "        return\n",
    "\n",
    "    # Pide el nombre de la nueva carpeta de destino\n",
    "    nombre_carpeta_destino = input(\"Introduce el nombre de la nueva carpeta en el destino: \")\n",
    "    destino = os.path.join(destino_base, nombre_carpeta_destino)\n",
    "\n",
    "    # Crea la carpeta de destino si no existe\n",
    "    if not os.path.exists(destino):\n",
    "        os.makedirs(destino)\n",
    "        print(f\"Se creó la carpeta de destino: {destino}\")\n",
    "\n",
    "    # Recorre los archivos y subcarpetas en la carpeta de origen\n",
    "    for root, dirs, files in os.walk(origen):\n",
    "        # Crea las subcarpetas en el destino\n",
    "        for dir_name in dirs:\n",
    "            ruta_origen = os.path.join(root, dir_name)\n",
    "            ruta_destino = os.path.join(destino, os.path.relpath(ruta_origen, origen))\n",
    "            if not os.path.exists(ruta_destino):\n",
    "                os.makedirs(ruta_destino)\n",
    "                print(f\"Se creó la subcarpeta en el destino: {ruta_destino}\")\n",
    "\n",
    "        # Copia los archivos\n",
    "        for file_name in files:\n",
    "            ruta_origen = os.path.join(root, file_name)\n",
    "            ruta_destino = os.path.join(destino, os.path.relpath(ruta_origen, origen))\n",
    "            shutil.copy2(ruta_origen, ruta_destino)\n",
    "            print(f\"Se copió el archivo: {ruta_origen} -> {ruta_destino}\")"
   ]
  },
  {
   "cell_type": "code",
   "execution_count": 3,
   "metadata": {},
   "outputs": [
    {
     "name": "stdout",
     "output_type": "stream",
     "text": [
      "Se creó la carpeta de destino: img_by_number/9\n",
      "Se copió el archivo: img_download/Fortnite_1.jpg -> img_by_number/9/Fortnite_1.jpg\n",
      "Se copió el archivo: img_download/Fortnite_2.jpg -> img_by_number/9/Fortnite_2.jpg\n"
     ]
    }
   ],
   "source": [
    "# Ejemplo de uso\n",
    "carpeta_origen = \"img_download\"\n",
    "carpeta_base_destino = \"img_by_number\"\n",
    "\n",
    "copiar_archivos(carpeta_origen, carpeta_base_destino)"
   ]
  }
 ],
 "metadata": {
  "kernelspec": {
   "display_name": "AndDownLoadImg",
   "language": "python",
   "name": "python3"
  },
  "language_info": {
   "codemirror_mode": {
    "name": "ipython",
    "version": 3
   },
   "file_extension": ".py",
   "mimetype": "text/x-python",
   "name": "python",
   "nbconvert_exporter": "python",
   "pygments_lexer": "ipython3",
   "version": "3.10.15"
  }
 },
 "nbformat": 4,
 "nbformat_minor": 2
}
