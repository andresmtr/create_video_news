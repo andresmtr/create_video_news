{
 "cells": [
  {
   "cell_type": "code",
   "execution_count": 1,
   "metadata": {},
   "outputs": [],
   "source": [
    "import os\n",
    "import shutil"
   ]
  },
  {
   "cell_type": "code",
   "execution_count": 2,
   "metadata": {},
   "outputs": [],
   "source": [
    "def copiar_archivos(origen, destino_base):\n",
    "    # Verifica si la carpeta de origen existe\n",
    "    if not os.path.exists(origen):\n",
    "        print(f\"La carpeta de origen '{origen}' no existe.\")\n",
    "        return\n",
    "\n",
    "    # Pide el nombre de la nueva carpeta de destino\n",
    "    nombre_carpeta_destino = input(\"Introduce el nombre de la nueva carpeta en el destino: \")\n",
    "    destino = os.path.join(destino_base, nombre_carpeta_destino)\n",
    "\n",
    "    # Crea la carpeta de destino si no existe\n",
    "    if not os.path.exists(destino):\n",
    "        os.makedirs(destino)\n",
    "        print(f\"Se creó la carpeta de destino: {destino}\")\n",
    "\n",
    "    # Recorre los archivos y subcarpetas en la carpeta de origen\n",
    "    for root, dirs, files in os.walk(origen):\n",
    "        # Crea las subcarpetas en el destino\n",
    "        for dir_name in dirs:\n",
    "            ruta_origen = os.path.join(root, dir_name)\n",
    "            ruta_destino = os.path.join(destino, os.path.relpath(ruta_origen, origen))\n",
    "            if not os.path.exists(ruta_destino):\n",
    "                os.makedirs(ruta_destino)\n",
    "                print(f\"Se creó la subcarpeta en el destino: {ruta_destino}\")\n",
    "\n",
    "        # Copia los archivos\n",
    "        for file_name in files:\n",
    "            ruta_origen = os.path.join(root, file_name)\n",
    "            ruta_destino = os.path.join(destino, os.path.relpath(ruta_origen, origen))\n",
    "            shutil.copy2(ruta_origen, ruta_destino)\n",
    "            print(f\"Se copió el archivo: {ruta_origen} -> {ruta_destino}\")"
   ]
  },
  {
   "cell_type": "code",
   "execution_count": 3,
   "metadata": {},
   "outputs": [
    {
     "name": "stdout",
     "output_type": "stream",
     "text": [
      "Se creó la carpeta de destino: img_by_number/8\n",
      "Se copió el archivo: img_download/LYNYRD SKYNYRD_0.png -> img_by_number/8/LYNYRD SKYNYRD_0.png\n",
      "Se copió el archivo: img_download/LYNYRD SKYNYRD_1.png -> img_by_number/8/LYNYRD SKYNYRD_1.png\n",
      "Se copió el archivo: img_download/LYNYRD SKYNYRD_10.png -> img_by_number/8/LYNYRD SKYNYRD_10.png\n",
      "Se copió el archivo: img_download/LYNYRD SKYNYRD_11.png -> img_by_number/8/LYNYRD SKYNYRD_11.png\n",
      "Se copió el archivo: img_download/LYNYRD SKYNYRD_12.png -> img_by_number/8/LYNYRD SKYNYRD_12.png\n",
      "Se copió el archivo: img_download/LYNYRD SKYNYRD_13.png -> img_by_number/8/LYNYRD SKYNYRD_13.png\n",
      "Se copió el archivo: img_download/LYNYRD SKYNYRD_14.png -> img_by_number/8/LYNYRD SKYNYRD_14.png\n",
      "Se copió el archivo: img_download/LYNYRD SKYNYRD_15.png -> img_by_number/8/LYNYRD SKYNYRD_15.png\n",
      "Se copió el archivo: img_download/LYNYRD SKYNYRD_16.png -> img_by_number/8/LYNYRD SKYNYRD_16.png\n",
      "Se copió el archivo: img_download/LYNYRD SKYNYRD_17.png -> img_by_number/8/LYNYRD SKYNYRD_17.png\n",
      "Se copió el archivo: img_download/LYNYRD SKYNYRD_18.png -> img_by_number/8/LYNYRD SKYNYRD_18.png\n",
      "Se copió el archivo: img_download/LYNYRD SKYNYRD_19.png -> img_by_number/8/LYNYRD SKYNYRD_19.png\n",
      "Se copió el archivo: img_download/LYNYRD SKYNYRD_2.png -> img_by_number/8/LYNYRD SKYNYRD_2.png\n",
      "Se copió el archivo: img_download/LYNYRD SKYNYRD_20.png -> img_by_number/8/LYNYRD SKYNYRD_20.png\n",
      "Se copió el archivo: img_download/LYNYRD SKYNYRD_21.png -> img_by_number/8/LYNYRD SKYNYRD_21.png\n",
      "Se copió el archivo: img_download/LYNYRD SKYNYRD_22.png -> img_by_number/8/LYNYRD SKYNYRD_22.png\n",
      "Se copió el archivo: img_download/LYNYRD SKYNYRD_23.png -> img_by_number/8/LYNYRD SKYNYRD_23.png\n",
      "Se copió el archivo: img_download/LYNYRD SKYNYRD_24.png -> img_by_number/8/LYNYRD SKYNYRD_24.png\n",
      "Se copió el archivo: img_download/LYNYRD SKYNYRD_25.png -> img_by_number/8/LYNYRD SKYNYRD_25.png\n",
      "Se copió el archivo: img_download/LYNYRD SKYNYRD_26.png -> img_by_number/8/LYNYRD SKYNYRD_26.png\n",
      "Se copió el archivo: img_download/LYNYRD SKYNYRD_27.png -> img_by_number/8/LYNYRD SKYNYRD_27.png\n",
      "Se copió el archivo: img_download/LYNYRD SKYNYRD_28.png -> img_by_number/8/LYNYRD SKYNYRD_28.png\n",
      "Se copió el archivo: img_download/LYNYRD SKYNYRD_29.png -> img_by_number/8/LYNYRD SKYNYRD_29.png\n",
      "Se copió el archivo: img_download/LYNYRD SKYNYRD_3.png -> img_by_number/8/LYNYRD SKYNYRD_3.png\n",
      "Se copió el archivo: img_download/LYNYRD SKYNYRD_4.png -> img_by_number/8/LYNYRD SKYNYRD_4.png\n",
      "Se copió el archivo: img_download/LYNYRD SKYNYRD_5.png -> img_by_number/8/LYNYRD SKYNYRD_5.png\n",
      "Se copió el archivo: img_download/LYNYRD SKYNYRD_6.png -> img_by_number/8/LYNYRD SKYNYRD_6.png\n",
      "Se copió el archivo: img_download/LYNYRD SKYNYRD_7.png -> img_by_number/8/LYNYRD SKYNYRD_7.png\n",
      "Se copió el archivo: img_download/LYNYRD SKYNYRD_8.png -> img_by_number/8/LYNYRD SKYNYRD_8.png\n",
      "Se copió el archivo: img_download/LYNYRD SKYNYRD_9.png -> img_by_number/8/LYNYRD SKYNYRD_9.png\n"
     ]
    }
   ],
   "source": [
    "# Ejemplo de uso\n",
    "carpeta_origen = \"img_download\"\n",
    "carpeta_base_destino = \"img_by_number\"\n",
    "\n",
    "copiar_archivos(carpeta_origen, carpeta_base_destino)"
   ]
  }
 ],
 "metadata": {
  "kernelspec": {
   "display_name": "AndDownLoadImg",
   "language": "python",
   "name": "python3"
  },
  "language_info": {
   "codemirror_mode": {
    "name": "ipython",
    "version": 3
   },
   "file_extension": ".py",
   "mimetype": "text/x-python",
   "name": "python",
   "nbconvert_exporter": "python",
   "pygments_lexer": "ipython3",
   "version": "3.10.15"
  }
 },
 "nbformat": 4,
 "nbformat_minor": 2
}
