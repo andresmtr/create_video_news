{
 "cells": [
  {
   "cell_type": "code",
   "execution_count": 1,
   "metadata": {},
   "outputs": [],
   "source": [
    "import os\n",
    "import random\n",
    "import string\n",
    "from moviepy.video.io.VideoFileClip import VideoFileClip"
   ]
  },
  {
   "cell_type": "code",
   "execution_count": 2,
   "metadata": {},
   "outputs": [],
   "source": [
    "def generate_random_filename(length=8):\n",
    "    \"\"\"Genera un nombre de archivo aleatorio.\"\"\"\n",
    "    letters = string.ascii_letters + string.digits\n",
    "    return ''.join(random.choice(letters) for i in range(length)) + '.mp4'"
   ]
  },
  {
   "cell_type": "code",
   "execution_count": 3,
   "metadata": {},
   "outputs": [],
   "source": [
    "carpeta_descarga='video_fragmentado'\n",
    "\n",
    "# Limpiar el contenido de la carpeta de descarga antes de descargar un nuevo video\n",
    "for filename in os.listdir(carpeta_descarga):\n",
    "    file_path = os.path.join(carpeta_descarga, filename)\n",
    "    try:\n",
    "        if os.path.isfile(file_path):  # Eliminar archivos\n",
    "            os.remove(file_path)\n",
    "        elif os.path.isdir(file_path):  # Eliminar directorios\n",
    "            # Eliminar el directorio y su contenido\n",
    "            for root, dirs, files in os.walk(file_path, topdown=False):\n",
    "                for file in files:\n",
    "                    os.remove(os.path.join(root, file))  # Eliminar archivos dentro del directorio\n",
    "                for dir in dirs:\n",
    "                    os.rmdir(os.path.join(root, dir))  # Eliminar directorios vacíos\n",
    "            os.rmdir(file_path)  # Eliminar el directorio principal\n",
    "    except Exception as e:\n",
    "        print(f\"Error al eliminar {file_path}: {e}\")"
   ]
  },
  {
   "cell_type": "code",
   "execution_count": 4,
   "metadata": {},
   "outputs": [],
   "source": [
    "def split_video(video_path, segment_duration=6, output_folder='video_fragmentado'):\n",
    "    # Crear la carpeta de salida si no existe\n",
    "    os.makedirs(output_folder, exist_ok=True)\n",
    "\n",
    "    # Cargar el video\n",
    "    with VideoFileClip(video_path) as video:\n",
    "        duration = int(video.duration)  # Duración total en segundos\n",
    "        for start_time in range(0, duration, segment_duration):\n",
    "            end_time = min(start_time + segment_duration, duration)\n",
    "            segment = video.subclip(start_time, end_time)\n",
    "            random_filename = generate_random_filename()\n",
    "            segment_path = os.path.join(output_folder, random_filename)\n",
    "            segment.write_videofile(segment_path, codec='libx264', audio_codec='aac')\n",
    "            print(f\"Fragmento guardado: {segment_path}\")"
   ]
  },
  {
   "cell_type": "code",
   "execution_count": 5,
   "metadata": {},
   "outputs": [],
   "source": [
    "# Ruta del video original\n",
    "video_path = 'video_download/video.mp4' "
   ]
  },
  {
   "cell_type": "code",
   "execution_count": 6,
   "metadata": {},
   "outputs": [
    {
     "name": "stdout",
     "output_type": "stream",
     "text": [
      "Moviepy - Building video video_fragmentado/A3nF6uzW.mp4.\n",
      "MoviePy - Writing audio in A3nF6uzWTEMP_MPY_wvf_snd.mp4\n"
     ]
    },
    {
     "name": "stderr",
     "output_type": "stream",
     "text": [
      "                                                        \r"
     ]
    },
    {
     "name": "stdout",
     "output_type": "stream",
     "text": [
      "MoviePy - Done.\n",
      "Moviepy - Writing video video_fragmentado/A3nF6uzW.mp4\n",
      "\n"
     ]
    },
    {
     "name": "stderr",
     "output_type": "stream",
     "text": [
      "                                                                \r"
     ]
    },
    {
     "name": "stdout",
     "output_type": "stream",
     "text": [
      "Moviepy - Done !\n",
      "Moviepy - video ready video_fragmentado/A3nF6uzW.mp4\n",
      "Fragmento guardado: video_fragmentado/A3nF6uzW.mp4\n",
      "Moviepy - Building video video_fragmentado/9rZvipXu.mp4.\n",
      "MoviePy - Writing audio in 9rZvipXuTEMP_MPY_wvf_snd.mp4\n"
     ]
    },
    {
     "name": "stderr",
     "output_type": "stream",
     "text": [
      "                                                        \r"
     ]
    },
    {
     "name": "stdout",
     "output_type": "stream",
     "text": [
      "MoviePy - Done.\n",
      "Moviepy - Writing video video_fragmentado/9rZvipXu.mp4\n",
      "\n"
     ]
    },
    {
     "name": "stderr",
     "output_type": "stream",
     "text": [
      "                                                                \r"
     ]
    },
    {
     "name": "stdout",
     "output_type": "stream",
     "text": [
      "Moviepy - Done !\n",
      "Moviepy - video ready video_fragmentado/9rZvipXu.mp4\n",
      "Fragmento guardado: video_fragmentado/9rZvipXu.mp4\n",
      "Moviepy - Building video video_fragmentado/y1McqHvw.mp4.\n",
      "MoviePy - Writing audio in y1McqHvwTEMP_MPY_wvf_snd.mp4\n"
     ]
    },
    {
     "name": "stderr",
     "output_type": "stream",
     "text": [
      "                                                        \r"
     ]
    },
    {
     "name": "stdout",
     "output_type": "stream",
     "text": [
      "MoviePy - Done.\n",
      "Moviepy - Writing video video_fragmentado/y1McqHvw.mp4\n",
      "\n"
     ]
    },
    {
     "name": "stderr",
     "output_type": "stream",
     "text": [
      "                                                                \r"
     ]
    },
    {
     "name": "stdout",
     "output_type": "stream",
     "text": [
      "Moviepy - Done !\n",
      "Moviepy - video ready video_fragmentado/y1McqHvw.mp4\n",
      "Fragmento guardado: video_fragmentado/y1McqHvw.mp4\n",
      "Moviepy - Building video video_fragmentado/33kkRCao.mp4.\n",
      "MoviePy - Writing audio in 33kkRCaoTEMP_MPY_wvf_snd.mp4\n"
     ]
    },
    {
     "name": "stderr",
     "output_type": "stream",
     "text": [
      "                                                        \r"
     ]
    },
    {
     "name": "stdout",
     "output_type": "stream",
     "text": [
      "MoviePy - Done.\n",
      "Moviepy - Writing video video_fragmentado/33kkRCao.mp4\n",
      "\n"
     ]
    },
    {
     "name": "stderr",
     "output_type": "stream",
     "text": [
      "                                                                \r"
     ]
    },
    {
     "name": "stdout",
     "output_type": "stream",
     "text": [
      "Moviepy - Done !\n",
      "Moviepy - video ready video_fragmentado/33kkRCao.mp4\n",
      "Fragmento guardado: video_fragmentado/33kkRCao.mp4\n",
      "Moviepy - Building video video_fragmentado/KsNBIEGx.mp4.\n",
      "MoviePy - Writing audio in KsNBIEGxTEMP_MPY_wvf_snd.mp4\n"
     ]
    },
    {
     "name": "stderr",
     "output_type": "stream",
     "text": [
      "                                                        \r"
     ]
    },
    {
     "name": "stdout",
     "output_type": "stream",
     "text": [
      "MoviePy - Done.\n",
      "Moviepy - Writing video video_fragmentado/KsNBIEGx.mp4\n",
      "\n"
     ]
    },
    {
     "name": "stderr",
     "output_type": "stream",
     "text": [
      "                                                                \r"
     ]
    },
    {
     "name": "stdout",
     "output_type": "stream",
     "text": [
      "Moviepy - Done !\n",
      "Moviepy - video ready video_fragmentado/KsNBIEGx.mp4\n",
      "Fragmento guardado: video_fragmentado/KsNBIEGx.mp4\n",
      "Moviepy - Building video video_fragmentado/ScAlkjtB.mp4.\n",
      "MoviePy - Writing audio in ScAlkjtBTEMP_MPY_wvf_snd.mp4\n"
     ]
    },
    {
     "name": "stderr",
     "output_type": "stream",
     "text": [
      "                                                        \r"
     ]
    },
    {
     "name": "stdout",
     "output_type": "stream",
     "text": [
      "MoviePy - Done.\n",
      "Moviepy - Writing video video_fragmentado/ScAlkjtB.mp4\n",
      "\n"
     ]
    },
    {
     "name": "stderr",
     "output_type": "stream",
     "text": [
      "                                                              \r"
     ]
    },
    {
     "name": "stdout",
     "output_type": "stream",
     "text": [
      "Moviepy - Done !\n",
      "Moviepy - video ready video_fragmentado/ScAlkjtB.mp4\n",
      "Fragmento guardado: video_fragmentado/ScAlkjtB.mp4\n",
      "Moviepy - Building video video_fragmentado/Qm7JfW5W.mp4.\n",
      "MoviePy - Writing audio in Qm7JfW5WTEMP_MPY_wvf_snd.mp4\n"
     ]
    },
    {
     "name": "stderr",
     "output_type": "stream",
     "text": [
      "                                                        \r"
     ]
    },
    {
     "name": "stdout",
     "output_type": "stream",
     "text": [
      "MoviePy - Done.\n",
      "Moviepy - Writing video video_fragmentado/Qm7JfW5W.mp4\n",
      "\n"
     ]
    },
    {
     "name": "stderr",
     "output_type": "stream",
     "text": [
      "                                                              \r"
     ]
    },
    {
     "name": "stdout",
     "output_type": "stream",
     "text": [
      "Moviepy - Done !\n",
      "Moviepy - video ready video_fragmentado/Qm7JfW5W.mp4\n",
      "Fragmento guardado: video_fragmentado/Qm7JfW5W.mp4\n",
      "Moviepy - Building video video_fragmentado/Bb9KI5qu.mp4.\n",
      "MoviePy - Writing audio in Bb9KI5quTEMP_MPY_wvf_snd.mp4\n"
     ]
    },
    {
     "name": "stderr",
     "output_type": "stream",
     "text": [
      "                                                        \r"
     ]
    },
    {
     "name": "stdout",
     "output_type": "stream",
     "text": [
      "MoviePy - Done.\n",
      "Moviepy - Writing video video_fragmentado/Bb9KI5qu.mp4\n",
      "\n"
     ]
    },
    {
     "name": "stderr",
     "output_type": "stream",
     "text": [
      "                                                                \r"
     ]
    },
    {
     "name": "stdout",
     "output_type": "stream",
     "text": [
      "Moviepy - Done !\n",
      "Moviepy - video ready video_fragmentado/Bb9KI5qu.mp4\n",
      "Fragmento guardado: video_fragmentado/Bb9KI5qu.mp4\n",
      "Moviepy - Building video video_fragmentado/dM1LAiCe.mp4.\n",
      "MoviePy - Writing audio in dM1LAiCeTEMP_MPY_wvf_snd.mp4\n"
     ]
    },
    {
     "name": "stderr",
     "output_type": "stream",
     "text": [
      "                                                        \r"
     ]
    },
    {
     "name": "stdout",
     "output_type": "stream",
     "text": [
      "MoviePy - Done.\n",
      "Moviepy - Writing video video_fragmentado/dM1LAiCe.mp4\n",
      "\n"
     ]
    },
    {
     "name": "stderr",
     "output_type": "stream",
     "text": [
      "                                                                \r"
     ]
    },
    {
     "name": "stdout",
     "output_type": "stream",
     "text": [
      "Moviepy - Done !\n",
      "Moviepy - video ready video_fragmentado/dM1LAiCe.mp4\n",
      "Fragmento guardado: video_fragmentado/dM1LAiCe.mp4\n",
      "Moviepy - Building video video_fragmentado/xFcmXMJY.mp4.\n",
      "MoviePy - Writing audio in xFcmXMJYTEMP_MPY_wvf_snd.mp4\n"
     ]
    },
    {
     "name": "stderr",
     "output_type": "stream",
     "text": [
      "                                                        \r"
     ]
    },
    {
     "name": "stdout",
     "output_type": "stream",
     "text": [
      "MoviePy - Done.\n",
      "Moviepy - Writing video video_fragmentado/xFcmXMJY.mp4\n",
      "\n"
     ]
    },
    {
     "name": "stderr",
     "output_type": "stream",
     "text": [
      "                                                                \r"
     ]
    },
    {
     "name": "stdout",
     "output_type": "stream",
     "text": [
      "Moviepy - Done !\n",
      "Moviepy - video ready video_fragmentado/xFcmXMJY.mp4\n",
      "Fragmento guardado: video_fragmentado/xFcmXMJY.mp4\n",
      "Moviepy - Building video video_fragmentado/oBpWZlxb.mp4.\n",
      "MoviePy - Writing audio in oBpWZlxbTEMP_MPY_wvf_snd.mp4\n"
     ]
    },
    {
     "name": "stderr",
     "output_type": "stream",
     "text": [
      "                                                        \r"
     ]
    },
    {
     "name": "stdout",
     "output_type": "stream",
     "text": [
      "MoviePy - Done.\n",
      "Moviepy - Writing video video_fragmentado/oBpWZlxb.mp4\n",
      "\n"
     ]
    },
    {
     "name": "stderr",
     "output_type": "stream",
     "text": [
      "                                                              \r"
     ]
    },
    {
     "name": "stdout",
     "output_type": "stream",
     "text": [
      "Moviepy - Done !\n",
      "Moviepy - video ready video_fragmentado/oBpWZlxb.mp4\n",
      "Fragmento guardado: video_fragmentado/oBpWZlxb.mp4\n",
      "Moviepy - Building video video_fragmentado/eVvQ6Qa8.mp4.\n",
      "MoviePy - Writing audio in eVvQ6Qa8TEMP_MPY_wvf_snd.mp4\n"
     ]
    },
    {
     "name": "stderr",
     "output_type": "stream",
     "text": [
      "                                                        \r"
     ]
    },
    {
     "name": "stdout",
     "output_type": "stream",
     "text": [
      "MoviePy - Done.\n",
      "Moviepy - Writing video video_fragmentado/eVvQ6Qa8.mp4\n",
      "\n"
     ]
    },
    {
     "name": "stderr",
     "output_type": "stream",
     "text": [
      "                                                                \r"
     ]
    },
    {
     "name": "stdout",
     "output_type": "stream",
     "text": [
      "Moviepy - Done !\n",
      "Moviepy - video ready video_fragmentado/eVvQ6Qa8.mp4\n",
      "Fragmento guardado: video_fragmentado/eVvQ6Qa8.mp4\n",
      "Moviepy - Building video video_fragmentado/mrcgsV9J.mp4.\n",
      "MoviePy - Writing audio in mrcgsV9JTEMP_MPY_wvf_snd.mp4\n"
     ]
    },
    {
     "name": "stderr",
     "output_type": "stream",
     "text": [
      "                                                        \r"
     ]
    },
    {
     "name": "stdout",
     "output_type": "stream",
     "text": [
      "MoviePy - Done.\n",
      "Moviepy - Writing video video_fragmentado/mrcgsV9J.mp4\n",
      "\n"
     ]
    },
    {
     "name": "stderr",
     "output_type": "stream",
     "text": [
      "                                                                \r"
     ]
    },
    {
     "name": "stdout",
     "output_type": "stream",
     "text": [
      "Moviepy - Done !\n",
      "Moviepy - video ready video_fragmentado/mrcgsV9J.mp4\n",
      "Fragmento guardado: video_fragmentado/mrcgsV9J.mp4\n",
      "Moviepy - Building video video_fragmentado/vpKbRNQi.mp4.\n",
      "MoviePy - Writing audio in vpKbRNQiTEMP_MPY_wvf_snd.mp4\n"
     ]
    },
    {
     "name": "stderr",
     "output_type": "stream",
     "text": [
      "                                                        \r"
     ]
    },
    {
     "name": "stdout",
     "output_type": "stream",
     "text": [
      "MoviePy - Done.\n",
      "Moviepy - Writing video video_fragmentado/vpKbRNQi.mp4\n",
      "\n"
     ]
    },
    {
     "name": "stderr",
     "output_type": "stream",
     "text": [
      "                                                                \r"
     ]
    },
    {
     "name": "stdout",
     "output_type": "stream",
     "text": [
      "Moviepy - Done !\n",
      "Moviepy - video ready video_fragmentado/vpKbRNQi.mp4\n",
      "Fragmento guardado: video_fragmentado/vpKbRNQi.mp4\n",
      "Moviepy - Building video video_fragmentado/gsCBgdKl.mp4.\n",
      "MoviePy - Writing audio in gsCBgdKlTEMP_MPY_wvf_snd.mp4\n"
     ]
    },
    {
     "name": "stderr",
     "output_type": "stream",
     "text": [
      "                                                        \r"
     ]
    },
    {
     "name": "stdout",
     "output_type": "stream",
     "text": [
      "MoviePy - Done.\n",
      "Moviepy - Writing video video_fragmentado/gsCBgdKl.mp4\n",
      "\n"
     ]
    },
    {
     "name": "stderr",
     "output_type": "stream",
     "text": [
      "                                                                \r"
     ]
    },
    {
     "name": "stdout",
     "output_type": "stream",
     "text": [
      "Moviepy - Done !\n",
      "Moviepy - video ready video_fragmentado/gsCBgdKl.mp4\n",
      "Fragmento guardado: video_fragmentado/gsCBgdKl.mp4\n",
      "Moviepy - Building video video_fragmentado/AlifsLoR.mp4.\n",
      "MoviePy - Writing audio in AlifsLoRTEMP_MPY_wvf_snd.mp4\n"
     ]
    },
    {
     "name": "stderr",
     "output_type": "stream",
     "text": [
      "                                                        \r"
     ]
    },
    {
     "name": "stdout",
     "output_type": "stream",
     "text": [
      "MoviePy - Done.\n",
      "Moviepy - Writing video video_fragmentado/AlifsLoR.mp4\n",
      "\n"
     ]
    },
    {
     "name": "stderr",
     "output_type": "stream",
     "text": [
      "                                                                \r"
     ]
    },
    {
     "name": "stdout",
     "output_type": "stream",
     "text": [
      "Moviepy - Done !\n",
      "Moviepy - video ready video_fragmentado/AlifsLoR.mp4\n",
      "Fragmento guardado: video_fragmentado/AlifsLoR.mp4\n",
      "Moviepy - Building video video_fragmentado/6EgrLCGZ.mp4.\n",
      "MoviePy - Writing audio in 6EgrLCGZTEMP_MPY_wvf_snd.mp4\n"
     ]
    },
    {
     "name": "stderr",
     "output_type": "stream",
     "text": [
      "                                                        \r"
     ]
    },
    {
     "name": "stdout",
     "output_type": "stream",
     "text": [
      "MoviePy - Done.\n",
      "Moviepy - Writing video video_fragmentado/6EgrLCGZ.mp4\n",
      "\n"
     ]
    },
    {
     "name": "stderr",
     "output_type": "stream",
     "text": [
      "                                                                \r"
     ]
    },
    {
     "name": "stdout",
     "output_type": "stream",
     "text": [
      "Moviepy - Done !\n",
      "Moviepy - video ready video_fragmentado/6EgrLCGZ.mp4\n",
      "Fragmento guardado: video_fragmentado/6EgrLCGZ.mp4\n",
      "Moviepy - Building video video_fragmentado/u28Rwln3.mp4.\n",
      "MoviePy - Writing audio in u28Rwln3TEMP_MPY_wvf_snd.mp4\n"
     ]
    },
    {
     "name": "stderr",
     "output_type": "stream",
     "text": [
      "                                                        \r"
     ]
    },
    {
     "name": "stdout",
     "output_type": "stream",
     "text": [
      "MoviePy - Done.\n",
      "Moviepy - Writing video video_fragmentado/u28Rwln3.mp4\n",
      "\n"
     ]
    },
    {
     "name": "stderr",
     "output_type": "stream",
     "text": [
      "                                                                \r"
     ]
    },
    {
     "name": "stdout",
     "output_type": "stream",
     "text": [
      "Moviepy - Done !\n",
      "Moviepy - video ready video_fragmentado/u28Rwln3.mp4\n",
      "Fragmento guardado: video_fragmentado/u28Rwln3.mp4\n",
      "Moviepy - Building video video_fragmentado/YOQy9xlP.mp4.\n",
      "MoviePy - Writing audio in YOQy9xlPTEMP_MPY_wvf_snd.mp4\n"
     ]
    },
    {
     "name": "stderr",
     "output_type": "stream",
     "text": [
      "                                                        \r"
     ]
    },
    {
     "name": "stdout",
     "output_type": "stream",
     "text": [
      "MoviePy - Done.\n",
      "Moviepy - Writing video video_fragmentado/YOQy9xlP.mp4\n",
      "\n"
     ]
    },
    {
     "name": "stderr",
     "output_type": "stream",
     "text": [
      "                                                              \r"
     ]
    },
    {
     "name": "stdout",
     "output_type": "stream",
     "text": [
      "Moviepy - Done !\n",
      "Moviepy - video ready video_fragmentado/YOQy9xlP.mp4\n",
      "Fragmento guardado: video_fragmentado/YOQy9xlP.mp4\n",
      "Moviepy - Building video video_fragmentado/zEcI4gIn.mp4.\n",
      "MoviePy - Writing audio in zEcI4gInTEMP_MPY_wvf_snd.mp4\n"
     ]
    },
    {
     "name": "stderr",
     "output_type": "stream",
     "text": [
      "                                                        \r"
     ]
    },
    {
     "name": "stdout",
     "output_type": "stream",
     "text": [
      "MoviePy - Done.\n",
      "Moviepy - Writing video video_fragmentado/zEcI4gIn.mp4\n",
      "\n"
     ]
    },
    {
     "name": "stderr",
     "output_type": "stream",
     "text": [
      "                                                              \r"
     ]
    },
    {
     "name": "stdout",
     "output_type": "stream",
     "text": [
      "Moviepy - Done !\n",
      "Moviepy - video ready video_fragmentado/zEcI4gIn.mp4\n",
      "Fragmento guardado: video_fragmentado/zEcI4gIn.mp4\n",
      "Moviepy - Building video video_fragmentado/xbwmeI2j.mp4.\n",
      "MoviePy - Writing audio in xbwmeI2jTEMP_MPY_wvf_snd.mp4\n"
     ]
    },
    {
     "name": "stderr",
     "output_type": "stream",
     "text": [
      "                                                        \r"
     ]
    },
    {
     "name": "stdout",
     "output_type": "stream",
     "text": [
      "MoviePy - Done.\n",
      "Moviepy - Writing video video_fragmentado/xbwmeI2j.mp4\n",
      "\n"
     ]
    },
    {
     "name": "stderr",
     "output_type": "stream",
     "text": [
      "                                                              \r"
     ]
    },
    {
     "name": "stdout",
     "output_type": "stream",
     "text": [
      "Moviepy - Done !\n",
      "Moviepy - video ready video_fragmentado/xbwmeI2j.mp4\n",
      "Fragmento guardado: video_fragmentado/xbwmeI2j.mp4\n",
      "Moviepy - Building video video_fragmentado/RSsXp3Mn.mp4.\n",
      "MoviePy - Writing audio in RSsXp3MnTEMP_MPY_wvf_snd.mp4\n"
     ]
    },
    {
     "name": "stderr",
     "output_type": "stream",
     "text": [
      "                                                        \r"
     ]
    },
    {
     "name": "stdout",
     "output_type": "stream",
     "text": [
      "MoviePy - Done.\n",
      "Moviepy - Writing video video_fragmentado/RSsXp3Mn.mp4\n",
      "\n"
     ]
    },
    {
     "name": "stderr",
     "output_type": "stream",
     "text": [
      "                                                                \r"
     ]
    },
    {
     "name": "stdout",
     "output_type": "stream",
     "text": [
      "Moviepy - Done !\n",
      "Moviepy - video ready video_fragmentado/RSsXp3Mn.mp4\n",
      "Fragmento guardado: video_fragmentado/RSsXp3Mn.mp4\n",
      "Moviepy - Building video video_fragmentado/gs5b73sU.mp4.\n",
      "MoviePy - Writing audio in gs5b73sUTEMP_MPY_wvf_snd.mp4\n"
     ]
    },
    {
     "name": "stderr",
     "output_type": "stream",
     "text": [
      "                                                        \r"
     ]
    },
    {
     "name": "stdout",
     "output_type": "stream",
     "text": [
      "MoviePy - Done.\n",
      "Moviepy - Writing video video_fragmentado/gs5b73sU.mp4\n",
      "\n"
     ]
    },
    {
     "name": "stderr",
     "output_type": "stream",
     "text": [
      "                                                                \r"
     ]
    },
    {
     "name": "stdout",
     "output_type": "stream",
     "text": [
      "Moviepy - Done !\n",
      "Moviepy - video ready video_fragmentado/gs5b73sU.mp4\n",
      "Fragmento guardado: video_fragmentado/gs5b73sU.mp4\n",
      "Moviepy - Building video video_fragmentado/2gD5NB4k.mp4.\n",
      "MoviePy - Writing audio in 2gD5NB4kTEMP_MPY_wvf_snd.mp4\n"
     ]
    },
    {
     "name": "stderr",
     "output_type": "stream",
     "text": [
      "                                                        \r"
     ]
    },
    {
     "name": "stdout",
     "output_type": "stream",
     "text": [
      "MoviePy - Done.\n",
      "Moviepy - Writing video video_fragmentado/2gD5NB4k.mp4\n",
      "\n"
     ]
    },
    {
     "name": "stderr",
     "output_type": "stream",
     "text": [
      "                                                               \r"
     ]
    },
    {
     "name": "stdout",
     "output_type": "stream",
     "text": [
      "Moviepy - Done !\n",
      "Moviepy - video ready video_fragmentado/2gD5NB4k.mp4\n",
      "Fragmento guardado: video_fragmentado/2gD5NB4k.mp4\n",
      "Moviepy - Building video video_fragmentado/sg64uEGR.mp4.\n",
      "MoviePy - Writing audio in sg64uEGRTEMP_MPY_wvf_snd.mp4\n"
     ]
    },
    {
     "name": "stderr",
     "output_type": "stream",
     "text": [
      "                                                        \r"
     ]
    },
    {
     "name": "stdout",
     "output_type": "stream",
     "text": [
      "MoviePy - Done.\n",
      "Moviepy - Writing video video_fragmentado/sg64uEGR.mp4\n",
      "\n"
     ]
    },
    {
     "name": "stderr",
     "output_type": "stream",
     "text": [
      "                                                                \r"
     ]
    },
    {
     "name": "stdout",
     "output_type": "stream",
     "text": [
      "Moviepy - Done !\n",
      "Moviepy - video ready video_fragmentado/sg64uEGR.mp4\n",
      "Fragmento guardado: video_fragmentado/sg64uEGR.mp4\n",
      "Moviepy - Building video video_fragmentado/IpxcRQDC.mp4.\n",
      "MoviePy - Writing audio in IpxcRQDCTEMP_MPY_wvf_snd.mp4\n"
     ]
    },
    {
     "name": "stderr",
     "output_type": "stream",
     "text": [
      "                                                        \r"
     ]
    },
    {
     "name": "stdout",
     "output_type": "stream",
     "text": [
      "MoviePy - Done.\n",
      "Moviepy - Writing video video_fragmentado/IpxcRQDC.mp4\n",
      "\n"
     ]
    },
    {
     "name": "stderr",
     "output_type": "stream",
     "text": [
      "                                                                \r"
     ]
    },
    {
     "name": "stdout",
     "output_type": "stream",
     "text": [
      "Moviepy - Done !\n",
      "Moviepy - video ready video_fragmentado/IpxcRQDC.mp4\n",
      "Fragmento guardado: video_fragmentado/IpxcRQDC.mp4\n",
      "Moviepy - Building video video_fragmentado/WetBnSFT.mp4.\n",
      "MoviePy - Writing audio in WetBnSFTTEMP_MPY_wvf_snd.mp4\n"
     ]
    },
    {
     "name": "stderr",
     "output_type": "stream",
     "text": [
      "                                                        \r"
     ]
    },
    {
     "name": "stdout",
     "output_type": "stream",
     "text": [
      "MoviePy - Done.\n",
      "Moviepy - Writing video video_fragmentado/WetBnSFT.mp4\n",
      "\n"
     ]
    },
    {
     "name": "stderr",
     "output_type": "stream",
     "text": [
      "                                                              \r"
     ]
    },
    {
     "name": "stdout",
     "output_type": "stream",
     "text": [
      "Moviepy - Done !\n",
      "Moviepy - video ready video_fragmentado/WetBnSFT.mp4\n",
      "Fragmento guardado: video_fragmentado/WetBnSFT.mp4\n",
      "Moviepy - Building video video_fragmentado/3iacpHYd.mp4.\n",
      "MoviePy - Writing audio in 3iacpHYdTEMP_MPY_wvf_snd.mp4\n"
     ]
    },
    {
     "name": "stderr",
     "output_type": "stream",
     "text": [
      "                                                        \r"
     ]
    },
    {
     "name": "stdout",
     "output_type": "stream",
     "text": [
      "MoviePy - Done.\n",
      "Moviepy - Writing video video_fragmentado/3iacpHYd.mp4\n",
      "\n"
     ]
    },
    {
     "name": "stderr",
     "output_type": "stream",
     "text": [
      "                                                                \r"
     ]
    },
    {
     "name": "stdout",
     "output_type": "stream",
     "text": [
      "Moviepy - Done !\n",
      "Moviepy - video ready video_fragmentado/3iacpHYd.mp4\n",
      "Fragmento guardado: video_fragmentado/3iacpHYd.mp4\n",
      "Moviepy - Building video video_fragmentado/xsSxjm2x.mp4.\n",
      "MoviePy - Writing audio in xsSxjm2xTEMP_MPY_wvf_snd.mp4\n"
     ]
    },
    {
     "name": "stderr",
     "output_type": "stream",
     "text": [
      "                                                        \r"
     ]
    },
    {
     "name": "stdout",
     "output_type": "stream",
     "text": [
      "MoviePy - Done.\n",
      "Moviepy - Writing video video_fragmentado/xsSxjm2x.mp4\n",
      "\n"
     ]
    },
    {
     "name": "stderr",
     "output_type": "stream",
     "text": [
      "                                                               \r"
     ]
    },
    {
     "name": "stdout",
     "output_type": "stream",
     "text": [
      "Moviepy - Done !\n",
      "Moviepy - video ready video_fragmentado/xsSxjm2x.mp4\n",
      "Fragmento guardado: video_fragmentado/xsSxjm2x.mp4\n",
      "Moviepy - Building video video_fragmentado/0m0vaXNr.mp4.\n",
      "MoviePy - Writing audio in 0m0vaXNrTEMP_MPY_wvf_snd.mp4\n"
     ]
    },
    {
     "name": "stderr",
     "output_type": "stream",
     "text": [
      "                                                        \r"
     ]
    },
    {
     "name": "stdout",
     "output_type": "stream",
     "text": [
      "MoviePy - Done.\n",
      "Moviepy - Writing video video_fragmentado/0m0vaXNr.mp4\n",
      "\n"
     ]
    },
    {
     "name": "stderr",
     "output_type": "stream",
     "text": [
      "                                                                \r"
     ]
    },
    {
     "name": "stdout",
     "output_type": "stream",
     "text": [
      "Moviepy - Done !\n",
      "Moviepy - video ready video_fragmentado/0m0vaXNr.mp4\n",
      "Fragmento guardado: video_fragmentado/0m0vaXNr.mp4\n",
      "Moviepy - Building video video_fragmentado/HYtPsTgC.mp4.\n",
      "MoviePy - Writing audio in HYtPsTgCTEMP_MPY_wvf_snd.mp4\n"
     ]
    },
    {
     "name": "stderr",
     "output_type": "stream",
     "text": [
      "                                                        \r"
     ]
    },
    {
     "name": "stdout",
     "output_type": "stream",
     "text": [
      "MoviePy - Done.\n",
      "Moviepy - Writing video video_fragmentado/HYtPsTgC.mp4\n",
      "\n"
     ]
    },
    {
     "name": "stderr",
     "output_type": "stream",
     "text": [
      "                                                              \r"
     ]
    },
    {
     "name": "stdout",
     "output_type": "stream",
     "text": [
      "Moviepy - Done !\n",
      "Moviepy - video ready video_fragmentado/HYtPsTgC.mp4\n",
      "Fragmento guardado: video_fragmentado/HYtPsTgC.mp4\n",
      "Moviepy - Building video video_fragmentado/0phY2eAL.mp4.\n",
      "MoviePy - Writing audio in 0phY2eALTEMP_MPY_wvf_snd.mp4\n"
     ]
    },
    {
     "name": "stderr",
     "output_type": "stream",
     "text": [
      "                                                        \r"
     ]
    },
    {
     "name": "stdout",
     "output_type": "stream",
     "text": [
      "MoviePy - Done.\n",
      "Moviepy - Writing video video_fragmentado/0phY2eAL.mp4\n",
      "\n"
     ]
    },
    {
     "name": "stderr",
     "output_type": "stream",
     "text": [
      "                                                                \r"
     ]
    },
    {
     "name": "stdout",
     "output_type": "stream",
     "text": [
      "Moviepy - Done !\n",
      "Moviepy - video ready video_fragmentado/0phY2eAL.mp4\n",
      "Fragmento guardado: video_fragmentado/0phY2eAL.mp4\n",
      "Moviepy - Building video video_fragmentado/ThWeEd55.mp4.\n",
      "MoviePy - Writing audio in ThWeEd55TEMP_MPY_wvf_snd.mp4\n"
     ]
    },
    {
     "name": "stderr",
     "output_type": "stream",
     "text": [
      "                                                        \r"
     ]
    },
    {
     "name": "stdout",
     "output_type": "stream",
     "text": [
      "MoviePy - Done.\n",
      "Moviepy - Writing video video_fragmentado/ThWeEd55.mp4\n",
      "\n"
     ]
    },
    {
     "name": "stderr",
     "output_type": "stream",
     "text": [
      "                                                              \r"
     ]
    },
    {
     "name": "stdout",
     "output_type": "stream",
     "text": [
      "Moviepy - Done !\n",
      "Moviepy - video ready video_fragmentado/ThWeEd55.mp4\n",
      "Fragmento guardado: video_fragmentado/ThWeEd55.mp4\n",
      "Moviepy - Building video video_fragmentado/P3AkqHWs.mp4.\n",
      "MoviePy - Writing audio in P3AkqHWsTEMP_MPY_wvf_snd.mp4\n"
     ]
    },
    {
     "name": "stderr",
     "output_type": "stream",
     "text": [
      "                                                        \r"
     ]
    },
    {
     "name": "stdout",
     "output_type": "stream",
     "text": [
      "MoviePy - Done.\n",
      "Moviepy - Writing video video_fragmentado/P3AkqHWs.mp4\n",
      "\n"
     ]
    },
    {
     "name": "stderr",
     "output_type": "stream",
     "text": [
      "                                                              \r"
     ]
    },
    {
     "name": "stdout",
     "output_type": "stream",
     "text": [
      "Moviepy - Done !\n",
      "Moviepy - video ready video_fragmentado/P3AkqHWs.mp4\n",
      "Fragmento guardado: video_fragmentado/P3AkqHWs.mp4\n",
      "Moviepy - Building video video_fragmentado/qGTwWC5r.mp4.\n",
      "MoviePy - Writing audio in qGTwWC5rTEMP_MPY_wvf_snd.mp4\n"
     ]
    },
    {
     "name": "stderr",
     "output_type": "stream",
     "text": [
      "                                                        \r"
     ]
    },
    {
     "name": "stdout",
     "output_type": "stream",
     "text": [
      "MoviePy - Done.\n",
      "Moviepy - Writing video video_fragmentado/qGTwWC5r.mp4\n",
      "\n"
     ]
    },
    {
     "name": "stderr",
     "output_type": "stream",
     "text": [
      "                                                                \r"
     ]
    },
    {
     "name": "stdout",
     "output_type": "stream",
     "text": [
      "Moviepy - Done !\n",
      "Moviepy - video ready video_fragmentado/qGTwWC5r.mp4\n",
      "Fragmento guardado: video_fragmentado/qGTwWC5r.mp4\n",
      "Moviepy - Building video video_fragmentado/cMF8zuzw.mp4.\n",
      "MoviePy - Writing audio in cMF8zuzwTEMP_MPY_wvf_snd.mp4\n"
     ]
    },
    {
     "name": "stderr",
     "output_type": "stream",
     "text": [
      "                                                        \r"
     ]
    },
    {
     "name": "stdout",
     "output_type": "stream",
     "text": [
      "MoviePy - Done.\n",
      "Moviepy - Writing video video_fragmentado/cMF8zuzw.mp4\n",
      "\n"
     ]
    },
    {
     "name": "stderr",
     "output_type": "stream",
     "text": [
      "                                                                \r"
     ]
    },
    {
     "name": "stdout",
     "output_type": "stream",
     "text": [
      "Moviepy - Done !\n",
      "Moviepy - video ready video_fragmentado/cMF8zuzw.mp4\n",
      "Fragmento guardado: video_fragmentado/cMF8zuzw.mp4\n",
      "Moviepy - Building video video_fragmentado/I1SYGjo7.mp4.\n",
      "MoviePy - Writing audio in I1SYGjo7TEMP_MPY_wvf_snd.mp4\n"
     ]
    },
    {
     "name": "stderr",
     "output_type": "stream",
     "text": [
      "                                                        \r"
     ]
    },
    {
     "name": "stdout",
     "output_type": "stream",
     "text": [
      "MoviePy - Done.\n",
      "Moviepy - Writing video video_fragmentado/I1SYGjo7.mp4\n",
      "\n"
     ]
    },
    {
     "name": "stderr",
     "output_type": "stream",
     "text": [
      "                                                              \r"
     ]
    },
    {
     "name": "stdout",
     "output_type": "stream",
     "text": [
      "Moviepy - Done !\n",
      "Moviepy - video ready video_fragmentado/I1SYGjo7.mp4\n",
      "Fragmento guardado: video_fragmentado/I1SYGjo7.mp4\n",
      "Moviepy - Building video video_fragmentado/PiBVMam9.mp4.\n",
      "MoviePy - Writing audio in PiBVMam9TEMP_MPY_wvf_snd.mp4\n"
     ]
    },
    {
     "name": "stderr",
     "output_type": "stream",
     "text": [
      "                                                        \r"
     ]
    },
    {
     "name": "stdout",
     "output_type": "stream",
     "text": [
      "MoviePy - Done.\n",
      "Moviepy - Writing video video_fragmentado/PiBVMam9.mp4\n",
      "\n"
     ]
    },
    {
     "name": "stderr",
     "output_type": "stream",
     "text": [
      "                                                                \r"
     ]
    },
    {
     "name": "stdout",
     "output_type": "stream",
     "text": [
      "Moviepy - Done !\n",
      "Moviepy - video ready video_fragmentado/PiBVMam9.mp4\n",
      "Fragmento guardado: video_fragmentado/PiBVMam9.mp4\n",
      "Moviepy - Building video video_fragmentado/zNu7u3iM.mp4.\n",
      "MoviePy - Writing audio in zNu7u3iMTEMP_MPY_wvf_snd.mp4\n"
     ]
    },
    {
     "name": "stderr",
     "output_type": "stream",
     "text": [
      "                                                        \r"
     ]
    },
    {
     "name": "stdout",
     "output_type": "stream",
     "text": [
      "MoviePy - Done.\n",
      "Moviepy - Writing video video_fragmentado/zNu7u3iM.mp4\n",
      "\n"
     ]
    },
    {
     "name": "stderr",
     "output_type": "stream",
     "text": [
      "                                                              \r"
     ]
    },
    {
     "name": "stdout",
     "output_type": "stream",
     "text": [
      "Moviepy - Done !\n",
      "Moviepy - video ready video_fragmentado/zNu7u3iM.mp4\n",
      "Fragmento guardado: video_fragmentado/zNu7u3iM.mp4\n",
      "Moviepy - Building video video_fragmentado/AQUkWDDP.mp4.\n",
      "MoviePy - Writing audio in AQUkWDDPTEMP_MPY_wvf_snd.mp4\n"
     ]
    },
    {
     "name": "stderr",
     "output_type": "stream",
     "text": [
      "                                                        \r"
     ]
    },
    {
     "name": "stdout",
     "output_type": "stream",
     "text": [
      "MoviePy - Done.\n",
      "Moviepy - Writing video video_fragmentado/AQUkWDDP.mp4\n",
      "\n"
     ]
    },
    {
     "name": "stderr",
     "output_type": "stream",
     "text": [
      "                                                              \r"
     ]
    },
    {
     "name": "stdout",
     "output_type": "stream",
     "text": [
      "Moviepy - Done !\n",
      "Moviepy - video ready video_fragmentado/AQUkWDDP.mp4\n",
      "Fragmento guardado: video_fragmentado/AQUkWDDP.mp4\n",
      "Moviepy - Building video video_fragmentado/vpUm5Us5.mp4.\n",
      "MoviePy - Writing audio in vpUm5Us5TEMP_MPY_wvf_snd.mp4\n"
     ]
    },
    {
     "name": "stderr",
     "output_type": "stream",
     "text": [
      "                                                        \r"
     ]
    },
    {
     "name": "stdout",
     "output_type": "stream",
     "text": [
      "MoviePy - Done.\n",
      "Moviepy - Writing video video_fragmentado/vpUm5Us5.mp4\n",
      "\n"
     ]
    },
    {
     "name": "stderr",
     "output_type": "stream",
     "text": [
      "                                                               \r"
     ]
    },
    {
     "name": "stdout",
     "output_type": "stream",
     "text": [
      "Moviepy - Done !\n",
      "Moviepy - video ready video_fragmentado/vpUm5Us5.mp4\n",
      "Fragmento guardado: video_fragmentado/vpUm5Us5.mp4\n",
      "Moviepy - Building video video_fragmentado/TmeqaXeV.mp4.\n",
      "MoviePy - Writing audio in TmeqaXeVTEMP_MPY_wvf_snd.mp4\n"
     ]
    },
    {
     "name": "stderr",
     "output_type": "stream",
     "text": [
      "                                                        \r"
     ]
    },
    {
     "name": "stdout",
     "output_type": "stream",
     "text": [
      "MoviePy - Done.\n",
      "Moviepy - Writing video video_fragmentado/TmeqaXeV.mp4\n",
      "\n"
     ]
    },
    {
     "name": "stderr",
     "output_type": "stream",
     "text": [
      "                                                                \r"
     ]
    },
    {
     "name": "stdout",
     "output_type": "stream",
     "text": [
      "Moviepy - Done !\n",
      "Moviepy - video ready video_fragmentado/TmeqaXeV.mp4\n",
      "Fragmento guardado: video_fragmentado/TmeqaXeV.mp4\n",
      "Moviepy - Building video video_fragmentado/h6fRZmCX.mp4.\n",
      "MoviePy - Writing audio in h6fRZmCXTEMP_MPY_wvf_snd.mp4\n"
     ]
    },
    {
     "name": "stderr",
     "output_type": "stream",
     "text": [
      "                                                        \r"
     ]
    },
    {
     "name": "stdout",
     "output_type": "stream",
     "text": [
      "MoviePy - Done.\n",
      "Moviepy - Writing video video_fragmentado/h6fRZmCX.mp4\n",
      "\n"
     ]
    },
    {
     "name": "stderr",
     "output_type": "stream",
     "text": [
      "                                                              \r"
     ]
    },
    {
     "name": "stdout",
     "output_type": "stream",
     "text": [
      "Moviepy - Done !\n",
      "Moviepy - video ready video_fragmentado/h6fRZmCX.mp4\n",
      "Fragmento guardado: video_fragmentado/h6fRZmCX.mp4\n",
      "Moviepy - Building video video_fragmentado/SS2vv5XQ.mp4.\n",
      "MoviePy - Writing audio in SS2vv5XQTEMP_MPY_wvf_snd.mp4\n"
     ]
    },
    {
     "name": "stderr",
     "output_type": "stream",
     "text": [
      "                                                        \r"
     ]
    },
    {
     "name": "stdout",
     "output_type": "stream",
     "text": [
      "MoviePy - Done.\n",
      "Moviepy - Writing video video_fragmentado/SS2vv5XQ.mp4\n",
      "\n"
     ]
    },
    {
     "name": "stderr",
     "output_type": "stream",
     "text": [
      "                                                              \r"
     ]
    },
    {
     "name": "stdout",
     "output_type": "stream",
     "text": [
      "Moviepy - Done !\n",
      "Moviepy - video ready video_fragmentado/SS2vv5XQ.mp4\n",
      "Fragmento guardado: video_fragmentado/SS2vv5XQ.mp4\n",
      "Moviepy - Building video video_fragmentado/ZP7v6K6J.mp4.\n",
      "MoviePy - Writing audio in ZP7v6K6JTEMP_MPY_wvf_snd.mp4\n"
     ]
    },
    {
     "name": "stderr",
     "output_type": "stream",
     "text": [
      "                                                        \r"
     ]
    },
    {
     "name": "stdout",
     "output_type": "stream",
     "text": [
      "MoviePy - Done.\n",
      "Moviepy - Writing video video_fragmentado/ZP7v6K6J.mp4\n",
      "\n"
     ]
    },
    {
     "name": "stderr",
     "output_type": "stream",
     "text": [
      "                                                              \r"
     ]
    },
    {
     "name": "stdout",
     "output_type": "stream",
     "text": [
      "Moviepy - Done !\n",
      "Moviepy - video ready video_fragmentado/ZP7v6K6J.mp4\n",
      "Fragmento guardado: video_fragmentado/ZP7v6K6J.mp4\n",
      "Moviepy - Building video video_fragmentado/U4eMLIkU.mp4.\n",
      "MoviePy - Writing audio in U4eMLIkUTEMP_MPY_wvf_snd.mp4\n"
     ]
    },
    {
     "name": "stderr",
     "output_type": "stream",
     "text": [
      "                                                        \r"
     ]
    },
    {
     "name": "stdout",
     "output_type": "stream",
     "text": [
      "MoviePy - Done.\n",
      "Moviepy - Writing video video_fragmentado/U4eMLIkU.mp4\n",
      "\n"
     ]
    },
    {
     "name": "stderr",
     "output_type": "stream",
     "text": [
      "                                                              \r"
     ]
    },
    {
     "name": "stdout",
     "output_type": "stream",
     "text": [
      "Moviepy - Done !\n",
      "Moviepy - video ready video_fragmentado/U4eMLIkU.mp4\n",
      "Fragmento guardado: video_fragmentado/U4eMLIkU.mp4\n",
      "Moviepy - Building video video_fragmentado/4xoeohSW.mp4.\n",
      "MoviePy - Writing audio in 4xoeohSWTEMP_MPY_wvf_snd.mp4\n"
     ]
    },
    {
     "name": "stderr",
     "output_type": "stream",
     "text": [
      "                                                        \r"
     ]
    },
    {
     "name": "stdout",
     "output_type": "stream",
     "text": [
      "MoviePy - Done.\n",
      "Moviepy - Writing video video_fragmentado/4xoeohSW.mp4\n",
      "\n"
     ]
    },
    {
     "name": "stderr",
     "output_type": "stream",
     "text": [
      "                                                              \r"
     ]
    },
    {
     "name": "stdout",
     "output_type": "stream",
     "text": [
      "Moviepy - Done !\n",
      "Moviepy - video ready video_fragmentado/4xoeohSW.mp4\n",
      "Fragmento guardado: video_fragmentado/4xoeohSW.mp4\n",
      "Moviepy - Building video video_fragmentado/c8sSWD8O.mp4.\n",
      "MoviePy - Writing audio in c8sSWD8OTEMP_MPY_wvf_snd.mp4\n"
     ]
    },
    {
     "name": "stderr",
     "output_type": "stream",
     "text": [
      "                                                        \r"
     ]
    },
    {
     "name": "stdout",
     "output_type": "stream",
     "text": [
      "MoviePy - Done.\n",
      "Moviepy - Writing video video_fragmentado/c8sSWD8O.mp4\n",
      "\n"
     ]
    },
    {
     "name": "stderr",
     "output_type": "stream",
     "text": [
      "                                                              \r"
     ]
    },
    {
     "name": "stdout",
     "output_type": "stream",
     "text": [
      "Moviepy - Done !\n",
      "Moviepy - video ready video_fragmentado/c8sSWD8O.mp4\n",
      "Fragmento guardado: video_fragmentado/c8sSWD8O.mp4\n",
      "Moviepy - Building video video_fragmentado/ysrOnji1.mp4.\n",
      "MoviePy - Writing audio in ysrOnji1TEMP_MPY_wvf_snd.mp4\n"
     ]
    },
    {
     "name": "stderr",
     "output_type": "stream",
     "text": [
      "                                                        \r"
     ]
    },
    {
     "name": "stdout",
     "output_type": "stream",
     "text": [
      "MoviePy - Done.\n",
      "Moviepy - Writing video video_fragmentado/ysrOnji1.mp4\n",
      "\n"
     ]
    },
    {
     "name": "stderr",
     "output_type": "stream",
     "text": [
      "                                                              \r"
     ]
    },
    {
     "name": "stdout",
     "output_type": "stream",
     "text": [
      "Moviepy - Done !\n",
      "Moviepy - video ready video_fragmentado/ysrOnji1.mp4\n",
      "Fragmento guardado: video_fragmentado/ysrOnji1.mp4\n",
      "Moviepy - Building video video_fragmentado/hf3IyWqc.mp4.\n",
      "MoviePy - Writing audio in hf3IyWqcTEMP_MPY_wvf_snd.mp4\n"
     ]
    },
    {
     "name": "stderr",
     "output_type": "stream",
     "text": [
      "                                                        \r"
     ]
    },
    {
     "name": "stdout",
     "output_type": "stream",
     "text": [
      "MoviePy - Done.\n",
      "Moviepy - Writing video video_fragmentado/hf3IyWqc.mp4\n",
      "\n"
     ]
    },
    {
     "name": "stderr",
     "output_type": "stream",
     "text": [
      "                                                              \r"
     ]
    },
    {
     "name": "stdout",
     "output_type": "stream",
     "text": [
      "Moviepy - Done !\n",
      "Moviepy - video ready video_fragmentado/hf3IyWqc.mp4\n",
      "Fragmento guardado: video_fragmentado/hf3IyWqc.mp4\n",
      "Moviepy - Building video video_fragmentado/STCNH7u7.mp4.\n",
      "MoviePy - Writing audio in STCNH7u7TEMP_MPY_wvf_snd.mp4\n"
     ]
    },
    {
     "name": "stderr",
     "output_type": "stream",
     "text": [
      "                                                        \r"
     ]
    },
    {
     "name": "stdout",
     "output_type": "stream",
     "text": [
      "MoviePy - Done.\n",
      "Moviepy - Writing video video_fragmentado/STCNH7u7.mp4\n",
      "\n"
     ]
    },
    {
     "name": "stderr",
     "output_type": "stream",
     "text": [
      "                                                                \r"
     ]
    },
    {
     "name": "stdout",
     "output_type": "stream",
     "text": [
      "Moviepy - Done !\n",
      "Moviepy - video ready video_fragmentado/STCNH7u7.mp4\n",
      "Fragmento guardado: video_fragmentado/STCNH7u7.mp4\n",
      "Moviepy - Building video video_fragmentado/MRyiDL3z.mp4.\n",
      "MoviePy - Writing audio in MRyiDL3zTEMP_MPY_wvf_snd.mp4\n"
     ]
    },
    {
     "name": "stderr",
     "output_type": "stream",
     "text": [
      "                                                        \r"
     ]
    },
    {
     "name": "stdout",
     "output_type": "stream",
     "text": [
      "MoviePy - Done.\n",
      "Moviepy - Writing video video_fragmentado/MRyiDL3z.mp4\n",
      "\n"
     ]
    },
    {
     "name": "stderr",
     "output_type": "stream",
     "text": [
      "                                                                \r"
     ]
    },
    {
     "name": "stdout",
     "output_type": "stream",
     "text": [
      "Moviepy - Done !\n",
      "Moviepy - video ready video_fragmentado/MRyiDL3z.mp4\n",
      "Fragmento guardado: video_fragmentado/MRyiDL3z.mp4\n",
      "Moviepy - Building video video_fragmentado/4889rtUN.mp4.\n",
      "MoviePy - Writing audio in 4889rtUNTEMP_MPY_wvf_snd.mp4\n"
     ]
    },
    {
     "name": "stderr",
     "output_type": "stream",
     "text": [
      "                                                        \r"
     ]
    },
    {
     "name": "stdout",
     "output_type": "stream",
     "text": [
      "MoviePy - Done.\n",
      "Moviepy - Writing video video_fragmentado/4889rtUN.mp4\n",
      "\n"
     ]
    },
    {
     "name": "stderr",
     "output_type": "stream",
     "text": [
      "                                                              \r"
     ]
    },
    {
     "name": "stdout",
     "output_type": "stream",
     "text": [
      "Moviepy - Done !\n",
      "Moviepy - video ready video_fragmentado/4889rtUN.mp4\n",
      "Fragmento guardado: video_fragmentado/4889rtUN.mp4\n",
      "Moviepy - Building video video_fragmentado/7CltQxh1.mp4.\n",
      "MoviePy - Writing audio in 7CltQxh1TEMP_MPY_wvf_snd.mp4\n"
     ]
    },
    {
     "name": "stderr",
     "output_type": "stream",
     "text": [
      "                                                        \r"
     ]
    },
    {
     "name": "stdout",
     "output_type": "stream",
     "text": [
      "MoviePy - Done.\n",
      "Moviepy - Writing video video_fragmentado/7CltQxh1.mp4\n",
      "\n"
     ]
    },
    {
     "name": "stderr",
     "output_type": "stream",
     "text": [
      "                                                                \r"
     ]
    },
    {
     "name": "stdout",
     "output_type": "stream",
     "text": [
      "Moviepy - Done !\n",
      "Moviepy - video ready video_fragmentado/7CltQxh1.mp4\n",
      "Fragmento guardado: video_fragmentado/7CltQxh1.mp4\n",
      "Moviepy - Building video video_fragmentado/JpdY691V.mp4.\n",
      "MoviePy - Writing audio in JpdY691VTEMP_MPY_wvf_snd.mp4\n"
     ]
    },
    {
     "name": "stderr",
     "output_type": "stream",
     "text": [
      "                                                        \r"
     ]
    },
    {
     "name": "stdout",
     "output_type": "stream",
     "text": [
      "MoviePy - Done.\n",
      "Moviepy - Writing video video_fragmentado/JpdY691V.mp4\n",
      "\n"
     ]
    },
    {
     "name": "stderr",
     "output_type": "stream",
     "text": [
      "                                                                \r"
     ]
    },
    {
     "name": "stdout",
     "output_type": "stream",
     "text": [
      "Moviepy - Done !\n",
      "Moviepy - video ready video_fragmentado/JpdY691V.mp4\n",
      "Fragmento guardado: video_fragmentado/JpdY691V.mp4\n",
      "Moviepy - Building video video_fragmentado/6UlPIgdd.mp4.\n",
      "MoviePy - Writing audio in 6UlPIgddTEMP_MPY_wvf_snd.mp4\n"
     ]
    },
    {
     "name": "stderr",
     "output_type": "stream",
     "text": [
      "                                                        \r"
     ]
    },
    {
     "name": "stdout",
     "output_type": "stream",
     "text": [
      "MoviePy - Done.\n",
      "Moviepy - Writing video video_fragmentado/6UlPIgdd.mp4\n",
      "\n"
     ]
    },
    {
     "name": "stderr",
     "output_type": "stream",
     "text": [
      "                                                               \r"
     ]
    },
    {
     "name": "stdout",
     "output_type": "stream",
     "text": [
      "Moviepy - Done !\n",
      "Moviepy - video ready video_fragmentado/6UlPIgdd.mp4\n",
      "Fragmento guardado: video_fragmentado/6UlPIgdd.mp4\n",
      "Moviepy - Building video video_fragmentado/AG2OfrAz.mp4.\n",
      "MoviePy - Writing audio in AG2OfrAzTEMP_MPY_wvf_snd.mp4\n"
     ]
    },
    {
     "name": "stderr",
     "output_type": "stream",
     "text": [
      "                                                        \r"
     ]
    },
    {
     "name": "stdout",
     "output_type": "stream",
     "text": [
      "MoviePy - Done.\n",
      "Moviepy - Writing video video_fragmentado/AG2OfrAz.mp4\n",
      "\n"
     ]
    },
    {
     "name": "stderr",
     "output_type": "stream",
     "text": [
      "                                                              \r"
     ]
    },
    {
     "name": "stdout",
     "output_type": "stream",
     "text": [
      "Moviepy - Done !\n",
      "Moviepy - video ready video_fragmentado/AG2OfrAz.mp4\n",
      "Fragmento guardado: video_fragmentado/AG2OfrAz.mp4\n",
      "Moviepy - Building video video_fragmentado/NQ9oduH4.mp4.\n",
      "MoviePy - Writing audio in NQ9oduH4TEMP_MPY_wvf_snd.mp4\n"
     ]
    },
    {
     "name": "stderr",
     "output_type": "stream",
     "text": [
      "                                                        \r"
     ]
    },
    {
     "name": "stdout",
     "output_type": "stream",
     "text": [
      "MoviePy - Done.\n",
      "Moviepy - Writing video video_fragmentado/NQ9oduH4.mp4\n",
      "\n"
     ]
    },
    {
     "name": "stderr",
     "output_type": "stream",
     "text": [
      "                                                              \r"
     ]
    },
    {
     "name": "stdout",
     "output_type": "stream",
     "text": [
      "Moviepy - Done !\n",
      "Moviepy - video ready video_fragmentado/NQ9oduH4.mp4\n",
      "Fragmento guardado: video_fragmentado/NQ9oduH4.mp4\n",
      "Moviepy - Building video video_fragmentado/VyNtffSe.mp4.\n",
      "MoviePy - Writing audio in VyNtffSeTEMP_MPY_wvf_snd.mp4\n"
     ]
    },
    {
     "name": "stderr",
     "output_type": "stream",
     "text": [
      "                                                        \r"
     ]
    },
    {
     "name": "stdout",
     "output_type": "stream",
     "text": [
      "MoviePy - Done.\n",
      "Moviepy - Writing video video_fragmentado/VyNtffSe.mp4\n",
      "\n"
     ]
    },
    {
     "name": "stderr",
     "output_type": "stream",
     "text": [
      "                                                              \r"
     ]
    },
    {
     "name": "stdout",
     "output_type": "stream",
     "text": [
      "Moviepy - Done !\n",
      "Moviepy - video ready video_fragmentado/VyNtffSe.mp4\n",
      "Fragmento guardado: video_fragmentado/VyNtffSe.mp4\n",
      "Moviepy - Building video video_fragmentado/QQ6V0tFU.mp4.\n",
      "MoviePy - Writing audio in QQ6V0tFUTEMP_MPY_wvf_snd.mp4\n"
     ]
    },
    {
     "name": "stderr",
     "output_type": "stream",
     "text": [
      "                                                        \r"
     ]
    },
    {
     "name": "stdout",
     "output_type": "stream",
     "text": [
      "MoviePy - Done.\n",
      "Moviepy - Writing video video_fragmentado/QQ6V0tFU.mp4\n",
      "\n"
     ]
    },
    {
     "name": "stderr",
     "output_type": "stream",
     "text": [
      "                                                              \r"
     ]
    },
    {
     "name": "stdout",
     "output_type": "stream",
     "text": [
      "Moviepy - Done !\n",
      "Moviepy - video ready video_fragmentado/QQ6V0tFU.mp4\n",
      "Fragmento guardado: video_fragmentado/QQ6V0tFU.mp4\n",
      "Moviepy - Building video video_fragmentado/EkMmxkaM.mp4.\n",
      "MoviePy - Writing audio in EkMmxkaMTEMP_MPY_wvf_snd.mp4\n"
     ]
    },
    {
     "name": "stderr",
     "output_type": "stream",
     "text": [
      "                                                        \r"
     ]
    },
    {
     "name": "stdout",
     "output_type": "stream",
     "text": [
      "MoviePy - Done.\n",
      "Moviepy - Writing video video_fragmentado/EkMmxkaM.mp4\n",
      "\n"
     ]
    },
    {
     "name": "stderr",
     "output_type": "stream",
     "text": [
      "                                                              \r"
     ]
    },
    {
     "name": "stdout",
     "output_type": "stream",
     "text": [
      "Moviepy - Done !\n",
      "Moviepy - video ready video_fragmentado/EkMmxkaM.mp4\n",
      "Fragmento guardado: video_fragmentado/EkMmxkaM.mp4\n",
      "Moviepy - Building video video_fragmentado/oect58yx.mp4.\n",
      "MoviePy - Writing audio in oect58yxTEMP_MPY_wvf_snd.mp4\n"
     ]
    },
    {
     "name": "stderr",
     "output_type": "stream",
     "text": [
      "                                                        \r"
     ]
    },
    {
     "name": "stdout",
     "output_type": "stream",
     "text": [
      "MoviePy - Done.\n",
      "Moviepy - Writing video video_fragmentado/oect58yx.mp4\n",
      "\n"
     ]
    },
    {
     "name": "stderr",
     "output_type": "stream",
     "text": [
      "                                                              \r"
     ]
    },
    {
     "name": "stdout",
     "output_type": "stream",
     "text": [
      "Moviepy - Done !\n",
      "Moviepy - video ready video_fragmentado/oect58yx.mp4\n",
      "Fragmento guardado: video_fragmentado/oect58yx.mp4\n",
      "Moviepy - Building video video_fragmentado/77Y09QeI.mp4.\n",
      "MoviePy - Writing audio in 77Y09QeITEMP_MPY_wvf_snd.mp4\n"
     ]
    },
    {
     "name": "stderr",
     "output_type": "stream",
     "text": [
      "                                                        \r"
     ]
    },
    {
     "name": "stdout",
     "output_type": "stream",
     "text": [
      "MoviePy - Done.\n",
      "Moviepy - Writing video video_fragmentado/77Y09QeI.mp4\n",
      "\n"
     ]
    },
    {
     "name": "stderr",
     "output_type": "stream",
     "text": [
      "                                                              \r"
     ]
    },
    {
     "name": "stdout",
     "output_type": "stream",
     "text": [
      "Moviepy - Done !\n",
      "Moviepy - video ready video_fragmentado/77Y09QeI.mp4\n",
      "Fragmento guardado: video_fragmentado/77Y09QeI.mp4\n",
      "Moviepy - Building video video_fragmentado/i0LX780h.mp4.\n",
      "MoviePy - Writing audio in i0LX780hTEMP_MPY_wvf_snd.mp4\n"
     ]
    },
    {
     "name": "stderr",
     "output_type": "stream",
     "text": [
      "                                                        \r"
     ]
    },
    {
     "name": "stdout",
     "output_type": "stream",
     "text": [
      "MoviePy - Done.\n",
      "Moviepy - Writing video video_fragmentado/i0LX780h.mp4\n",
      "\n"
     ]
    },
    {
     "name": "stderr",
     "output_type": "stream",
     "text": [
      "                                                                \r"
     ]
    },
    {
     "name": "stdout",
     "output_type": "stream",
     "text": [
      "Moviepy - Done !\n",
      "Moviepy - video ready video_fragmentado/i0LX780h.mp4\n",
      "Fragmento guardado: video_fragmentado/i0LX780h.mp4\n",
      "Moviepy - Building video video_fragmentado/XzCasrPG.mp4.\n",
      "MoviePy - Writing audio in XzCasrPGTEMP_MPY_wvf_snd.mp4\n"
     ]
    },
    {
     "name": "stderr",
     "output_type": "stream",
     "text": [
      "                                                       \r"
     ]
    },
    {
     "name": "stdout",
     "output_type": "stream",
     "text": [
      "MoviePy - Done.\n",
      "Moviepy - Writing video video_fragmentado/XzCasrPG.mp4\n",
      "\n"
     ]
    },
    {
     "name": "stderr",
     "output_type": "stream",
     "text": [
      "                                                   "
     ]
    },
    {
     "name": "stdout",
     "output_type": "stream",
     "text": [
      "Moviepy - Done !\n",
      "Moviepy - video ready video_fragmentado/XzCasrPG.mp4\n",
      "Fragmento guardado: video_fragmentado/XzCasrPG.mp4\n"
     ]
    },
    {
     "name": "stderr",
     "output_type": "stream",
     "text": [
      "\r"
     ]
    }
   ],
   "source": [
    "# Llamar a la función para dividir el video\n",
    "split_video(video_path)"
   ]
  }
 ],
 "metadata": {
  "kernelspec": {
   "display_name": "AndMoviepy",
   "language": "python",
   "name": "python3"
  },
  "language_info": {
   "codemirror_mode": {
    "name": "ipython",
    "version": 3
   },
   "file_extension": ".py",
   "mimetype": "text/x-python",
   "name": "python",
   "nbconvert_exporter": "python",
   "pygments_lexer": "ipython3",
   "version": "3.10.14"
  }
 },
 "nbformat": 4,
 "nbformat_minor": 2
}
