{
 "cells": [
  {
   "cell_type": "code",
   "execution_count": 1,
   "metadata": {},
   "outputs": [],
   "source": [
    "import os\n",
    "import random\n",
    "import string\n",
    "from moviepy.video.io.VideoFileClip import VideoFileClip"
   ]
  },
  {
   "cell_type": "code",
   "execution_count": 2,
   "metadata": {},
   "outputs": [],
   "source": [
    "def generate_random_filename(length=8):\n",
    "    \"\"\"Genera un nombre de archivo aleatorio.\"\"\"\n",
    "    letters = string.ascii_letters + string.digits\n",
    "    return ''.join(random.choice(letters) for i in range(length)) + '.mp4'"
   ]
  },
  {
   "cell_type": "code",
   "execution_count": 3,
   "metadata": {},
   "outputs": [],
   "source": [
    "carpeta_descarga='video_fragmentado'\n",
    "\n",
    "# Limpiar el contenido de la carpeta de descarga antes de descargar un nuevo video\n",
    "for filename in os.listdir(carpeta_descarga):\n",
    "    file_path = os.path.join(carpeta_descarga, filename)\n",
    "    try:\n",
    "        if os.path.isfile(file_path):  # Eliminar archivos\n",
    "            os.remove(file_path)\n",
    "        elif os.path.isdir(file_path):  # Eliminar directorios\n",
    "            # Eliminar el directorio y su contenido\n",
    "            for root, dirs, files in os.walk(file_path, topdown=False):\n",
    "                for file in files:\n",
    "                    os.remove(os.path.join(root, file))  # Eliminar archivos dentro del directorio\n",
    "                for dir in dirs:\n",
    "                    os.rmdir(os.path.join(root, dir))  # Eliminar directorios vacíos\n",
    "            os.rmdir(file_path)  # Eliminar el directorio principal\n",
    "    except Exception as e:\n",
    "        print(f\"Error al eliminar {file_path}: {e}\")"
   ]
  },
  {
   "cell_type": "code",
   "execution_count": 4,
   "metadata": {},
   "outputs": [],
   "source": [
    "def split_video(video_path, segment_duration=6, output_folder='video_fragmentado'):\n",
    "    # Crear la carpeta de salida si no existe\n",
    "    os.makedirs(output_folder, exist_ok=True)\n",
    "\n",
    "    # Cargar el video\n",
    "    with VideoFileClip(video_path) as video:\n",
    "        duration = int(video.duration)  # Duración total en segundos\n",
    "        for start_time in range(0, duration, segment_duration):\n",
    "            end_time = min(start_time + segment_duration, duration)\n",
    "            segment = video.subclip(start_time, end_time)\n",
    "            random_filename = generate_random_filename()\n",
    "            segment_path = os.path.join(output_folder, random_filename)\n",
    "            segment.write_videofile(segment_path, codec='libx264', audio_codec='aac')\n",
    "            print(f\"Fragmento guardado: {segment_path}\")"
   ]
  },
  {
   "cell_type": "code",
   "execution_count": 5,
   "metadata": {},
   "outputs": [],
   "source": [
    "# Ruta del video original\n",
    "video_path = 'video_download/video.mp4' "
   ]
  },
  {
   "cell_type": "code",
   "execution_count": 6,
   "metadata": {},
   "outputs": [
    {
     "name": "stdout",
     "output_type": "stream",
     "text": [
      "Moviepy - Building video video_fragmentado/9u9wa2cY.mp4.\n",
      "MoviePy - Writing audio in 9u9wa2cYTEMP_MPY_wvf_snd.mp4\n"
     ]
    },
    {
     "name": "stderr",
     "output_type": "stream",
     "text": [
      "                                                        \r"
     ]
    },
    {
     "name": "stdout",
     "output_type": "stream",
     "text": [
      "MoviePy - Done.\n",
      "Moviepy - Writing video video_fragmentado/9u9wa2cY.mp4\n",
      "\n"
     ]
    },
    {
     "name": "stderr",
     "output_type": "stream",
     "text": [
      "                                                                \r"
     ]
    },
    {
     "name": "stdout",
     "output_type": "stream",
     "text": [
      "Moviepy - Done !\n",
      "Moviepy - video ready video_fragmentado/9u9wa2cY.mp4\n",
      "Fragmento guardado: video_fragmentado/9u9wa2cY.mp4\n",
      "Moviepy - Building video video_fragmentado/Rvx01Rnb.mp4.\n",
      "MoviePy - Writing audio in Rvx01RnbTEMP_MPY_wvf_snd.mp4\n"
     ]
    },
    {
     "name": "stderr",
     "output_type": "stream",
     "text": [
      "                                                        \r"
     ]
    },
    {
     "name": "stdout",
     "output_type": "stream",
     "text": [
      "MoviePy - Done.\n",
      "Moviepy - Writing video video_fragmentado/Rvx01Rnb.mp4\n",
      "\n"
     ]
    },
    {
     "name": "stderr",
     "output_type": "stream",
     "text": [
      "                                                                \r"
     ]
    },
    {
     "name": "stdout",
     "output_type": "stream",
     "text": [
      "Moviepy - Done !\n",
      "Moviepy - video ready video_fragmentado/Rvx01Rnb.mp4\n",
      "Fragmento guardado: video_fragmentado/Rvx01Rnb.mp4\n",
      "Moviepy - Building video video_fragmentado/1Un8LHv2.mp4.\n",
      "MoviePy - Writing audio in 1Un8LHv2TEMP_MPY_wvf_snd.mp4\n"
     ]
    },
    {
     "name": "stderr",
     "output_type": "stream",
     "text": [
      "                                                        \r"
     ]
    },
    {
     "name": "stdout",
     "output_type": "stream",
     "text": [
      "MoviePy - Done.\n",
      "Moviepy - Writing video video_fragmentado/1Un8LHv2.mp4\n",
      "\n"
     ]
    },
    {
     "name": "stderr",
     "output_type": "stream",
     "text": [
      "                                                                \r"
     ]
    },
    {
     "name": "stdout",
     "output_type": "stream",
     "text": [
      "Moviepy - Done !\n",
      "Moviepy - video ready video_fragmentado/1Un8LHv2.mp4\n",
      "Fragmento guardado: video_fragmentado/1Un8LHv2.mp4\n",
      "Moviepy - Building video video_fragmentado/1YLU7LyQ.mp4.\n",
      "MoviePy - Writing audio in 1YLU7LyQTEMP_MPY_wvf_snd.mp4\n"
     ]
    },
    {
     "name": "stderr",
     "output_type": "stream",
     "text": [
      "                                                        \r"
     ]
    },
    {
     "name": "stdout",
     "output_type": "stream",
     "text": [
      "MoviePy - Done.\n",
      "Moviepy - Writing video video_fragmentado/1YLU7LyQ.mp4\n",
      "\n"
     ]
    },
    {
     "name": "stderr",
     "output_type": "stream",
     "text": [
      "                                                                \r"
     ]
    },
    {
     "name": "stdout",
     "output_type": "stream",
     "text": [
      "Moviepy - Done !\n",
      "Moviepy - video ready video_fragmentado/1YLU7LyQ.mp4\n",
      "Fragmento guardado: video_fragmentado/1YLU7LyQ.mp4\n",
      "Moviepy - Building video video_fragmentado/GNovEv0m.mp4.\n",
      "MoviePy - Writing audio in GNovEv0mTEMP_MPY_wvf_snd.mp4\n"
     ]
    },
    {
     "name": "stderr",
     "output_type": "stream",
     "text": [
      "                                                        \r"
     ]
    },
    {
     "name": "stdout",
     "output_type": "stream",
     "text": [
      "MoviePy - Done.\n",
      "Moviepy - Writing video video_fragmentado/GNovEv0m.mp4\n",
      "\n"
     ]
    },
    {
     "name": "stderr",
     "output_type": "stream",
     "text": [
      "                                                                \r"
     ]
    },
    {
     "name": "stdout",
     "output_type": "stream",
     "text": [
      "Moviepy - Done !\n",
      "Moviepy - video ready video_fragmentado/GNovEv0m.mp4\n",
      "Fragmento guardado: video_fragmentado/GNovEv0m.mp4\n",
      "Moviepy - Building video video_fragmentado/q0JE1RY4.mp4.\n",
      "MoviePy - Writing audio in q0JE1RY4TEMP_MPY_wvf_snd.mp4\n"
     ]
    },
    {
     "name": "stderr",
     "output_type": "stream",
     "text": [
      "                                                        \r"
     ]
    },
    {
     "name": "stdout",
     "output_type": "stream",
     "text": [
      "MoviePy - Done.\n",
      "Moviepy - Writing video video_fragmentado/q0JE1RY4.mp4\n",
      "\n"
     ]
    },
    {
     "name": "stderr",
     "output_type": "stream",
     "text": [
      "                                                                \r"
     ]
    },
    {
     "name": "stdout",
     "output_type": "stream",
     "text": [
      "Moviepy - Done !\n",
      "Moviepy - video ready video_fragmentado/q0JE1RY4.mp4\n",
      "Fragmento guardado: video_fragmentado/q0JE1RY4.mp4\n",
      "Moviepy - Building video video_fragmentado/AnaeXK4T.mp4.\n",
      "MoviePy - Writing audio in AnaeXK4TTEMP_MPY_wvf_snd.mp4\n"
     ]
    },
    {
     "name": "stderr",
     "output_type": "stream",
     "text": [
      "                                                        \r"
     ]
    },
    {
     "name": "stdout",
     "output_type": "stream",
     "text": [
      "MoviePy - Done.\n",
      "Moviepy - Writing video video_fragmentado/AnaeXK4T.mp4\n",
      "\n"
     ]
    },
    {
     "name": "stderr",
     "output_type": "stream",
     "text": [
      "                                                                \r"
     ]
    },
    {
     "name": "stdout",
     "output_type": "stream",
     "text": [
      "Moviepy - Done !\n",
      "Moviepy - video ready video_fragmentado/AnaeXK4T.mp4\n",
      "Fragmento guardado: video_fragmentado/AnaeXK4T.mp4\n",
      "Moviepy - Building video video_fragmentado/gxgQSwQz.mp4.\n",
      "MoviePy - Writing audio in gxgQSwQzTEMP_MPY_wvf_snd.mp4\n"
     ]
    },
    {
     "name": "stderr",
     "output_type": "stream",
     "text": [
      "                                                        \r"
     ]
    },
    {
     "name": "stdout",
     "output_type": "stream",
     "text": [
      "MoviePy - Done.\n",
      "Moviepy - Writing video video_fragmentado/gxgQSwQz.mp4\n",
      "\n"
     ]
    },
    {
     "name": "stderr",
     "output_type": "stream",
     "text": [
      "                                                                \r"
     ]
    },
    {
     "name": "stdout",
     "output_type": "stream",
     "text": [
      "Moviepy - Done !\n",
      "Moviepy - video ready video_fragmentado/gxgQSwQz.mp4\n",
      "Fragmento guardado: video_fragmentado/gxgQSwQz.mp4\n",
      "Moviepy - Building video video_fragmentado/CFaNbEYd.mp4.\n",
      "MoviePy - Writing audio in CFaNbEYdTEMP_MPY_wvf_snd.mp4\n"
     ]
    },
    {
     "name": "stderr",
     "output_type": "stream",
     "text": [
      "                                                        \r"
     ]
    },
    {
     "name": "stdout",
     "output_type": "stream",
     "text": [
      "MoviePy - Done.\n",
      "Moviepy - Writing video video_fragmentado/CFaNbEYd.mp4\n",
      "\n"
     ]
    },
    {
     "name": "stderr",
     "output_type": "stream",
     "text": [
      "                                                                \r"
     ]
    },
    {
     "name": "stdout",
     "output_type": "stream",
     "text": [
      "Moviepy - Done !\n",
      "Moviepy - video ready video_fragmentado/CFaNbEYd.mp4\n",
      "Fragmento guardado: video_fragmentado/CFaNbEYd.mp4\n",
      "Moviepy - Building video video_fragmentado/Y2oH6dkT.mp4.\n",
      "MoviePy - Writing audio in Y2oH6dkTTEMP_MPY_wvf_snd.mp4\n"
     ]
    },
    {
     "name": "stderr",
     "output_type": "stream",
     "text": [
      "                                                        \r"
     ]
    },
    {
     "name": "stdout",
     "output_type": "stream",
     "text": [
      "MoviePy - Done.\n",
      "Moviepy - Writing video video_fragmentado/Y2oH6dkT.mp4\n",
      "\n"
     ]
    },
    {
     "name": "stderr",
     "output_type": "stream",
     "text": [
      "                                                                \r"
     ]
    },
    {
     "name": "stdout",
     "output_type": "stream",
     "text": [
      "Moviepy - Done !\n",
      "Moviepy - video ready video_fragmentado/Y2oH6dkT.mp4\n",
      "Fragmento guardado: video_fragmentado/Y2oH6dkT.mp4\n",
      "Moviepy - Building video video_fragmentado/3IRFbPH1.mp4.\n",
      "MoviePy - Writing audio in 3IRFbPH1TEMP_MPY_wvf_snd.mp4\n"
     ]
    },
    {
     "name": "stderr",
     "output_type": "stream",
     "text": [
      "                                                        \r"
     ]
    },
    {
     "name": "stdout",
     "output_type": "stream",
     "text": [
      "MoviePy - Done.\n",
      "Moviepy - Writing video video_fragmentado/3IRFbPH1.mp4\n",
      "\n"
     ]
    },
    {
     "name": "stderr",
     "output_type": "stream",
     "text": [
      "                                                               \r"
     ]
    },
    {
     "name": "stdout",
     "output_type": "stream",
     "text": [
      "Moviepy - Done !\n",
      "Moviepy - video ready video_fragmentado/3IRFbPH1.mp4\n",
      "Fragmento guardado: video_fragmentado/3IRFbPH1.mp4\n",
      "Moviepy - Building video video_fragmentado/iNrIwxmA.mp4.\n",
      "MoviePy - Writing audio in iNrIwxmATEMP_MPY_wvf_snd.mp4\n"
     ]
    },
    {
     "name": "stderr",
     "output_type": "stream",
     "text": [
      "                                                        \r"
     ]
    },
    {
     "name": "stdout",
     "output_type": "stream",
     "text": [
      "MoviePy - Done.\n",
      "Moviepy - Writing video video_fragmentado/iNrIwxmA.mp4\n",
      "\n"
     ]
    },
    {
     "name": "stderr",
     "output_type": "stream",
     "text": [
      "                                                                \r"
     ]
    },
    {
     "name": "stdout",
     "output_type": "stream",
     "text": [
      "Moviepy - Done !\n",
      "Moviepy - video ready video_fragmentado/iNrIwxmA.mp4\n",
      "Fragmento guardado: video_fragmentado/iNrIwxmA.mp4\n",
      "Moviepy - Building video video_fragmentado/nkcaw9JU.mp4.\n",
      "MoviePy - Writing audio in nkcaw9JUTEMP_MPY_wvf_snd.mp4\n"
     ]
    },
    {
     "name": "stderr",
     "output_type": "stream",
     "text": [
      "                                                        \r"
     ]
    },
    {
     "name": "stdout",
     "output_type": "stream",
     "text": [
      "MoviePy - Done.\n",
      "Moviepy - Writing video video_fragmentado/nkcaw9JU.mp4\n",
      "\n"
     ]
    },
    {
     "name": "stderr",
     "output_type": "stream",
     "text": [
      "                                                                \r"
     ]
    },
    {
     "name": "stdout",
     "output_type": "stream",
     "text": [
      "Moviepy - Done !\n",
      "Moviepy - video ready video_fragmentado/nkcaw9JU.mp4\n",
      "Fragmento guardado: video_fragmentado/nkcaw9JU.mp4\n",
      "Moviepy - Building video video_fragmentado/jWaQ35q8.mp4.\n",
      "MoviePy - Writing audio in jWaQ35q8TEMP_MPY_wvf_snd.mp4\n"
     ]
    },
    {
     "name": "stderr",
     "output_type": "stream",
     "text": [
      "                                                        \r"
     ]
    },
    {
     "name": "stdout",
     "output_type": "stream",
     "text": [
      "MoviePy - Done.\n",
      "Moviepy - Writing video video_fragmentado/jWaQ35q8.mp4\n",
      "\n"
     ]
    },
    {
     "name": "stderr",
     "output_type": "stream",
     "text": [
      "                                                                \r"
     ]
    },
    {
     "name": "stdout",
     "output_type": "stream",
     "text": [
      "Moviepy - Done !\n",
      "Moviepy - video ready video_fragmentado/jWaQ35q8.mp4\n",
      "Fragmento guardado: video_fragmentado/jWaQ35q8.mp4\n",
      "Moviepy - Building video video_fragmentado/4VevYnJu.mp4.\n",
      "MoviePy - Writing audio in 4VevYnJuTEMP_MPY_wvf_snd.mp4\n"
     ]
    },
    {
     "name": "stderr",
     "output_type": "stream",
     "text": [
      "                                                        \r"
     ]
    },
    {
     "name": "stdout",
     "output_type": "stream",
     "text": [
      "MoviePy - Done.\n",
      "Moviepy - Writing video video_fragmentado/4VevYnJu.mp4\n",
      "\n"
     ]
    },
    {
     "name": "stderr",
     "output_type": "stream",
     "text": [
      "                                                                \r"
     ]
    },
    {
     "name": "stdout",
     "output_type": "stream",
     "text": [
      "Moviepy - Done !\n",
      "Moviepy - video ready video_fragmentado/4VevYnJu.mp4\n",
      "Fragmento guardado: video_fragmentado/4VevYnJu.mp4\n",
      "Moviepy - Building video video_fragmentado/ivpNoAb9.mp4.\n",
      "MoviePy - Writing audio in ivpNoAb9TEMP_MPY_wvf_snd.mp4\n"
     ]
    },
    {
     "name": "stderr",
     "output_type": "stream",
     "text": [
      "                                                        \r"
     ]
    },
    {
     "name": "stdout",
     "output_type": "stream",
     "text": [
      "MoviePy - Done.\n",
      "Moviepy - Writing video video_fragmentado/ivpNoAb9.mp4\n",
      "\n"
     ]
    },
    {
     "name": "stderr",
     "output_type": "stream",
     "text": [
      "                                                                \r"
     ]
    },
    {
     "name": "stdout",
     "output_type": "stream",
     "text": [
      "Moviepy - Done !\n",
      "Moviepy - video ready video_fragmentado/ivpNoAb9.mp4\n",
      "Fragmento guardado: video_fragmentado/ivpNoAb9.mp4\n",
      "Moviepy - Building video video_fragmentado/t4FZgpNG.mp4.\n",
      "MoviePy - Writing audio in t4FZgpNGTEMP_MPY_wvf_snd.mp4\n"
     ]
    },
    {
     "name": "stderr",
     "output_type": "stream",
     "text": [
      "                                                        \r"
     ]
    },
    {
     "name": "stdout",
     "output_type": "stream",
     "text": [
      "MoviePy - Done.\n",
      "Moviepy - Writing video video_fragmentado/t4FZgpNG.mp4\n",
      "\n"
     ]
    },
    {
     "name": "stderr",
     "output_type": "stream",
     "text": [
      "                                                                \r"
     ]
    },
    {
     "name": "stdout",
     "output_type": "stream",
     "text": [
      "Moviepy - Done !\n",
      "Moviepy - video ready video_fragmentado/t4FZgpNG.mp4\n",
      "Fragmento guardado: video_fragmentado/t4FZgpNG.mp4\n",
      "Moviepy - Building video video_fragmentado/FkFPj2RZ.mp4.\n",
      "MoviePy - Writing audio in FkFPj2RZTEMP_MPY_wvf_snd.mp4\n"
     ]
    },
    {
     "name": "stderr",
     "output_type": "stream",
     "text": [
      "                                                        \r"
     ]
    },
    {
     "name": "stdout",
     "output_type": "stream",
     "text": [
      "MoviePy - Done.\n",
      "Moviepy - Writing video video_fragmentado/FkFPj2RZ.mp4\n",
      "\n"
     ]
    },
    {
     "name": "stderr",
     "output_type": "stream",
     "text": [
      "                                                                \r"
     ]
    },
    {
     "name": "stdout",
     "output_type": "stream",
     "text": [
      "Moviepy - Done !\n",
      "Moviepy - video ready video_fragmentado/FkFPj2RZ.mp4\n",
      "Fragmento guardado: video_fragmentado/FkFPj2RZ.mp4\n",
      "Moviepy - Building video video_fragmentado/GMJGJsdO.mp4.\n",
      "MoviePy - Writing audio in GMJGJsdOTEMP_MPY_wvf_snd.mp4\n"
     ]
    },
    {
     "name": "stderr",
     "output_type": "stream",
     "text": [
      "                                                        \r"
     ]
    },
    {
     "name": "stdout",
     "output_type": "stream",
     "text": [
      "MoviePy - Done.\n",
      "Moviepy - Writing video video_fragmentado/GMJGJsdO.mp4\n",
      "\n"
     ]
    },
    {
     "name": "stderr",
     "output_type": "stream",
     "text": [
      "                                                                \r"
     ]
    },
    {
     "name": "stdout",
     "output_type": "stream",
     "text": [
      "Moviepy - Done !\n",
      "Moviepy - video ready video_fragmentado/GMJGJsdO.mp4\n",
      "Fragmento guardado: video_fragmentado/GMJGJsdO.mp4\n",
      "Moviepy - Building video video_fragmentado/pmUPrASV.mp4.\n",
      "MoviePy - Writing audio in pmUPrASVTEMP_MPY_wvf_snd.mp4\n"
     ]
    },
    {
     "name": "stderr",
     "output_type": "stream",
     "text": [
      "                                                        \r"
     ]
    },
    {
     "name": "stdout",
     "output_type": "stream",
     "text": [
      "MoviePy - Done.\n",
      "Moviepy - Writing video video_fragmentado/pmUPrASV.mp4\n",
      "\n"
     ]
    },
    {
     "name": "stderr",
     "output_type": "stream",
     "text": [
      "                                                                \r"
     ]
    },
    {
     "name": "stdout",
     "output_type": "stream",
     "text": [
      "Moviepy - Done !\n",
      "Moviepy - video ready video_fragmentado/pmUPrASV.mp4\n",
      "Fragmento guardado: video_fragmentado/pmUPrASV.mp4\n",
      "Moviepy - Building video video_fragmentado/VRuBGZq6.mp4.\n",
      "MoviePy - Writing audio in VRuBGZq6TEMP_MPY_wvf_snd.mp4\n"
     ]
    },
    {
     "name": "stderr",
     "output_type": "stream",
     "text": [
      "                                                        \r"
     ]
    },
    {
     "name": "stdout",
     "output_type": "stream",
     "text": [
      "MoviePy - Done.\n",
      "Moviepy - Writing video video_fragmentado/VRuBGZq6.mp4\n",
      "\n"
     ]
    },
    {
     "name": "stderr",
     "output_type": "stream",
     "text": [
      "                                                                \r"
     ]
    },
    {
     "name": "stdout",
     "output_type": "stream",
     "text": [
      "Moviepy - Done !\n",
      "Moviepy - video ready video_fragmentado/VRuBGZq6.mp4\n",
      "Fragmento guardado: video_fragmentado/VRuBGZq6.mp4\n",
      "Moviepy - Building video video_fragmentado/CS5BjL9b.mp4.\n",
      "MoviePy - Writing audio in CS5BjL9bTEMP_MPY_wvf_snd.mp4\n"
     ]
    },
    {
     "name": "stderr",
     "output_type": "stream",
     "text": [
      "                                                        \r"
     ]
    },
    {
     "name": "stdout",
     "output_type": "stream",
     "text": [
      "MoviePy - Done.\n",
      "Moviepy - Writing video video_fragmentado/CS5BjL9b.mp4\n",
      "\n"
     ]
    },
    {
     "name": "stderr",
     "output_type": "stream",
     "text": [
      "                                                                \r"
     ]
    },
    {
     "name": "stdout",
     "output_type": "stream",
     "text": [
      "Moviepy - Done !\n",
      "Moviepy - video ready video_fragmentado/CS5BjL9b.mp4\n",
      "Fragmento guardado: video_fragmentado/CS5BjL9b.mp4\n",
      "Moviepy - Building video video_fragmentado/rciSeg24.mp4.\n",
      "MoviePy - Writing audio in rciSeg24TEMP_MPY_wvf_snd.mp4\n"
     ]
    },
    {
     "name": "stderr",
     "output_type": "stream",
     "text": [
      "                                                        \r"
     ]
    },
    {
     "name": "stdout",
     "output_type": "stream",
     "text": [
      "MoviePy - Done.\n",
      "Moviepy - Writing video video_fragmentado/rciSeg24.mp4\n",
      "\n"
     ]
    },
    {
     "name": "stderr",
     "output_type": "stream",
     "text": [
      "                                                                \r"
     ]
    },
    {
     "name": "stdout",
     "output_type": "stream",
     "text": [
      "Moviepy - Done !\n",
      "Moviepy - video ready video_fragmentado/rciSeg24.mp4\n",
      "Fragmento guardado: video_fragmentado/rciSeg24.mp4\n",
      "Moviepy - Building video video_fragmentado/6uwsIPLy.mp4.\n",
      "MoviePy - Writing audio in 6uwsIPLyTEMP_MPY_wvf_snd.mp4\n"
     ]
    },
    {
     "name": "stderr",
     "output_type": "stream",
     "text": [
      "                                                        \r"
     ]
    },
    {
     "name": "stdout",
     "output_type": "stream",
     "text": [
      "MoviePy - Done.\n",
      "Moviepy - Writing video video_fragmentado/6uwsIPLy.mp4\n",
      "\n"
     ]
    },
    {
     "name": "stderr",
     "output_type": "stream",
     "text": [
      "                                                                \r"
     ]
    },
    {
     "name": "stdout",
     "output_type": "stream",
     "text": [
      "Moviepy - Done !\n",
      "Moviepy - video ready video_fragmentado/6uwsIPLy.mp4\n",
      "Fragmento guardado: video_fragmentado/6uwsIPLy.mp4\n",
      "Moviepy - Building video video_fragmentado/RiKgphpE.mp4.\n",
      "MoviePy - Writing audio in RiKgphpETEMP_MPY_wvf_snd.mp4\n"
     ]
    },
    {
     "name": "stderr",
     "output_type": "stream",
     "text": [
      "                                                        \r"
     ]
    },
    {
     "name": "stdout",
     "output_type": "stream",
     "text": [
      "MoviePy - Done.\n",
      "Moviepy - Writing video video_fragmentado/RiKgphpE.mp4\n",
      "\n"
     ]
    },
    {
     "name": "stderr",
     "output_type": "stream",
     "text": [
      "                                                                \r"
     ]
    },
    {
     "name": "stdout",
     "output_type": "stream",
     "text": [
      "Moviepy - Done !\n",
      "Moviepy - video ready video_fragmentado/RiKgphpE.mp4\n",
      "Fragmento guardado: video_fragmentado/RiKgphpE.mp4\n",
      "Moviepy - Building video video_fragmentado/7RIK01rJ.mp4.\n",
      "MoviePy - Writing audio in 7RIK01rJTEMP_MPY_wvf_snd.mp4\n"
     ]
    },
    {
     "name": "stderr",
     "output_type": "stream",
     "text": [
      "                                                        \r"
     ]
    },
    {
     "name": "stdout",
     "output_type": "stream",
     "text": [
      "MoviePy - Done.\n",
      "Moviepy - Writing video video_fragmentado/7RIK01rJ.mp4\n",
      "\n"
     ]
    },
    {
     "name": "stderr",
     "output_type": "stream",
     "text": [
      "                                                                \r"
     ]
    },
    {
     "name": "stdout",
     "output_type": "stream",
     "text": [
      "Moviepy - Done !\n",
      "Moviepy - video ready video_fragmentado/7RIK01rJ.mp4\n",
      "Fragmento guardado: video_fragmentado/7RIK01rJ.mp4\n",
      "Moviepy - Building video video_fragmentado/T57OtXzb.mp4.\n",
      "MoviePy - Writing audio in T57OtXzbTEMP_MPY_wvf_snd.mp4\n"
     ]
    },
    {
     "name": "stderr",
     "output_type": "stream",
     "text": [
      "                                                        \r"
     ]
    },
    {
     "name": "stdout",
     "output_type": "stream",
     "text": [
      "MoviePy - Done.\n",
      "Moviepy - Writing video video_fragmentado/T57OtXzb.mp4\n",
      "\n"
     ]
    },
    {
     "name": "stderr",
     "output_type": "stream",
     "text": [
      "                                                                \r"
     ]
    },
    {
     "name": "stdout",
     "output_type": "stream",
     "text": [
      "Moviepy - Done !\n",
      "Moviepy - video ready video_fragmentado/T57OtXzb.mp4\n",
      "Fragmento guardado: video_fragmentado/T57OtXzb.mp4\n",
      "Moviepy - Building video video_fragmentado/U6WApTM7.mp4.\n",
      "MoviePy - Writing audio in U6WApTM7TEMP_MPY_wvf_snd.mp4\n"
     ]
    },
    {
     "name": "stderr",
     "output_type": "stream",
     "text": [
      "                                                        \r"
     ]
    },
    {
     "name": "stdout",
     "output_type": "stream",
     "text": [
      "MoviePy - Done.\n",
      "Moviepy - Writing video video_fragmentado/U6WApTM7.mp4\n",
      "\n"
     ]
    },
    {
     "name": "stderr",
     "output_type": "stream",
     "text": [
      "                                                                \r"
     ]
    },
    {
     "name": "stdout",
     "output_type": "stream",
     "text": [
      "Moviepy - Done !\n",
      "Moviepy - video ready video_fragmentado/U6WApTM7.mp4\n",
      "Fragmento guardado: video_fragmentado/U6WApTM7.mp4\n",
      "Moviepy - Building video video_fragmentado/97h3ypkn.mp4.\n",
      "MoviePy - Writing audio in 97h3ypknTEMP_MPY_wvf_snd.mp4\n"
     ]
    },
    {
     "name": "stderr",
     "output_type": "stream",
     "text": [
      "                                                        \r"
     ]
    },
    {
     "name": "stdout",
     "output_type": "stream",
     "text": [
      "MoviePy - Done.\n",
      "Moviepy - Writing video video_fragmentado/97h3ypkn.mp4\n",
      "\n"
     ]
    },
    {
     "name": "stderr",
     "output_type": "stream",
     "text": [
      "                                                                \r"
     ]
    },
    {
     "name": "stdout",
     "output_type": "stream",
     "text": [
      "Moviepy - Done !\n",
      "Moviepy - video ready video_fragmentado/97h3ypkn.mp4\n",
      "Fragmento guardado: video_fragmentado/97h3ypkn.mp4\n",
      "Moviepy - Building video video_fragmentado/D295nWME.mp4.\n",
      "MoviePy - Writing audio in D295nWMETEMP_MPY_wvf_snd.mp4\n"
     ]
    },
    {
     "name": "stderr",
     "output_type": "stream",
     "text": [
      "                                                        \r"
     ]
    },
    {
     "name": "stdout",
     "output_type": "stream",
     "text": [
      "MoviePy - Done.\n",
      "Moviepy - Writing video video_fragmentado/D295nWME.mp4\n",
      "\n"
     ]
    },
    {
     "name": "stderr",
     "output_type": "stream",
     "text": [
      "                                                                \r"
     ]
    },
    {
     "name": "stdout",
     "output_type": "stream",
     "text": [
      "Moviepy - Done !\n",
      "Moviepy - video ready video_fragmentado/D295nWME.mp4\n",
      "Fragmento guardado: video_fragmentado/D295nWME.mp4\n",
      "Moviepy - Building video video_fragmentado/poRsBgHc.mp4.\n",
      "MoviePy - Writing audio in poRsBgHcTEMP_MPY_wvf_snd.mp4\n"
     ]
    },
    {
     "name": "stderr",
     "output_type": "stream",
     "text": [
      "                                                        \r"
     ]
    },
    {
     "name": "stdout",
     "output_type": "stream",
     "text": [
      "MoviePy - Done.\n",
      "Moviepy - Writing video video_fragmentado/poRsBgHc.mp4\n",
      "\n"
     ]
    },
    {
     "name": "stderr",
     "output_type": "stream",
     "text": [
      "                                                                \r"
     ]
    },
    {
     "name": "stdout",
     "output_type": "stream",
     "text": [
      "Moviepy - Done !\n",
      "Moviepy - video ready video_fragmentado/poRsBgHc.mp4\n",
      "Fragmento guardado: video_fragmentado/poRsBgHc.mp4\n",
      "Moviepy - Building video video_fragmentado/bWI1YVB4.mp4.\n",
      "MoviePy - Writing audio in bWI1YVB4TEMP_MPY_wvf_snd.mp4\n"
     ]
    },
    {
     "name": "stderr",
     "output_type": "stream",
     "text": [
      "                                                        \r"
     ]
    },
    {
     "name": "stdout",
     "output_type": "stream",
     "text": [
      "MoviePy - Done.\n",
      "Moviepy - Writing video video_fragmentado/bWI1YVB4.mp4\n",
      "\n"
     ]
    },
    {
     "name": "stderr",
     "output_type": "stream",
     "text": [
      "                                                                \r"
     ]
    },
    {
     "name": "stdout",
     "output_type": "stream",
     "text": [
      "Moviepy - Done !\n",
      "Moviepy - video ready video_fragmentado/bWI1YVB4.mp4\n",
      "Fragmento guardado: video_fragmentado/bWI1YVB4.mp4\n",
      "Moviepy - Building video video_fragmentado/NZ5dWkZd.mp4.\n",
      "MoviePy - Writing audio in NZ5dWkZdTEMP_MPY_wvf_snd.mp4\n"
     ]
    },
    {
     "name": "stderr",
     "output_type": "stream",
     "text": [
      "                                                        \r"
     ]
    },
    {
     "name": "stdout",
     "output_type": "stream",
     "text": [
      "MoviePy - Done.\n",
      "Moviepy - Writing video video_fragmentado/NZ5dWkZd.mp4\n",
      "\n"
     ]
    },
    {
     "name": "stderr",
     "output_type": "stream",
     "text": [
      "                                                                \r"
     ]
    },
    {
     "name": "stdout",
     "output_type": "stream",
     "text": [
      "Moviepy - Done !\n",
      "Moviepy - video ready video_fragmentado/NZ5dWkZd.mp4\n",
      "Fragmento guardado: video_fragmentado/NZ5dWkZd.mp4\n",
      "Moviepy - Building video video_fragmentado/GZWGelW5.mp4.\n",
      "MoviePy - Writing audio in GZWGelW5TEMP_MPY_wvf_snd.mp4\n"
     ]
    },
    {
     "name": "stderr",
     "output_type": "stream",
     "text": [
      "                                                        \r"
     ]
    },
    {
     "name": "stdout",
     "output_type": "stream",
     "text": [
      "MoviePy - Done.\n",
      "Moviepy - Writing video video_fragmentado/GZWGelW5.mp4\n",
      "\n"
     ]
    },
    {
     "name": "stderr",
     "output_type": "stream",
     "text": [
      "                                                                \r"
     ]
    },
    {
     "name": "stdout",
     "output_type": "stream",
     "text": [
      "Moviepy - Done !\n",
      "Moviepy - video ready video_fragmentado/GZWGelW5.mp4\n",
      "Fragmento guardado: video_fragmentado/GZWGelW5.mp4\n",
      "Moviepy - Building video video_fragmentado/pg7xSWKZ.mp4.\n",
      "MoviePy - Writing audio in pg7xSWKZTEMP_MPY_wvf_snd.mp4\n"
     ]
    },
    {
     "name": "stderr",
     "output_type": "stream",
     "text": [
      "                                                        \r"
     ]
    },
    {
     "name": "stdout",
     "output_type": "stream",
     "text": [
      "MoviePy - Done.\n",
      "Moviepy - Writing video video_fragmentado/pg7xSWKZ.mp4\n",
      "\n"
     ]
    },
    {
     "name": "stderr",
     "output_type": "stream",
     "text": [
      "                                                                \r"
     ]
    },
    {
     "name": "stdout",
     "output_type": "stream",
     "text": [
      "Moviepy - Done !\n",
      "Moviepy - video ready video_fragmentado/pg7xSWKZ.mp4\n",
      "Fragmento guardado: video_fragmentado/pg7xSWKZ.mp4\n",
      "Moviepy - Building video video_fragmentado/URnt7nrX.mp4.\n",
      "MoviePy - Writing audio in URnt7nrXTEMP_MPY_wvf_snd.mp4\n"
     ]
    },
    {
     "name": "stderr",
     "output_type": "stream",
     "text": [
      "                                                        \r"
     ]
    },
    {
     "name": "stdout",
     "output_type": "stream",
     "text": [
      "MoviePy - Done.\n",
      "Moviepy - Writing video video_fragmentado/URnt7nrX.mp4\n",
      "\n"
     ]
    },
    {
     "name": "stderr",
     "output_type": "stream",
     "text": [
      "                                                                \r"
     ]
    },
    {
     "name": "stdout",
     "output_type": "stream",
     "text": [
      "Moviepy - Done !\n",
      "Moviepy - video ready video_fragmentado/URnt7nrX.mp4\n",
      "Fragmento guardado: video_fragmentado/URnt7nrX.mp4\n",
      "Moviepy - Building video video_fragmentado/EWWnnLlS.mp4.\n",
      "MoviePy - Writing audio in EWWnnLlSTEMP_MPY_wvf_snd.mp4\n"
     ]
    },
    {
     "name": "stderr",
     "output_type": "stream",
     "text": [
      "                                                        \r"
     ]
    },
    {
     "name": "stdout",
     "output_type": "stream",
     "text": [
      "MoviePy - Done.\n",
      "Moviepy - Writing video video_fragmentado/EWWnnLlS.mp4\n",
      "\n"
     ]
    },
    {
     "name": "stderr",
     "output_type": "stream",
     "text": [
      "                                                                \r"
     ]
    },
    {
     "name": "stdout",
     "output_type": "stream",
     "text": [
      "Moviepy - Done !\n",
      "Moviepy - video ready video_fragmentado/EWWnnLlS.mp4\n",
      "Fragmento guardado: video_fragmentado/EWWnnLlS.mp4\n",
      "Moviepy - Building video video_fragmentado/bb8KtRZU.mp4.\n",
      "MoviePy - Writing audio in bb8KtRZUTEMP_MPY_wvf_snd.mp4\n"
     ]
    },
    {
     "name": "stderr",
     "output_type": "stream",
     "text": [
      "                                                        \r"
     ]
    },
    {
     "name": "stdout",
     "output_type": "stream",
     "text": [
      "MoviePy - Done.\n",
      "Moviepy - Writing video video_fragmentado/bb8KtRZU.mp4\n",
      "\n"
     ]
    },
    {
     "name": "stderr",
     "output_type": "stream",
     "text": [
      "                                                                \r"
     ]
    },
    {
     "name": "stdout",
     "output_type": "stream",
     "text": [
      "Moviepy - Done !\n",
      "Moviepy - video ready video_fragmentado/bb8KtRZU.mp4\n",
      "Fragmento guardado: video_fragmentado/bb8KtRZU.mp4\n",
      "Moviepy - Building video video_fragmentado/uDQfDIUZ.mp4.\n",
      "MoviePy - Writing audio in uDQfDIUZTEMP_MPY_wvf_snd.mp4\n"
     ]
    },
    {
     "name": "stderr",
     "output_type": "stream",
     "text": [
      "                                                        \r"
     ]
    },
    {
     "name": "stdout",
     "output_type": "stream",
     "text": [
      "MoviePy - Done.\n",
      "Moviepy - Writing video video_fragmentado/uDQfDIUZ.mp4\n",
      "\n"
     ]
    },
    {
     "name": "stderr",
     "output_type": "stream",
     "text": [
      "                                                                \r"
     ]
    },
    {
     "name": "stdout",
     "output_type": "stream",
     "text": [
      "Moviepy - Done !\n",
      "Moviepy - video ready video_fragmentado/uDQfDIUZ.mp4\n",
      "Fragmento guardado: video_fragmentado/uDQfDIUZ.mp4\n",
      "Moviepy - Building video video_fragmentado/sYaGSB3v.mp4.\n",
      "MoviePy - Writing audio in sYaGSB3vTEMP_MPY_wvf_snd.mp4\n"
     ]
    },
    {
     "name": "stderr",
     "output_type": "stream",
     "text": [
      "                                                        \r"
     ]
    },
    {
     "name": "stdout",
     "output_type": "stream",
     "text": [
      "MoviePy - Done.\n",
      "Moviepy - Writing video video_fragmentado/sYaGSB3v.mp4\n",
      "\n"
     ]
    },
    {
     "name": "stderr",
     "output_type": "stream",
     "text": [
      "                                                                \r"
     ]
    },
    {
     "name": "stdout",
     "output_type": "stream",
     "text": [
      "Moviepy - Done !\n",
      "Moviepy - video ready video_fragmentado/sYaGSB3v.mp4\n",
      "Fragmento guardado: video_fragmentado/sYaGSB3v.mp4\n",
      "Moviepy - Building video video_fragmentado/RKWYjd8U.mp4.\n",
      "MoviePy - Writing audio in RKWYjd8UTEMP_MPY_wvf_snd.mp4\n"
     ]
    },
    {
     "name": "stderr",
     "output_type": "stream",
     "text": [
      "                                                        \r"
     ]
    },
    {
     "name": "stdout",
     "output_type": "stream",
     "text": [
      "MoviePy - Done.\n",
      "Moviepy - Writing video video_fragmentado/RKWYjd8U.mp4\n",
      "\n"
     ]
    },
    {
     "name": "stderr",
     "output_type": "stream",
     "text": [
      "                                                                \r"
     ]
    },
    {
     "name": "stdout",
     "output_type": "stream",
     "text": [
      "Moviepy - Done !\n",
      "Moviepy - video ready video_fragmentado/RKWYjd8U.mp4\n",
      "Fragmento guardado: video_fragmentado/RKWYjd8U.mp4\n"
     ]
    }
   ],
   "source": [
    "# Llamar a la función para dividir el video\n",
    "split_video(video_path)"
   ]
  }
 ],
 "metadata": {
  "kernelspec": {
   "display_name": "AndMoviepy",
   "language": "python",
   "name": "python3"
  },
  "language_info": {
   "codemirror_mode": {
    "name": "ipython",
    "version": 3
   },
   "file_extension": ".py",
   "mimetype": "text/x-python",
   "name": "python",
   "nbconvert_exporter": "python",
   "pygments_lexer": "ipython3",
   "version": "3.10.14"
  }
 },
 "nbformat": 4,
 "nbformat_minor": 2
}
