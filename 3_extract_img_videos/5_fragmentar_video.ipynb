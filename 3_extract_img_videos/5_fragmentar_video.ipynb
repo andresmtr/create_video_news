{
 "cells": [
  {
   "cell_type": "code",
   "execution_count": 1,
   "metadata": {},
   "outputs": [],
   "source": [
    "import os\n",
    "import random\n",
    "import string\n",
    "from moviepy.video.io.VideoFileClip import VideoFileClip"
   ]
  },
  {
   "cell_type": "code",
   "execution_count": 2,
   "metadata": {},
   "outputs": [],
   "source": [
    "def generate_random_filename(length=8):\n",
    "    \"\"\"Genera un nombre de archivo aleatorio.\"\"\"\n",
    "    letters = string.ascii_letters + string.digits\n",
    "    return ''.join(random.choice(letters) for i in range(length)) + '.mp4'"
   ]
  },
  {
   "cell_type": "code",
   "execution_count": 3,
   "metadata": {},
   "outputs": [],
   "source": [
    "carpeta_descarga='video_fragmentado'\n",
    "\n",
    "# Limpiar el contenido de la carpeta de descarga antes de descargar un nuevo video\n",
    "for filename in os.listdir(carpeta_descarga):\n",
    "    file_path = os.path.join(carpeta_descarga, filename)\n",
    "    try:\n",
    "        if os.path.isfile(file_path):  # Eliminar archivos\n",
    "            os.remove(file_path)\n",
    "        elif os.path.isdir(file_path):  # Eliminar directorios\n",
    "            # Eliminar el directorio y su contenido\n",
    "            for root, dirs, files in os.walk(file_path, topdown=False):\n",
    "                for file in files:\n",
    "                    os.remove(os.path.join(root, file))  # Eliminar archivos dentro del directorio\n",
    "                for dir in dirs:\n",
    "                    os.rmdir(os.path.join(root, dir))  # Eliminar directorios vacíos\n",
    "            os.rmdir(file_path)  # Eliminar el directorio principal\n",
    "    except Exception as e:\n",
    "        print(f\"Error al eliminar {file_path}: {e}\")"
   ]
  },
  {
   "cell_type": "code",
   "execution_count": 4,
   "metadata": {},
   "outputs": [],
   "source": [
    "def split_video(video_path, segment_duration=10, output_folder='video_fragmentado'):\n",
    "    # Crear la carpeta de salida si no existe\n",
    "    os.makedirs(output_folder, exist_ok=True)\n",
    "\n",
    "    # Cargar el video\n",
    "    with VideoFileClip(video_path) as video:\n",
    "        duration = int(video.duration)  # Duración total en segundos\n",
    "        for start_time in range(0, duration, segment_duration):\n",
    "            end_time = min(start_time + segment_duration, duration)\n",
    "            segment = video.subclip(start_time, end_time)\n",
    "            random_filename = generate_random_filename()\n",
    "            segment_path = os.path.join(output_folder, random_filename)\n",
    "            segment.write_videofile(segment_path, codec='libx264', audio_codec='aac')\n",
    "            print(f\"Fragmento guardado: {segment_path}\")"
   ]
  },
  {
   "cell_type": "code",
   "execution_count": 5,
   "metadata": {},
   "outputs": [],
   "source": [
    "# Ruta del video original\n",
    "video_path = 'video_download/video.mp4' "
   ]
  },
  {
   "cell_type": "code",
   "execution_count": 6,
   "metadata": {},
   "outputs": [
    {
     "name": "stdout",
     "output_type": "stream",
     "text": [
      "Moviepy - Building video video_fragmentado/eQ6xfaaH.mp4.\n",
      "MoviePy - Writing audio in eQ6xfaaHTEMP_MPY_wvf_snd.mp4\n"
     ]
    },
    {
     "name": "stderr",
     "output_type": "stream",
     "text": [
      "                                                        \r"
     ]
    },
    {
     "name": "stdout",
     "output_type": "stream",
     "text": [
      "MoviePy - Done.\n",
      "Moviepy - Writing video video_fragmentado/eQ6xfaaH.mp4\n",
      "\n"
     ]
    },
    {
     "name": "stderr",
     "output_type": "stream",
     "text": [
      "                                                               \r"
     ]
    },
    {
     "name": "stdout",
     "output_type": "stream",
     "text": [
      "Moviepy - Done !\n",
      "Moviepy - video ready video_fragmentado/eQ6xfaaH.mp4\n",
      "Fragmento guardado: video_fragmentado/eQ6xfaaH.mp4\n",
      "Moviepy - Building video video_fragmentado/aaoz1zD9.mp4.\n",
      "MoviePy - Writing audio in aaoz1zD9TEMP_MPY_wvf_snd.mp4\n"
     ]
    },
    {
     "name": "stderr",
     "output_type": "stream",
     "text": [
      "                                                        \r"
     ]
    },
    {
     "name": "stdout",
     "output_type": "stream",
     "text": [
      "MoviePy - Done.\n",
      "Moviepy - Writing video video_fragmentado/aaoz1zD9.mp4\n",
      "\n"
     ]
    },
    {
     "name": "stderr",
     "output_type": "stream",
     "text": [
      "                                                               \r"
     ]
    },
    {
     "name": "stdout",
     "output_type": "stream",
     "text": [
      "Moviepy - Done !\n",
      "Moviepy - video ready video_fragmentado/aaoz1zD9.mp4\n",
      "Fragmento guardado: video_fragmentado/aaoz1zD9.mp4\n",
      "Moviepy - Building video video_fragmentado/AhIgwXgY.mp4.\n",
      "MoviePy - Writing audio in AhIgwXgYTEMP_MPY_wvf_snd.mp4\n"
     ]
    },
    {
     "name": "stderr",
     "output_type": "stream",
     "text": [
      "                                                        \r"
     ]
    },
    {
     "name": "stdout",
     "output_type": "stream",
     "text": [
      "MoviePy - Done.\n",
      "Moviepy - Writing video video_fragmentado/AhIgwXgY.mp4\n",
      "\n"
     ]
    },
    {
     "name": "stderr",
     "output_type": "stream",
     "text": [
      "                                                               \r"
     ]
    },
    {
     "name": "stdout",
     "output_type": "stream",
     "text": [
      "Moviepy - Done !\n",
      "Moviepy - video ready video_fragmentado/AhIgwXgY.mp4\n",
      "Fragmento guardado: video_fragmentado/AhIgwXgY.mp4\n",
      "Moviepy - Building video video_fragmentado/swsUlSwr.mp4.\n",
      "MoviePy - Writing audio in swsUlSwrTEMP_MPY_wvf_snd.mp4\n"
     ]
    },
    {
     "name": "stderr",
     "output_type": "stream",
     "text": [
      "                                                        \r"
     ]
    },
    {
     "name": "stdout",
     "output_type": "stream",
     "text": [
      "MoviePy - Done.\n",
      "Moviepy - Writing video video_fragmentado/swsUlSwr.mp4\n",
      "\n"
     ]
    },
    {
     "name": "stderr",
     "output_type": "stream",
     "text": [
      "                                                               \r"
     ]
    },
    {
     "name": "stdout",
     "output_type": "stream",
     "text": [
      "Moviepy - Done !\n",
      "Moviepy - video ready video_fragmentado/swsUlSwr.mp4\n",
      "Fragmento guardado: video_fragmentado/swsUlSwr.mp4\n",
      "Moviepy - Building video video_fragmentado/DfFv83EC.mp4.\n",
      "MoviePy - Writing audio in DfFv83ECTEMP_MPY_wvf_snd.mp4\n"
     ]
    },
    {
     "name": "stderr",
     "output_type": "stream",
     "text": [
      "                                                        \r"
     ]
    },
    {
     "name": "stdout",
     "output_type": "stream",
     "text": [
      "MoviePy - Done.\n",
      "Moviepy - Writing video video_fragmentado/DfFv83EC.mp4\n",
      "\n"
     ]
    },
    {
     "name": "stderr",
     "output_type": "stream",
     "text": [
      "                                                               \r"
     ]
    },
    {
     "name": "stdout",
     "output_type": "stream",
     "text": [
      "Moviepy - Done !\n",
      "Moviepy - video ready video_fragmentado/DfFv83EC.mp4\n",
      "Fragmento guardado: video_fragmentado/DfFv83EC.mp4\n",
      "Moviepy - Building video video_fragmentado/nvP6zTWZ.mp4.\n",
      "MoviePy - Writing audio in nvP6zTWZTEMP_MPY_wvf_snd.mp4\n"
     ]
    },
    {
     "name": "stderr",
     "output_type": "stream",
     "text": [
      "                                                        \r"
     ]
    },
    {
     "name": "stdout",
     "output_type": "stream",
     "text": [
      "MoviePy - Done.\n",
      "Moviepy - Writing video video_fragmentado/nvP6zTWZ.mp4\n",
      "\n"
     ]
    },
    {
     "name": "stderr",
     "output_type": "stream",
     "text": [
      "                                                               \r"
     ]
    },
    {
     "name": "stdout",
     "output_type": "stream",
     "text": [
      "Moviepy - Done !\n",
      "Moviepy - video ready video_fragmentado/nvP6zTWZ.mp4\n",
      "Fragmento guardado: video_fragmentado/nvP6zTWZ.mp4\n",
      "Moviepy - Building video video_fragmentado/PBI4XbLU.mp4.\n",
      "MoviePy - Writing audio in PBI4XbLUTEMP_MPY_wvf_snd.mp4\n"
     ]
    },
    {
     "name": "stderr",
     "output_type": "stream",
     "text": [
      "                                                        \r"
     ]
    },
    {
     "name": "stdout",
     "output_type": "stream",
     "text": [
      "MoviePy - Done.\n",
      "Moviepy - Writing video video_fragmentado/PBI4XbLU.mp4\n",
      "\n"
     ]
    },
    {
     "name": "stderr",
     "output_type": "stream",
     "text": [
      "                                                               \r"
     ]
    },
    {
     "name": "stdout",
     "output_type": "stream",
     "text": [
      "Moviepy - Done !\n",
      "Moviepy - video ready video_fragmentado/PBI4XbLU.mp4\n",
      "Fragmento guardado: video_fragmentado/PBI4XbLU.mp4\n"
     ]
    }
   ],
   "source": [
    "# Llamar a la función para dividir el video\n",
    "split_video(video_path)"
   ]
  }
 ],
 "metadata": {
  "kernelspec": {
   "display_name": "AndMoviepy",
   "language": "python",
   "name": "python3"
  },
  "language_info": {
   "codemirror_mode": {
    "name": "ipython",
    "version": 3
   },
   "file_extension": ".py",
   "mimetype": "text/x-python",
   "name": "python",
   "nbconvert_exporter": "python",
   "pygments_lexer": "ipython3",
   "version": "3.10.14"
  }
 },
 "nbformat": 4,
 "nbformat_minor": 2
}
