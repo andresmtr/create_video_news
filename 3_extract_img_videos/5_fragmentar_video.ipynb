{
 "cells": [
  {
   "cell_type": "code",
   "execution_count": 1,
   "metadata": {},
   "outputs": [],
   "source": [
    "import os\n",
    "import random\n",
    "import string\n",
    "from moviepy.video.io.VideoFileClip import VideoFileClip"
   ]
  },
  {
   "cell_type": "code",
   "execution_count": 2,
   "metadata": {},
   "outputs": [],
   "source": [
    "def generate_random_filename(length=8):\n",
    "    \"\"\"Genera un nombre de archivo aleatorio.\"\"\"\n",
    "    letters = string.ascii_letters + string.digits\n",
    "    return ''.join(random.choice(letters) for i in range(length)) + '.mp4'"
   ]
  },
  {
   "cell_type": "code",
   "execution_count": 3,
   "metadata": {},
   "outputs": [],
   "source": [
    "carpeta_descarga='video_fragmentado'\n",
    "\n",
    "# Limpiar el contenido de la carpeta de descarga antes de descargar un nuevo video\n",
    "for filename in os.listdir(carpeta_descarga):\n",
    "    file_path = os.path.join(carpeta_descarga, filename)\n",
    "    try:\n",
    "        if os.path.isfile(file_path):  # Eliminar archivos\n",
    "            os.remove(file_path)\n",
    "        elif os.path.isdir(file_path):  # Eliminar directorios\n",
    "            # Eliminar el directorio y su contenido\n",
    "            for root, dirs, files in os.walk(file_path, topdown=False):\n",
    "                for file in files:\n",
    "                    os.remove(os.path.join(root, file))  # Eliminar archivos dentro del directorio\n",
    "                for dir in dirs:\n",
    "                    os.rmdir(os.path.join(root, dir))  # Eliminar directorios vacíos\n",
    "            os.rmdir(file_path)  # Eliminar el directorio principal\n",
    "    except Exception as e:\n",
    "        print(f\"Error al eliminar {file_path}: {e}\")"
   ]
  },
  {
   "cell_type": "code",
   "execution_count": 4,
   "metadata": {},
   "outputs": [],
   "source": [
    "def split_video(video_path, segment_duration=6, output_folder='video_fragmentado'):\n",
    "    # Crear la carpeta de salida si no existe\n",
    "    os.makedirs(output_folder, exist_ok=True)\n",
    "\n",
    "    # Cargar el video\n",
    "    with VideoFileClip(video_path) as video:\n",
    "        duration = int(video.duration)  # Duración total en segundos\n",
    "        for start_time in range(0, duration, segment_duration):\n",
    "            end_time = min(start_time + segment_duration, duration)\n",
    "            segment = video.subclip(start_time, end_time)\n",
    "            random_filename = generate_random_filename()\n",
    "            segment_path = os.path.join(output_folder, random_filename)\n",
    "            segment.write_videofile(segment_path, codec='libx264', audio_codec='aac')\n",
    "            print(f\"Fragmento guardado: {segment_path}\")"
   ]
  },
  {
   "cell_type": "code",
   "execution_count": 5,
   "metadata": {},
   "outputs": [],
   "source": [
    "# Ruta del video original\n",
    "video_path = 'video_download/video.mp4' "
   ]
  },
  {
   "cell_type": "code",
   "execution_count": 6,
   "metadata": {},
   "outputs": [
    {
     "name": "stdout",
     "output_type": "stream",
     "text": [
      "Moviepy - Building video video_fragmentado/nuKyYfWb.mp4.\n",
      "MoviePy - Writing audio in nuKyYfWbTEMP_MPY_wvf_snd.mp4\n"
     ]
    },
    {
     "name": "stderr",
     "output_type": "stream",
     "text": [
      "                                                        \r"
     ]
    },
    {
     "name": "stdout",
     "output_type": "stream",
     "text": [
      "MoviePy - Done.\n",
      "Moviepy - Writing video video_fragmentado/nuKyYfWb.mp4\n",
      "\n"
     ]
    },
    {
     "name": "stderr",
     "output_type": "stream",
     "text": [
      "                                                               \r"
     ]
    },
    {
     "name": "stdout",
     "output_type": "stream",
     "text": [
      "Moviepy - Done !\n",
      "Moviepy - video ready video_fragmentado/nuKyYfWb.mp4\n",
      "Fragmento guardado: video_fragmentado/nuKyYfWb.mp4\n",
      "Moviepy - Building video video_fragmentado/V7Si0MdS.mp4.\n",
      "MoviePy - Writing audio in V7Si0MdSTEMP_MPY_wvf_snd.mp4\n"
     ]
    },
    {
     "name": "stderr",
     "output_type": "stream",
     "text": [
      "                                                        \r"
     ]
    },
    {
     "name": "stdout",
     "output_type": "stream",
     "text": [
      "MoviePy - Done.\n",
      "Moviepy - Writing video video_fragmentado/V7Si0MdS.mp4\n",
      "\n"
     ]
    },
    {
     "name": "stderr",
     "output_type": "stream",
     "text": [
      "                                                               \r"
     ]
    },
    {
     "name": "stdout",
     "output_type": "stream",
     "text": [
      "Moviepy - Done !\n",
      "Moviepy - video ready video_fragmentado/V7Si0MdS.mp4\n",
      "Fragmento guardado: video_fragmentado/V7Si0MdS.mp4\n",
      "Moviepy - Building video video_fragmentado/pQBNDSJM.mp4.\n",
      "MoviePy - Writing audio in pQBNDSJMTEMP_MPY_wvf_snd.mp4\n"
     ]
    },
    {
     "name": "stderr",
     "output_type": "stream",
     "text": [
      "                                                        \r"
     ]
    },
    {
     "name": "stdout",
     "output_type": "stream",
     "text": [
      "MoviePy - Done.\n",
      "Moviepy - Writing video video_fragmentado/pQBNDSJM.mp4\n",
      "\n"
     ]
    },
    {
     "name": "stderr",
     "output_type": "stream",
     "text": [
      "                                                               \r"
     ]
    },
    {
     "name": "stdout",
     "output_type": "stream",
     "text": [
      "Moviepy - Done !\n",
      "Moviepy - video ready video_fragmentado/pQBNDSJM.mp4\n",
      "Fragmento guardado: video_fragmentado/pQBNDSJM.mp4\n",
      "Moviepy - Building video video_fragmentado/IxxYvV6k.mp4.\n",
      "MoviePy - Writing audio in IxxYvV6kTEMP_MPY_wvf_snd.mp4\n"
     ]
    },
    {
     "name": "stderr",
     "output_type": "stream",
     "text": [
      "                                                        \r"
     ]
    },
    {
     "name": "stdout",
     "output_type": "stream",
     "text": [
      "MoviePy - Done.\n",
      "Moviepy - Writing video video_fragmentado/IxxYvV6k.mp4\n",
      "\n"
     ]
    },
    {
     "name": "stderr",
     "output_type": "stream",
     "text": [
      "                                                              \r"
     ]
    },
    {
     "name": "stdout",
     "output_type": "stream",
     "text": [
      "Moviepy - Done !\n",
      "Moviepy - video ready video_fragmentado/IxxYvV6k.mp4\n",
      "Fragmento guardado: video_fragmentado/IxxYvV6k.mp4\n",
      "Moviepy - Building video video_fragmentado/OFRWiGLh.mp4.\n",
      "MoviePy - Writing audio in OFRWiGLhTEMP_MPY_wvf_snd.mp4\n"
     ]
    },
    {
     "name": "stderr",
     "output_type": "stream",
     "text": [
      "                                                        \r"
     ]
    },
    {
     "name": "stdout",
     "output_type": "stream",
     "text": [
      "MoviePy - Done.\n",
      "Moviepy - Writing video video_fragmentado/OFRWiGLh.mp4\n",
      "\n"
     ]
    },
    {
     "name": "stderr",
     "output_type": "stream",
     "text": [
      "                                                              \r"
     ]
    },
    {
     "name": "stdout",
     "output_type": "stream",
     "text": [
      "Moviepy - Done !\n",
      "Moviepy - video ready video_fragmentado/OFRWiGLh.mp4\n",
      "Fragmento guardado: video_fragmentado/OFRWiGLh.mp4\n",
      "Moviepy - Building video video_fragmentado/v3BcNaLb.mp4.\n",
      "MoviePy - Writing audio in v3BcNaLbTEMP_MPY_wvf_snd.mp4\n"
     ]
    },
    {
     "name": "stderr",
     "output_type": "stream",
     "text": [
      "                                                        \r"
     ]
    },
    {
     "name": "stdout",
     "output_type": "stream",
     "text": [
      "MoviePy - Done.\n",
      "Moviepy - Writing video video_fragmentado/v3BcNaLb.mp4\n",
      "\n"
     ]
    },
    {
     "name": "stderr",
     "output_type": "stream",
     "text": [
      "                                                              \r"
     ]
    },
    {
     "name": "stdout",
     "output_type": "stream",
     "text": [
      "Moviepy - Done !\n",
      "Moviepy - video ready video_fragmentado/v3BcNaLb.mp4\n",
      "Fragmento guardado: video_fragmentado/v3BcNaLb.mp4\n",
      "Moviepy - Building video video_fragmentado/RbLDsyPF.mp4.\n",
      "MoviePy - Writing audio in RbLDsyPFTEMP_MPY_wvf_snd.mp4\n"
     ]
    },
    {
     "name": "stderr",
     "output_type": "stream",
     "text": [
      "                                                        \r"
     ]
    },
    {
     "name": "stdout",
     "output_type": "stream",
     "text": [
      "MoviePy - Done.\n",
      "Moviepy - Writing video video_fragmentado/RbLDsyPF.mp4\n",
      "\n"
     ]
    },
    {
     "name": "stderr",
     "output_type": "stream",
     "text": [
      "                                                              \r"
     ]
    },
    {
     "name": "stdout",
     "output_type": "stream",
     "text": [
      "Moviepy - Done !\n",
      "Moviepy - video ready video_fragmentado/RbLDsyPF.mp4\n",
      "Fragmento guardado: video_fragmentado/RbLDsyPF.mp4\n",
      "Moviepy - Building video video_fragmentado/wZl7py3D.mp4.\n",
      "MoviePy - Writing audio in wZl7py3DTEMP_MPY_wvf_snd.mp4\n"
     ]
    },
    {
     "name": "stderr",
     "output_type": "stream",
     "text": [
      "                                                        \r"
     ]
    },
    {
     "name": "stdout",
     "output_type": "stream",
     "text": [
      "MoviePy - Done.\n",
      "Moviepy - Writing video video_fragmentado/wZl7py3D.mp4\n",
      "\n"
     ]
    },
    {
     "name": "stderr",
     "output_type": "stream",
     "text": [
      "                                                              \r"
     ]
    },
    {
     "name": "stdout",
     "output_type": "stream",
     "text": [
      "Moviepy - Done !\n",
      "Moviepy - video ready video_fragmentado/wZl7py3D.mp4\n",
      "Fragmento guardado: video_fragmentado/wZl7py3D.mp4\n",
      "Moviepy - Building video video_fragmentado/RTyxhdIk.mp4.\n",
      "MoviePy - Writing audio in RTyxhdIkTEMP_MPY_wvf_snd.mp4\n"
     ]
    },
    {
     "name": "stderr",
     "output_type": "stream",
     "text": [
      "                                                        \r"
     ]
    },
    {
     "name": "stdout",
     "output_type": "stream",
     "text": [
      "MoviePy - Done.\n",
      "Moviepy - Writing video video_fragmentado/RTyxhdIk.mp4\n",
      "\n"
     ]
    },
    {
     "name": "stderr",
     "output_type": "stream",
     "text": [
      "                                                              \r"
     ]
    },
    {
     "name": "stdout",
     "output_type": "stream",
     "text": [
      "Moviepy - Done !\n",
      "Moviepy - video ready video_fragmentado/RTyxhdIk.mp4\n",
      "Fragmento guardado: video_fragmentado/RTyxhdIk.mp4\n",
      "Moviepy - Building video video_fragmentado/j4Vlty7l.mp4.\n",
      "MoviePy - Writing audio in j4Vlty7lTEMP_MPY_wvf_snd.mp4\n"
     ]
    },
    {
     "name": "stderr",
     "output_type": "stream",
     "text": [
      "                                                        \r"
     ]
    },
    {
     "name": "stdout",
     "output_type": "stream",
     "text": [
      "MoviePy - Done.\n",
      "Moviepy - Writing video video_fragmentado/j4Vlty7l.mp4\n",
      "\n"
     ]
    },
    {
     "name": "stderr",
     "output_type": "stream",
     "text": [
      "                                                              \r"
     ]
    },
    {
     "name": "stdout",
     "output_type": "stream",
     "text": [
      "Moviepy - Done !\n",
      "Moviepy - video ready video_fragmentado/j4Vlty7l.mp4\n",
      "Fragmento guardado: video_fragmentado/j4Vlty7l.mp4\n",
      "Moviepy - Building video video_fragmentado/BUxPLxot.mp4.\n",
      "MoviePy - Writing audio in BUxPLxotTEMP_MPY_wvf_snd.mp4\n"
     ]
    },
    {
     "name": "stderr",
     "output_type": "stream",
     "text": [
      "                                                        \r"
     ]
    },
    {
     "name": "stdout",
     "output_type": "stream",
     "text": [
      "MoviePy - Done.\n",
      "Moviepy - Writing video video_fragmentado/BUxPLxot.mp4\n",
      "\n"
     ]
    },
    {
     "name": "stderr",
     "output_type": "stream",
     "text": [
      "                                                               \r"
     ]
    },
    {
     "name": "stdout",
     "output_type": "stream",
     "text": [
      "Moviepy - Done !\n",
      "Moviepy - video ready video_fragmentado/BUxPLxot.mp4\n",
      "Fragmento guardado: video_fragmentado/BUxPLxot.mp4\n",
      "Moviepy - Building video video_fragmentado/A22M8zCQ.mp4.\n",
      "MoviePy - Writing audio in A22M8zCQTEMP_MPY_wvf_snd.mp4\n"
     ]
    },
    {
     "name": "stderr",
     "output_type": "stream",
     "text": [
      "                                                        \r"
     ]
    },
    {
     "name": "stdout",
     "output_type": "stream",
     "text": [
      "MoviePy - Done.\n",
      "Moviepy - Writing video video_fragmentado/A22M8zCQ.mp4\n",
      "\n"
     ]
    },
    {
     "name": "stderr",
     "output_type": "stream",
     "text": [
      "                                                               \r"
     ]
    },
    {
     "name": "stdout",
     "output_type": "stream",
     "text": [
      "Moviepy - Done !\n",
      "Moviepy - video ready video_fragmentado/A22M8zCQ.mp4\n",
      "Fragmento guardado: video_fragmentado/A22M8zCQ.mp4\n",
      "Moviepy - Building video video_fragmentado/DwSx5RSl.mp4.\n",
      "MoviePy - Writing audio in DwSx5RSlTEMP_MPY_wvf_snd.mp4\n"
     ]
    },
    {
     "name": "stderr",
     "output_type": "stream",
     "text": [
      "                                                        \r"
     ]
    },
    {
     "name": "stdout",
     "output_type": "stream",
     "text": [
      "MoviePy - Done.\n",
      "Moviepy - Writing video video_fragmentado/DwSx5RSl.mp4\n",
      "\n"
     ]
    },
    {
     "name": "stderr",
     "output_type": "stream",
     "text": [
      "                                                              \r"
     ]
    },
    {
     "name": "stdout",
     "output_type": "stream",
     "text": [
      "Moviepy - Done !\n",
      "Moviepy - video ready video_fragmentado/DwSx5RSl.mp4\n",
      "Fragmento guardado: video_fragmentado/DwSx5RSl.mp4\n",
      "Moviepy - Building video video_fragmentado/5psESLpL.mp4.\n",
      "MoviePy - Writing audio in 5psESLpLTEMP_MPY_wvf_snd.mp4\n"
     ]
    },
    {
     "name": "stderr",
     "output_type": "stream",
     "text": [
      "                                                        \r"
     ]
    },
    {
     "name": "stdout",
     "output_type": "stream",
     "text": [
      "MoviePy - Done.\n",
      "Moviepy - Writing video video_fragmentado/5psESLpL.mp4\n",
      "\n"
     ]
    },
    {
     "name": "stderr",
     "output_type": "stream",
     "text": [
      "                                                               \r"
     ]
    },
    {
     "name": "stdout",
     "output_type": "stream",
     "text": [
      "Moviepy - Done !\n",
      "Moviepy - video ready video_fragmentado/5psESLpL.mp4\n",
      "Fragmento guardado: video_fragmentado/5psESLpL.mp4\n",
      "Moviepy - Building video video_fragmentado/FDkdkfWW.mp4.\n",
      "MoviePy - Writing audio in FDkdkfWWTEMP_MPY_wvf_snd.mp4\n"
     ]
    },
    {
     "name": "stderr",
     "output_type": "stream",
     "text": [
      "                                                        \r"
     ]
    },
    {
     "name": "stdout",
     "output_type": "stream",
     "text": [
      "MoviePy - Done.\n",
      "Moviepy - Writing video video_fragmentado/FDkdkfWW.mp4\n",
      "\n"
     ]
    },
    {
     "name": "stderr",
     "output_type": "stream",
     "text": [
      "                                                               \r"
     ]
    },
    {
     "name": "stdout",
     "output_type": "stream",
     "text": [
      "Moviepy - Done !\n",
      "Moviepy - video ready video_fragmentado/FDkdkfWW.mp4\n",
      "Fragmento guardado: video_fragmentado/FDkdkfWW.mp4\n",
      "Moviepy - Building video video_fragmentado/DsBH2idI.mp4.\n",
      "MoviePy - Writing audio in DsBH2idITEMP_MPY_wvf_snd.mp4\n"
     ]
    },
    {
     "name": "stderr",
     "output_type": "stream",
     "text": [
      "                                                        \r"
     ]
    },
    {
     "name": "stdout",
     "output_type": "stream",
     "text": [
      "MoviePy - Done.\n",
      "Moviepy - Writing video video_fragmentado/DsBH2idI.mp4\n",
      "\n"
     ]
    },
    {
     "name": "stderr",
     "output_type": "stream",
     "text": [
      "                                                               \r"
     ]
    },
    {
     "name": "stdout",
     "output_type": "stream",
     "text": [
      "Moviepy - Done !\n",
      "Moviepy - video ready video_fragmentado/DsBH2idI.mp4\n",
      "Fragmento guardado: video_fragmentado/DsBH2idI.mp4\n",
      "Moviepy - Building video video_fragmentado/gV7Nv1i1.mp4.\n",
      "MoviePy - Writing audio in gV7Nv1i1TEMP_MPY_wvf_snd.mp4\n"
     ]
    },
    {
     "name": "stderr",
     "output_type": "stream",
     "text": [
      "                                                        \r"
     ]
    },
    {
     "name": "stdout",
     "output_type": "stream",
     "text": [
      "MoviePy - Done.\n",
      "Moviepy - Writing video video_fragmentado/gV7Nv1i1.mp4\n",
      "\n"
     ]
    },
    {
     "name": "stderr",
     "output_type": "stream",
     "text": [
      "                                                                \r"
     ]
    },
    {
     "name": "stdout",
     "output_type": "stream",
     "text": [
      "Moviepy - Done !\n",
      "Moviepy - video ready video_fragmentado/gV7Nv1i1.mp4\n",
      "Fragmento guardado: video_fragmentado/gV7Nv1i1.mp4\n",
      "Moviepy - Building video video_fragmentado/YSkNtdbV.mp4.\n",
      "MoviePy - Writing audio in YSkNtdbVTEMP_MPY_wvf_snd.mp4\n"
     ]
    },
    {
     "name": "stderr",
     "output_type": "stream",
     "text": [
      "                                                        \r"
     ]
    },
    {
     "name": "stdout",
     "output_type": "stream",
     "text": [
      "MoviePy - Done.\n",
      "Moviepy - Writing video video_fragmentado/YSkNtdbV.mp4\n",
      "\n"
     ]
    },
    {
     "name": "stderr",
     "output_type": "stream",
     "text": [
      "                                                                "
     ]
    },
    {
     "name": "stdout",
     "output_type": "stream",
     "text": [
      "Moviepy - Done !\n",
      "Moviepy - video ready video_fragmentado/YSkNtdbV.mp4\n",
      "Fragmento guardado: video_fragmentado/YSkNtdbV.mp4\n"
     ]
    },
    {
     "name": "stderr",
     "output_type": "stream",
     "text": [
      "\r"
     ]
    }
   ],
   "source": [
    "# Llamar a la función para dividir el video\n",
    "split_video(video_path)"
   ]
  }
 ],
 "metadata": {
  "kernelspec": {
   "display_name": "AndMoviepy",
   "language": "python",
   "name": "python3"
  },
  "language_info": {
   "codemirror_mode": {
    "name": "ipython",
    "version": 3
   },
   "file_extension": ".py",
   "mimetype": "text/x-python",
   "name": "python",
   "nbconvert_exporter": "python",
   "pygments_lexer": "ipython3",
   "version": "3.10.14"
  }
 },
 "nbformat": 4,
 "nbformat_minor": 2
}
