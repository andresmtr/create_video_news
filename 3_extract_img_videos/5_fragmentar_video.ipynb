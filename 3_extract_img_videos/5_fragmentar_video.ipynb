{
 "cells": [
  {
   "cell_type": "code",
   "execution_count": 1,
   "metadata": {},
   "outputs": [],
   "source": [
    "import os\n",
    "import random\n",
    "import string\n",
    "from moviepy.video.io.VideoFileClip import VideoFileClip"
   ]
  },
  {
   "cell_type": "code",
   "execution_count": 2,
   "metadata": {},
   "outputs": [],
   "source": [
    "def generate_random_filename(length=8):\n",
    "    \"\"\"Genera un nombre de archivo aleatorio.\"\"\"\n",
    "    letters = string.ascii_letters + string.digits\n",
    "    return ''.join(random.choice(letters) for i in range(length)) + '.mp4'"
   ]
  },
  {
   "cell_type": "code",
   "execution_count": 3,
   "metadata": {},
   "outputs": [],
   "source": [
    "carpeta_descarga='video_fragmentado'\n",
    "\n",
    "# Limpiar el contenido de la carpeta de descarga antes de descargar un nuevo video\n",
    "for filename in os.listdir(carpeta_descarga):\n",
    "    file_path = os.path.join(carpeta_descarga, filename)\n",
    "    try:\n",
    "        if os.path.isfile(file_path):  # Eliminar archivos\n",
    "            os.remove(file_path)\n",
    "        elif os.path.isdir(file_path):  # Eliminar directorios\n",
    "            # Eliminar el directorio y su contenido\n",
    "            for root, dirs, files in os.walk(file_path, topdown=False):\n",
    "                for file in files:\n",
    "                    os.remove(os.path.join(root, file))  # Eliminar archivos dentro del directorio\n",
    "                for dir in dirs:\n",
    "                    os.rmdir(os.path.join(root, dir))  # Eliminar directorios vacíos\n",
    "            os.rmdir(file_path)  # Eliminar el directorio principal\n",
    "    except Exception as e:\n",
    "        print(f\"Error al eliminar {file_path}: {e}\")"
   ]
  },
  {
   "cell_type": "code",
   "execution_count": 4,
   "metadata": {},
   "outputs": [],
   "source": [
    "def split_video(video_path, segment_duration=6, output_folder='video_fragmentado'):\n",
    "    # Crear la carpeta de salida si no existe\n",
    "    os.makedirs(output_folder, exist_ok=True)\n",
    "\n",
    "    # Cargar el video\n",
    "    with VideoFileClip(video_path) as video:\n",
    "        duration = int(video.duration)  # Duración total en segundos\n",
    "        for start_time in range(0, duration, segment_duration):\n",
    "            end_time = min(start_time + segment_duration, duration)\n",
    "            segment = video.subclip(start_time, end_time)\n",
    "            random_filename = generate_random_filename()\n",
    "            segment_path = os.path.join(output_folder, random_filename)\n",
    "            segment.write_videofile(segment_path, codec='libx264', audio_codec='aac')\n",
    "            print(f\"Fragmento guardado: {segment_path}\")"
   ]
  },
  {
   "cell_type": "code",
   "execution_count": 5,
   "metadata": {},
   "outputs": [],
   "source": [
    "# Ruta del video original\n",
    "video_path = 'video_download/video.mp4' "
   ]
  },
  {
   "cell_type": "code",
   "execution_count": 6,
   "metadata": {},
   "outputs": [
    {
     "name": "stdout",
     "output_type": "stream",
     "text": [
      "Moviepy - Building video video_fragmentado/fg1Q3GQb.mp4.\n",
      "MoviePy - Writing audio in fg1Q3GQbTEMP_MPY_wvf_snd.mp4\n"
     ]
    },
    {
     "name": "stderr",
     "output_type": "stream",
     "text": [
      "                                                        \r"
     ]
    },
    {
     "name": "stdout",
     "output_type": "stream",
     "text": [
      "MoviePy - Done.\n",
      "Moviepy - Writing video video_fragmentado/fg1Q3GQb.mp4\n",
      "\n"
     ]
    },
    {
     "name": "stderr",
     "output_type": "stream",
     "text": [
      "                                                              \r"
     ]
    },
    {
     "name": "stdout",
     "output_type": "stream",
     "text": [
      "Moviepy - Done !\n",
      "Moviepy - video ready video_fragmentado/fg1Q3GQb.mp4\n",
      "Fragmento guardado: video_fragmentado/fg1Q3GQb.mp4\n",
      "Moviepy - Building video video_fragmentado/rOqBxPy7.mp4.\n",
      "MoviePy - Writing audio in rOqBxPy7TEMP_MPY_wvf_snd.mp4\n"
     ]
    },
    {
     "name": "stderr",
     "output_type": "stream",
     "text": [
      "                                                        \r"
     ]
    },
    {
     "name": "stdout",
     "output_type": "stream",
     "text": [
      "MoviePy - Done.\n",
      "Moviepy - Writing video video_fragmentado/rOqBxPy7.mp4\n",
      "\n"
     ]
    },
    {
     "name": "stderr",
     "output_type": "stream",
     "text": [
      "                                                               \r"
     ]
    },
    {
     "name": "stdout",
     "output_type": "stream",
     "text": [
      "Moviepy - Done !\n",
      "Moviepy - video ready video_fragmentado/rOqBxPy7.mp4\n",
      "Fragmento guardado: video_fragmentado/rOqBxPy7.mp4\n",
      "Moviepy - Building video video_fragmentado/E0whIKTy.mp4.\n",
      "MoviePy - Writing audio in E0whIKTyTEMP_MPY_wvf_snd.mp4\n"
     ]
    },
    {
     "name": "stderr",
     "output_type": "stream",
     "text": [
      "                                                        \r"
     ]
    },
    {
     "name": "stdout",
     "output_type": "stream",
     "text": [
      "MoviePy - Done.\n",
      "Moviepy - Writing video video_fragmentado/E0whIKTy.mp4\n",
      "\n"
     ]
    },
    {
     "name": "stderr",
     "output_type": "stream",
     "text": [
      "                                                               \r"
     ]
    },
    {
     "name": "stdout",
     "output_type": "stream",
     "text": [
      "Moviepy - Done !\n",
      "Moviepy - video ready video_fragmentado/E0whIKTy.mp4\n",
      "Fragmento guardado: video_fragmentado/E0whIKTy.mp4\n",
      "Moviepy - Building video video_fragmentado/3Kt4nwfd.mp4.\n",
      "MoviePy - Writing audio in 3Kt4nwfdTEMP_MPY_wvf_snd.mp4\n"
     ]
    },
    {
     "name": "stderr",
     "output_type": "stream",
     "text": [
      "                                                        \r"
     ]
    },
    {
     "name": "stdout",
     "output_type": "stream",
     "text": [
      "MoviePy - Done.\n",
      "Moviepy - Writing video video_fragmentado/3Kt4nwfd.mp4\n",
      "\n"
     ]
    },
    {
     "name": "stderr",
     "output_type": "stream",
     "text": [
      "                                                               \r"
     ]
    },
    {
     "name": "stdout",
     "output_type": "stream",
     "text": [
      "Moviepy - Done !\n",
      "Moviepy - video ready video_fragmentado/3Kt4nwfd.mp4\n",
      "Fragmento guardado: video_fragmentado/3Kt4nwfd.mp4\n",
      "Moviepy - Building video video_fragmentado/Q2dvoWuM.mp4.\n",
      "MoviePy - Writing audio in Q2dvoWuMTEMP_MPY_wvf_snd.mp4\n"
     ]
    },
    {
     "name": "stderr",
     "output_type": "stream",
     "text": [
      "                                                        \r"
     ]
    },
    {
     "name": "stdout",
     "output_type": "stream",
     "text": [
      "MoviePy - Done.\n",
      "Moviepy - Writing video video_fragmentado/Q2dvoWuM.mp4\n",
      "\n"
     ]
    },
    {
     "name": "stderr",
     "output_type": "stream",
     "text": [
      "                                                               \r"
     ]
    },
    {
     "name": "stdout",
     "output_type": "stream",
     "text": [
      "Moviepy - Done !\n",
      "Moviepy - video ready video_fragmentado/Q2dvoWuM.mp4\n",
      "Fragmento guardado: video_fragmentado/Q2dvoWuM.mp4\n",
      "Moviepy - Building video video_fragmentado/qs7KcBJW.mp4.\n",
      "MoviePy - Writing audio in qs7KcBJWTEMP_MPY_wvf_snd.mp4\n"
     ]
    },
    {
     "name": "stderr",
     "output_type": "stream",
     "text": [
      "                                                        \r"
     ]
    },
    {
     "name": "stdout",
     "output_type": "stream",
     "text": [
      "MoviePy - Done.\n",
      "Moviepy - Writing video video_fragmentado/qs7KcBJW.mp4\n",
      "\n"
     ]
    },
    {
     "name": "stderr",
     "output_type": "stream",
     "text": [
      "                                                               \r"
     ]
    },
    {
     "name": "stdout",
     "output_type": "stream",
     "text": [
      "Moviepy - Done !\n",
      "Moviepy - video ready video_fragmentado/qs7KcBJW.mp4\n",
      "Fragmento guardado: video_fragmentado/qs7KcBJW.mp4\n",
      "Moviepy - Building video video_fragmentado/qzrNRhSz.mp4.\n",
      "MoviePy - Writing audio in qzrNRhSzTEMP_MPY_wvf_snd.mp4\n"
     ]
    },
    {
     "name": "stderr",
     "output_type": "stream",
     "text": [
      "                                                        \r"
     ]
    },
    {
     "name": "stdout",
     "output_type": "stream",
     "text": [
      "MoviePy - Done.\n",
      "Moviepy - Writing video video_fragmentado/qzrNRhSz.mp4\n",
      "\n"
     ]
    },
    {
     "name": "stderr",
     "output_type": "stream",
     "text": [
      "                                                               \r"
     ]
    },
    {
     "name": "stdout",
     "output_type": "stream",
     "text": [
      "Moviepy - Done !\n",
      "Moviepy - video ready video_fragmentado/qzrNRhSz.mp4\n",
      "Fragmento guardado: video_fragmentado/qzrNRhSz.mp4\n",
      "Moviepy - Building video video_fragmentado/44of3mQ8.mp4.\n",
      "MoviePy - Writing audio in 44of3mQ8TEMP_MPY_wvf_snd.mp4\n"
     ]
    },
    {
     "name": "stderr",
     "output_type": "stream",
     "text": [
      "                                                        \r"
     ]
    },
    {
     "name": "stdout",
     "output_type": "stream",
     "text": [
      "MoviePy - Done.\n",
      "Moviepy - Writing video video_fragmentado/44of3mQ8.mp4\n",
      "\n"
     ]
    },
    {
     "name": "stderr",
     "output_type": "stream",
     "text": [
      "                                                               \r"
     ]
    },
    {
     "name": "stdout",
     "output_type": "stream",
     "text": [
      "Moviepy - Done !\n",
      "Moviepy - video ready video_fragmentado/44of3mQ8.mp4\n",
      "Fragmento guardado: video_fragmentado/44of3mQ8.mp4\n",
      "Moviepy - Building video video_fragmentado/FnRjg7Wc.mp4.\n",
      "MoviePy - Writing audio in FnRjg7WcTEMP_MPY_wvf_snd.mp4\n"
     ]
    },
    {
     "name": "stderr",
     "output_type": "stream",
     "text": [
      "                                                        \r"
     ]
    },
    {
     "name": "stdout",
     "output_type": "stream",
     "text": [
      "MoviePy - Done.\n",
      "Moviepy - Writing video video_fragmentado/FnRjg7Wc.mp4\n",
      "\n"
     ]
    },
    {
     "name": "stderr",
     "output_type": "stream",
     "text": [
      "                                                               \r"
     ]
    },
    {
     "name": "stdout",
     "output_type": "stream",
     "text": [
      "Moviepy - Done !\n",
      "Moviepy - video ready video_fragmentado/FnRjg7Wc.mp4\n",
      "Fragmento guardado: video_fragmentado/FnRjg7Wc.mp4\n",
      "Moviepy - Building video video_fragmentado/EVaZ4m8Y.mp4.\n",
      "MoviePy - Writing audio in EVaZ4m8YTEMP_MPY_wvf_snd.mp4\n"
     ]
    },
    {
     "name": "stderr",
     "output_type": "stream",
     "text": [
      "                                                        \r"
     ]
    },
    {
     "name": "stdout",
     "output_type": "stream",
     "text": [
      "MoviePy - Done.\n",
      "Moviepy - Writing video video_fragmentado/EVaZ4m8Y.mp4\n",
      "\n"
     ]
    },
    {
     "name": "stderr",
     "output_type": "stream",
     "text": [
      "                                                               \r"
     ]
    },
    {
     "name": "stdout",
     "output_type": "stream",
     "text": [
      "Moviepy - Done !\n",
      "Moviepy - video ready video_fragmentado/EVaZ4m8Y.mp4\n",
      "Fragmento guardado: video_fragmentado/EVaZ4m8Y.mp4\n",
      "Moviepy - Building video video_fragmentado/wFH2oOXQ.mp4.\n",
      "MoviePy - Writing audio in wFH2oOXQTEMP_MPY_wvf_snd.mp4\n"
     ]
    },
    {
     "name": "stderr",
     "output_type": "stream",
     "text": [
      "                                                        \r"
     ]
    },
    {
     "name": "stdout",
     "output_type": "stream",
     "text": [
      "MoviePy - Done.\n",
      "Moviepy - Writing video video_fragmentado/wFH2oOXQ.mp4\n",
      "\n"
     ]
    },
    {
     "name": "stderr",
     "output_type": "stream",
     "text": [
      "                                                               \r"
     ]
    },
    {
     "name": "stdout",
     "output_type": "stream",
     "text": [
      "Moviepy - Done !\n",
      "Moviepy - video ready video_fragmentado/wFH2oOXQ.mp4\n",
      "Fragmento guardado: video_fragmentado/wFH2oOXQ.mp4\n",
      "Moviepy - Building video video_fragmentado/n1jJXJok.mp4.\n",
      "MoviePy - Writing audio in n1jJXJokTEMP_MPY_wvf_snd.mp4\n"
     ]
    },
    {
     "name": "stderr",
     "output_type": "stream",
     "text": [
      "                                                        \r"
     ]
    },
    {
     "name": "stdout",
     "output_type": "stream",
     "text": [
      "MoviePy - Done.\n",
      "Moviepy - Writing video video_fragmentado/n1jJXJok.mp4\n",
      "\n"
     ]
    },
    {
     "name": "stderr",
     "output_type": "stream",
     "text": [
      "                                                               \r"
     ]
    },
    {
     "name": "stdout",
     "output_type": "stream",
     "text": [
      "Moviepy - Done !\n",
      "Moviepy - video ready video_fragmentado/n1jJXJok.mp4\n",
      "Fragmento guardado: video_fragmentado/n1jJXJok.mp4\n",
      "Moviepy - Building video video_fragmentado/xcgYKTJ0.mp4.\n",
      "MoviePy - Writing audio in xcgYKTJ0TEMP_MPY_wvf_snd.mp4\n"
     ]
    },
    {
     "name": "stderr",
     "output_type": "stream",
     "text": [
      "                                                        \r"
     ]
    },
    {
     "name": "stdout",
     "output_type": "stream",
     "text": [
      "MoviePy - Done.\n",
      "Moviepy - Writing video video_fragmentado/xcgYKTJ0.mp4\n",
      "\n"
     ]
    },
    {
     "name": "stderr",
     "output_type": "stream",
     "text": [
      "                                                               \r"
     ]
    },
    {
     "name": "stdout",
     "output_type": "stream",
     "text": [
      "Moviepy - Done !\n",
      "Moviepy - video ready video_fragmentado/xcgYKTJ0.mp4\n",
      "Fragmento guardado: video_fragmentado/xcgYKTJ0.mp4\n",
      "Moviepy - Building video video_fragmentado/Cb33ZknD.mp4.\n",
      "MoviePy - Writing audio in Cb33ZknDTEMP_MPY_wvf_snd.mp4\n"
     ]
    },
    {
     "name": "stderr",
     "output_type": "stream",
     "text": [
      "                                                        \r"
     ]
    },
    {
     "name": "stdout",
     "output_type": "stream",
     "text": [
      "MoviePy - Done.\n",
      "Moviepy - Writing video video_fragmentado/Cb33ZknD.mp4\n",
      "\n"
     ]
    },
    {
     "name": "stderr",
     "output_type": "stream",
     "text": [
      "                                                               \r"
     ]
    },
    {
     "name": "stdout",
     "output_type": "stream",
     "text": [
      "Moviepy - Done !\n",
      "Moviepy - video ready video_fragmentado/Cb33ZknD.mp4\n",
      "Fragmento guardado: video_fragmentado/Cb33ZknD.mp4\n",
      "Moviepy - Building video video_fragmentado/04zJq6EA.mp4.\n",
      "MoviePy - Writing audio in 04zJq6EATEMP_MPY_wvf_snd.mp4\n"
     ]
    },
    {
     "name": "stderr",
     "output_type": "stream",
     "text": [
      "                                                        \r"
     ]
    },
    {
     "name": "stdout",
     "output_type": "stream",
     "text": [
      "MoviePy - Done.\n",
      "Moviepy - Writing video video_fragmentado/04zJq6EA.mp4\n",
      "\n"
     ]
    },
    {
     "name": "stderr",
     "output_type": "stream",
     "text": [
      "                                                               \r"
     ]
    },
    {
     "name": "stdout",
     "output_type": "stream",
     "text": [
      "Moviepy - Done !\n",
      "Moviepy - video ready video_fragmentado/04zJq6EA.mp4\n",
      "Fragmento guardado: video_fragmentado/04zJq6EA.mp4\n",
      "Moviepy - Building video video_fragmentado/3FSJ8et0.mp4.\n",
      "MoviePy - Writing audio in 3FSJ8et0TEMP_MPY_wvf_snd.mp4\n"
     ]
    },
    {
     "name": "stderr",
     "output_type": "stream",
     "text": [
      "                                                        \r"
     ]
    },
    {
     "name": "stdout",
     "output_type": "stream",
     "text": [
      "MoviePy - Done.\n",
      "Moviepy - Writing video video_fragmentado/3FSJ8et0.mp4\n",
      "\n"
     ]
    },
    {
     "name": "stderr",
     "output_type": "stream",
     "text": [
      "                                                               \r"
     ]
    },
    {
     "name": "stdout",
     "output_type": "stream",
     "text": [
      "Moviepy - Done !\n",
      "Moviepy - video ready video_fragmentado/3FSJ8et0.mp4\n",
      "Fragmento guardado: video_fragmentado/3FSJ8et0.mp4\n",
      "Moviepy - Building video video_fragmentado/Ve3FPM7a.mp4.\n",
      "MoviePy - Writing audio in Ve3FPM7aTEMP_MPY_wvf_snd.mp4\n"
     ]
    },
    {
     "name": "stderr",
     "output_type": "stream",
     "text": [
      "                                                        \r"
     ]
    },
    {
     "name": "stdout",
     "output_type": "stream",
     "text": [
      "MoviePy - Done.\n",
      "Moviepy - Writing video video_fragmentado/Ve3FPM7a.mp4\n",
      "\n"
     ]
    },
    {
     "name": "stderr",
     "output_type": "stream",
     "text": [
      "                                                               \r"
     ]
    },
    {
     "name": "stdout",
     "output_type": "stream",
     "text": [
      "Moviepy - Done !\n",
      "Moviepy - video ready video_fragmentado/Ve3FPM7a.mp4\n",
      "Fragmento guardado: video_fragmentado/Ve3FPM7a.mp4\n",
      "Moviepy - Building video video_fragmentado/1N9pK04V.mp4.\n",
      "MoviePy - Writing audio in 1N9pK04VTEMP_MPY_wvf_snd.mp4\n"
     ]
    },
    {
     "name": "stderr",
     "output_type": "stream",
     "text": [
      "                                                        \r"
     ]
    },
    {
     "name": "stdout",
     "output_type": "stream",
     "text": [
      "MoviePy - Done.\n",
      "Moviepy - Writing video video_fragmentado/1N9pK04V.mp4\n",
      "\n"
     ]
    },
    {
     "name": "stderr",
     "output_type": "stream",
     "text": [
      "                                                               \r"
     ]
    },
    {
     "name": "stdout",
     "output_type": "stream",
     "text": [
      "Moviepy - Done !\n",
      "Moviepy - video ready video_fragmentado/1N9pK04V.mp4\n",
      "Fragmento guardado: video_fragmentado/1N9pK04V.mp4\n",
      "Moviepy - Building video video_fragmentado/ZKuDkj22.mp4.\n",
      "MoviePy - Writing audio in ZKuDkj22TEMP_MPY_wvf_snd.mp4\n"
     ]
    },
    {
     "name": "stderr",
     "output_type": "stream",
     "text": [
      "                                                        \r"
     ]
    },
    {
     "name": "stdout",
     "output_type": "stream",
     "text": [
      "MoviePy - Done.\n",
      "Moviepy - Writing video video_fragmentado/ZKuDkj22.mp4\n",
      "\n"
     ]
    },
    {
     "name": "stderr",
     "output_type": "stream",
     "text": [
      "                                                               \r"
     ]
    },
    {
     "name": "stdout",
     "output_type": "stream",
     "text": [
      "Moviepy - Done !\n",
      "Moviepy - video ready video_fragmentado/ZKuDkj22.mp4\n",
      "Fragmento guardado: video_fragmentado/ZKuDkj22.mp4\n",
      "Moviepy - Building video video_fragmentado/ZQVWl2Oy.mp4.\n",
      "MoviePy - Writing audio in ZQVWl2OyTEMP_MPY_wvf_snd.mp4\n"
     ]
    },
    {
     "name": "stderr",
     "output_type": "stream",
     "text": [
      "                                                        \r"
     ]
    },
    {
     "name": "stdout",
     "output_type": "stream",
     "text": [
      "MoviePy - Done.\n",
      "Moviepy - Writing video video_fragmentado/ZQVWl2Oy.mp4\n",
      "\n"
     ]
    },
    {
     "name": "stderr",
     "output_type": "stream",
     "text": [
      "                                                               \r"
     ]
    },
    {
     "name": "stdout",
     "output_type": "stream",
     "text": [
      "Moviepy - Done !\n",
      "Moviepy - video ready video_fragmentado/ZQVWl2Oy.mp4\n",
      "Fragmento guardado: video_fragmentado/ZQVWl2Oy.mp4\n",
      "Moviepy - Building video video_fragmentado/PN5WgB0u.mp4.\n",
      "MoviePy - Writing audio in PN5WgB0uTEMP_MPY_wvf_snd.mp4\n"
     ]
    },
    {
     "name": "stderr",
     "output_type": "stream",
     "text": [
      "                                                        \r"
     ]
    },
    {
     "name": "stdout",
     "output_type": "stream",
     "text": [
      "MoviePy - Done.\n",
      "Moviepy - Writing video video_fragmentado/PN5WgB0u.mp4\n",
      "\n"
     ]
    },
    {
     "name": "stderr",
     "output_type": "stream",
     "text": [
      "                                                               \r"
     ]
    },
    {
     "name": "stdout",
     "output_type": "stream",
     "text": [
      "Moviepy - Done !\n",
      "Moviepy - video ready video_fragmentado/PN5WgB0u.mp4\n",
      "Fragmento guardado: video_fragmentado/PN5WgB0u.mp4\n",
      "Moviepy - Building video video_fragmentado/DhBuxOOT.mp4.\n",
      "MoviePy - Writing audio in DhBuxOOTTEMP_MPY_wvf_snd.mp4\n"
     ]
    },
    {
     "name": "stderr",
     "output_type": "stream",
     "text": [
      "                                                        \r"
     ]
    },
    {
     "name": "stdout",
     "output_type": "stream",
     "text": [
      "MoviePy - Done.\n",
      "Moviepy - Writing video video_fragmentado/DhBuxOOT.mp4\n",
      "\n"
     ]
    },
    {
     "name": "stderr",
     "output_type": "stream",
     "text": [
      "                                                               \r"
     ]
    },
    {
     "name": "stdout",
     "output_type": "stream",
     "text": [
      "Moviepy - Done !\n",
      "Moviepy - video ready video_fragmentado/DhBuxOOT.mp4\n",
      "Fragmento guardado: video_fragmentado/DhBuxOOT.mp4\n",
      "Moviepy - Building video video_fragmentado/GufDvTYT.mp4.\n",
      "MoviePy - Writing audio in GufDvTYTTEMP_MPY_wvf_snd.mp4\n"
     ]
    },
    {
     "name": "stderr",
     "output_type": "stream",
     "text": [
      "                                                        \r"
     ]
    },
    {
     "name": "stdout",
     "output_type": "stream",
     "text": [
      "MoviePy - Done.\n",
      "Moviepy - Writing video video_fragmentado/GufDvTYT.mp4\n",
      "\n"
     ]
    },
    {
     "name": "stderr",
     "output_type": "stream",
     "text": [
      "                                                               \r"
     ]
    },
    {
     "name": "stdout",
     "output_type": "stream",
     "text": [
      "Moviepy - Done !\n",
      "Moviepy - video ready video_fragmentado/GufDvTYT.mp4\n",
      "Fragmento guardado: video_fragmentado/GufDvTYT.mp4\n",
      "Moviepy - Building video video_fragmentado/YCLYW1zW.mp4.\n",
      "MoviePy - Writing audio in YCLYW1zWTEMP_MPY_wvf_snd.mp4\n"
     ]
    },
    {
     "name": "stderr",
     "output_type": "stream",
     "text": [
      "                                                        \r"
     ]
    },
    {
     "name": "stdout",
     "output_type": "stream",
     "text": [
      "MoviePy - Done.\n",
      "Moviepy - Writing video video_fragmentado/YCLYW1zW.mp4\n",
      "\n"
     ]
    },
    {
     "name": "stderr",
     "output_type": "stream",
     "text": [
      "                                                               \r"
     ]
    },
    {
     "name": "stdout",
     "output_type": "stream",
     "text": [
      "Moviepy - Done !\n",
      "Moviepy - video ready video_fragmentado/YCLYW1zW.mp4\n",
      "Fragmento guardado: video_fragmentado/YCLYW1zW.mp4\n",
      "Moviepy - Building video video_fragmentado/Zry974DO.mp4.\n",
      "MoviePy - Writing audio in Zry974DOTEMP_MPY_wvf_snd.mp4\n"
     ]
    },
    {
     "name": "stderr",
     "output_type": "stream",
     "text": [
      "                                                        \r"
     ]
    },
    {
     "name": "stdout",
     "output_type": "stream",
     "text": [
      "MoviePy - Done.\n",
      "Moviepy - Writing video video_fragmentado/Zry974DO.mp4\n",
      "\n"
     ]
    },
    {
     "name": "stderr",
     "output_type": "stream",
     "text": [
      "                                                               \r"
     ]
    },
    {
     "name": "stdout",
     "output_type": "stream",
     "text": [
      "Moviepy - Done !\n",
      "Moviepy - video ready video_fragmentado/Zry974DO.mp4\n",
      "Fragmento guardado: video_fragmentado/Zry974DO.mp4\n",
      "Moviepy - Building video video_fragmentado/dscb7Tau.mp4.\n",
      "MoviePy - Writing audio in dscb7TauTEMP_MPY_wvf_snd.mp4\n"
     ]
    },
    {
     "name": "stderr",
     "output_type": "stream",
     "text": [
      "                                                        \r"
     ]
    },
    {
     "name": "stdout",
     "output_type": "stream",
     "text": [
      "MoviePy - Done.\n",
      "Moviepy - Writing video video_fragmentado/dscb7Tau.mp4\n",
      "\n"
     ]
    },
    {
     "name": "stderr",
     "output_type": "stream",
     "text": [
      "                                                               \r"
     ]
    },
    {
     "name": "stdout",
     "output_type": "stream",
     "text": [
      "Moviepy - Done !\n",
      "Moviepy - video ready video_fragmentado/dscb7Tau.mp4\n",
      "Fragmento guardado: video_fragmentado/dscb7Tau.mp4\n",
      "Moviepy - Building video video_fragmentado/9NJK9R05.mp4.\n",
      "MoviePy - Writing audio in 9NJK9R05TEMP_MPY_wvf_snd.mp4\n"
     ]
    },
    {
     "name": "stderr",
     "output_type": "stream",
     "text": [
      "                                                        \r"
     ]
    },
    {
     "name": "stdout",
     "output_type": "stream",
     "text": [
      "MoviePy - Done.\n",
      "Moviepy - Writing video video_fragmentado/9NJK9R05.mp4\n",
      "\n"
     ]
    },
    {
     "name": "stderr",
     "output_type": "stream",
     "text": [
      "                                                               \r"
     ]
    },
    {
     "name": "stdout",
     "output_type": "stream",
     "text": [
      "Moviepy - Done !\n",
      "Moviepy - video ready video_fragmentado/9NJK9R05.mp4\n",
      "Fragmento guardado: video_fragmentado/9NJK9R05.mp4\n",
      "Moviepy - Building video video_fragmentado/b2bmLLUm.mp4.\n",
      "MoviePy - Writing audio in b2bmLLUmTEMP_MPY_wvf_snd.mp4\n"
     ]
    },
    {
     "name": "stderr",
     "output_type": "stream",
     "text": [
      "                                                        \r"
     ]
    },
    {
     "name": "stdout",
     "output_type": "stream",
     "text": [
      "MoviePy - Done.\n",
      "Moviepy - Writing video video_fragmentado/b2bmLLUm.mp4\n",
      "\n"
     ]
    },
    {
     "name": "stderr",
     "output_type": "stream",
     "text": [
      "                                                               \r"
     ]
    },
    {
     "name": "stdout",
     "output_type": "stream",
     "text": [
      "Moviepy - Done !\n",
      "Moviepy - video ready video_fragmentado/b2bmLLUm.mp4\n",
      "Fragmento guardado: video_fragmentado/b2bmLLUm.mp4\n",
      "Moviepy - Building video video_fragmentado/ZTZF2xfc.mp4.\n",
      "MoviePy - Writing audio in ZTZF2xfcTEMP_MPY_wvf_snd.mp4\n"
     ]
    },
    {
     "name": "stderr",
     "output_type": "stream",
     "text": [
      "                                                        \r"
     ]
    },
    {
     "name": "stdout",
     "output_type": "stream",
     "text": [
      "MoviePy - Done.\n",
      "Moviepy - Writing video video_fragmentado/ZTZF2xfc.mp4\n",
      "\n"
     ]
    },
    {
     "name": "stderr",
     "output_type": "stream",
     "text": [
      "                                                               \r"
     ]
    },
    {
     "name": "stdout",
     "output_type": "stream",
     "text": [
      "Moviepy - Done !\n",
      "Moviepy - video ready video_fragmentado/ZTZF2xfc.mp4\n",
      "Fragmento guardado: video_fragmentado/ZTZF2xfc.mp4\n",
      "Moviepy - Building video video_fragmentado/ewEhX7ZP.mp4.\n",
      "MoviePy - Writing audio in ewEhX7ZPTEMP_MPY_wvf_snd.mp4\n"
     ]
    },
    {
     "name": "stderr",
     "output_type": "stream",
     "text": [
      "                                                        \r"
     ]
    },
    {
     "name": "stdout",
     "output_type": "stream",
     "text": [
      "MoviePy - Done.\n",
      "Moviepy - Writing video video_fragmentado/ewEhX7ZP.mp4\n",
      "\n"
     ]
    },
    {
     "name": "stderr",
     "output_type": "stream",
     "text": [
      "                                                               \r"
     ]
    },
    {
     "name": "stdout",
     "output_type": "stream",
     "text": [
      "Moviepy - Done !\n",
      "Moviepy - video ready video_fragmentado/ewEhX7ZP.mp4\n",
      "Fragmento guardado: video_fragmentado/ewEhX7ZP.mp4\n",
      "Moviepy - Building video video_fragmentado/ZpQjjBr9.mp4.\n",
      "MoviePy - Writing audio in ZpQjjBr9TEMP_MPY_wvf_snd.mp4\n"
     ]
    },
    {
     "name": "stderr",
     "output_type": "stream",
     "text": [
      "                                                        \r"
     ]
    },
    {
     "name": "stdout",
     "output_type": "stream",
     "text": [
      "MoviePy - Done.\n",
      "Moviepy - Writing video video_fragmentado/ZpQjjBr9.mp4\n",
      "\n"
     ]
    },
    {
     "name": "stderr",
     "output_type": "stream",
     "text": [
      "                                                               \r"
     ]
    },
    {
     "name": "stdout",
     "output_type": "stream",
     "text": [
      "Moviepy - Done !\n",
      "Moviepy - video ready video_fragmentado/ZpQjjBr9.mp4\n",
      "Fragmento guardado: video_fragmentado/ZpQjjBr9.mp4\n",
      "Moviepy - Building video video_fragmentado/x1csZbDM.mp4.\n",
      "MoviePy - Writing audio in x1csZbDMTEMP_MPY_wvf_snd.mp4\n"
     ]
    },
    {
     "name": "stderr",
     "output_type": "stream",
     "text": [
      "                                                        \r"
     ]
    },
    {
     "name": "stdout",
     "output_type": "stream",
     "text": [
      "MoviePy - Done.\n",
      "Moviepy - Writing video video_fragmentado/x1csZbDM.mp4\n",
      "\n"
     ]
    },
    {
     "name": "stderr",
     "output_type": "stream",
     "text": [
      "                                                               \r"
     ]
    },
    {
     "name": "stdout",
     "output_type": "stream",
     "text": [
      "Moviepy - Done !\n",
      "Moviepy - video ready video_fragmentado/x1csZbDM.mp4\n",
      "Fragmento guardado: video_fragmentado/x1csZbDM.mp4\n",
      "Moviepy - Building video video_fragmentado/iTsitnZy.mp4.\n",
      "MoviePy - Writing audio in iTsitnZyTEMP_MPY_wvf_snd.mp4\n"
     ]
    },
    {
     "name": "stderr",
     "output_type": "stream",
     "text": [
      "                                                        \r"
     ]
    },
    {
     "name": "stdout",
     "output_type": "stream",
     "text": [
      "MoviePy - Done.\n",
      "Moviepy - Writing video video_fragmentado/iTsitnZy.mp4\n",
      "\n"
     ]
    },
    {
     "name": "stderr",
     "output_type": "stream",
     "text": [
      "                                                               \r"
     ]
    },
    {
     "name": "stdout",
     "output_type": "stream",
     "text": [
      "Moviepy - Done !\n",
      "Moviepy - video ready video_fragmentado/iTsitnZy.mp4\n",
      "Fragmento guardado: video_fragmentado/iTsitnZy.mp4\n",
      "Moviepy - Building video video_fragmentado/Q0vwOcFf.mp4.\n",
      "MoviePy - Writing audio in Q0vwOcFfTEMP_MPY_wvf_snd.mp4\n"
     ]
    },
    {
     "name": "stderr",
     "output_type": "stream",
     "text": [
      "                                                        \r"
     ]
    },
    {
     "name": "stdout",
     "output_type": "stream",
     "text": [
      "MoviePy - Done.\n",
      "Moviepy - Writing video video_fragmentado/Q0vwOcFf.mp4\n",
      "\n"
     ]
    },
    {
     "name": "stderr",
     "output_type": "stream",
     "text": [
      "                                                               \r"
     ]
    },
    {
     "name": "stdout",
     "output_type": "stream",
     "text": [
      "Moviepy - Done !\n",
      "Moviepy - video ready video_fragmentado/Q0vwOcFf.mp4\n",
      "Fragmento guardado: video_fragmentado/Q0vwOcFf.mp4\n",
      "Moviepy - Building video video_fragmentado/NUvedvHt.mp4.\n",
      "MoviePy - Writing audio in NUvedvHtTEMP_MPY_wvf_snd.mp4\n"
     ]
    },
    {
     "name": "stderr",
     "output_type": "stream",
     "text": [
      "                                                        \r"
     ]
    },
    {
     "name": "stdout",
     "output_type": "stream",
     "text": [
      "MoviePy - Done.\n",
      "Moviepy - Writing video video_fragmentado/NUvedvHt.mp4\n",
      "\n"
     ]
    },
    {
     "name": "stderr",
     "output_type": "stream",
     "text": [
      "                                                               \r"
     ]
    },
    {
     "name": "stdout",
     "output_type": "stream",
     "text": [
      "Moviepy - Done !\n",
      "Moviepy - video ready video_fragmentado/NUvedvHt.mp4\n",
      "Fragmento guardado: video_fragmentado/NUvedvHt.mp4\n",
      "Moviepy - Building video video_fragmentado/tBgBUTLc.mp4.\n",
      "MoviePy - Writing audio in tBgBUTLcTEMP_MPY_wvf_snd.mp4\n"
     ]
    },
    {
     "name": "stderr",
     "output_type": "stream",
     "text": [
      "                                                        \r"
     ]
    },
    {
     "name": "stdout",
     "output_type": "stream",
     "text": [
      "MoviePy - Done.\n",
      "Moviepy - Writing video video_fragmentado/tBgBUTLc.mp4\n",
      "\n"
     ]
    },
    {
     "name": "stderr",
     "output_type": "stream",
     "text": [
      "                                                               \r"
     ]
    },
    {
     "name": "stdout",
     "output_type": "stream",
     "text": [
      "Moviepy - Done !\n",
      "Moviepy - video ready video_fragmentado/tBgBUTLc.mp4\n",
      "Fragmento guardado: video_fragmentado/tBgBUTLc.mp4\n",
      "Moviepy - Building video video_fragmentado/wtm4donK.mp4.\n",
      "MoviePy - Writing audio in wtm4donKTEMP_MPY_wvf_snd.mp4\n"
     ]
    },
    {
     "name": "stderr",
     "output_type": "stream",
     "text": [
      "                                                        \r"
     ]
    },
    {
     "name": "stdout",
     "output_type": "stream",
     "text": [
      "MoviePy - Done.\n",
      "Moviepy - Writing video video_fragmentado/wtm4donK.mp4\n",
      "\n"
     ]
    },
    {
     "name": "stderr",
     "output_type": "stream",
     "text": [
      "                                                               \r"
     ]
    },
    {
     "name": "stdout",
     "output_type": "stream",
     "text": [
      "Moviepy - Done !\n",
      "Moviepy - video ready video_fragmentado/wtm4donK.mp4\n",
      "Fragmento guardado: video_fragmentado/wtm4donK.mp4\n",
      "Moviepy - Building video video_fragmentado/fUDeppcu.mp4.\n",
      "MoviePy - Writing audio in fUDeppcuTEMP_MPY_wvf_snd.mp4\n"
     ]
    },
    {
     "name": "stderr",
     "output_type": "stream",
     "text": [
      "                                                        \r"
     ]
    },
    {
     "name": "stdout",
     "output_type": "stream",
     "text": [
      "MoviePy - Done.\n",
      "Moviepy - Writing video video_fragmentado/fUDeppcu.mp4\n",
      "\n"
     ]
    },
    {
     "name": "stderr",
     "output_type": "stream",
     "text": [
      "                                                               \r"
     ]
    },
    {
     "name": "stdout",
     "output_type": "stream",
     "text": [
      "Moviepy - Done !\n",
      "Moviepy - video ready video_fragmentado/fUDeppcu.mp4\n",
      "Fragmento guardado: video_fragmentado/fUDeppcu.mp4\n",
      "Moviepy - Building video video_fragmentado/tN1zfIsd.mp4.\n",
      "MoviePy - Writing audio in tN1zfIsdTEMP_MPY_wvf_snd.mp4\n"
     ]
    },
    {
     "name": "stderr",
     "output_type": "stream",
     "text": [
      "                                                        \r"
     ]
    },
    {
     "name": "stdout",
     "output_type": "stream",
     "text": [
      "MoviePy - Done.\n",
      "Moviepy - Writing video video_fragmentado/tN1zfIsd.mp4\n",
      "\n"
     ]
    },
    {
     "name": "stderr",
     "output_type": "stream",
     "text": [
      "                                                               \r"
     ]
    },
    {
     "name": "stdout",
     "output_type": "stream",
     "text": [
      "Moviepy - Done !\n",
      "Moviepy - video ready video_fragmentado/tN1zfIsd.mp4\n",
      "Fragmento guardado: video_fragmentado/tN1zfIsd.mp4\n",
      "Moviepy - Building video video_fragmentado/v8geTxCz.mp4.\n",
      "MoviePy - Writing audio in v8geTxCzTEMP_MPY_wvf_snd.mp4\n"
     ]
    },
    {
     "name": "stderr",
     "output_type": "stream",
     "text": [
      "                                                        \r"
     ]
    },
    {
     "name": "stdout",
     "output_type": "stream",
     "text": [
      "MoviePy - Done.\n",
      "Moviepy - Writing video video_fragmentado/v8geTxCz.mp4\n",
      "\n"
     ]
    },
    {
     "name": "stderr",
     "output_type": "stream",
     "text": [
      "                                                               \r"
     ]
    },
    {
     "name": "stdout",
     "output_type": "stream",
     "text": [
      "Moviepy - Done !\n",
      "Moviepy - video ready video_fragmentado/v8geTxCz.mp4\n",
      "Fragmento guardado: video_fragmentado/v8geTxCz.mp4\n",
      "Moviepy - Building video video_fragmentado/CseaCn8z.mp4.\n",
      "MoviePy - Writing audio in CseaCn8zTEMP_MPY_wvf_snd.mp4\n"
     ]
    },
    {
     "name": "stderr",
     "output_type": "stream",
     "text": [
      "                                                        \r"
     ]
    },
    {
     "name": "stdout",
     "output_type": "stream",
     "text": [
      "MoviePy - Done.\n",
      "Moviepy - Writing video video_fragmentado/CseaCn8z.mp4\n",
      "\n"
     ]
    },
    {
     "name": "stderr",
     "output_type": "stream",
     "text": [
      "                                                               \r"
     ]
    },
    {
     "name": "stdout",
     "output_type": "stream",
     "text": [
      "Moviepy - Done !\n",
      "Moviepy - video ready video_fragmentado/CseaCn8z.mp4\n",
      "Fragmento guardado: video_fragmentado/CseaCn8z.mp4\n",
      "Moviepy - Building video video_fragmentado/8Z6kBLFY.mp4.\n",
      "MoviePy - Writing audio in 8Z6kBLFYTEMP_MPY_wvf_snd.mp4\n"
     ]
    },
    {
     "name": "stderr",
     "output_type": "stream",
     "text": [
      "                                                        \r"
     ]
    },
    {
     "name": "stdout",
     "output_type": "stream",
     "text": [
      "MoviePy - Done.\n",
      "Moviepy - Writing video video_fragmentado/8Z6kBLFY.mp4\n",
      "\n"
     ]
    },
    {
     "name": "stderr",
     "output_type": "stream",
     "text": [
      "                                                               \r"
     ]
    },
    {
     "name": "stdout",
     "output_type": "stream",
     "text": [
      "Moviepy - Done !\n",
      "Moviepy - video ready video_fragmentado/8Z6kBLFY.mp4\n",
      "Fragmento guardado: video_fragmentado/8Z6kBLFY.mp4\n",
      "Moviepy - Building video video_fragmentado/50hULzZC.mp4.\n",
      "MoviePy - Writing audio in 50hULzZCTEMP_MPY_wvf_snd.mp4\n"
     ]
    },
    {
     "name": "stderr",
     "output_type": "stream",
     "text": [
      "                                                        \r"
     ]
    },
    {
     "name": "stdout",
     "output_type": "stream",
     "text": [
      "MoviePy - Done.\n",
      "Moviepy - Writing video video_fragmentado/50hULzZC.mp4\n",
      "\n"
     ]
    },
    {
     "name": "stderr",
     "output_type": "stream",
     "text": [
      "                                                               \r"
     ]
    },
    {
     "name": "stdout",
     "output_type": "stream",
     "text": [
      "Moviepy - Done !\n",
      "Moviepy - video ready video_fragmentado/50hULzZC.mp4\n",
      "Fragmento guardado: video_fragmentado/50hULzZC.mp4\n",
      "Moviepy - Building video video_fragmentado/Fk51jk27.mp4.\n",
      "MoviePy - Writing audio in Fk51jk27TEMP_MPY_wvf_snd.mp4\n"
     ]
    },
    {
     "name": "stderr",
     "output_type": "stream",
     "text": [
      "                                                        \r"
     ]
    },
    {
     "name": "stdout",
     "output_type": "stream",
     "text": [
      "MoviePy - Done.\n",
      "Moviepy - Writing video video_fragmentado/Fk51jk27.mp4\n",
      "\n"
     ]
    },
    {
     "name": "stderr",
     "output_type": "stream",
     "text": [
      "                                                               \r"
     ]
    },
    {
     "name": "stdout",
     "output_type": "stream",
     "text": [
      "Moviepy - Done !\n",
      "Moviepy - video ready video_fragmentado/Fk51jk27.mp4\n",
      "Fragmento guardado: video_fragmentado/Fk51jk27.mp4\n",
      "Moviepy - Building video video_fragmentado/dibYhxJt.mp4.\n",
      "MoviePy - Writing audio in dibYhxJtTEMP_MPY_wvf_snd.mp4\n"
     ]
    },
    {
     "name": "stderr",
     "output_type": "stream",
     "text": [
      "                                                        \r"
     ]
    },
    {
     "name": "stdout",
     "output_type": "stream",
     "text": [
      "MoviePy - Done.\n",
      "Moviepy - Writing video video_fragmentado/dibYhxJt.mp4\n",
      "\n"
     ]
    },
    {
     "name": "stderr",
     "output_type": "stream",
     "text": [
      "                                                               \r"
     ]
    },
    {
     "name": "stdout",
     "output_type": "stream",
     "text": [
      "Moviepy - Done !\n",
      "Moviepy - video ready video_fragmentado/dibYhxJt.mp4\n",
      "Fragmento guardado: video_fragmentado/dibYhxJt.mp4\n",
      "Moviepy - Building video video_fragmentado/BUMsSwZr.mp4.\n",
      "MoviePy - Writing audio in BUMsSwZrTEMP_MPY_wvf_snd.mp4\n"
     ]
    },
    {
     "name": "stderr",
     "output_type": "stream",
     "text": [
      "                                                        \r"
     ]
    },
    {
     "name": "stdout",
     "output_type": "stream",
     "text": [
      "MoviePy - Done.\n",
      "Moviepy - Writing video video_fragmentado/BUMsSwZr.mp4\n",
      "\n"
     ]
    },
    {
     "name": "stderr",
     "output_type": "stream",
     "text": [
      "                                                               \r"
     ]
    },
    {
     "name": "stdout",
     "output_type": "stream",
     "text": [
      "Moviepy - Done !\n",
      "Moviepy - video ready video_fragmentado/BUMsSwZr.mp4\n",
      "Fragmento guardado: video_fragmentado/BUMsSwZr.mp4\n",
      "Moviepy - Building video video_fragmentado/IWNdwURe.mp4.\n",
      "MoviePy - Writing audio in IWNdwUReTEMP_MPY_wvf_snd.mp4\n"
     ]
    },
    {
     "name": "stderr",
     "output_type": "stream",
     "text": [
      "                                                        \r"
     ]
    },
    {
     "name": "stdout",
     "output_type": "stream",
     "text": [
      "MoviePy - Done.\n",
      "Moviepy - Writing video video_fragmentado/IWNdwURe.mp4\n",
      "\n"
     ]
    },
    {
     "name": "stderr",
     "output_type": "stream",
     "text": [
      "                                                               \r"
     ]
    },
    {
     "name": "stdout",
     "output_type": "stream",
     "text": [
      "Moviepy - Done !\n",
      "Moviepy - video ready video_fragmentado/IWNdwURe.mp4\n",
      "Fragmento guardado: video_fragmentado/IWNdwURe.mp4\n",
      "Moviepy - Building video video_fragmentado/RyNBdKXc.mp4.\n",
      "MoviePy - Writing audio in RyNBdKXcTEMP_MPY_wvf_snd.mp4\n"
     ]
    },
    {
     "name": "stderr",
     "output_type": "stream",
     "text": [
      "                                                        \r"
     ]
    },
    {
     "name": "stdout",
     "output_type": "stream",
     "text": [
      "MoviePy - Done.\n",
      "Moviepy - Writing video video_fragmentado/RyNBdKXc.mp4\n",
      "\n"
     ]
    },
    {
     "name": "stderr",
     "output_type": "stream",
     "text": [
      "                                                               \r"
     ]
    },
    {
     "name": "stdout",
     "output_type": "stream",
     "text": [
      "Moviepy - Done !\n",
      "Moviepy - video ready video_fragmentado/RyNBdKXc.mp4\n",
      "Fragmento guardado: video_fragmentado/RyNBdKXc.mp4\n",
      "Moviepy - Building video video_fragmentado/OZO77Z8M.mp4.\n",
      "MoviePy - Writing audio in OZO77Z8MTEMP_MPY_wvf_snd.mp4\n"
     ]
    },
    {
     "name": "stderr",
     "output_type": "stream",
     "text": [
      "                                                        \r"
     ]
    },
    {
     "name": "stdout",
     "output_type": "stream",
     "text": [
      "MoviePy - Done.\n",
      "Moviepy - Writing video video_fragmentado/OZO77Z8M.mp4\n",
      "\n"
     ]
    },
    {
     "name": "stderr",
     "output_type": "stream",
     "text": [
      "                                                               \r"
     ]
    },
    {
     "name": "stdout",
     "output_type": "stream",
     "text": [
      "Moviepy - Done !\n",
      "Moviepy - video ready video_fragmentado/OZO77Z8M.mp4\n",
      "Fragmento guardado: video_fragmentado/OZO77Z8M.mp4\n",
      "Moviepy - Building video video_fragmentado/d6pwlQCt.mp4.\n",
      "MoviePy - Writing audio in d6pwlQCtTEMP_MPY_wvf_snd.mp4\n"
     ]
    },
    {
     "name": "stderr",
     "output_type": "stream",
     "text": [
      "                                                        \r"
     ]
    },
    {
     "name": "stdout",
     "output_type": "stream",
     "text": [
      "MoviePy - Done.\n",
      "Moviepy - Writing video video_fragmentado/d6pwlQCt.mp4\n",
      "\n"
     ]
    },
    {
     "name": "stderr",
     "output_type": "stream",
     "text": [
      "                                                               \r"
     ]
    },
    {
     "name": "stdout",
     "output_type": "stream",
     "text": [
      "Moviepy - Done !\n",
      "Moviepy - video ready video_fragmentado/d6pwlQCt.mp4\n",
      "Fragmento guardado: video_fragmentado/d6pwlQCt.mp4\n",
      "Moviepy - Building video video_fragmentado/i87BZhNb.mp4.\n",
      "MoviePy - Writing audio in i87BZhNbTEMP_MPY_wvf_snd.mp4\n"
     ]
    },
    {
     "name": "stderr",
     "output_type": "stream",
     "text": [
      "                                                        \r"
     ]
    },
    {
     "name": "stdout",
     "output_type": "stream",
     "text": [
      "MoviePy - Done.\n",
      "Moviepy - Writing video video_fragmentado/i87BZhNb.mp4\n",
      "\n"
     ]
    },
    {
     "name": "stderr",
     "output_type": "stream",
     "text": [
      "                                                               \r"
     ]
    },
    {
     "name": "stdout",
     "output_type": "stream",
     "text": [
      "Moviepy - Done !\n",
      "Moviepy - video ready video_fragmentado/i87BZhNb.mp4\n",
      "Fragmento guardado: video_fragmentado/i87BZhNb.mp4\n",
      "Moviepy - Building video video_fragmentado/tsRdwnlo.mp4.\n",
      "MoviePy - Writing audio in tsRdwnloTEMP_MPY_wvf_snd.mp4\n"
     ]
    },
    {
     "name": "stderr",
     "output_type": "stream",
     "text": [
      "                                                        \r"
     ]
    },
    {
     "name": "stdout",
     "output_type": "stream",
     "text": [
      "MoviePy - Done.\n",
      "Moviepy - Writing video video_fragmentado/tsRdwnlo.mp4\n",
      "\n"
     ]
    },
    {
     "name": "stderr",
     "output_type": "stream",
     "text": [
      "                                                               \r"
     ]
    },
    {
     "name": "stdout",
     "output_type": "stream",
     "text": [
      "Moviepy - Done !\n",
      "Moviepy - video ready video_fragmentado/tsRdwnlo.mp4\n",
      "Fragmento guardado: video_fragmentado/tsRdwnlo.mp4\n",
      "Moviepy - Building video video_fragmentado/rO2HSSTG.mp4.\n",
      "MoviePy - Writing audio in rO2HSSTGTEMP_MPY_wvf_snd.mp4\n"
     ]
    },
    {
     "name": "stderr",
     "output_type": "stream",
     "text": [
      "                                                        \r"
     ]
    },
    {
     "name": "stdout",
     "output_type": "stream",
     "text": [
      "MoviePy - Done.\n",
      "Moviepy - Writing video video_fragmentado/rO2HSSTG.mp4\n",
      "\n"
     ]
    },
    {
     "name": "stderr",
     "output_type": "stream",
     "text": [
      "                                                               \r"
     ]
    },
    {
     "name": "stdout",
     "output_type": "stream",
     "text": [
      "Moviepy - Done !\n",
      "Moviepy - video ready video_fragmentado/rO2HSSTG.mp4\n",
      "Fragmento guardado: video_fragmentado/rO2HSSTG.mp4\n",
      "Moviepy - Building video video_fragmentado/aVecShCT.mp4.\n",
      "MoviePy - Writing audio in aVecShCTTEMP_MPY_wvf_snd.mp4\n"
     ]
    },
    {
     "name": "stderr",
     "output_type": "stream",
     "text": [
      "                                                        \r"
     ]
    },
    {
     "name": "stdout",
     "output_type": "stream",
     "text": [
      "MoviePy - Done.\n",
      "Moviepy - Writing video video_fragmentado/aVecShCT.mp4\n",
      "\n"
     ]
    },
    {
     "name": "stderr",
     "output_type": "stream",
     "text": [
      "                                                               \r"
     ]
    },
    {
     "name": "stdout",
     "output_type": "stream",
     "text": [
      "Moviepy - Done !\n",
      "Moviepy - video ready video_fragmentado/aVecShCT.mp4\n",
      "Fragmento guardado: video_fragmentado/aVecShCT.mp4\n",
      "Moviepy - Building video video_fragmentado/bOgXpTyj.mp4.\n",
      "MoviePy - Writing audio in bOgXpTyjTEMP_MPY_wvf_snd.mp4\n"
     ]
    },
    {
     "name": "stderr",
     "output_type": "stream",
     "text": [
      "                                                        \r"
     ]
    },
    {
     "name": "stdout",
     "output_type": "stream",
     "text": [
      "MoviePy - Done.\n",
      "Moviepy - Writing video video_fragmentado/bOgXpTyj.mp4\n",
      "\n"
     ]
    },
    {
     "name": "stderr",
     "output_type": "stream",
     "text": [
      "                                                               \r"
     ]
    },
    {
     "name": "stdout",
     "output_type": "stream",
     "text": [
      "Moviepy - Done !\n",
      "Moviepy - video ready video_fragmentado/bOgXpTyj.mp4\n",
      "Fragmento guardado: video_fragmentado/bOgXpTyj.mp4\n",
      "Moviepy - Building video video_fragmentado/rwZSFjje.mp4.\n",
      "MoviePy - Writing audio in rwZSFjjeTEMP_MPY_wvf_snd.mp4\n"
     ]
    },
    {
     "name": "stderr",
     "output_type": "stream",
     "text": [
      "                                                        \r"
     ]
    },
    {
     "name": "stdout",
     "output_type": "stream",
     "text": [
      "MoviePy - Done.\n",
      "Moviepy - Writing video video_fragmentado/rwZSFjje.mp4\n",
      "\n"
     ]
    },
    {
     "name": "stderr",
     "output_type": "stream",
     "text": [
      "                                                               \r"
     ]
    },
    {
     "name": "stdout",
     "output_type": "stream",
     "text": [
      "Moviepy - Done !\n",
      "Moviepy - video ready video_fragmentado/rwZSFjje.mp4\n",
      "Fragmento guardado: video_fragmentado/rwZSFjje.mp4\n",
      "Moviepy - Building video video_fragmentado/N1K2b9PL.mp4.\n",
      "MoviePy - Writing audio in N1K2b9PLTEMP_MPY_wvf_snd.mp4\n"
     ]
    },
    {
     "name": "stderr",
     "output_type": "stream",
     "text": [
      "                                                        \r"
     ]
    },
    {
     "name": "stdout",
     "output_type": "stream",
     "text": [
      "MoviePy - Done.\n",
      "Moviepy - Writing video video_fragmentado/N1K2b9PL.mp4\n",
      "\n"
     ]
    },
    {
     "name": "stderr",
     "output_type": "stream",
     "text": [
      "                                                               \r"
     ]
    },
    {
     "name": "stdout",
     "output_type": "stream",
     "text": [
      "Moviepy - Done !\n",
      "Moviepy - video ready video_fragmentado/N1K2b9PL.mp4\n",
      "Fragmento guardado: video_fragmentado/N1K2b9PL.mp4\n",
      "Moviepy - Building video video_fragmentado/flV5TTEg.mp4.\n",
      "MoviePy - Writing audio in flV5TTEgTEMP_MPY_wvf_snd.mp4\n"
     ]
    },
    {
     "name": "stderr",
     "output_type": "stream",
     "text": [
      "                                                        \r"
     ]
    },
    {
     "name": "stdout",
     "output_type": "stream",
     "text": [
      "MoviePy - Done.\n",
      "Moviepy - Writing video video_fragmentado/flV5TTEg.mp4\n",
      "\n"
     ]
    },
    {
     "name": "stderr",
     "output_type": "stream",
     "text": [
      "                                                               \r"
     ]
    },
    {
     "name": "stdout",
     "output_type": "stream",
     "text": [
      "Moviepy - Done !\n",
      "Moviepy - video ready video_fragmentado/flV5TTEg.mp4\n",
      "Fragmento guardado: video_fragmentado/flV5TTEg.mp4\n",
      "Moviepy - Building video video_fragmentado/0qvINI2V.mp4.\n",
      "MoviePy - Writing audio in 0qvINI2VTEMP_MPY_wvf_snd.mp4\n"
     ]
    },
    {
     "name": "stderr",
     "output_type": "stream",
     "text": [
      "                                                        \r"
     ]
    },
    {
     "name": "stdout",
     "output_type": "stream",
     "text": [
      "MoviePy - Done.\n",
      "Moviepy - Writing video video_fragmentado/0qvINI2V.mp4\n",
      "\n"
     ]
    },
    {
     "name": "stderr",
     "output_type": "stream",
     "text": [
      "                                                               \r"
     ]
    },
    {
     "name": "stdout",
     "output_type": "stream",
     "text": [
      "Moviepy - Done !\n",
      "Moviepy - video ready video_fragmentado/0qvINI2V.mp4\n",
      "Fragmento guardado: video_fragmentado/0qvINI2V.mp4\n",
      "Moviepy - Building video video_fragmentado/UoaTOxrG.mp4.\n",
      "MoviePy - Writing audio in UoaTOxrGTEMP_MPY_wvf_snd.mp4\n"
     ]
    },
    {
     "name": "stderr",
     "output_type": "stream",
     "text": [
      "                                                        \r"
     ]
    },
    {
     "name": "stdout",
     "output_type": "stream",
     "text": [
      "MoviePy - Done.\n",
      "Moviepy - Writing video video_fragmentado/UoaTOxrG.mp4\n",
      "\n"
     ]
    },
    {
     "name": "stderr",
     "output_type": "stream",
     "text": [
      "                                                               \r"
     ]
    },
    {
     "name": "stdout",
     "output_type": "stream",
     "text": [
      "Moviepy - Done !\n",
      "Moviepy - video ready video_fragmentado/UoaTOxrG.mp4\n",
      "Fragmento guardado: video_fragmentado/UoaTOxrG.mp4\n",
      "Moviepy - Building video video_fragmentado/jz13Kiiq.mp4.\n",
      "MoviePy - Writing audio in jz13KiiqTEMP_MPY_wvf_snd.mp4\n"
     ]
    },
    {
     "name": "stderr",
     "output_type": "stream",
     "text": [
      "                                                        \r"
     ]
    },
    {
     "name": "stdout",
     "output_type": "stream",
     "text": [
      "MoviePy - Done.\n",
      "Moviepy - Writing video video_fragmentado/jz13Kiiq.mp4\n",
      "\n"
     ]
    },
    {
     "name": "stderr",
     "output_type": "stream",
     "text": [
      "                                                               \r"
     ]
    },
    {
     "name": "stdout",
     "output_type": "stream",
     "text": [
      "Moviepy - Done !\n",
      "Moviepy - video ready video_fragmentado/jz13Kiiq.mp4\n",
      "Fragmento guardado: video_fragmentado/jz13Kiiq.mp4\n",
      "Moviepy - Building video video_fragmentado/dwQ3nTBX.mp4.\n",
      "MoviePy - Writing audio in dwQ3nTBXTEMP_MPY_wvf_snd.mp4\n"
     ]
    },
    {
     "name": "stderr",
     "output_type": "stream",
     "text": [
      "                                                        \r"
     ]
    },
    {
     "name": "stdout",
     "output_type": "stream",
     "text": [
      "MoviePy - Done.\n",
      "Moviepy - Writing video video_fragmentado/dwQ3nTBX.mp4\n",
      "\n"
     ]
    },
    {
     "name": "stderr",
     "output_type": "stream",
     "text": [
      "                                                               \r"
     ]
    },
    {
     "name": "stdout",
     "output_type": "stream",
     "text": [
      "Moviepy - Done !\n",
      "Moviepy - video ready video_fragmentado/dwQ3nTBX.mp4\n",
      "Fragmento guardado: video_fragmentado/dwQ3nTBX.mp4\n",
      "Moviepy - Building video video_fragmentado/dlcJcCjx.mp4.\n",
      "MoviePy - Writing audio in dlcJcCjxTEMP_MPY_wvf_snd.mp4\n"
     ]
    },
    {
     "name": "stderr",
     "output_type": "stream",
     "text": [
      "                                                        \r"
     ]
    },
    {
     "name": "stdout",
     "output_type": "stream",
     "text": [
      "MoviePy - Done.\n",
      "Moviepy - Writing video video_fragmentado/dlcJcCjx.mp4\n",
      "\n"
     ]
    },
    {
     "name": "stderr",
     "output_type": "stream",
     "text": [
      "                                                               \r"
     ]
    },
    {
     "name": "stdout",
     "output_type": "stream",
     "text": [
      "Moviepy - Done !\n",
      "Moviepy - video ready video_fragmentado/dlcJcCjx.mp4\n",
      "Fragmento guardado: video_fragmentado/dlcJcCjx.mp4\n",
      "Moviepy - Building video video_fragmentado/64RSMx6I.mp4.\n",
      "MoviePy - Writing audio in 64RSMx6ITEMP_MPY_wvf_snd.mp4\n"
     ]
    },
    {
     "name": "stderr",
     "output_type": "stream",
     "text": [
      "                                                        \r"
     ]
    },
    {
     "name": "stdout",
     "output_type": "stream",
     "text": [
      "MoviePy - Done.\n",
      "Moviepy - Writing video video_fragmentado/64RSMx6I.mp4\n",
      "\n"
     ]
    },
    {
     "name": "stderr",
     "output_type": "stream",
     "text": [
      "                                                               \r"
     ]
    },
    {
     "name": "stdout",
     "output_type": "stream",
     "text": [
      "Moviepy - Done !\n",
      "Moviepy - video ready video_fragmentado/64RSMx6I.mp4\n",
      "Fragmento guardado: video_fragmentado/64RSMx6I.mp4\n",
      "Moviepy - Building video video_fragmentado/byJhS2Wo.mp4.\n",
      "MoviePy - Writing audio in byJhS2WoTEMP_MPY_wvf_snd.mp4\n"
     ]
    },
    {
     "name": "stderr",
     "output_type": "stream",
     "text": [
      "                                                        \r"
     ]
    },
    {
     "name": "stdout",
     "output_type": "stream",
     "text": [
      "MoviePy - Done.\n",
      "Moviepy - Writing video video_fragmentado/byJhS2Wo.mp4\n",
      "\n"
     ]
    },
    {
     "name": "stderr",
     "output_type": "stream",
     "text": [
      "                                                               \r"
     ]
    },
    {
     "name": "stdout",
     "output_type": "stream",
     "text": [
      "Moviepy - Done !\n",
      "Moviepy - video ready video_fragmentado/byJhS2Wo.mp4\n",
      "Fragmento guardado: video_fragmentado/byJhS2Wo.mp4\n",
      "Moviepy - Building video video_fragmentado/aflOYAiZ.mp4.\n",
      "MoviePy - Writing audio in aflOYAiZTEMP_MPY_wvf_snd.mp4\n"
     ]
    },
    {
     "name": "stderr",
     "output_type": "stream",
     "text": [
      "                                                        \r"
     ]
    },
    {
     "name": "stdout",
     "output_type": "stream",
     "text": [
      "MoviePy - Done.\n",
      "Moviepy - Writing video video_fragmentado/aflOYAiZ.mp4\n",
      "\n"
     ]
    },
    {
     "name": "stderr",
     "output_type": "stream",
     "text": [
      "                                                               \r"
     ]
    },
    {
     "name": "stdout",
     "output_type": "stream",
     "text": [
      "Moviepy - Done !\n",
      "Moviepy - video ready video_fragmentado/aflOYAiZ.mp4\n",
      "Fragmento guardado: video_fragmentado/aflOYAiZ.mp4\n",
      "Moviepy - Building video video_fragmentado/rFydRPYO.mp4.\n",
      "MoviePy - Writing audio in rFydRPYOTEMP_MPY_wvf_snd.mp4\n"
     ]
    },
    {
     "name": "stderr",
     "output_type": "stream",
     "text": [
      "                                                        \r"
     ]
    },
    {
     "name": "stdout",
     "output_type": "stream",
     "text": [
      "MoviePy - Done.\n",
      "Moviepy - Writing video video_fragmentado/rFydRPYO.mp4\n",
      "\n"
     ]
    },
    {
     "name": "stderr",
     "output_type": "stream",
     "text": [
      "                                                               \r"
     ]
    },
    {
     "name": "stdout",
     "output_type": "stream",
     "text": [
      "Moviepy - Done !\n",
      "Moviepy - video ready video_fragmentado/rFydRPYO.mp4\n",
      "Fragmento guardado: video_fragmentado/rFydRPYO.mp4\n",
      "Moviepy - Building video video_fragmentado/bnsbM1mR.mp4.\n",
      "MoviePy - Writing audio in bnsbM1mRTEMP_MPY_wvf_snd.mp4\n"
     ]
    },
    {
     "name": "stderr",
     "output_type": "stream",
     "text": [
      "                                                        \r"
     ]
    },
    {
     "name": "stdout",
     "output_type": "stream",
     "text": [
      "MoviePy - Done.\n",
      "Moviepy - Writing video video_fragmentado/bnsbM1mR.mp4\n",
      "\n"
     ]
    },
    {
     "name": "stderr",
     "output_type": "stream",
     "text": [
      "                                                               \r"
     ]
    },
    {
     "name": "stdout",
     "output_type": "stream",
     "text": [
      "Moviepy - Done !\n",
      "Moviepy - video ready video_fragmentado/bnsbM1mR.mp4\n",
      "Fragmento guardado: video_fragmentado/bnsbM1mR.mp4\n",
      "Moviepy - Building video video_fragmentado/rfdfPQVJ.mp4.\n",
      "MoviePy - Writing audio in rfdfPQVJTEMP_MPY_wvf_snd.mp4\n"
     ]
    },
    {
     "name": "stderr",
     "output_type": "stream",
     "text": [
      "                                                        \r"
     ]
    },
    {
     "name": "stdout",
     "output_type": "stream",
     "text": [
      "MoviePy - Done.\n",
      "Moviepy - Writing video video_fragmentado/rfdfPQVJ.mp4\n",
      "\n"
     ]
    },
    {
     "name": "stderr",
     "output_type": "stream",
     "text": [
      "                                                               \r"
     ]
    },
    {
     "name": "stdout",
     "output_type": "stream",
     "text": [
      "Moviepy - Done !\n",
      "Moviepy - video ready video_fragmentado/rfdfPQVJ.mp4\n",
      "Fragmento guardado: video_fragmentado/rfdfPQVJ.mp4\n",
      "Moviepy - Building video video_fragmentado/4A7fZD0w.mp4.\n",
      "MoviePy - Writing audio in 4A7fZD0wTEMP_MPY_wvf_snd.mp4\n"
     ]
    },
    {
     "name": "stderr",
     "output_type": "stream",
     "text": [
      "                                                        \r"
     ]
    },
    {
     "name": "stdout",
     "output_type": "stream",
     "text": [
      "MoviePy - Done.\n",
      "Moviepy - Writing video video_fragmentado/4A7fZD0w.mp4\n",
      "\n"
     ]
    },
    {
     "name": "stderr",
     "output_type": "stream",
     "text": [
      "                                                               \r"
     ]
    },
    {
     "name": "stdout",
     "output_type": "stream",
     "text": [
      "Moviepy - Done !\n",
      "Moviepy - video ready video_fragmentado/4A7fZD0w.mp4\n",
      "Fragmento guardado: video_fragmentado/4A7fZD0w.mp4\n",
      "Moviepy - Building video video_fragmentado/aClPicQq.mp4.\n",
      "MoviePy - Writing audio in aClPicQqTEMP_MPY_wvf_snd.mp4\n"
     ]
    },
    {
     "name": "stderr",
     "output_type": "stream",
     "text": [
      "                                                        \r"
     ]
    },
    {
     "name": "stdout",
     "output_type": "stream",
     "text": [
      "MoviePy - Done.\n",
      "Moviepy - Writing video video_fragmentado/aClPicQq.mp4\n",
      "\n"
     ]
    },
    {
     "name": "stderr",
     "output_type": "stream",
     "text": [
      "                                                               \r"
     ]
    },
    {
     "name": "stdout",
     "output_type": "stream",
     "text": [
      "Moviepy - Done !\n",
      "Moviepy - video ready video_fragmentado/aClPicQq.mp4\n",
      "Fragmento guardado: video_fragmentado/aClPicQq.mp4\n",
      "Moviepy - Building video video_fragmentado/ikZvuoYT.mp4.\n",
      "MoviePy - Writing audio in ikZvuoYTTEMP_MPY_wvf_snd.mp4\n"
     ]
    },
    {
     "name": "stderr",
     "output_type": "stream",
     "text": [
      "                                                        \r"
     ]
    },
    {
     "name": "stdout",
     "output_type": "stream",
     "text": [
      "MoviePy - Done.\n",
      "Moviepy - Writing video video_fragmentado/ikZvuoYT.mp4\n",
      "\n"
     ]
    },
    {
     "name": "stderr",
     "output_type": "stream",
     "text": [
      "                                                               \r"
     ]
    },
    {
     "name": "stdout",
     "output_type": "stream",
     "text": [
      "Moviepy - Done !\n",
      "Moviepy - video ready video_fragmentado/ikZvuoYT.mp4\n",
      "Fragmento guardado: video_fragmentado/ikZvuoYT.mp4\n",
      "Moviepy - Building video video_fragmentado/MQQvBNz4.mp4.\n",
      "MoviePy - Writing audio in MQQvBNz4TEMP_MPY_wvf_snd.mp4\n"
     ]
    },
    {
     "name": "stderr",
     "output_type": "stream",
     "text": [
      "                                                       \r"
     ]
    },
    {
     "name": "stdout",
     "output_type": "stream",
     "text": [
      "MoviePy - Done.\n",
      "Moviepy - Writing video video_fragmentado/MQQvBNz4.mp4\n",
      "\n"
     ]
    },
    {
     "name": "stderr",
     "output_type": "stream",
     "text": [
      "                                                   "
     ]
    },
    {
     "name": "stdout",
     "output_type": "stream",
     "text": [
      "Moviepy - Done !\n",
      "Moviepy - video ready video_fragmentado/MQQvBNz4.mp4\n",
      "Fragmento guardado: video_fragmentado/MQQvBNz4.mp4\n"
     ]
    },
    {
     "name": "stderr",
     "output_type": "stream",
     "text": [
      "\r"
     ]
    }
   ],
   "source": [
    "# Llamar a la función para dividir el video\n",
    "split_video(video_path)"
   ]
  }
 ],
 "metadata": {
  "kernelspec": {
   "display_name": "AndMoviepy",
   "language": "python",
   "name": "python3"
  },
  "language_info": {
   "codemirror_mode": {
    "name": "ipython",
    "version": 3
   },
   "file_extension": ".py",
   "mimetype": "text/x-python",
   "name": "python",
   "nbconvert_exporter": "python",
   "pygments_lexer": "ipython3",
   "version": "3.10.14"
  }
 },
 "nbformat": 4,
 "nbformat_minor": 2
}
