{
 "cells": [
  {
   "cell_type": "code",
   "execution_count": 1,
   "metadata": {},
   "outputs": [],
   "source": [
    "import requests\n",
    "from bs4 import BeautifulSoup\n",
    "import wget\n",
    "from PIL import Image\n",
    "import os"
   ]
  },
  {
   "cell_type": "code",
   "execution_count": 2,
   "metadata": {},
   "outputs": [],
   "source": [
    "# Ruta donde se deben eliminar las carpetas\n",
    "output_path = 'img_download'\n",
    "\n",
    "# Eliminar todas las carpetas en output_path\n",
    "if os.path.exists(output_path):\n",
    "    # Iterar sobre los elementos dentro del directorio\n",
    "    for item in os.listdir(output_path):\n",
    "        item_path = os.path.join(output_path, item)\n",
    "        # Eliminar archivos\n",
    "        if os.path.isfile(item_path):\n",
    "            os.remove(item_path)\n",
    "        # Eliminar carpetas y su contenido de forma recursiva\n",
    "        elif os.path.isdir(item_path):\n",
    "            for root, dirs, files in os.walk(item_path, topdown=False):\n",
    "                for name in files:\n",
    "                    os.remove(os.path.join(root, name))\n",
    "                for name in dirs:\n",
    "                    os.rmdir(os.path.join(root, name))\n",
    "            os.rmdir(item_path)  # Finalmente eliminar la carpeta vacía\n",
    "else:\n",
    "    print(f\"The folder {output_path} does not exist.\")"
   ]
  },
  {
   "cell_type": "code",
   "execution_count": 3,
   "metadata": {},
   "outputs": [],
   "source": [
    "# Asegurarse de que la carpeta exista después de eliminar su contenido\n",
    "os.makedirs(output_path, exist_ok=True)\n",
    "\n",
    "# Ruta de la carpeta de entrada con los archivos .txt\n",
    "folder_path = '/mnt/D8E84E4DE84E2A58/Env_python/Create_video_news/0_create text/text/en/final/'\n",
    "\n",
    "# Lista de archivos .txt en la carpeta\n",
    "files = [f for f in os.listdir(folder_path) if f.endswith('.txt')]\n",
    "\n",
    "# Ordenar los archivos si es necesario\n",
    "files.sort()"
   ]
  },
  {
   "cell_type": "code",
   "execution_count": 4,
   "metadata": {},
   "outputs": [],
   "source": [
    "def descargar_imagenes_bing(query, num_imagenes, carpeta_destino):\n",
    "    # Genera la URL de búsqueda de Bing con filtro de tamaño medium\n",
    "    url = f\"https://www.bing.com/images/search?q={query}&qft=+filterui:imagesize-large&form=IRFLTR\"\n",
    "\n",
    "    # Realiza la solicitud GET al servidor\n",
    "    response = requests.get(url)\n",
    "    soup = BeautifulSoup(response.text, 'html.parser')\n",
    "\n",
    "    # Encuentra las URLs de las imágenes\n",
    "    imagenes = soup.find_all('img', class_='mimg')\n",
    "\n",
    "    # Crea una carpeta llamada 'images_bing' si no existe\n",
    "    carpeta_destino = carpeta_destino\n",
    "    if not os.path.exists(carpeta_destino):\n",
    "        os.makedirs(carpeta_destino)\n",
    "\n",
    "    # Descarga las imágenes y las convierte a PNG con tamaño 720px de ancho\n",
    "    for i, img in enumerate(imagenes[:num_imagenes]):\n",
    "        # Verifica si el atributo 'src' o 'data-src' existeAriana Grande\n",
    "        img_url = img.get('src') or img.get('data-src')\n",
    "        if img_url:\n",
    "            img_temp = f\"{carpeta_destino}/temp_{query}_{i}.jpg\"\n",
    "            img_nombre = f\"{carpeta_destino}/{query}_{i}.png\"\n",
    "\n",
    "            print(f\"Descargando imagen {i + 1} de {num_imagenes}: {img_url}\")\n",
    "            wget.download(img_url, img_temp)\n",
    "\n",
    "            # Abrir la imagen descargada con PIL\n",
    "            with Image.open(img_temp) as im:\n",
    "                # Redimensionar manteniendo la relación de aspecto\n",
    "                width_percent = (1080 / float(im.size[0]))\n",
    "                height_size = int((float(im.size[1]) * float(width_percent)))\n",
    "                im_resized = im.resize((1080, height_size), Image.Resampling.LANCZOS)\n",
    "\n",
    "                # Guardar la imagen en formato PNG\n",
    "                im_resized.save(img_nombre, \"PNG\")\n",
    "\n",
    "            # Eliminar la imagen temporal\n",
    "            os.remove(img_temp)\n",
    "        else:\n",
    "            print(f\"No se encontró URL de imagen en el elemento {i + 1}\")"
   ]
  },
  {
   "cell_type": "code",
   "execution_count": 5,
   "metadata": {},
   "outputs": [
    {
     "name": "stdout",
     "output_type": "stream",
     "text": [
      "Descargando imagen 1 de 30: https://tse4.mm.bing.net/th/id/OIP.KeEtcqNLN1eWN6mkUXalggHaFj?w=252&h=189&c=7&r=0&o=5&pid=1.7\n",
      "Descargando imagen 2 de 30: https://tse4.mm.bing.net/th/id/OIP.vmgNxrNdq0tOGYD73H4IpgHaHN?w=194&h=189&c=7&r=0&o=5&pid=1.7\n",
      "Descargando imagen 3 de 30: https://tse3.mm.bing.net/th/id/OIP.rLmFC09aSNSEO1zqQkS9sgHaHa?w=188&h=189&c=7&r=0&o=5&pid=1.7\n",
      "Descargando imagen 4 de 30: https://tse3.mm.bing.net/th/id/OIP.ngy3dBxtebIRAS571R5RRQHaE8?w=283&h=189&c=7&r=0&o=5&pid=1.7\n",
      "Descargando imagen 5 de 30: https://tse3.mm.bing.net/th/id/OIP.Hn8uW60dLYtqdUu74wnM8QHaEx?w=259&h=180&c=7&r=0&o=5&pid=1.7\n",
      "Descargando imagen 6 de 30: https://tse1.mm.bing.net/th/id/OIP.3Pby6Ink1yXLN67_5CselgHaHF?w=174&h=180&c=7&r=0&o=5&pid=1.7\n",
      "Descargando imagen 7 de 30: https://tse3.mm.bing.net/th/id/OIP.dBG-NEetHd6fmyHVRgdpkQHaEK?w=296&h=180&c=7&r=0&o=5&pid=1.7\n",
      "Descargando imagen 8 de 30: https://tse3.mm.bing.net/th/id/OIP.jJIawFRswMmjZyFwUWUDxAHaE5?w=251&h=180&c=7&r=0&o=5&pid=1.7\n",
      "Descargando imagen 9 de 30: https://tse2.mm.bing.net/th/id/OIP.2SERrqzBJdV5xd4VRfosEAHaEK?w=281&h=180&c=7&r=0&o=5&pid=1.7\n",
      "Descargando imagen 10 de 30: https://tse4.mm.bing.net/th/id/OIP.RJz3Qv4qX-z05rdfyOPRwAHaE8?w=199&h=180&c=7&r=0&o=5&pid=1.7\n",
      "Descargando imagen 11 de 30: https://tse1.mm.bing.net/th/id/OIP.Js0yCDm13KSEWuQatOzWcQHaHX?w=158&h=180&c=7&r=0&o=5&pid=1.7\n",
      "Descargando imagen 12 de 30: https://tse2.mm.bing.net/th/id/OIP.OZzVGM605GAtUjcFbLkWxAHaEp?w=252&h=180&c=7&r=0&o=5&pid=1.7\n",
      "Descargando imagen 13 de 30: https://tse4.mm.bing.net/th/id/OIP.hgAU5kRfpFcCcn4N9x0_3QHaJj?w=151&h=195&c=7&r=0&o=5&pid=1.7\n",
      "Descargando imagen 14 de 30: https://tse4.mm.bing.net/th/id/OIP.v1uTsgZhZBRteXuh_t1DqAHaFj?w=260&h=195&c=7&r=0&o=5&pid=1.7\n",
      "Descargando imagen 15 de 30: https://tse2.mm.bing.net/th/id/OIP.vnrpa_t48VFwONHJpHddxgHaHa?w=195&h=195&c=7&r=0&o=5&pid=1.7\n",
      "Descargando imagen 16 de 30: https://tse4.mm.bing.net/th/id/OIP.QQKPQyzRrobyUwcuU9gokwHaHa?w=194&h=195&c=7&r=0&o=5&pid=1.7\n",
      "Descargando imagen 17 de 30: https://tse3.mm.bing.net/th/id/OIP.C4ZSDTN-Ah5M9UtqE2I0ZQHaIX?w=172&h=195&c=7&r=0&o=5&pid=1.7\n",
      "Descargando imagen 18 de 30: https://tse4.mm.bing.net/th/id/OIP.xpICotPPyYqmJ0894LpYKwHaFy?w=234&h=183&c=7&r=0&o=5&pid=1.7\n",
      "Descargando imagen 19 de 30: https://tse1.mm.bing.net/th/id/OIP.8JXb2ZCBBIC1yPAIMGDXMgHaFj?w=244&h=183&c=7&r=0&o=5&pid=1.7\n",
      "Descargando imagen 20 de 30: https://tse1.mm.bing.net/th/id/OIP.N2DA2U2Fr00UzBziNibJ4gHaE8?w=274&h=183&c=7&r=0&o=5&pid=1.7\n",
      "Descargando imagen 21 de 30: https://tse2.mm.bing.net/th/id/OIP.Z4ERsTRGsgNdEx0OCNJ6hAHaF7?w=228&h=183&c=7&r=0&o=5&pid=1.7\n",
      "Descargando imagen 22 de 30: https://tse3.mm.bing.net/th/id/OIP.r_ivqrR-5xt08svox9Aw2wHaFj?w=253&h=190&c=7&r=0&o=5&pid=1.7\n",
      "Descargando imagen 23 de 30: https://tse3.mm.bing.net/th/id/OIP._tprijt9u2fnnVlnZA7JBwHaEm?w=305&h=190&c=7&r=0&o=5&pid=1.7\n",
      "Descargando imagen 24 de 30: https://tse1.mm.bing.net/th/id/OIP.OYZdwBvcWbxW7I2b61YM9QHaGC?w=233&h=190&c=7&r=0&o=5&pid=1.7\n",
      "Descargando imagen 25 de 30: https://tse1.mm.bing.net/th/id/OIP.3Yggl5PFqq_Db1UEXba-XgHaHa?w=189&h=190&c=7&r=0&o=5&pid=1.7\n",
      "Descargando imagen 26 de 30: https://tse3.mm.bing.net/th/id/OIP.8gnn_jt9kZ6Rfp7o0n8rTAHaDt?w=344&h=174&c=7&r=0&o=5&pid=1.7\n",
      "Descargando imagen 27 de 30: https://tse3.mm.bing.net/th/id/OIP.92p8wu1LrXXpdJ8YMnZL2QHaEK?w=316&h=180&c=7&r=0&o=5&pid=1.7\n",
      "Descargando imagen 28 de 30: https://tse4.mm.bing.net/th/id/OIP.O5-AiU0HrIQh4VuRUQ3IYAHaHa?w=177&h=180&c=7&r=0&o=5&pid=1.7\n",
      "Descargando imagen 29 de 30: https://tse3.mm.bing.net/th/id/OIP.k5SYvLUJsco5uWgEjy2iVgHaJQ?w=143&h=180&c=7&r=0&o=5&pid=1.7\n",
      "Descargando imagen 30 de 30: https://tse1.mm.bing.net/th/id/OIP.2myZDiZbJvwCRptqj7QDbgHaEK?w=298&h=180&c=7&r=0&o=5&pid=1.7\n"
     ]
    }
   ],
   "source": [
    "# Uso del script\n",
    "consulta = \"LYNYRD SKYNYRD\"\n",
    "numero_de_imagenes = 30\n",
    "descargar_imagenes_bing(consulta, numero_de_imagenes, carpeta_destino='img_download')"
   ]
  }
 ],
 "metadata": {
  "kernelspec": {
   "display_name": "AndDownLoadImg",
   "language": "python",
   "name": "python3"
  },
  "language_info": {
   "codemirror_mode": {
    "name": "ipython",
    "version": 3
   },
   "file_extension": ".py",
   "mimetype": "text/x-python",
   "name": "python",
   "nbconvert_exporter": "python",
   "pygments_lexer": "ipython3",
   "version": "3.10.15"
  }
 },
 "nbformat": 4,
 "nbformat_minor": 2
}
