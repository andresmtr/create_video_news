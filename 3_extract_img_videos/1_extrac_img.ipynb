{
 "cells": [
  {
   "cell_type": "code",
   "execution_count": 1,
   "metadata": {},
   "outputs": [],
   "source": [
    "import requests\n",
    "from bs4 import BeautifulSoup\n",
    "import wget\n",
    "from PIL import Image\n",
    "import os"
   ]
  },
  {
   "cell_type": "code",
   "execution_count": 2,
   "metadata": {},
   "outputs": [],
   "source": [
    "# Ruta donde se deben eliminar las carpetas\n",
    "output_path = 'img_download'\n",
    "\n",
    "# Eliminar todas las carpetas en output_path\n",
    "if os.path.exists(output_path):\n",
    "    # Iterar sobre los elementos dentro del directorio\n",
    "    for item in os.listdir(output_path):\n",
    "        item_path = os.path.join(output_path, item)\n",
    "        # Eliminar archivos\n",
    "        if os.path.isfile(item_path):\n",
    "            os.remove(item_path)\n",
    "        # Eliminar carpetas y su contenido de forma recursiva\n",
    "        elif os.path.isdir(item_path):\n",
    "            for root, dirs, files in os.walk(item_path, topdown=False):\n",
    "                for name in files:\n",
    "                    os.remove(os.path.join(root, name))\n",
    "                for name in dirs:\n",
    "                    os.rmdir(os.path.join(root, name))\n",
    "            os.rmdir(item_path)  # Finalmente eliminar la carpeta vacía\n",
    "else:\n",
    "    print(f\"The folder {output_path} does not exist.\")"
   ]
  },
  {
   "cell_type": "code",
   "execution_count": 3,
   "metadata": {},
   "outputs": [],
   "source": [
    "# Asegurarse de que la carpeta exista después de eliminar su contenido\n",
    "os.makedirs(output_path, exist_ok=True)\n",
    "\n",
    "# Ruta de la carpeta de entrada con los archivos .txt\n",
    "folder_path = '/mnt/D8E84E4DE84E2A58/Env_python/Create_video_news/0_create text/text/en/final/'\n",
    "\n",
    "# Lista de archivos .txt en la carpeta\n",
    "files = [f for f in os.listdir(folder_path) if f.endswith('.txt')]\n",
    "\n",
    "# Ordenar los archivos si es necesario\n",
    "files.sort()"
   ]
  },
  {
   "cell_type": "code",
   "execution_count": 4,
   "metadata": {},
   "outputs": [],
   "source": [
    "def descargar_imagenes_bing(query, num_imagenes, carpeta_destino):\n",
    "    # Genera la URL de búsqueda de Bing con filtro de tamaño grande\n",
    "    url = f\"https://www.bing.com/images/search?q={query}&qft=+filterui:imagesize-medium&form=IRFLTR&first=1\"\n",
    "\n",
    "    # Realiza la solicitud GET al servidor\n",
    "    response = requests.get(url)\n",
    "    if response.status_code != 200:\n",
    "        print(\"Error al realizar la solicitud a Bing.\")\n",
    "        return\n",
    "\n",
    "    # Procesar el HTML con BeautifulSoup\n",
    "    soup = BeautifulSoup(response.text, 'html.parser')\n",
    "\n",
    "    # Encuentra las URLs de las imágenes en el HTML\n",
    "    imagenes = soup.find_all('a', class_='iusc')\n",
    "\n",
    "    # Crea una carpeta de destino si no existe\n",
    "    if not os.path.exists(carpeta_destino):\n",
    "        os.makedirs(carpeta_destino)\n",
    "\n",
    "    # Descargar las imágenes\n",
    "    contador = 0\n",
    "    for img in imagenes:\n",
    "        if contador >= num_imagenes:\n",
    "            break\n",
    "\n",
    "        # Extraer datos JSON que contienen la URL de la imagen completa\n",
    "        try:\n",
    "            m = img.get('m')\n",
    "            if m:\n",
    "                # La URL de alta resolución está en el atributo `m` en formato JSON\n",
    "                json_data = eval(m)\n",
    "                img_url = json_data.get('murl')\n",
    "\n",
    "                if img_url:\n",
    "                    # Descargar y guardar la imagen en la carpeta de destino\n",
    "                    print(f\"Descargando imagen {contador + 1} de {num_imagenes}: {img_url}\")\n",
    "                    img_nombre = os.path.join(carpeta_destino, f\"{query}_{contador + 1}.jpg\")\n",
    "                    wget.download(img_url, img_nombre)\n",
    "                    contador += 1\n",
    "\n",
    "        except Exception as e:\n",
    "            print(f\"Error al procesar la imagen: {e}\")\n",
    "\n",
    "    print(f\"\\nDescarga completada. {contador} imágenes guardadas en '{carpeta_destino}'.\")\n"
   ]
  },
  {
   "cell_type": "code",
   "execution_count": 5,
   "metadata": {},
   "outputs": [],
   "source": [
    "input_thematic = str(input('introduzca la tematica de la image:'))"
   ]
  },
  {
   "cell_type": "code",
   "execution_count": 6,
   "metadata": {},
   "outputs": [
    {
     "name": "stdout",
     "output_type": "stream",
     "text": [
      "Descargando imagen 1 de 30: http://www.siliconweek.es/wp-content/uploads/2016/01/Synology_DS216-_3.png\n",
      "Descargando imagen 2 de 30: https://thetechrevolutionist.com/wp-content/uploads/2020/03/synology-ds220j-768x708.jpg\n",
      "Descargando imagen 3 de 30: https://cdn-reichelt.de/bilder/web/xxl_ws/E910/SYNOLOGY_DS120J_01.png\n",
      "Descargando imagen 4 de 30: https://static1.anpoimages.com/wordpress/wp-content/uploads/2023/05/synology-diskstation-ds423-plus.jpg\n",
      "Descargando imagen 5 de 30: https://www.bhphotovideo.com/images/images1000x1000/Synology_Diskstation_DS413_4_Bay_NAS_892992.jpg\n",
      "Error al procesar la imagen: HTTP Error 403: Forbidden\n",
      "Descargando imagen 5 de 30: https://www.bhphotovideo.com/images/images1000x1000/synology_ds1513_ds1513_plus_5_bay_network_979159.jpg\n",
      "Error al procesar la imagen: HTTP Error 403: Forbidden\n",
      "Descargando imagen 5 de 30: https://www.storagereview.com/wp-content/uploads/2017/12/StorageReview-Synology-DSM-6_X-Main1.jpg\n",
      "Error al procesar la imagen: HTTP Error 403: Forbidden\n",
      "Descargando imagen 5 de 30: https://news-cdn.softpedia.com/images/news2/New-NAS-Devices-With-5-and-8-bays-Launched-by-Synology-465372-2.jpg\n",
      "Error al procesar la imagen: HTTP Error 403: Forbidden\n",
      "Descargando imagen 5 de 30: http://www.bhphotovideo.com/images/images1000x1000/synology_diskstation_ds1515_5_bay_nas_1103579.jpg\n",
      "Error al procesar la imagen: HTTP Error 403: Forbidden\n",
      "Descargando imagen 5 de 30: https://cdn-reichelt.de/bilder/web/xxl_ws/E910/SYNOLOGY_DS224+_01.png\n",
      "Descargando imagen 6 de 30: https://techgage.com/wp-content/uploads/2015/10/Synology-DS716-Press-Shot.jpg\n",
      "Error al procesar la imagen: HTTP Error 403: Forbidden\n",
      "Descargando imagen 6 de 30: https://cdn.ignitingbusiness.com/images/easyblog_images/420/synology-nas.jpg\n",
      "Descargando imagen 7 de 30: https://www.yangcanggih.com/wp-content/uploads/2023/01/Synology-NAS-DiskStation-DS723.jpg\n",
      "Error al procesar la imagen: HTTP Error 403: Forbidden\n",
      "Descargando imagen 7 de 30: https://nascompares.com/wp-content/uploads/2023/02/Synology-DS223-NAS-Review-NASCompares.webp\n",
      "Descargando imagen 8 de 30: https://media.ldlc.com/r1600/ld/products/00/05/90/47/LD0005904733_1.jpg\n",
      "Descargando imagen 9 de 30: http://3.bp.blogspot.com/-970h-MBgh7M/UgpgxHpGo5I/AAAAAAAAAMA/dIi_MZqAgT4/s1600/synology-logo1.jpeg\n",
      "Descargando imagen 10 de 30: https://www.storagereview.com/wp-content/uploads/2021/10/storagereview-synology-diskation-9s220--1536x1024.jpg\n",
      "Error al procesar la imagen: HTTP Error 403: Forbidden\n",
      "Descargando imagen 10 de 30: https://www.storagereview.com/wp-content/uploads/2022/12/StorageReview-Synology-DS923plus-1-1024x1009.jpg\n",
      "Error al procesar la imagen: HTTP Error 403: Forbidden\n",
      "Descargando imagen 10 de 30: https://community.synology.com/images/picture/1280x1280/507/1588829446_24nk8.png\n",
      "Descargando imagen 11 de 30: https://www.redeszone.net/app/uploads-redeszone.net/2020/09/Synology_DS1520_lateral.jpg\n",
      "Descargando imagen 12 de 30: https://nascompares.com/wp-content/uploads/2022/11/Synology-DS723-NAS-Review-corner-1111-2.webp\n",
      "Descargando imagen 13 de 30: https://media.ldlc.com/r374/ld/products/00/06/04/66/LD0006046666.jpg\n",
      "Descargando imagen 14 de 30: https://www.bhphotovideo.com/images/images2500x2500/synology_ds1819_8_bay_scalable_nas_diskstation_1447657.jpg\n",
      "Error al procesar la imagen: HTTP Error 403: Forbidden\n",
      "Descargando imagen 14 de 30: https://www.nas-thailand.com/759-3710-large/synology-diskstation-ds224-2-bay-nas.jpg\n",
      "Descargando imagen 15 de 30: https://i.ytimg.com/vi/fYAtvtW5QAo/maxresdefault.jpg\n",
      "Descargando imagen 16 de 30: https://www.storagereview.com/wp-content/uploads/2021/03/Synology-1621-plus-back.jpg\n",
      "Error al procesar la imagen: HTTP Error 403: Forbidden\n",
      "Descargando imagen 16 de 30: https://www.synology.com/img/vms/solution/home/nas.png\n",
      "Descargando imagen 17 de 30: https://nascompares.com/wp-content/uploads/2022/11/Synology-DS923-NAS-Review-ds1522-nas-too.jpg\n",
      "Descargando imagen 18 de 30: https://images.wondershare.com/recoverit/article/synology-icloud-sync.jpg\n",
      "Descargando imagen 19 de 30: https://icttech.vn/wp-content/uploads/2023/04/NAS-Synology-300x300.png\n",
      "Descargando imagen 20 de 30: https://www.synoforum.com/proxy.php?image=https:%2F%2Fnascompares.com%2Fwp-content%2Fuploads%2F2023%2F07%2FSynology-DS224-NAS-2B.png&hash=5923b080c472f5ba757f5f81d7a8095c\n",
      "Error al procesar la imagen: HTTP Error 403: Forbidden\n",
      "Descargando imagen 20 de 30: https://shopvienthong.vn/wp-content/uploads/2022/10/thumbnail-hdch-nas-synology.png\n",
      "Error al procesar la imagen: HTTP Error 403: Forbidden\n",
      "Descargando imagen 20 de 30: https://www.kolja-engelmann.de/blog/wp-content/uploads/2013/03/synology-logo.jpg\n",
      "Descargando imagen 21 de 30: https://geekflare.com/wp-content/uploads/2022/07/synology-nas-ft-400x128.jpg\n",
      "Error al procesar la imagen: HTTP Error 403: Forbidden\n",
      "Descargando imagen 21 de 30: https://www.storagereview.com/wp-content/uploads/2022/12/StorageReview-Synology-DS923plus-4-1024x841.jpg\n",
      "Error al procesar la imagen: HTTP Error 403: Forbidden\n",
      "\n",
      "Descarga completada. 20 imágenes guardadas en 'img_download'.\n"
     ]
    }
   ],
   "source": [
    "# Uso del script\n",
    "consulta = input_thematic\n",
    "numero_de_imagenes = 30\n",
    "descargar_imagenes_bing(consulta, numero_de_imagenes, carpeta_destino='img_download')"
   ]
  }
 ],
 "metadata": {
  "kernelspec": {
   "display_name": "AndDownLoadImg",
   "language": "python",
   "name": "python3"
  },
  "language_info": {
   "codemirror_mode": {
    "name": "ipython",
    "version": 3
   },
   "file_extension": ".py",
   "mimetype": "text/x-python",
   "name": "python",
   "nbconvert_exporter": "python",
   "pygments_lexer": "ipython3",
   "version": "3.10.15"
  }
 },
 "nbformat": 4,
 "nbformat_minor": 2
}
