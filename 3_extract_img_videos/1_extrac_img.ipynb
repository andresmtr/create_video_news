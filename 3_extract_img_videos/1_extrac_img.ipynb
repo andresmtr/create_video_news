{
 "cells": [
  {
   "cell_type": "code",
   "execution_count": 1,
   "metadata": {},
   "outputs": [],
   "source": [
    "import requests\n",
    "from bs4 import BeautifulSoup\n",
    "import wget\n",
    "from PIL import Image\n",
    "import os"
   ]
  },
  {
   "cell_type": "code",
   "execution_count": 2,
   "metadata": {},
   "outputs": [],
   "source": [
    "# Ruta donde se deben eliminar las carpetas\n",
    "output_path = 'img_download'\n",
    "\n",
    "# Eliminar todas las carpetas en output_path\n",
    "if os.path.exists(output_path):\n",
    "    # Iterar sobre los elementos dentro del directorio\n",
    "    for item in os.listdir(output_path):\n",
    "        item_path = os.path.join(output_path, item)\n",
    "        # Eliminar archivos\n",
    "        if os.path.isfile(item_path):\n",
    "            os.remove(item_path)\n",
    "        # Eliminar carpetas y su contenido de forma recursiva\n",
    "        elif os.path.isdir(item_path):\n",
    "            for root, dirs, files in os.walk(item_path, topdown=False):\n",
    "                for name in files:\n",
    "                    os.remove(os.path.join(root, name))\n",
    "                for name in dirs:\n",
    "                    os.rmdir(os.path.join(root, name))\n",
    "            os.rmdir(item_path)  # Finalmente eliminar la carpeta vacía\n",
    "else:\n",
    "    print(f\"The folder {output_path} does not exist.\")"
   ]
  },
  {
   "cell_type": "code",
   "execution_count": 3,
   "metadata": {},
   "outputs": [],
   "source": [
    "# Asegurarse de que la carpeta exista después de eliminar su contenido\n",
    "os.makedirs(output_path, exist_ok=True)\n",
    "\n",
    "# Ruta de la carpeta de entrada con los archivos .txt\n",
    "folder_path = '/mnt/D8E84E4DE84E2A58/Env_python/Create_video_news/0_create text/text/en/final/'\n",
    "\n",
    "# Lista de archivos .txt en la carpeta\n",
    "files = [f for f in os.listdir(folder_path) if f.endswith('.txt')]\n",
    "\n",
    "# Ordenar los archivos si es necesario\n",
    "files.sort()"
   ]
  },
  {
   "cell_type": "code",
   "execution_count": 4,
   "metadata": {},
   "outputs": [],
   "source": [
    "def descargar_imagenes_bing(query, num_imagenes, carpeta_destino):\n",
    "    # Genera la URL de búsqueda de Bing con filtro de tamaño grande\n",
    "    url = f\"https://www.bing.com/images/search?q={query}&qft=+filterui:imagesize-medium&form=IRFLTR&first=1\"\n",
    "\n",
    "    # Realiza la solicitud GET al servidor\n",
    "    response = requests.get(url)\n",
    "    if response.status_code != 200:\n",
    "        print(\"Error al realizar la solicitud a Bing.\")\n",
    "        return\n",
    "\n",
    "    # Procesar el HTML con BeautifulSoup\n",
    "    soup = BeautifulSoup(response.text, 'html.parser')\n",
    "\n",
    "    # Encuentra las URLs de las imágenes en el HTML\n",
    "    imagenes = soup.find_all('a', class_='iusc')\n",
    "\n",
    "    # Crea una carpeta de destino si no existe\n",
    "    if not os.path.exists(carpeta_destino):\n",
    "        os.makedirs(carpeta_destino)\n",
    "\n",
    "    # Descargar las imágenes\n",
    "    contador = 0\n",
    "    for img in imagenes:\n",
    "        if contador >= num_imagenes:\n",
    "            break\n",
    "\n",
    "        # Extraer datos JSON que contienen la URL de la imagen completa\n",
    "        try:\n",
    "            m = img.get('m')\n",
    "            if m:\n",
    "                # La URL de alta resolución está en el atributo `m` en formato JSON\n",
    "                json_data = eval(m)\n",
    "                img_url = json_data.get('murl')\n",
    "\n",
    "                if img_url:\n",
    "                    # Descargar y guardar la imagen en la carpeta de destino\n",
    "                    print(f\"Descargando imagen {contador + 1} de {num_imagenes}: {img_url}\")\n",
    "                    img_nombre = os.path.join(carpeta_destino, f\"{query}_{contador + 1}.jpg\")\n",
    "                    wget.download(img_url, img_nombre)\n",
    "                    contador += 1\n",
    "\n",
    "        except Exception as e:\n",
    "            print(f\"Error al procesar la imagen: {e}\")\n",
    "\n",
    "    print(f\"\\nDescarga completada. {contador} imágenes guardadas en '{carpeta_destino}'.\")\n"
   ]
  },
  {
   "cell_type": "code",
   "execution_count": 5,
   "metadata": {},
   "outputs": [],
   "source": [
    "input_thematic = str(input('introduzca la tematica de la image:'))"
   ]
  },
  {
   "cell_type": "code",
   "execution_count": 6,
   "metadata": {},
   "outputs": [
    {
     "name": "stdout",
     "output_type": "stream",
     "text": [
      "Descargando imagen 1 de 5: http://www.nattapon.com/wp-content/uploads/2011/07/22251_linux.jpg\n",
      "Descargando imagen 2 de 5: https://areatecnologia.com/informatica/imagenes/linux.jpg\n",
      "Descargando imagen 3 de 5: https://blog.internxt.com/es/content/images/2022/07/Linux.png\n",
      "Descargando imagen 4 de 5: https://www.geekno.com/wp-content/uploads/2018/09/razones-por-las-que-utilzar-linux.jpg\n",
      "Error al procesar la imagen: HTTP Error 403: Forbidden\n",
      "Descargando imagen 4 de 5: https://www.analyticssteps.com/backend/media/thumbnail/3033404/5694625_1665050003_Linux OSArtboard 1.jpg\n",
      "Descargando imagen 5 de 5: https://www.softzone.es/app/uploads-softzone.es/2022/08/Portatil-Linux.jpg\n",
      "\n",
      "Descarga completada. 5 imágenes guardadas en 'img_download'.\n"
     ]
    }
   ],
   "source": [
    "# Uso del script\n",
    "consulta = input_thematic\n",
    "numero_de_imagenes = 5\n",
    "descargar_imagenes_bing(consulta, numero_de_imagenes, carpeta_destino='img_download')"
   ]
  }
 ],
 "metadata": {
  "kernelspec": {
   "display_name": "AndDownLoadImg",
   "language": "python",
   "name": "python3"
  },
  "language_info": {
   "codemirror_mode": {
    "name": "ipython",
    "version": 3
   },
   "file_extension": ".py",
   "mimetype": "text/x-python",
   "name": "python",
   "nbconvert_exporter": "python",
   "pygments_lexer": "ipython3",
   "version": "3.10.15"
  }
 },
 "nbformat": 4,
 "nbformat_minor": 2
}
